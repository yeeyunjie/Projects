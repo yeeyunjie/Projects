{
 "cells": [
  {
   "cell_type": "markdown",
   "metadata": {},
   "source": [
    "# Project 3: Web APIs & Classification\n",
    "--- "
   ]
  },
  {
   "cell_type": "markdown",
   "metadata": {},
   "source": [
    "## Problem Statement\n",
    "Billion-dollar sports league such as NBA and EPL are huge markets for businesses to tap on given the extent of reach and wealth generated. With such a large consumer market, it would be productive to track the current sentiments of our consumers and leverage on their interests to provide business ideas to our clients. Our primary stackholders are sports companies including retailers and providers of sports services(bootcamps/clinics) that are looking for potential marketing investment opporunities by analyzing the current sentiments of sports fans. Our secondary stackholders are digital marketing companies that searching for avenues to better improve communication with their consumers. Therefore, by analyzing 2 of the most popular sports, **basketball** and **soccer**, we could better understand our potential consumers' behaviours and preferrences before we invest in specific business strategies. To achieve maximum profit, we aim to develop a model that correctly predicts the category that a new unseen post belongs to and from this classification, we could further explore the interests of our consumers by analyzing the posts that these words belong to. We quantify the performance of our model using the **accuracy and F1 score** metric across all potential models. Ultimately, the use of **Term Frequency — Inverse Document Frequency(TF-IDF)** technique was more appropriate given the dominance of several words as it places greater emphasis on unique words while the implementation of a **Logistic Regression model** helped us to quantify the influence of words on the differentiating power of our model. This model would be beneficial even to businesses without prior knowledge in the sports industry and to be constantly updated on the current trend."
   ]
  },
  {
   "cell_type": "markdown",
   "metadata": {},
   "source": [
    "## Executive Summary"
   ]
  },
  {
   "cell_type": "markdown",
   "metadata": {},
   "source": [
    "The provision of Application Programming Interfaces(APIs) as an alternative to web scrapping has granted unpredecented access and retrival of large amounts of data in an automated fashion. One such provider is Reddit and through the exploitation of such a powerful tool, we would be able to collect,organize and draw insights that distinguishes posts from 2 particular subreddits on **basketball** and **soccer**. After the removal of redundant tokens/words that provide no discriminatory value such as website links, stopwords and punctuations, there are a few common words that appear frequently. Interestingly, through the analysis of the subreddits, it was discovered that users on basketball subreddits are more interested in understanding and improving on the **technical aspects of the sport** while users on soccer subreddts are more invested in engaging in **post-match discussions and also about their favourite teams**. In addition, the model is highly accurate in predicting the category that each post belongs to given the **high accuracy scores** in both train and test set as well as the F1 scores which determines the accuracy of our predictions. This model emphasises on the use of bigrams to decipher the categories of posts due to the value adding aspects as compared to a unigram. With such a high predictive power, this model serves as a catalyst for building a strong connection between our clients and their desired consumers."
   ]
  },
  {
   "cell_type": "markdown",
   "metadata": {},
   "source": [
    "## Contents\n",
    "- [Data Collection](#Data-Collection)\n",
    "- [Data Cleaning & Exploratory Data Analysis](#Data-Cleaning-&-Exploratory-Data-Analysis)\n",
    "- [Data Preparation](#Data-Preparation)\n",
    "- [Data Modeling](#Data-Modeling)\n",
    "- [Conclusions and Recommendations](#Conclusions-and-Recommendations) \n",
    "- [Referrences](#Referrences)"
   ]
  },
  {
   "cell_type": "code",
   "execution_count": 1,
   "metadata": {},
   "outputs": [],
   "source": [
    "# Importing relevant libraries\n",
    "import pandas as pd\n",
    "import regex as re\n",
    "import numpy as np\n",
    "import matplotlib.pyplot as plt\n",
    "import nltk\n",
    "from nltk.corpus import stopwords \n",
    "from nltk.tokenize import sent_tokenize, word_tokenize\n",
    "from nltk.stem import WordNetLemmatizer, PorterStemmer\n",
    "from sklearn.feature_extraction.text import CountVectorizer, TfidfVectorizer\n",
    "from sklearn.pipeline import Pipeline\n",
    "from sklearn.model_selection import train_test_split, GridSearchCV\n",
    "from sklearn.linear_model import LogisticRegression\n",
    "from sklearn.naive_bayes import MultinomialNB\n",
    "from sklearn.metrics import accuracy_score,recall_score,precision_score,f1_score\n",
    "\n",
    "import requests\n",
    "import time\n",
    "\n",
    "%matplotlib inline"
   ]
  },
  {
   "cell_type": "markdown",
   "metadata": {},
   "source": [
    "## Data Collection"
   ]
  },
  {
   "cell_type": "markdown",
   "metadata": {},
   "source": [
    "#### Scrapping content in Basketball posts: <br>\n",
    "`json()` sends a JSON responds and returns the content of the url in a JSON format which allows us to access the contents similar to a Python dictionary"
   ]
  },
  {
   "cell_type": "code",
   "execution_count": 6,
   "metadata": {},
   "outputs": [
    {
     "name": "stdout",
     "output_type": "stream",
     "text": [
      "200\n"
     ]
    }
   ],
   "source": [
    "# reddit.com/r/basketball web page:\n",
    "url = 'https://www.reddit.com/r/Basketball.json'\n",
    "\n",
    "# Creating a custom user agent which overwrites Python's predefined user-agent for access to web scrapping, \n",
    "# to prevent blocking of access from browers \n",
    "headers = {'User-agent': 'she sells seashells by the seashore'}\n",
    "\n",
    "# Establishing connection to the web page:\n",
    "res = requests.get(url,headers= headers)\n",
    "\n",
    "# Use of status codes to understand how the target server responds to your request.\n",
    "# Ex., 200 = OK, 400 = Bad Request, 403 = Forbidden, 404 = Not Found, 429 = Too Many Requests\n",
    "print(res.status_code)\n",
    "\n",
    "# Converting data into a dictionary format which is more familiar thus for ease of manipulation\n",
    "data_bball = res.json()"
   ]
  },
  {
   "cell_type": "code",
   "execution_count": 7,
   "metadata": {},
   "outputs": [
    {
     "data": {
      "text/plain": [
       "['data', 'kind']"
      ]
     },
     "execution_count": 7,
     "metadata": {},
     "output_type": "execute_result"
    }
   ],
   "source": [
    "# The 2 main keys of the data\n",
    "sorted(data_bball.keys())"
   ]
  },
  {
   "cell_type": "code",
   "execution_count": 8,
   "metadata": {
    "scrolled": false
   },
   "outputs": [
    {
     "data": {
      "text/plain": [
       "['after', 'before', 'children', 'dist', 'modhash']"
      ]
     },
     "execution_count": 8,
     "metadata": {},
     "output_type": "execute_result"
    }
   ],
   "source": [
    "# Viewing nested dictionaries\n",
    "sorted(data_bball['data'].keys())"
   ]
  },
  {
   "cell_type": "code",
   "execution_count": 9,
   "metadata": {
    "scrolled": true
   },
   "outputs": [
    {
     "name": "stdout",
     "output_type": "stream",
     "text": [
      "0\n",
      "URL: https://www.reddit.com/r/Basketball.json?after=t3_j12ma9\n",
      "ID of last post:t3_j037zo\n",
      "ID of last person: t3_j037zo\n",
      "-------\n",
      "1\n",
      "URL: https://www.reddit.com/r/Basketball.json?after=t3_j037zo\n",
      "ID of last post:t3_iyuwx4\n",
      "ID of last person: t3_iyuwx4\n",
      "-------\n",
      "2\n",
      "URL: https://www.reddit.com/r/Basketball.json?after=t3_iyuwx4\n",
      "ID of last post:t3_ix0xl4\n",
      "ID of last person: t3_ix0xl4\n",
      "-------\n",
      "3\n",
      "URL: https://www.reddit.com/r/Basketball.json?after=t3_ix0xl4\n",
      "ID of last post:t3_iw1r46\n",
      "ID of last person: t3_iw1r46\n",
      "-------\n",
      "4\n",
      "URL: https://www.reddit.com/r/Basketball.json?after=t3_iw1r46\n",
      "ID of last post:t3_itzfdi\n",
      "ID of last person: t3_itzfdi\n",
      "-------\n",
      "5\n",
      "URL: https://www.reddit.com/r/Basketball.json?after=t3_itzfdi\n",
      "ID of last post:t3_isg0qy\n",
      "ID of last person: t3_isg0qy\n",
      "-------\n",
      "6\n",
      "URL: https://www.reddit.com/r/Basketball.json?after=t3_isg0qy\n",
      "ID of last post:t3_is0nn2\n",
      "ID of last person: t3_is0nn2\n",
      "-------\n",
      "7\n",
      "URL: https://www.reddit.com/r/Basketball.json?after=t3_is0nn2\n",
      "ID of last post:t3_ipzlkr\n",
      "ID of last person: t3_ipzlkr\n",
      "-------\n",
      "8\n",
      "URL: https://www.reddit.com/r/Basketball.json?after=t3_ipzlkr\n",
      "ID of last post:t3_iocudu\n",
      "ID of last person: t3_iocudu\n",
      "-------\n",
      "9\n",
      "URL: https://www.reddit.com/r/Basketball.json?after=t3_iocudu\n",
      "ID of last post:t3_injuof\n",
      "ID of last person: t3_injuof\n",
      "-------\n",
      "10\n",
      "URL: https://www.reddit.com/r/Basketball.json?after=t3_injuof\n",
      "ID of last post:t3_imduj2\n",
      "ID of last person: t3_imduj2\n",
      "-------\n",
      "11\n",
      "URL: https://www.reddit.com/r/Basketball.json?after=t3_imduj2\n",
      "ID of last post:t3_il0msh\n",
      "ID of last person: t3_il0msh\n",
      "-------\n",
      "12\n",
      "URL: https://www.reddit.com/r/Basketball.json?after=t3_il0msh\n",
      "ID of last post:t3_ik5vo6\n",
      "ID of last person: t3_ik5vo6\n",
      "-------\n",
      "13\n",
      "URL: https://www.reddit.com/r/Basketball.json?after=t3_ik5vo6\n",
      "ID of last post:t3_ijimnn\n",
      "ID of last person: t3_ijimnn\n",
      "-------\n",
      "14\n",
      "URL: https://www.reddit.com/r/Basketball.json?after=t3_ijimnn\n",
      "ID of last post:t3_iik6au\n",
      "ID of last person: t3_iik6au\n",
      "-------\n",
      "15\n",
      "URL: https://www.reddit.com/r/Basketball.json?after=t3_iik6au\n",
      "ID of last post:t3_ihwdpl\n",
      "ID of last person: t3_ihwdpl\n",
      "-------\n",
      "16\n",
      "URL: https://www.reddit.com/r/Basketball.json?after=t3_ihwdpl\n",
      "ID of last post:t3_ih16mo\n",
      "ID of last person: t3_ih16mo\n",
      "-------\n",
      "17\n",
      "URL: https://www.reddit.com/r/Basketball.json?after=t3_ih16mo\n",
      "ID of last post:t3_ifsmjn\n",
      "ID of last person: t3_ifsmjn\n",
      "-------\n",
      "18\n",
      "URL: https://www.reddit.com/r/Basketball.json?after=t3_ifsmjn\n",
      "ID of last post:t3_if0v6h\n",
      "ID of last person: t3_if0v6h\n",
      "-------\n",
      "19\n",
      "URL: https://www.reddit.com/r/Basketball.json?after=t3_if0v6h\n",
      "ID of last post:t3_ie5fq1\n",
      "ID of last person: t3_ie5fq1\n",
      "-------\n",
      "20\n",
      "URL: https://www.reddit.com/r/Basketball.json?after=t3_ie5fq1\n",
      "ID of last post:t3_id5570\n",
      "ID of last person: t3_id5570\n",
      "-------\n",
      "21\n",
      "URL: https://www.reddit.com/r/Basketball.json?after=t3_id5570\n",
      "ID of last post:t3_ic8axn\n",
      "ID of last person: t3_ic8axn\n",
      "-------\n",
      "22\n",
      "URL: https://www.reddit.com/r/Basketball.json?after=t3_ic8axn\n",
      "ID of last post:t3_ib8zgj\n",
      "ID of last person: t3_ib8zgj\n",
      "-------\n",
      "23\n",
      "URL: https://www.reddit.com/r/Basketball.json?after=t3_ib8zgj\n",
      "ID of last post:t3_iajwvy\n",
      "ID of last person: t3_iajwvy\n",
      "-------\n",
      "24\n",
      "URL: https://www.reddit.com/r/Basketball.json?after=t3_iajwvy\n",
      "ID of last post:t3_i9q4q0\n",
      "ID of last person: t3_i9q4q0\n",
      "-------\n",
      "25\n",
      "URL: https://www.reddit.com/r/Basketball.json?after=t3_i9q4q0\n",
      "ID of last post:t3_i8qzkh\n",
      "ID of last person: t3_i8qzkh\n",
      "-------\n",
      "26\n",
      "URL: https://www.reddit.com/r/Basketball.json?after=t3_i8qzkh\n",
      "ID of last post:t3_i7xz74\n",
      "ID of last person: t3_i7xz74\n",
      "-------\n",
      "27\n",
      "URL: https://www.reddit.com/r/Basketball.json?after=t3_i7xz74\n",
      "ID of last post:t3_i6xei8\n",
      "ID of last person: t3_i6xei8\n",
      "-------\n",
      "28\n",
      "URL: https://www.reddit.com/r/Basketball.json?after=t3_i6xei8\n",
      "ID of last post:t3_i609rb\n",
      "ID of last person: t3_i609rb\n",
      "-------\n",
      "29\n",
      "URL: https://www.reddit.com/r/Basketball.json?after=t3_i609rb\n",
      "ID of last post:t3_i4yqol\n",
      "ID of last person: t3_i4yqol\n",
      "-------\n",
      "30\n",
      "URL: https://www.reddit.com/r/Basketball.json?after=t3_i4yqol\n",
      "ID of last post:t3_i459fe\n",
      "ID of last person: t3_i459fe\n",
      "-------\n",
      "31\n",
      "URL: https://www.reddit.com/r/Basketball.json?after=t3_i459fe\n",
      "ID of last post:t3_i3avu1\n",
      "ID of last person: t3_i3avu1\n",
      "-------\n",
      "32\n",
      "URL: https://www.reddit.com/r/Basketball.json?after=t3_i3avu1\n",
      "ID of last post:t3_i2eye6\n",
      "ID of last person: t3_i2eye6\n",
      "-------\n",
      "33\n",
      "URL: https://www.reddit.com/r/Basketball.json?after=t3_i2eye6\n",
      "ID of last post:t3_i1en8e\n",
      "ID of last person: t3_i1en8e\n",
      "-------\n",
      "34\n",
      "URL: https://www.reddit.com/r/Basketball.json?after=t3_i1en8e\n",
      "ID of last post:t3_i0jexm\n",
      "ID of last person: t3_i0jexm\n",
      "-------\n",
      "35\n",
      "URL: https://www.reddit.com/r/Basketball.json?after=t3_i0jexm\n",
      "ID of last post:t3_hzhj31\n",
      "ID of last person: t3_hzhj31\n",
      "-------\n",
      "36\n",
      "URL: https://www.reddit.com/r/Basketball.json?after=t3_hzhj31\n",
      "ID of last post:t3_hyhxz1\n",
      "ID of last person: t3_hyhxz1\n",
      "-------\n",
      "37\n",
      "URL: https://www.reddit.com/r/Basketball.json?after=t3_hyhxz1\n",
      "ID of last post:t3_hxx22a\n",
      "ID of last person: t3_hxx22a\n",
      "-------\n",
      "38\n",
      "URL: https://www.reddit.com/r/Basketball.json?after=t3_hxx22a\n",
      "ID of last post:None\n",
      "ID of last person: t3_hx8776\n",
      "-------\n",
      "END OF THE LINE\n"
     ]
    }
   ],
   "source": [
    "# Making an empty list that would contain title and main body of post \n",
    "data_b = []\n",
    "\n",
    "# Retriving the first 25 posts\n",
    "params = {}\n",
    "url = 'https://www.reddit.com/r/Basketball.json'\n",
    "res = requests.get(url, headers = headers)\n",
    "if res.status_code == 200:\n",
    "        the_json_b = res.json()\n",
    "        # Setting after as the last ID of each request\n",
    "        after = the_json_b['data']['after']\n",
    "        params['after'] = after\n",
    "        for post in the_json_b['data']['children']:\n",
    "            # Adding title to list\n",
    "            data_b.append(post['data']['title'])\n",
    "            # Adding main body of post to list\n",
    "            data_b.append(post['data']['selftext'])\n",
    "            after = post['data']['name']\n",
    "            params['after'] = after\n",
    "            time.sleep(0.01)\n",
    "\n",
    "# To hit Reddit's API repeatedly for sufficient number of data(titles and posts)\n",
    "for i in range(100):\n",
    "    print(i)\n",
    "    # To retrieve the next 25 posts, using the param keyword to modify the url since there's a cap of 25 posts/request\n",
    "    res = requests.get(url,params = params, headers = headers)\n",
    "    # To check if the url has been correctly encoded\n",
    "    print(f'URL: {res.url}')\n",
    "    # Checking to see if the request is successful:\n",
    "    if res.status_code == 200:\n",
    "        the_json_b = res.json()\n",
    "        # Setting after as the last ID of each request\n",
    "        last_id = the_json_b['data']['after']\n",
    "        # Printing the last id of each request\n",
    "        print(f'ID of last post:{last_id}')\n",
    "        for post in the_json_b['data']['children']:\n",
    "            # Adding title to list\n",
    "            data_b.append(post['data']['title'])\n",
    "            # Adding main body of post to list\n",
    "            data_b.append(post['data']['selftext'])\n",
    "            after = post['data']['name']\n",
    "            params['after'] = after\n",
    "            time.sleep(0.01)\n",
    "        print(f'ID of last person: {after}')\n",
    "        print('-------')\n",
    "        # The loop stops running if last id is null\n",
    "        if last_id != after:\n",
    "            print('END OF THE LINE')\n",
    "            break\n",
    "            \n",
    "    else:\n",
    "        print(res.status_code)\n",
    "        break\n",
    "    time.sleep(0.1)"
   ]
  },
  {
   "cell_type": "markdown",
   "metadata": {},
   "source": [
    "Since each request would only allow us to retrieve 25 posts, one way to garner many posts would be to use a `for` loop which allows for a continuous retrival of posts from the subreddit. The addition of a `sleep()` method is essential to simulate a delay "
   ]
  },
  {
   "cell_type": "code",
   "execution_count": 16,
   "metadata": {
    "scrolled": true
   },
   "outputs": [
    {
     "data": {
      "text/plain": [
       "['RULE REMINDER: You cannot Post Offers to Trade Or Sell Copyright Material. This includes Vertshock and Similar Programs',\n",
       " 'Admins have banned other subs for this.\\n\\nNo asking for or posting codes for programs like Vert Shock\\n\\nNo asking for or posting illegal streams for games.\\n\\nYou will be banned, as I will not allow the entire sub to be closed for a few bad apples. This is your warning.',\n",
       " 'r/Basketball Weekly Discussion: Basketball Shoes - September 28, 2020',\n",
       " \"#Welcome to /r/Basketball's weekly Shoe Discussion thread!\\n   \\n##Got a question or need some buying advice?  \\nThis weekly thread is for discussing the best shoes for YOU based on type of play, environment, price point, etc.\\n\\n##Excited about that new Adidas or Nike line?  \\nThis thread is also for getting hype for the next big sneaker.\\n   \\n*Moving forward, please post all individual shoe threads as a comment here, both for organization and record-keeping.*\",\n",
       " 'The Best NBA Starting 5s From Every Age Ranked Worst to Best',\n",
       " '',\n",
       " '[HELP] TROUBLE FIXING FORM',\n",
       " '',\n",
       " 'DOES ANYONE HAVE A A SPALDING 997 ABA RED/WHITE/BLUE BASKETBALL??? LEMME KNOW!',\n",
       " '',\n",
       " 'NBA Streams Reddit',\n",
       " '',\n",
       " 'How to play basketball... quieter ??',\n",
       " 'I could honestly play all day if I wanted but I just don’t want to disturb the neighbors. Any tips on playing basketball quietly if it’s even possible?',\n",
       " 'How do I start learning how to play basketball as an adult?',\n",
       " \"I (25/M/USA) want to start playing but I'm kind of garbage. Are there any recommended video guides or training camps I could look into? So far I've decided to just start shooting around at my gym. I used to play a lil in middle school but I was kinda garbage, didn't score all season. Not looking to get competitive, just wanna hoop around\",\n",
       " 'How to study a game.',\n",
       " 'I want to become smarter on the court (I am a point guard) I was wondering how I become smarter with the ball: making reads, knowing when to drive, knowing when to shoot, etc... how do I study a game?? Hope this makes sense.',\n",
       " 'D West and lebron',\n",
       " 'Remember back when it came out that west slept with lebron mom? Yeah well, wouldn’t lebron be mad at west and his mom for that!? Lebron recently came out saying he will spend whatever money he can to get delonte back and healthy even after sleeping with his mom. Also wouldn’t he be mad at his mom?',\n",
       " 'Good shooters with Ugly form',\n",
       " 'Who are some of the best shooters in nba history to have an ugly or unorthodox jumper?',\n",
       " \"What are Skip Bayless' best takes?\",\n",
       " 'Skip Bayless correctly predicted the Warriors going exactly 73-9 at the start of the 2016 season. \\n\\nWhat are other times has a prediction or take from Skip Bayless been completely correct?',\n",
       " 'How to improve my shooting?',\n",
       " 'Is there any drills that i can work on my shooting ? and how to make my shot more accurate.',\n",
       " 'Who is the best Laker?',\n",
       " '\\n\\n[View Poll](https://www.reddit.com/poll/j1m5l7)',\n",
       " 'Untrained vertical and getting into basketball',\n",
       " 'I’m 6’6 and getting into basketball. I’m a junior (I know, it’s very late for me to be trying). I never liked the game as a kid but now I really love to play watch and play it. I dunked today for the first time, and I calculated my vertical. It’s about 28 inches untrained (I haven’t attempted dunking much before this). I just wanted to know if this was a good untrained vertical and how much I can improve it. I’m trying to play towards my strengths for try outs so any advice regarding practice or verticals would help.',\n",
       " 'Dunno what to do with this Size 1 Ball.',\n",
       " \"Hey Everyone, I (21) wanted to get into Basketball and a friend just got me this very tiny basketball and i was wondering what I can do with it? It is incredibly tiny compared to the others, while I'm super grateful, I'm not sure if throwing hoops would even be challenging as a beginner with this thing.\",\n",
       " \"Anyone else think emoni bates is to skinny even with the whole he'll grow into it etc and that he'll be injury prone\",\n",
       " 'so skinny man',\n",
       " 'Shooting form maintenance advice?',\n",
       " \"That title probably doesn't make much sense but I was trying to make it as brief as possible - hear me out 😂\\n\\nMy (M16) rugby coach has invited me to go to the school gym to beef me up for our internal rugby games. No doubt, arm training is going to be involved, and that is one of my concerns: I already have an accurate basketball shooting form which I am comfortable with, but I feel like this new arm training will pull a Markelle Fultz on me and ruin my shooting form. \\n\\nShould I be worried, and in what ways can I minimise the impact of the arm training on my shooting form (if any)?\\n\\ntl;dr: Any tips on how to not let arm training ruin my shooting form?\\n\\nThx for the help guys :)\",\n",
       " 'I want to get into Basketball,from watching to playing it.How to play it,who to support,etc.',\n",
       " 'I’ve always been into football(soccer) but now I want to try a new sport and I choose basketball cause it seems fun. All Ik is the basics, like the scoring system and the 24 seconds to shoot rule. None of my friends play basketball or like it, so can’t ask them. And I want to understand it’s terms. I have no idea when people say things like “*team name* in 5” and stuff like that. Sorry if this a broad question, but I’ll explain more if people ask',\n",
       " 'Croatian trash talk',\n",
       " 'Hey everyone,\\n\\nSo a croation guy just joined my court, and I want him to feel home. Can any Croatians help me out with some good solid trash talk?\\n\\nThanks!']"
      ]
     },
     "execution_count": 16,
     "metadata": {},
     "output_type": "execute_result"
    }
   ],
   "source": [
    "# Displaying the first 40 rows of titles/post\n",
    "data_b[:40]"
   ]
  },
  {
   "cell_type": "markdown",
   "metadata": {},
   "source": [
    "Based on the top few titles/posts retrived, there are many outliers and redundant features such as **\\n, [View Poll]** and **url links** which are non-discriminatory and thus would not provide any value in distinguishing data from the 2 subreddits. These features should be removed before the data is fed into the model. "
   ]
  },
  {
   "cell_type": "code",
   "execution_count": 24,
   "metadata": {
    "scrolled": false
   },
   "outputs": [
    {
     "name": "stdout",
     "output_type": "stream",
     "text": [
      "Number of rows in basketball data: 1795\n"
     ]
    }
   ],
   "source": [
    "# Cleaning each row before saving them as a csv\n",
    "# Only getting the unique posts, removing control characters\n",
    "data_bball = [p.replace('\\n','').strip() for p in list(set(data_b)) if (p !='') and (p != np.nan)]\n",
    "\n",
    "# Removing redundant and empty features in the data\n",
    "cleaned_data_bball = []\n",
    "for p in data_bball:\n",
    "    \n",
    "    i = re.sub('\\[View Poll\\]\\(\\S*\\)','',p)\n",
    "    # Only including rows that contain words\n",
    "    if i != '':\n",
    "        cleaned_data_bball.append(i)\n",
    "\n",
    "cleaned_data_bball[:5]\n",
    "print(f'Number of rows in basketball data: {len(cleaned_data_bball)}')"
   ]
  },
  {
   "cell_type": "code",
   "execution_count": 25,
   "metadata": {},
   "outputs": [],
   "source": [
    "# Converting the cleaned_data_bball list into a dataframe\n",
    "cleaned_data_bball_df = pd.DataFrame(cleaned_data_bball)\n",
    "\n",
    "# Renaming the column name to posts\n",
    "cleaned_data_bball_df.rename(columns = {0:'posts'},inplace = True)"
   ]
  },
  {
   "cell_type": "code",
   "execution_count": 26,
   "metadata": {
    "scrolled": false
   },
   "outputs": [
    {
     "data": {
      "text/html": [
       "<div>\n",
       "<style scoped>\n",
       "    .dataframe tbody tr th:only-of-type {\n",
       "        vertical-align: middle;\n",
       "    }\n",
       "\n",
       "    .dataframe tbody tr th {\n",
       "        vertical-align: top;\n",
       "    }\n",
       "\n",
       "    .dataframe thead th {\n",
       "        text-align: right;\n",
       "    }\n",
       "</style>\n",
       "<table border=\"1\" class=\"dataframe\">\n",
       "  <thead>\n",
       "    <tr style=\"text-align: right;\">\n",
       "      <th></th>\n",
       "      <th>posts</th>\n",
       "    </tr>\n",
       "  </thead>\n",
       "  <tbody>\n",
       "    <tr>\n",
       "      <th>0</th>\n",
       "      <td>A whole different animal.....</td>\n",
       "    </tr>\n",
       "    <tr>\n",
       "      <th>1</th>\n",
       "      <td>There’s this league going on this Friday and t...</td>\n",
       "    </tr>\n",
       "    <tr>\n",
       "      <th>2</th>\n",
       "      <td>Why are NBA final games played over multiple legs</td>\n",
       "    </tr>\n",
       "    <tr>\n",
       "      <th>3</th>\n",
       "      <td>I need help with basic nba knowledge</td>\n",
       "    </tr>\n",
       "    <tr>\n",
       "      <th>4</th>\n",
       "      <td>If i’m trying to contest someone’s shot and ju...</td>\n",
       "    </tr>\n",
       "  </tbody>\n",
       "</table>\n",
       "</div>"
      ],
      "text/plain": [
       "                                               posts\n",
       "0                      A whole different animal.....\n",
       "1  There’s this league going on this Friday and t...\n",
       "2  Why are NBA final games played over multiple legs\n",
       "3               I need help with basic nba knowledge\n",
       "4  If i’m trying to contest someone’s shot and ju..."
      ]
     },
     "execution_count": 26,
     "metadata": {},
     "output_type": "execute_result"
    }
   ],
   "source": [
    "# Displaying first 5 rows of new dataframe:\n",
    "cleaned_data_bball_df.head()"
   ]
  },
  {
   "cell_type": "code",
   "execution_count": 27,
   "metadata": {},
   "outputs": [],
   "source": [
    "# Making a new is_basketball column, where 1 = basketball subreddit, 0 = soccer subreddit\n",
    "cleaned_data_bball_df['is_basketball'] = 1"
   ]
  },
  {
   "cell_type": "code",
   "execution_count": 28,
   "metadata": {},
   "outputs": [
    {
     "data": {
      "text/html": [
       "<div>\n",
       "<style scoped>\n",
       "    .dataframe tbody tr th:only-of-type {\n",
       "        vertical-align: middle;\n",
       "    }\n",
       "\n",
       "    .dataframe tbody tr th {\n",
       "        vertical-align: top;\n",
       "    }\n",
       "\n",
       "    .dataframe thead th {\n",
       "        text-align: right;\n",
       "    }\n",
       "</style>\n",
       "<table border=\"1\" class=\"dataframe\">\n",
       "  <thead>\n",
       "    <tr style=\"text-align: right;\">\n",
       "      <th></th>\n",
       "      <th>posts</th>\n",
       "      <th>is_basketball</th>\n",
       "    </tr>\n",
       "  </thead>\n",
       "  <tbody>\n",
       "    <tr>\n",
       "      <th>0</th>\n",
       "      <td>A whole different animal.....</td>\n",
       "      <td>1</td>\n",
       "    </tr>\n",
       "    <tr>\n",
       "      <th>1</th>\n",
       "      <td>There’s this league going on this Friday and t...</td>\n",
       "      <td>1</td>\n",
       "    </tr>\n",
       "    <tr>\n",
       "      <th>2</th>\n",
       "      <td>Why are NBA final games played over multiple legs</td>\n",
       "      <td>1</td>\n",
       "    </tr>\n",
       "    <tr>\n",
       "      <th>3</th>\n",
       "      <td>I need help with basic nba knowledge</td>\n",
       "      <td>1</td>\n",
       "    </tr>\n",
       "    <tr>\n",
       "      <th>4</th>\n",
       "      <td>If i’m trying to contest someone’s shot and ju...</td>\n",
       "      <td>1</td>\n",
       "    </tr>\n",
       "  </tbody>\n",
       "</table>\n",
       "</div>"
      ],
      "text/plain": [
       "                                               posts  is_basketball\n",
       "0                      A whole different animal.....              1\n",
       "1  There’s this league going on this Friday and t...              1\n",
       "2  Why are NBA final games played over multiple legs              1\n",
       "3               I need help with basic nba knowledge              1\n",
       "4  If i’m trying to contest someone’s shot and ju...              1"
      ]
     },
     "execution_count": 28,
     "metadata": {},
     "output_type": "execute_result"
    }
   ],
   "source": [
    "# Displaying first 5 rows of new dataframe:\n",
    "cleaned_data_bball_df.head()"
   ]
  },
  {
   "cell_type": "markdown",
   "metadata": {},
   "source": [
    "#### Scrapping content in soccer posts:"
   ]
  },
  {
   "cell_type": "code",
   "execution_count": 17,
   "metadata": {},
   "outputs": [
    {
     "name": "stdout",
     "output_type": "stream",
     "text": [
      "200\n"
     ]
    }
   ],
   "source": [
    "# reddit.com/r/soccer web page:\n",
    "url = 'https://www.reddit.com/r/soccer.json'\n",
    "\n",
    "# Establishing connection to the web page:\n",
    "response = requests.get(url)\n",
    "\n",
    "# Creating a custom user agent for access to web scrapping, to prevent blocking of access from browers that lack this\n",
    "headers = {'user-agent': 'she sells seashells by the seashore'}\n",
    "\n",
    "# Use of status codes to understand how the target server responds to your request.\n",
    "# Ex., 200 = OK, 400 = Bad Request, 403 = Forbidden, 404 = Not Found, 429 = Too Many Requests\n",
    "print(res.status_code)\n",
    "\n",
    "# Converting data into a dictionary format which is more familiar thus for ease of manipulation\n",
    "data_soccer = res.json()"
   ]
  },
  {
   "cell_type": "code",
   "execution_count": 18,
   "metadata": {
    "scrolled": true
   },
   "outputs": [
    {
     "name": "stdout",
     "output_type": "stream",
     "text": [
      "0\n",
      "URL: https://www.reddit.com/r/soccer.json?after=t3_j2trm5\n",
      "ID of last post:t3_j2m8ce\n",
      "ID of last person: t3_j2m8ce\n",
      "-------\n",
      "1\n",
      "URL: https://www.reddit.com/r/soccer.json?after=t3_j2m8ce\n",
      "ID of last post:t3_j2oxt9\n",
      "ID of last person: t3_j2oxt9\n",
      "-------\n",
      "2\n",
      "URL: https://www.reddit.com/r/soccer.json?after=t3_j2oxt9\n",
      "ID of last post:t3_j2v5c7\n",
      "ID of last person: t3_j2v5c7\n",
      "-------\n",
      "3\n",
      "URL: https://www.reddit.com/r/soccer.json?after=t3_j2v5c7\n",
      "ID of last post:t3_j2mar1\n",
      "ID of last person: t3_j2mar1\n",
      "-------\n",
      "4\n",
      "URL: https://www.reddit.com/r/soccer.json?after=t3_j2mar1\n",
      "ID of last post:t3_j2ue33\n",
      "ID of last person: t3_j2ue33\n",
      "-------\n",
      "5\n",
      "URL: https://www.reddit.com/r/soccer.json?after=t3_j2ue33\n",
      "ID of last post:t3_j2uuwe\n",
      "ID of last person: t3_j2uuwe\n",
      "-------\n",
      "6\n",
      "URL: https://www.reddit.com/r/soccer.json?after=t3_j2uuwe\n",
      "ID of last post:t3_j2mktu\n",
      "ID of last person: t3_j2mktu\n",
      "-------\n",
      "7\n",
      "URL: https://www.reddit.com/r/soccer.json?after=t3_j2mktu\n",
      "ID of last post:t3_j2kmly\n",
      "ID of last person: t3_j2kmly\n",
      "-------\n",
      "8\n",
      "URL: https://www.reddit.com/r/soccer.json?after=t3_j2kmly\n",
      "ID of last post:t3_j2ssly\n",
      "ID of last person: t3_j2ssly\n",
      "-------\n",
      "9\n",
      "URL: https://www.reddit.com/r/soccer.json?after=t3_j2ssly\n",
      "ID of last post:t3_j261zk\n",
      "ID of last person: t3_j261zk\n",
      "-------\n",
      "10\n",
      "URL: https://www.reddit.com/r/soccer.json?after=t3_j261zk\n",
      "ID of last post:t3_j2xagw\n",
      "ID of last person: t3_j2xagw\n",
      "-------\n",
      "11\n",
      "URL: https://www.reddit.com/r/soccer.json?after=t3_j2xagw\n",
      "ID of last post:t3_j2riz1\n",
      "ID of last person: t3_j2riz1\n",
      "-------\n",
      "12\n",
      "URL: https://www.reddit.com/r/soccer.json?after=t3_j2riz1\n",
      "ID of last post:t3_j2mijq\n",
      "ID of last person: t3_j2mijq\n",
      "-------\n",
      "13\n",
      "URL: https://www.reddit.com/r/soccer.json?after=t3_j2mijq\n",
      "ID of last post:t3_j2kkrc\n",
      "ID of last person: t3_j2kkrc\n",
      "-------\n",
      "14\n",
      "URL: https://www.reddit.com/r/soccer.json?after=t3_j2kkrc\n",
      "ID of last post:t3_j2mrh0\n",
      "ID of last person: t3_j2mrh0\n",
      "-------\n",
      "15\n",
      "URL: https://www.reddit.com/r/soccer.json?after=t3_j2mrh0\n",
      "ID of last post:t3_j26pcs\n",
      "ID of last person: t3_j26pcs\n",
      "-------\n",
      "16\n",
      "URL: https://www.reddit.com/r/soccer.json?after=t3_j26pcs\n",
      "ID of last post:t3_j2544k\n",
      "ID of last person: t3_j2544k\n",
      "-------\n",
      "17\n",
      "URL: https://www.reddit.com/r/soccer.json?after=t3_j2544k\n",
      "ID of last post:t3_j23gg2\n",
      "ID of last person: t3_j23gg2\n",
      "-------\n",
      "18\n",
      "URL: https://www.reddit.com/r/soccer.json?after=t3_j23gg2\n",
      "ID of last post:t3_j2cos1\n",
      "ID of last person: t3_j2cos1\n",
      "-------\n",
      "19\n",
      "URL: https://www.reddit.com/r/soccer.json?after=t3_j2cos1\n",
      "ID of last post:t3_j1zwh1\n",
      "ID of last person: t3_j1zwh1\n",
      "-------\n",
      "20\n",
      "URL: https://www.reddit.com/r/soccer.json?after=t3_j1zwh1\n",
      "ID of last post:t3_j1i379\n",
      "ID of last person: t3_j1i379\n",
      "-------\n",
      "21\n",
      "URL: https://www.reddit.com/r/soccer.json?after=t3_j1i379\n",
      "ID of last post:t3_j1v37m\n",
      "ID of last person: t3_j1v37m\n",
      "-------\n",
      "22\n",
      "URL: https://www.reddit.com/r/soccer.json?after=t3_j1v37m\n",
      "ID of last post:t3_j1x2ad\n",
      "ID of last person: t3_j1x2ad\n",
      "-------\n",
      "23\n",
      "URL: https://www.reddit.com/r/soccer.json?after=t3_j1x2ad\n",
      "ID of last post:t3_j1x2ha\n",
      "ID of last person: t3_j1x2ha\n",
      "-------\n",
      "24\n",
      "URL: https://www.reddit.com/r/soccer.json?after=t3_j1x2ha\n",
      "ID of last post:t3_j20ugy\n",
      "ID of last person: t3_j20ugy\n",
      "-------\n",
      "25\n",
      "URL: https://www.reddit.com/r/soccer.json?after=t3_j20ugy\n",
      "ID of last post:t3_j18mbf\n",
      "ID of last person: t3_j18mbf\n",
      "-------\n",
      "26\n",
      "URL: https://www.reddit.com/r/soccer.json?after=t3_j18mbf\n",
      "ID of last post:t3_j1a4r8\n",
      "ID of last person: t3_j1a4r8\n",
      "-------\n",
      "27\n",
      "URL: https://www.reddit.com/r/soccer.json?after=t3_j1a4r8\n",
      "ID of last post:t3_j1d9ip\n",
      "ID of last person: t3_j1d9ip\n",
      "-------\n",
      "28\n",
      "URL: https://www.reddit.com/r/soccer.json?after=t3_j1d9ip\n",
      "ID of last post:None\n",
      "ID of last person: t3_j18j6c\n",
      "-------\n",
      "END OF THE LINE\n"
     ]
    }
   ],
   "source": [
    "# Making an empty list that would contain title and main body of post \n",
    "data_soccer = []\n",
    "\n",
    "# Retriving the first 25 posts\n",
    "params = {}\n",
    "url = 'https://www.reddit.com/r/soccer.json'\n",
    "res = requests.get(url, headers = headers)\n",
    "if res.status_code == 200:\n",
    "        the_json_s = res.json()\n",
    "        # Setting after as the last ID of each request\n",
    "        after = the_json_s['data']['after']\n",
    "        params['after'] = after\n",
    "        for post in the_json_s['data']['children']:\n",
    "            # Adding title to list\n",
    "            data_soccer.append(post['data']['title'])\n",
    "            # Adding main body of post to list\n",
    "            data_soccer.append(post['data']['selftext'])\n",
    "            after = post['data']['name']\n",
    "            params['after'] = after\n",
    "            time.sleep(0.01)\n",
    "\n",
    "# To hit Reddit's API repeatedly for sufficient number of data(titles and posts)\n",
    "for i in range(100):\n",
    "    print(i)\n",
    "    # To retrieve the next 25 posts, using the param keyword to modify the url since there's a cap of 25 posts/request\n",
    "    res = requests.get(url,params = params, headers = headers)\n",
    "    # To check if the url has been correctly encoded\n",
    "    print(f'URL: {res.url}')\n",
    "    # Checking to see if the request is successful:\n",
    "    if res.status_code == 200:\n",
    "        the_json_s = res.json()\n",
    "        # Setting after as the last ID of each request\n",
    "        last_id = the_json_s['data']['after']\n",
    "        # Printing the last id of each request\n",
    "        print(f'ID of last post:{last_id}')\n",
    "        for post in the_json_s['data']['children']:\n",
    "            # Adding title to list\n",
    "            data_soccer.append(post['data']['title'])\n",
    "            # Adding main body of post to list\n",
    "            data_soccer.append(post['data']['selftext'])\n",
    "            after = post['data']['name']\n",
    "            params['after'] = after\n",
    "            time.sleep(0.01)\n",
    "        print(f'ID of last person: {after}')\n",
    "        print('-------')\n",
    "        # Stopping the loop once the last post is reached\n",
    "        if last_id != after:\n",
    "            print('END OF THE LINE')\n",
    "            break\n",
    "            \n",
    "    else:\n",
    "        print(res.status_code)\n",
    "        break\n",
    "    time.sleep(0.1)"
   ]
  },
  {
   "cell_type": "code",
   "execution_count": 19,
   "metadata": {
    "scrolled": false
   },
   "outputs": [
    {
     "data": {
      "text/plain": [
       "['Daily Discussion',\n",
       " 'This thread is for general football discussion and a place to ask quick questions.\\n\\nNew to the subreddit? Get your [team crest](https://www.reddit.com/r/soccer/wiki/flair) and have a read of [our rules](/r/soccer/wiki/rules#wiki_community_rules).\\n\\n**Quick links**:\\n\\n[](#icon-ball) [Match threads](/r/soccer/search?q=flair%3Amatch%2Bthread+AND+NOT+flair%3Apost+AND+NOT+flair%3Apre&amp;restrict_sr=on&amp;sort=new&amp;t=day#res-hide-options)\\n\\n[](#icon-whistle) [Post match threads](/r/soccer/search?q=flair%3Apost%2Bmatch&amp;restrict_sr=on&amp;sort=new&amp;t=week#res-hide-options)\\n\\n[](#icon-news) [League roundups](/r/soccer/search?q=flair%3Aroundup&amp;sort=new&amp;restrict_sr=on&amp;t=week&amp;feature=legacy_search#res-hide-options)\\n\\n[](#icon-tv) [Watch highlights](/r/soccer/search?q=flair%3Amedia+OR+flair%3AMirror&amp;restrict_sr=on&amp;sort=hot&amp;t=day#res-hide-options)\\n\\n[](#icon-notes) [Read the news](/r/soccer/search?q=NOT+flair%3Amedia+AND+NOT+flair%3AMirror&amp;restrict_sr=on&amp;sort=hot&amp;t=day#res-hide-options)\\n\\nThis thread is posted every 23 hours to give it a different start time each day.',\n",
       " 'Trivia Thursday',\n",
       " 'The thread for your best Pub Quiz Questions and Trivia. \\n\\nWhen answering, please use spoiler tags: `&gt;!spoiler tagged answer!&lt;` becomes &gt;!spoiler tagged answer!&lt;.',\n",
       " '[AS] In seven years at Chelsea, Eden Hazard missed 20 games. He has missed 23 games since joining Real Madrid for €100 million in 2019.',\n",
       " '',\n",
       " 'FC Midtjylland coach Brian Priske on how to spend the money from qualifying for the Champions League: \"I\\'ve been promised a fence around our training pitch so we don\\'t have to pick up all those fucking balls\"',\n",
       " '',\n",
       " 'Official: FC Barcelona signs Sergiño Dest',\n",
       " '']"
      ]
     },
     "execution_count": 19,
     "metadata": {},
     "output_type": "execute_result"
    }
   ],
   "source": [
    "# Displaying the top few titles/posts retrived \n",
    "data_soccer[:10]"
   ]
  },
  {
   "cell_type": "markdown",
   "metadata": {},
   "source": [
    "Based on the top few rows of data retrived, there are many anomalies such as **empty posts, anchor tags** and **url links** that were included in `data_soccer` thus should be removed due to their non-discriminatory behaviours."
   ]
  },
  {
   "cell_type": "code",
   "execution_count": 35,
   "metadata": {
    "scrolled": true
   },
   "outputs": [],
   "source": [
    "# Cleaning each row before saving them as a csv\n",
    "# Only getting the unique posts and removing control characters\n",
    "data_soccer = [p.replace('\\n','').strip() for p in list(set(data_soccer)) if (p !='') and (p != np.nan)]\n",
    "\n",
    "# Removing redundant, non-discriminatory words in the data\n",
    "cleaned_data_soccer = []\n",
    "for p in data_soccer:\n",
    "    # Removing tags from polls\n",
    "    i = re.sub('\\[View Poll\\]\\(\\S*\\)','',p) \n",
    "    # removing non-discriminatory anchor tags present in subreddits\n",
    "    i = re.sub('\\(#icon-.*\\)','',i) \n",
    "    i = re.sub('\\(#sprite.*\\)','',i)\n",
    "    i = re.sub('\\(#bar.*\\)','',i)\n",
    "    # removing video links and urls\n",
    "    i = re.sub('[(\\\\s]http.*[\\\\s\\)]','',i) # Removing urls within posts\n",
    "    if i != '':\n",
    "        cleaned_data_soccer.append(i)\n",
    "\n"
   ]
  },
  {
   "cell_type": "code",
   "execution_count": 30,
   "metadata": {},
   "outputs": [],
   "source": [
    "# Converting the cleaned_data_soccer list into a dataframe\n",
    "cleaned_data_soccer_df = pd.DataFrame(cleaned_data_soccer)\n",
    "\n",
    "# Renaming the column name to posts\n",
    "cleaned_data_soccer_df.rename(columns = {0:'posts'},inplace = True)"
   ]
  },
  {
   "cell_type": "code",
   "execution_count": 31,
   "metadata": {
    "scrolled": true
   },
   "outputs": [
    {
     "data": {
      "text/plain": [
       "['Neymar could be out of Ligue 1 action until 2021',\n",
       " '[ASSOCIATED PRESS] Genoa has 12 more virus cases, taking total to 14. Possibly infecting Napoli Players.',\n",
       " \"[MSL] JDT FC [6] - 0 Selangor FA - Ramadhan Saifullah amazing finish (75')\",\n",
       " 'Messi: \"Some say I should\\'ve kept quiet, let it pass as I have with so many other things. But I was hurt and it was my way of expressing it. All who know me know that I am not capable of playing anything other than to win and to give everything on the pitch. My commitment to this shirt is total.”',\n",
       " \"# FT: [] Bolívar ||---------------------------:|:-----:|:-------------------------||                  Willian 3'| [1]-0 |                          ||                  Wesley 47'| [2]-0 |                          ||                 M. Viña 59'| [3]-0 |                          ||           Raphael Veiga 61'| [4]-0 |                          ||                    Rony 64'| [5]-0 |                          |---[] |\"]"
      ]
     },
     "execution_count": 31,
     "metadata": {},
     "output_type": "execute_result"
    }
   ],
   "source": [
    "cleaned_data_soccer[:5]"
   ]
  },
  {
   "cell_type": "code",
   "execution_count": 32,
   "metadata": {
    "scrolled": true
   },
   "outputs": [
    {
     "data": {
      "text/html": [
       "<div>\n",
       "<style scoped>\n",
       "    .dataframe tbody tr th:only-of-type {\n",
       "        vertical-align: middle;\n",
       "    }\n",
       "\n",
       "    .dataframe tbody tr th {\n",
       "        vertical-align: top;\n",
       "    }\n",
       "\n",
       "    .dataframe thead th {\n",
       "        text-align: right;\n",
       "    }\n",
       "</style>\n",
       "<table border=\"1\" class=\"dataframe\">\n",
       "  <thead>\n",
       "    <tr style=\"text-align: right;\">\n",
       "      <th></th>\n",
       "      <th>posts</th>\n",
       "    </tr>\n",
       "  </thead>\n",
       "  <tbody>\n",
       "    <tr>\n",
       "      <th>0</th>\n",
       "      <td>Neymar could be out of Ligue 1 action until 2021</td>\n",
       "    </tr>\n",
       "    <tr>\n",
       "      <th>1</th>\n",
       "      <td>[ASSOCIATED PRESS] Genoa has 12 more virus cas...</td>\n",
       "    </tr>\n",
       "    <tr>\n",
       "      <th>2</th>\n",
       "      <td>[MSL] JDT FC [6] - 0 Selangor FA - Ramadhan Sa...</td>\n",
       "    </tr>\n",
       "    <tr>\n",
       "      <th>3</th>\n",
       "      <td>Messi: \"Some say I should've kept quiet, let i...</td>\n",
       "    </tr>\n",
       "    <tr>\n",
       "      <th>4</th>\n",
       "      <td># FT: [] Bolívar ||---------------------------...</td>\n",
       "    </tr>\n",
       "  </tbody>\n",
       "</table>\n",
       "</div>"
      ],
      "text/plain": [
       "                                               posts\n",
       "0   Neymar could be out of Ligue 1 action until 2021\n",
       "1  [ASSOCIATED PRESS] Genoa has 12 more virus cas...\n",
       "2  [MSL] JDT FC [6] - 0 Selangor FA - Ramadhan Sa...\n",
       "3  Messi: \"Some say I should've kept quiet, let i...\n",
       "4  # FT: [] Bolívar ||---------------------------..."
      ]
     },
     "execution_count": 32,
     "metadata": {},
     "output_type": "execute_result"
    }
   ],
   "source": [
    "# Displaying the first 5 rows of cleaned_data_soccer_df\n",
    "cleaned_data_soccer_df.head()"
   ]
  },
  {
   "cell_type": "code",
   "execution_count": 33,
   "metadata": {},
   "outputs": [],
   "source": [
    "# Making a new is_basketball column, where 1 = basketball subreddit, 0 = soccer subreddit\n",
    "cleaned_data_soccer_df['is_basketball'] = 0"
   ]
  },
  {
   "cell_type": "code",
   "execution_count": 34,
   "metadata": {},
   "outputs": [
    {
     "data": {
      "text/html": [
       "<div>\n",
       "<style scoped>\n",
       "    .dataframe tbody tr th:only-of-type {\n",
       "        vertical-align: middle;\n",
       "    }\n",
       "\n",
       "    .dataframe tbody tr th {\n",
       "        vertical-align: top;\n",
       "    }\n",
       "\n",
       "    .dataframe thead th {\n",
       "        text-align: right;\n",
       "    }\n",
       "</style>\n",
       "<table border=\"1\" class=\"dataframe\">\n",
       "  <thead>\n",
       "    <tr style=\"text-align: right;\">\n",
       "      <th></th>\n",
       "      <th>posts</th>\n",
       "      <th>is_basketball</th>\n",
       "    </tr>\n",
       "  </thead>\n",
       "  <tbody>\n",
       "    <tr>\n",
       "      <th>0</th>\n",
       "      <td>Neymar could be out of Ligue 1 action until 2021</td>\n",
       "      <td>0</td>\n",
       "    </tr>\n",
       "    <tr>\n",
       "      <th>1</th>\n",
       "      <td>[ASSOCIATED PRESS] Genoa has 12 more virus cas...</td>\n",
       "      <td>0</td>\n",
       "    </tr>\n",
       "    <tr>\n",
       "      <th>2</th>\n",
       "      <td>[MSL] JDT FC [6] - 0 Selangor FA - Ramadhan Sa...</td>\n",
       "      <td>0</td>\n",
       "    </tr>\n",
       "    <tr>\n",
       "      <th>3</th>\n",
       "      <td>Messi: \"Some say I should've kept quiet, let i...</td>\n",
       "      <td>0</td>\n",
       "    </tr>\n",
       "    <tr>\n",
       "      <th>4</th>\n",
       "      <td># FT: [] Bolívar ||---------------------------...</td>\n",
       "      <td>0</td>\n",
       "    </tr>\n",
       "  </tbody>\n",
       "</table>\n",
       "</div>"
      ],
      "text/plain": [
       "                                               posts  is_basketball\n",
       "0   Neymar could be out of Ligue 1 action until 2021              0\n",
       "1  [ASSOCIATED PRESS] Genoa has 12 more virus cas...              0\n",
       "2  [MSL] JDT FC [6] - 0 Selangor FA - Ramadhan Sa...              0\n",
       "3  Messi: \"Some say I should've kept quiet, let i...              0\n",
       "4  # FT: [] Bolívar ||---------------------------...              0"
      ]
     },
     "execution_count": 34,
     "metadata": {},
     "output_type": "execute_result"
    }
   ],
   "source": [
    "# Displaying the first 5 rows of cleaned_data_soccer_df\n",
    "cleaned_data_soccer_df.head()"
   ]
  },
  {
   "cell_type": "markdown",
   "metadata": {},
   "source": [
    "### Saving the data as `csv` files \n",
    "The size of data retrived from each subreddit could have a effect on the performance of the model and therefore could be explored. The `combined_total_data.csv` would contain all the rows that were retrived from webscrapping."
   ]
  },
  {
   "cell_type": "code",
   "execution_count": 66,
   "metadata": {},
   "outputs": [],
   "source": [
    "# Saving the individual subreddits in different csv files\n",
    "cleaned_data_bball_df.to_csv('../datasets/basketball.csv',index = False)\n",
    "cleaned_data_soccer_df.to_csv('../datasets/soccer.csv',index = False)"
   ]
  },
  {
   "cell_type": "code",
   "execution_count": 67,
   "metadata": {},
   "outputs": [],
   "source": [
    "# Merging the 2 dataframes into combined_df\n",
    "combined_df = cleaned_data_bball_df.append(cleaned_data_soccer_df)"
   ]
  },
  {
   "cell_type": "code",
   "execution_count": 68,
   "metadata": {
    "scrolled": true
   },
   "outputs": [
    {
     "data": {
      "text/html": [
       "<div>\n",
       "<style scoped>\n",
       "    .dataframe tbody tr th:only-of-type {\n",
       "        vertical-align: middle;\n",
       "    }\n",
       "\n",
       "    .dataframe tbody tr th {\n",
       "        vertical-align: top;\n",
       "    }\n",
       "\n",
       "    .dataframe thead th {\n",
       "        text-align: right;\n",
       "    }\n",
       "</style>\n",
       "<table border=\"1\" class=\"dataframe\">\n",
       "  <thead>\n",
       "    <tr style=\"text-align: right;\">\n",
       "      <th></th>\n",
       "      <th>posts</th>\n",
       "      <th>is_basketball</th>\n",
       "    </tr>\n",
       "  </thead>\n",
       "  <tbody>\n",
       "    <tr>\n",
       "      <th>0</th>\n",
       "      <td>LeBron James and kawhi leonard to both score o...</td>\n",
       "      <td>1</td>\n",
       "    </tr>\n",
       "    <tr>\n",
       "      <th>1</th>\n",
       "      <td>hello guys, i want to improve my game but i do...</td>\n",
       "      <td>1</td>\n",
       "    </tr>\n",
       "    <tr>\n",
       "      <th>2</th>\n",
       "      <td>I’m 20 years old and started playing Basketbal...</td>\n",
       "      <td>1</td>\n",
       "    </tr>\n",
       "    <tr>\n",
       "      <th>3</th>\n",
       "      <td>Is it possible that Spalding Lost its weight?</td>\n",
       "      <td>1</td>\n",
       "    </tr>\n",
       "    <tr>\n",
       "      <th>4</th>\n",
       "      <td>I need some help with my footwork</td>\n",
       "      <td>1</td>\n",
       "    </tr>\n",
       "  </tbody>\n",
       "</table>\n",
       "</div>"
      ],
      "text/plain": [
       "                                               posts  is_basketball\n",
       "0  LeBron James and kawhi leonard to both score o...              1\n",
       "1  hello guys, i want to improve my game but i do...              1\n",
       "2  I’m 20 years old and started playing Basketbal...              1\n",
       "3      Is it possible that Spalding Lost its weight?              1\n",
       "4                  I need some help with my footwork              1"
      ]
     },
     "execution_count": 68,
     "metadata": {},
     "output_type": "execute_result"
    }
   ],
   "source": [
    "# Displaying the first 5 rows of combined_df\n",
    "combined_df.head()"
   ]
  },
  {
   "cell_type": "code",
   "execution_count": 70,
   "metadata": {},
   "outputs": [],
   "source": [
    "# Saving the final_df as a combined_total_data.csv\n",
    "combined_df.to_csv('../datasets/combined_df.csv',index = False)"
   ]
  },
  {
   "cell_type": "markdown",
   "metadata": {},
   "source": [
    "## Data Cleaning & Exploratory Data Analysis"
   ]
  },
  {
   "cell_type": "markdown",
   "metadata": {},
   "source": [
    "#### Exploring individual subreddits"
   ]
  },
  {
   "cell_type": "code",
   "execution_count": 40,
   "metadata": {},
   "outputs": [],
   "source": [
    "# Loading basketball data from `basketball.csv` into `df_bball` dataframe\n",
    "df_bball = pd.read_csv('../datasets/basketball.csv')\n",
    "\n",
    "# Loading soccer data from `soccer.csv` into `df_s` dataframe\n",
    "df_s = pd.read_csv('../datasets/soccer.csv')\n",
    "\n",
    "# Loading combined data from `combined_df` into `df` dataframe\n",
    "df = pd.read_csv('../datasets/combined_df.csv')"
   ]
  },
  {
   "cell_type": "markdown",
   "metadata": {},
   "source": [
    "### Pre-processing and cleaning of data\n",
    "Before the manipulation of the combined data, it would be useful to study and analyze tokens in each subreddit to understand the influence of specific tokens on model performance."
   ]
  },
  {
   "cell_type": "markdown",
   "metadata": {},
   "source": [
    "#### Removal of unnecessary features:\n",
    "Several pre-processing steps have to be done to the raw data to remove redundant and non-discriminatory features before any modelling can be done. This because addition of such features would hinder the performance of the model since thy do not provide any value when deciding on the category that the post belongs to. These 3 changes can be done using the `posts_to_words` function. <br>\n",
    "\n",
    "These pre-processing steps include: <br>\n",
    "- Removal of punctuations\n",
    "- Removal of stop words\n",
    "- Converting words to lowercases\n",
    "- Lemmatizing/Stemming"
   ]
  },
  {
   "cell_type": "markdown",
   "metadata": {},
   "source": [
    "#### Importance of  lemmatizing words:\n",
    "Lemmatization allows for the reduction of each word to a common or its lemma form by removing inflectional endings. This normalization of texts helps to cluster words together and thus reduces the number of inputs fed into our model, improving its efficiency and speed. Unlike stemming, lemmatization returns actual language words and thus would be chosen as the normalization technique."
   ]
  },
  {
   "cell_type": "code",
   "execution_count": 42,
   "metadata": {},
   "outputs": [],
   "source": [
    "# Function to convert a raw post to a string of words\n",
    "def posts_to_words_lem(post):\n",
    "    \n",
    "    # Remove non-letters.\n",
    "    letters_only = re.sub(\"[^a-zA-Z]\", \" \", post)\n",
    "    \n",
    "    # Convert to lower case, split into individual words.\n",
    "    words = letters_only.lower().split()\n",
    "    \n",
    "    # Remove stop words\n",
    "    stops = stopwords.words('english')\n",
    "    \n",
    "    # Lemmatizing words.\n",
    "    lemmatizer = WordNetLemmatizer()\n",
    "    meaningful_words = [lemmatizer.lemmatize(w) for w in words if not w in stops]\n",
    "    \n",
    "    # Join the words back into a single string separated by space, \n",
    "    return(\" \".join(meaningful_words))"
   ]
  },
  {
   "cell_type": "markdown",
   "metadata": {},
   "source": [
    "#### Visualizing tokens in `df_bball`"
   ]
  },
  {
   "cell_type": "code",
   "execution_count": 412,
   "metadata": {},
   "outputs": [
    {
     "data": {
      "text/plain": [
       "0    lebron james kawhi leonard score point good be...\n",
       "1    hello guy want improve game get stuff cant spi...\n",
       "2    year old started playing basketball year ago d...\n",
       "3                        possible spalding lost weight\n",
       "4                                   need help footwork\n",
       "Name: cleaned_lemmatized_posts, dtype: object"
      ]
     },
     "execution_count": 412,
     "metadata": {},
     "output_type": "execute_result"
    }
   ],
   "source": [
    "# Saving lemmatized posts as a new column\n",
    "df_bball['cleaned_lemmatized_posts'] = [posts_to_words_lem(p) for p in df_bball['posts']]\n",
    "# Displaying the first 5 lemmatized posts\n",
    "df_bball['cleaned_lemmatized_posts'][:5]"
   ]
  },
  {
   "cell_type": "markdown",
   "metadata": {},
   "source": [
    "### Feature Extraction - Encoding text data \n",
    "After texts are reduced to their stems, they have to be encoded as numerical values to be used as inputs in our models and this process is called **Feature Extraction**. This helps to convert texts into familiar features which are vectors of numbers that our model could work with. One such method would be to use Bag-Of-Words which assigns each word to a number however more efficient transformations such as `CountVectorizer()` and `TfidfVectorizer()` would be explored"
   ]
  },
  {
   "cell_type": "markdown",
   "metadata": {},
   "source": [
    "#### CountVectorizer() \n",
    "`CountVectorizer()` is a configurable class which converts a document into a vector of token counts. Since it has multiple hyperparameters that could be tuned, it is more advantageous than using Bag-Of-Words. "
   ]
  },
  {
   "cell_type": "markdown",
   "metadata": {},
   "source": [
    "**Visualizing unigrams and bigrams in `df_bball`**"
   ]
  },
  {
   "cell_type": "code",
   "execution_count": 413,
   "metadata": {},
   "outputs": [],
   "source": [
    "# Instantiating CountVectorizer\n",
    "cvec = CountVectorizer(ngram_range = (1,1))\n",
    "\n",
    "# Fit and transform the lemmatized posts\n",
    "bball_lemmatized = cvec.fit_transform(df_bball['cleaned_lemmatized_posts'])\n",
    "\n",
    "# Converting the lemmatized posts into a dataframe\n",
    "bball_lemmatized_df = pd.DataFrame(bball_lemmatized.todense(), columns = cvec.get_feature_names())\n",
    "\n",
    "# Sorting and assigning tokens to their respective frequencies\n",
    "freq_of_bball_words = sorted(zip(cvec.get_feature_names(),bball_lemmatized.toarray().sum(axis=0)), key = lambda x: x[1], reverse=True)"
   ]
  },
  {
   "cell_type": "code",
   "execution_count": 414,
   "metadata": {},
   "outputs": [],
   "source": [
    "# Instantiating CountVectorizer\n",
    "cvec2 = CountVectorizer(ngram_range = (2,2))\n",
    "\n",
    "# Fit and transform the lemmatized posts\n",
    "bball_lemmatized_2 = cvec2.fit_transform(df_bball['cleaned_lemmatized_posts'])\n",
    "\n",
    "# Converting the lemmatized posts into a dataframe\n",
    "bball_lemmatized_2_df = pd.DataFrame(bball_lemmatized_2.todense(), columns = cvec2.get_feature_names())\n",
    "\n",
    "# Sorting and assigning tokens to their respective frequencies\n",
    "freq_of_bball_words_2 = sorted(zip(cvec2.get_feature_names(),bball_lemmatized_2.toarray().sum(axis=0)), key = lambda x: x[1], reverse=True)"
   ]
  },
  {
   "cell_type": "code",
   "execution_count": 415,
   "metadata": {},
   "outputs": [
    {
     "data": {
      "image/png": "[encoded data removed]",
      "text/plain": [
       "<Figure size 864x720 with 2 Axes>"
      ]
     },
     "metadata": {
      "needs_background": "light"
     },
     "output_type": "display_data"
    }
   ],
   "source": [
    "# Displaying the top 20 occurring tokens in basketball subreddit\n",
    "fig, (ax1, ax2) = plt.subplots(2,figsize = (12,10))\n",
    "fig.tight_layout(pad=7.0)\n",
    "ax1.bar([p[0] for p in freq_of_bball_words[:20]],[p[1] for p in freq_of_bball_words[:20]],align='center', alpha=0.5)\n",
    "ax1.tick_params(labelrotation=90)\n",
    "ax1.set_ylabel('Frequency',fontsize = 13)\n",
    "ax1.set_title('Top 20 basketball Unigrams')\n",
    "ax2.bar([p[0] for p in freq_of_bball_words_2[:20]],[p[1] for p in freq_of_bball_words_2[:20]],align='center', alpha=0.5)\n",
    "ax2.tick_params(labelrotation=90)\n",
    "ax2.set_ylabel('Frequency',fontsize = 13)\n",
    "ax2.set_xlabel('Top 20 tokens',fontsize = 13)\n",
    "ax2.set_title('Top 20 basketball Bigrams');"
   ]
  },
  {
   "cell_type": "markdown",
   "metadata": {},
   "source": [
    "Based on the bar graph above, the **basketball** token seemed to be prevalent in many of the rows and therefore the use of `TfidfVectorizer()` on the combined data would be more appropriate as it penalizes frequently occurring words and places more importance on words that are less common. This would also help to tackle the imbalanced classes given that there are twice as many basketball posts than soccer posts. Moreover, by viewing bi-grams, appearance of generic words such as **get**,**play**,**like** become more rational and reliable in providing distinguishing power. They give greater insights into the interests of users such as the prevalence of **high school** and **need help** which could be a hint at a possible entry into a potential group of consumers hidden by looking at only unigrams."
   ]
  },
  {
   "cell_type": "markdown",
   "metadata": {},
   "source": [
    "#### TfidVectorizer()\n",
    "Visualizing unigrams and bigrams in `df_bball`"
   ]
  },
  {
   "cell_type": "code",
   "execution_count": 416,
   "metadata": {},
   "outputs": [],
   "source": [
    "# Instantiating TfidVectorizer\n",
    "tvec = TfidfVectorizer(ngram_range = (1,1))\n",
    "\n",
    "# Fit and transform the lemmatized posts\n",
    "bball_lemmatized = tvec.fit_transform(df_bball['cleaned_lemmatized_posts'])\n",
    "\n",
    "# Converting the lemmatized posts into a dataframe\n",
    "bball_lemmatized_df = pd.DataFrame(bball_lemmatized.todense(), columns = tvec.get_feature_names())\n",
    "\n",
    "# Sorting and assigning tokens to their respective frequencies\n",
    "freq_of_bball_words = sorted(zip(tvec.get_feature_names(),bball_lemmatized.toarray().sum(axis=0)), key = lambda x: x[1], reverse=True)"
   ]
  },
  {
   "cell_type": "code",
   "execution_count": 417,
   "metadata": {},
   "outputs": [],
   "source": [
    "# Instantiating TfidVectorizer\n",
    "tvec2 = TfidfVectorizer(ngram_range = (2,2))\n",
    "\n",
    "# Fit and transform the lemmatized posts\n",
    "bball_lemmatized_2 = tvec2.fit_transform(df_bball['cleaned_lemmatized_posts'])\n",
    "\n",
    "# Converting the lemmatized posts into a dataframe\n",
    "bball_lemmatized_2_df = pd.DataFrame(bball_lemmatized_2.todense(), columns = tvec2.get_feature_names())\n",
    "\n",
    "# Sorting and assigning tokens to their respective frequencies\n",
    "freq_of_bball_words_2 = sorted(zip(tvec2.get_feature_names(),bball_lemmatized_2.toarray().sum(axis=0)), key = lambda x: x[1], reverse=True)"
   ]
  },
  {
   "cell_type": "code",
   "execution_count": 418,
   "metadata": {},
   "outputs": [
    {
     "data": {
      "image/png": "[encoded data removed]",
      "text/plain": [
       "<Figure size 864x720 with 2 Axes>"
      ]
     },
     "metadata": {
      "needs_background": "light"
     },
     "output_type": "display_data"
    }
   ],
   "source": [
    "# Displaying the top 20 occurring tokens in basketball subreddit\n",
    "fig, (ax1, ax2) = plt.subplots(2,figsize = (12,10))\n",
    "fig.tight_layout(pad=7.0)\n",
    "ax1.bar([p[0] for p in freq_of_bball_words[:20]],[p[1] for p in freq_of_bball_words[:20]],align='center', alpha=0.5)\n",
    "ax1.tick_params(labelrotation=90)\n",
    "ax1.set_ylabel('Frequency',fontsize = 13)\n",
    "ax1.set_title('Top 20 basketball Unigrams')\n",
    "ax2.bar([p[0] for p in freq_of_bball_words_2[:20]],[p[1] for p in freq_of_bball_words_2[:20]],align='center', alpha=0.5)\n",
    "ax2.tick_params(labelrotation=90)\n",
    "ax2.set_ylabel('Frequency',fontsize = 13)\n",
    "ax2.set_xlabel('Top 20 tokens',fontsize = 13)\n",
    "ax2.set_title('Top 20 basketball Bigrams');"
   ]
  },
  {
   "cell_type": "markdown",
   "metadata": {},
   "source": [
    "#### Visualizing tokens in `df_s`"
   ]
  },
  {
   "cell_type": "code",
   "execution_count": 278,
   "metadata": {},
   "outputs": [
    {
     "data": {
      "text/plain": [
       "0          match thread west bromwich albion v chelsea\n",
       "1    funke jadon sancho sold season anymore stateme...\n",
       "2    canal aulas interview say arsenal offer low as...\n",
       "3    fabrizio romano rub n dia manchester city go c...\n",
       "4    dzfoot english riyad mahrez make th career app...\n",
       "Name: cleaned_lemmatized_posts, dtype: object"
      ]
     },
     "execution_count": 278,
     "metadata": {},
     "output_type": "execute_result"
    }
   ],
   "source": [
    "# Saving lemmatized posts as a new column\n",
    "df_s['cleaned_lemmatized_posts'] = [posts_to_words_lem(p) for p in df_s['posts']]\n",
    "\n",
    "# Displaying the first 5 lemmatized posts\n",
    "df_s['cleaned_lemmatized_posts'][:5]"
   ]
  },
  {
   "cell_type": "markdown",
   "metadata": {},
   "source": [
    "**Visualizing unigrams and bigrams in `df_s`**"
   ]
  },
  {
   "cell_type": "code",
   "execution_count": 279,
   "metadata": {},
   "outputs": [],
   "source": [
    "# Instantiating CountVectorizer\n",
    "cvec = CountVectorizer(ngram_range = (1,1))\n",
    "\n",
    "# Fit and transform the lemmatized posts\n",
    "s_lemmatized = cvec.fit_transform(df_s['cleaned_lemmatized_posts'])\n",
    "\n",
    "# Converting the lemmatized posts into a dataframe\n",
    "s_lemmatized_df = pd.DataFrame(s_lemmatized.todense(), columns = cvec.get_feature_names())\n",
    "\n",
    "# Sorting and assigning tokens to their respective frequencies\n",
    "freq_of_s_words = sorted(zip(cvec.get_feature_names(),s_lemmatized.toarray().sum(axis=0)), key = lambda x: x[1], reverse=True)"
   ]
  },
  {
   "cell_type": "code",
   "execution_count": 280,
   "metadata": {},
   "outputs": [],
   "source": [
    "# Instantiating CountVectorizer\n",
    "cvec2 = CountVectorizer(ngram_range = (2,2))\n",
    "\n",
    "# Fit and transform the lemmatized posts\n",
    "s_lemmatized_2 = cvec2.fit_transform(df_s['cleaned_lemmatized_posts'])\n",
    "\n",
    "# Converting the lemmatized posts into a dataframe\n",
    "s_lemmatized_2_df = pd.DataFrame(s_lemmatized_2.todense(), columns = cvec2.get_feature_names())\n",
    "\n",
    "# Sorting and assigning tokens to their respective frequencies\n",
    "freq_of_s_words_2 = sorted(zip(cvec2.get_feature_names(),s_lemmatized_2.toarray().sum(axis=0)), key = lambda x: x[1], reverse=True)"
   ]
  },
  {
   "cell_type": "code",
   "execution_count": 296,
   "metadata": {
    "scrolled": false
   },
   "outputs": [
    {
     "data": {
      "image/png": "[encoded data removed]",
      "text/plain": [
       "<Figure size 864x720 with 2 Axes>"
      ]
     },
     "metadata": {
      "needs_background": "light"
     },
     "output_type": "display_data"
    }
   ],
   "source": [
    "# Displaying the top 20 occurring tokens in basketball subreddit\n",
    "fig, (ax1, ax2) = plt.subplots(2,figsize = (12,10))\n",
    "fig.tight_layout(pad=7.0)\n",
    "ax1.bar([p[0] for p in freq_of_s_words[:20]],[p[1] for p in freq_of_s_words[:20]],align='center', alpha=0.5,color = 'r')\n",
    "ax1.tick_params(labelrotation=90)\n",
    "ax1.set_ylabel('Frequency',fontsize = 13)\n",
    "ax1.set_title('Top 20 soccer Unigrams')\n",
    "ax2.bar([p[0] for p in freq_of_s_words_2[:20]],[p[1] for p in freq_of_s_words_2[:20]],align='center', alpha=0.5,color = 'r')\n",
    "ax2.tick_params(labelrotation=90)\n",
    "ax2.set_ylabel('Frequency',fontsize = 13)\n",
    "ax2.set_xlabel('Top 20 tokens',fontsize = 13)\n",
    "ax2.set_title('Top 20 soccer Bigrams');"
   ]
  },
  {
   "cell_type": "code",
   "execution_count": 283,
   "metadata": {},
   "outputs": [],
   "source": [
    "# Instantiating TfidVectorizer\n",
    "tvec = TfidfVectorizer(ngram_range = (1,1))\n",
    "\n",
    "# Fit and transform the lemmatized posts\n",
    "s_lemmatized = tvec.fit_transform(df_s['cleaned_lemmatized_posts'])\n",
    "\n",
    "# Converting the lemmatized posts into a dataframe\n",
    "s_lemmatized_df = pd.DataFrame(s_lemmatized.todense(), columns = tvec.get_feature_names())\n",
    "\n",
    "# Sorting and assigning tokens to their respective frequencies\n",
    "freq_of_s_words = sorted(zip(tvec.get_feature_names(),s_lemmatized.toarray().sum(axis=0)), key = lambda x: x[1], reverse=True)"
   ]
  },
  {
   "cell_type": "code",
   "execution_count": 284,
   "metadata": {},
   "outputs": [],
   "source": [
    "# Instantiating TfidVectorizer\n",
    "tvec2 = TfidfVectorizer(ngram_range = (2,2))\n",
    "\n",
    "# Fit and transform the lemmatized posts\n",
    "s_lemmatized_2 = tvec2.fit_transform(df_s['cleaned_lemmatized_posts'])\n",
    "\n",
    "# Converting the lemmatized posts into a dataframe\n",
    "s_lemmatized_2_df = pd.DataFrame(s_lemmatized_2.todense(), columns = tvec2.get_feature_names())\n",
    "\n",
    "# Sorting and assigning tokens to their respective frequencies\n",
    "freq_of_s_words_2 = sorted(zip(tvec2.get_feature_names(),s_lemmatized_2.toarray().sum(axis=0)), key = lambda x: x[1], reverse=True)"
   ]
  },
  {
   "cell_type": "code",
   "execution_count": 286,
   "metadata": {},
   "outputs": [
    {
     "data": {
      "image/png": "[encoded data removed]",
      "text/plain": [
       "<Figure size 864x720 with 2 Axes>"
      ]
     },
     "metadata": {
      "needs_background": "light"
     },
     "output_type": "display_data"
    }
   ],
   "source": [
    "# Displaying the top 20 occurring tokens in basketball subreddit\n",
    "fig, (ax1, ax2) = plt.subplots(2,figsize = (12,10))\n",
    "fig.tight_layout(pad=7.0)\n",
    "ax1.bar([p[0] for p in freq_of_s_words[:20]],[p[1] for p in freq_of_s_words[:20]],align='center', alpha=0.5,color = 'r')\n",
    "ax1.tick_params(labelrotation=90)\n",
    "ax1.set_ylabel('Frequency',fontsize = 13)\n",
    "ax1.set_title('Top 20 soccer Unigrams')\n",
    "ax2.bar([p[0] for p in freq_of_s_words_2[:20]],[p[1] for p in freq_of_s_words_2[:20]],align='center', alpha=0.5,color = 'r')\n",
    "ax2.tick_params(labelrotation=90)\n",
    "ax2.set_ylabel('Frequency',fontsize = 13)\n",
    "ax2.set_xlabel('Top 20 tokens',fontsize = 13)\n",
    "ax2.set_title('Top 20 soccer Bigrams');"
   ]
  },
  {
   "cell_type": "markdown",
   "metadata": {},
   "source": [
    "Similarly, the dominance of the token **match** encourages the use of `TfidVectorizer` and certain non-discriminatory unigrams such as **match** and **post** become significant as in bi-grams. Although the soccer data had distinguishable tokens such as **manchester** and **madrid**, additional meaningful insights could be drawn from these bi-grams such as a prevalence of post-match discussions which would have been hidden if these words were seen as unigrams. "
   ]
  },
  {
   "cell_type": "markdown",
   "metadata": {},
   "source": [
    "### Cleaning the combined dataframe"
   ]
  },
  {
   "cell_type": "markdown",
   "metadata": {},
   "source": [
    "Based on the findings above, it would be purposeful to quantify words in the form of **bigrams** instead of unigrams given the additional findings that were derived above. In addition, the dominance of several words would encourage the use of **TF-IDF** as a vectorization technique so as to detect for distinct and unique terms which were diluted by other dominant words."
   ]
  },
  {
   "cell_type": "code",
   "execution_count": 38,
   "metadata": {},
   "outputs": [],
   "source": [
    "# Loading the combined data into df\n",
    "df = pd.read_csv('../datasets/combined_df.csv')"
   ]
  },
  {
   "cell_type": "code",
   "execution_count": 39,
   "metadata": {
    "scrolled": true
   },
   "outputs": [
    {
     "data": {
      "text/html": [
       "<div>\n",
       "<style scoped>\n",
       "    .dataframe tbody tr th:only-of-type {\n",
       "        vertical-align: middle;\n",
       "    }\n",
       "\n",
       "    .dataframe tbody tr th {\n",
       "        vertical-align: top;\n",
       "    }\n",
       "\n",
       "    .dataframe thead th {\n",
       "        text-align: right;\n",
       "    }\n",
       "</style>\n",
       "<table border=\"1\" class=\"dataframe\">\n",
       "  <thead>\n",
       "    <tr style=\"text-align: right;\">\n",
       "      <th></th>\n",
       "      <th>posts</th>\n",
       "      <th>is_basketball</th>\n",
       "    </tr>\n",
       "  </thead>\n",
       "  <tbody>\n",
       "    <tr>\n",
       "      <th>0</th>\n",
       "      <td>LeBron James and kawhi leonard to both score o...</td>\n",
       "      <td>1</td>\n",
       "    </tr>\n",
       "    <tr>\n",
       "      <th>1</th>\n",
       "      <td>hello guys, i want to improve my game but i do...</td>\n",
       "      <td>1</td>\n",
       "    </tr>\n",
       "    <tr>\n",
       "      <th>2</th>\n",
       "      <td>I’m 20 years old and started playing Basketbal...</td>\n",
       "      <td>1</td>\n",
       "    </tr>\n",
       "    <tr>\n",
       "      <th>3</th>\n",
       "      <td>Is it possible that Spalding Lost its weight?</td>\n",
       "      <td>1</td>\n",
       "    </tr>\n",
       "    <tr>\n",
       "      <th>4</th>\n",
       "      <td>I need some help with my footwork</td>\n",
       "      <td>1</td>\n",
       "    </tr>\n",
       "  </tbody>\n",
       "</table>\n",
       "</div>"
      ],
      "text/plain": [
       "                                               posts  is_basketball\n",
       "0  LeBron James and kawhi leonard to both score o...              1\n",
       "1  hello guys, i want to improve my game but i do...              1\n",
       "2  I’m 20 years old and started playing Basketbal...              1\n",
       "3      Is it possible that Spalding Lost its weight?              1\n",
       "4                  I need some help with my footwork              1"
      ]
     },
     "execution_count": 39,
     "metadata": {},
     "output_type": "execute_result"
    }
   ],
   "source": [
    "# Displaying the first 5 rows of df\n",
    "df.head()"
   ]
  },
  {
   "cell_type": "markdown",
   "metadata": {},
   "source": [
    "### Lemmatizing Posts"
   ]
  },
  {
   "cell_type": "code",
   "execution_count": 43,
   "metadata": {},
   "outputs": [],
   "source": [
    "# Saving lemmatized posts as a new column\n",
    "df['cleaned_lemmatized_posts'] = [posts_to_words_lem(p) for p in df['posts']]"
   ]
  },
  {
   "cell_type": "code",
   "execution_count": 44,
   "metadata": {
    "scrolled": true
   },
   "outputs": [
    {
     "data": {
      "text/plain": [
       "0    lebron james kawhi leonard score point good be...\n",
       "1    hello guy want improve game get stuff cant spi...\n",
       "2    year old started playing basketball year ago d...\n",
       "3                        possible spalding lost weight\n",
       "4                                   need help footwork\n",
       "Name: cleaned_lemmatized_posts, dtype: object"
      ]
     },
     "execution_count": 44,
     "metadata": {},
     "output_type": "execute_result"
    }
   ],
   "source": [
    "# Displaying the first 5 lemmatized posts\n",
    "df['cleaned_lemmatized_posts'][:5]"
   ]
  },
  {
   "cell_type": "markdown",
   "metadata": {},
   "source": [
    "### Baseline accuracy\n",
    "\n",
    "Calculating the baseline accuracy in order to tell if our model is outperforming the null model (predicting the majority class)."
   ]
  },
  {
   "cell_type": "code",
   "execution_count": 45,
   "metadata": {
    "scrolled": false
   },
   "outputs": [
    {
     "name": "stdout",
     "output_type": "stream",
     "text": [
      "The probability of predicting the Basketball class: 68.07%\n"
     ]
    }
   ],
   "source": [
    "# Calculating the baseline accuracy using the percentage of each class\n",
    "percent = df['is_basketball'].value_counts(normalize = True)[1]\n",
    "print(f'The probability of predicting the Basketball class: {round(percent*100,2)}%')"
   ]
  },
  {
   "cell_type": "markdown",
   "metadata": {},
   "source": [
    "## Data Preparation"
   ]
  },
  {
   "cell_type": "markdown",
   "metadata": {},
   "source": [
    "Setting up the data for modeling:\n",
    "- `X` will be the `cleaned_lemmatized_posts` column. \n",
    "- `y` will be the `is_basketball` column"
   ]
  },
  {
   "cell_type": "code",
   "execution_count": 49,
   "metadata": {},
   "outputs": [],
   "source": [
    "X_lemmatized = df['cleaned_lemmatized_posts']\n",
    "y = df['is_basketball']"
   ]
  },
  {
   "cell_type": "markdown",
   "metadata": {},
   "source": [
    "### Train/Test Split\n",
    "Since `df` contains imbalanced rows since there are more basketball data than soccer data, in order to ensure equal proportions of both classes across train test splits, the `y` feature should be stratified using the `stratify` parameter. This prevents the overrepresentation of basketball data in a particular dataset and therefore ensuring a fair split."
   ]
  },
  {
   "cell_type": "code",
   "execution_count": 50,
   "metadata": {},
   "outputs": [],
   "source": [
    "# Splitting df into train and test data for model validation and testing\n",
    "X_train,X_test,y_train,y_test = train_test_split(X_lemmatized,y,stratify = y,random_state = 42)"
   ]
  },
  {
   "cell_type": "markdown",
   "metadata": {},
   "source": [
    "## Data Modeling"
   ]
  },
  {
   "cell_type": "markdown",
   "metadata": {},
   "source": [
    "The use of `LogisticRegression` would be appropriate since `y` output variable is discrete and by converting words into bigrams, it would help to reduce the independence between features, as compared to unigrams. In addition, logistic regression assigns coefficients to each token hence allows for the quantification of the strength of these tokens on the predictions generated."
   ]
  },
  {
   "cell_type": "markdown",
   "metadata": {},
   "source": [
    "### `CountVectorizer()` and `LogisticRegression()`"
   ]
  },
  {
   "cell_type": "code",
   "execution_count": 569,
   "metadata": {},
   "outputs": [],
   "source": [
    "# Pipeline contains a list of steps, steps contain list of tuples\n",
    "pipe = Pipeline([\n",
    "    \n",
    "            ('cvec',CountVectorizer()),\n",
    "            ('lr',LogisticRegression())\n",
    "])"
   ]
  },
  {
   "cell_type": "code",
   "execution_count": 570,
   "metadata": {
    "scrolled": true
   },
   "outputs": [
    {
     "data": {
      "text/plain": [
       "GridSearchCV(cv=3,\n",
       "             estimator=Pipeline(steps=[('cvec', CountVectorizer()),\n",
       "                                       ('lr', LogisticRegression())]),\n",
       "             param_grid={'cvec__max_df': [0.1, 0.2, 0.3, 0.4, 0.5],\n",
       "                         'cvec__max_features': [1000, 1500, 2000, 2500, 3000],\n",
       "                         'cvec__min_df': [2, 3],\n",
       "                         'cvec__ngram_range': [(2, 2)]})"
      ]
     },
     "execution_count": 570,
     "metadata": {},
     "output_type": "execute_result"
    }
   ],
   "source": [
    "# Setting different parameters for our GridSearchCV - lemmatized\n",
    "\n",
    "pipe_params = {\n",
    "    # Setting a limit of n-number of features included/vocab size\n",
    "    'cvec__max_features': [1000,1500,2000,2500,3000],\n",
    "\n",
    "    # Setting a minimum number of times the word/token has to appear in n-documents\n",
    "    'cvec__min_df':[2,3],\n",
    "    \n",
    "    # Setting an upper threshold/max percentage of n% of documents from corpus \n",
    "    'cvec__max_df':[0.1,0.2,0.3,0.4,0.5],\n",
    "    \n",
    "    # Testing with bigrams\n",
    "    'cvec__ngram_range':[(2,2)]\n",
    "}\n",
    "# Loading the `pipeline` object into our `GridSearchCV()`\n",
    "gs = GridSearchCV(pipe,param_grid = pipe_params, cv = 3)\n",
    "gs.fit(X_train,y_train)"
   ]
  },
  {
   "cell_type": "markdown",
   "metadata": {},
   "source": [
    "The **accuracy** metric would be used to compare the performance of differernt models which calculates the ratio of correct predictions to total number of predictions. Since classes(true positives,true negatives,false positives, false negatives) are all equally important and misclassification is less costly, **accuracy** is a suitable metric to quantify the performance of the models."
   ]
  },
  {
   "cell_type": "code",
   "execution_count": 549,
   "metadata": {},
   "outputs": [
    {
     "name": "stdout",
     "output_type": "stream",
     "text": [
      "Mean accuracy of model: 0.81047\n",
      "Best Parameters of model: {'cvec__max_df': 0.1, 'cvec__max_features': 1500, 'cvec__min_df': 2, 'cvec__ngram_range': (2, 2)}\n"
     ]
    }
   ],
   "source": [
    "print(f'Mean accuracy of model: {round(gs.best_score_,5)}')\n",
    "print(f'Best Parameters of model: {gs.best_params_}')"
   ]
  },
  {
   "cell_type": "code",
   "execution_count": 550,
   "metadata": {
    "scrolled": false
   },
   "outputs": [
    {
     "name": "stdout",
     "output_type": "stream",
     "text": [
      "Accuracy Score for train set: 0.88407\n",
      "Accuracy Score for test set: 0.83082\n"
     ]
    }
   ],
   "source": [
    "# Scoring entire X_train dataset using the optimized model\n",
    "print(f'Accuracy Score for train set: {round(gs.score(X_train,y_train),5)}')\n",
    "# Scoring X_test using the optimized model\n",
    "print(f'Accuracy Score for test set: {round(gs.score(X_test,y_test),5)}')"
   ]
  },
  {
   "cell_type": "markdown",
   "metadata": {},
   "source": [
    "Since the accuracy score for train set is higher than that of the test set, overfitting could have occurred and thus the model has high variance and unable to generalize, resulting in predictions that are less accurate. The use of an additional metric could help validate the performance of another model. One such metric would be the **F1 score** which weighs the model's precision and robustness. As compared to the accuracy metric, the **F1 score** gives a better measure of the incorrectly classified cases and it is better suited for imbalanced classes which exist in our dataset."
   ]
  },
  {
   "cell_type": "code",
   "execution_count": 551,
   "metadata": {
    "scrolled": false
   },
   "outputs": [],
   "source": [
    "# Using the best parameters to vectorize features before fitting it into model\n",
    "cv = CountVectorizer(max_df= gs.best_params_['cvec__max_df'],\n",
    "                     max_features= gs.best_params_['cvec__max_features'],\n",
    "                     min_df=gs.best_params_['cvec__min_df'],\n",
    "                     ngram_range=gs.best_params_['cvec__ngram_range'])\n",
    "cv.fit(X_train)\n",
    "X_train_cv = cv.transform(X_train)\n",
    "X_test_cv = cv.transform(X_test)"
   ]
  },
  {
   "cell_type": "code",
   "execution_count": 552,
   "metadata": {},
   "outputs": [],
   "source": [
    "cv = CountVectorizer(max_df= gs.best_params_['cvec__max_df'],\n",
    "                     max_features= gs.best_params_['cvec__max_features'],\n",
    "                     min_df=gs.best_params_['cvec__min_df'],\n",
    "                     ngram_range=gs.best_params_['cvec__ngram_range'])\n",
    "cv.fit(X_train)\n",
    "X_train_cv = cv.transform(X_train)\n",
    "X_test_cv = cv.transform(X_test)"
   ]
  },
  {
   "cell_type": "code",
   "execution_count": 553,
   "metadata": {},
   "outputs": [
    {
     "name": "stdout",
     "output_type": "stream",
     "text": [
      "F1 score for Logistic Regression model: 0.88955\n"
     ]
    }
   ],
   "source": [
    "# Instantiating model\n",
    "lr = LogisticRegression()\n",
    "# Fitting Model\n",
    "lr.fit(X_train_cv,y_train)\n",
    "# Calculating the F1 score to measure test's accuracy\n",
    "preds = lr.predict(X_test_cv)\n",
    "print(f'F1 score for Logistic Regression model: {round(f1_score(y_test,preds),5)}')"
   ]
  },
  {
   "cell_type": "code",
   "execution_count": 554,
   "metadata": {
    "scrolled": true
   },
   "outputs": [
    {
     "data": {
      "text/plain": [
       "[('match thread', 62),\n",
       " ('high school', 52),\n",
       " ('year old', 52),\n",
       " ('feel like', 49),\n",
       " ('post match', 37),\n",
       " ('need help', 32),\n",
       " ('play basketball', 28),\n",
       " ('playing basketball', 27),\n",
       " ('nba player', 24),\n",
       " ('vertical jump', 22)]"
      ]
     },
     "execution_count": 554,
     "metadata": {},
     "output_type": "execute_result"
    }
   ],
   "source": [
    "# Sorting and visualizing the top occurring words\n",
    "freq_of_all_words = sorted(zip(cv.get_feature_names(),X_train_cv.toarray().sum(axis=0)), key = lambda x: x[1], reverse=True)\n",
    "freq_of_all_words[:10]"
   ]
  },
  {
   "cell_type": "code",
   "execution_count": 555,
   "metadata": {
    "scrolled": false
   },
   "outputs": [
    {
     "data": {
      "image/png": "[encoded data removed]",
      "text/plain": [
       "<Figure size 864x720 with 1 Axes>"
      ]
     },
     "metadata": {
      "needs_background": "light"
     },
     "output_type": "display_data"
    }
   ],
   "source": [
    "# Plotting a graph of frequency against words\n",
    "plt.figure(figsize=(12,10))\n",
    "plt.bar([p[0] for p in freq_of_all_words[:20]],[p[1] for p in freq_of_all_words[:20]],align='center', alpha=0.5)\n",
    "plt.xticks(rotation='vertical')\n",
    "plt.ylabel('Frequency',fontsize = 13)\n",
    "plt.xlabel('Tokens',fontsize = 13)\n",
    "plt.title('Frequency of top 20 tokens');"
   ]
  },
  {
   "cell_type": "code",
   "execution_count": 557,
   "metadata": {},
   "outputs": [
    {
     "data": {
      "text/plain": [
       "{'match thread': -2.275222552814169,\n",
       " 'west ham': -1.9443724582205173,\n",
       " 'premier league': -1.9237889032092694,\n",
       " 'manchester united': -1.7763686582896256,\n",
       " 'napoli genoa': -1.7363379794908596,\n",
       " 'liverpool arsenal': -1.721929639229458,\n",
       " 'atletico madrid': -1.6225662253783724,\n",
       " 'need help': 1.5944173273850561,\n",
       " 'manchester city': -1.5257057384600812,\n",
       " 'high school': 1.473075060159981}"
      ]
     },
     "execution_count": 557,
     "metadata": {},
     "output_type": "execute_result"
    }
   ],
   "source": [
    "# Looking at the coefficient of each variable\n",
    "coef_dict = {}\n",
    "for coef, feat in zip(lr.coef_.ravel(),cv.get_feature_names()):\n",
    "    coef_dict[feat] = coef\n",
    "    \n",
    "# Sorting and viewing the top features that have the strongest influence on the predictor\n",
    "sorted_coef_dict = {k: v for k, v in sorted(coef_dict.items(), key=lambda item: abs(item[1]), reverse = True)}\n",
    "\n",
    "# Printing the top 10 features that have the strongest influence on predictions\n",
    "{K:V for (K,V) in [x for x in sorted_coef_dict.items()][:10]}\n"
   ]
  },
  {
   "cell_type": "code",
   "execution_count": 560,
   "metadata": {
    "scrolled": false
   },
   "outputs": [
    {
     "data": {
      "image/png": "[encoded data removed]",
      "text/plain": [
       "<Figure size 864x720 with 1 Axes>"
      ]
     },
     "metadata": {
      "needs_background": "light"
     },
     "output_type": "display_data"
    }
   ],
   "source": [
    "# Graph of coefficients against features for easier visualization and comparison\n",
    "features = [a for a in sorted_coef_dict.keys()]\n",
    "coef =  [i for i in sorted_coef_dict.values()]\n",
    "# Plotting a bar graph for the top 10 features\n",
    "plt.figure(figsize = (12,10))\n",
    "pd.Series(coef[:15],index = features[:15]).plot.bar()\n",
    "plt.title('Coefficients against Bigrams')\n",
    "plt.ylabel('Coefficients',fontsize = 13)\n",
    "plt.xlabel('Features',fontsize = 13);"
   ]
  },
  {
   "cell_type": "markdown",
   "metadata": {},
   "source": [
    "Based on the graph above, the presence of **match thread** bigram seems to have a great influence on the classification power of the model. In addition, majority of the tokens with large coefficients belong to the soccer subreddit which could be due to the imbalanced sizes of classes. "
   ]
  },
  {
   "cell_type": "markdown",
   "metadata": {},
   "source": [
    "The use of `TfidVectorizer()` could help to sieve out unique tokens which were diluted by the high frequency of other tokens"
   ]
  },
  {
   "cell_type": "markdown",
   "metadata": {},
   "source": [
    "### `TfidfVectorizer()` and `LogisticRegression()`"
   ]
  },
  {
   "cell_type": "code",
   "execution_count": 46,
   "metadata": {},
   "outputs": [],
   "source": [
    "# Pipeline contains a list of steps, steps contain list of tuples\n",
    "pipe = Pipeline([\n",
    "    ('tvec',TfidfVectorizer()),\n",
    "    ('lr',LogisticRegression())\n",
    "])"
   ]
  },
  {
   "cell_type": "code",
   "execution_count": 51,
   "metadata": {},
   "outputs": [
    {
     "name": "stdout",
     "output_type": "stream",
     "text": [
      "Mean Accuracy Score: 0.7988818857570315\n",
      "Best hyperparameters: {'tvec__max_df': 0.1, 'tvec__max_features': 1000, 'tvec__min_df': 3, 'tvec__ngram_range': (2, 2)}\n"
     ]
    }
   ],
   "source": [
    "pipe_params = {\n",
    "    \n",
    "    # Setting a limit of n-number of features included/vocab size\n",
    "    'tvec__max_features':[1000,1500,2000,2500,3000],\n",
    "    \n",
    "    # Setting a minimum number of times the word/token has to appear in n-documents\n",
    "    'tvec__min_df':[2,3],\n",
    "    \n",
    "    # Setting an upper threshold/max percentage of n% of documents from corpus \n",
    "    'tvec__max_df':[0.1,0.2,0.3,0.4,0.5],\n",
    "    \n",
    "    # Testing with bigrams\n",
    "    'tvec__ngram_range':[(2,2)]\n",
    "}\n",
    "gs = GridSearchCV(pipe,param_grid = pipe_params,cv = 3)\n",
    "gs.fit(X_train,y_train)\n",
    "print(f'Mean Accuracy Score: {gs.best_score_}')\n",
    "print(f'Best hyperparameters: {gs.best_params_}')"
   ]
  },
  {
   "cell_type": "code",
   "execution_count": 533,
   "metadata": {},
   "outputs": [
    {
     "name": "stdout",
     "output_type": "stream",
     "text": [
      "Accuracy Score for train set: 0.86492\n",
      "Accuracy Score for test set 0.83384\n"
     ]
    }
   ],
   "source": [
    "# Scoring entire X_train dataset using the optimized model\n",
    "print(f'Accuracy Score for train set: {round(gs.score(X_train,y_train),5)}')\n",
    "\n",
    "# Scoring X_test dataset using the optimized model\n",
    "print(f'Accuracy Score for test set {round(gs.score(X_test,y_test),5)}')"
   ]
  },
  {
   "cell_type": "code",
   "execution_count": 534,
   "metadata": {
    "scrolled": true
   },
   "outputs": [],
   "source": [
    "tv = TfidfVectorizer(max_df= gs.best_params_['tvec__max_df'],\n",
    "                     max_features= gs.best_params_['tvec__max_features'],\n",
    "                     min_df=gs.best_params_['tvec__min_df'],\n",
    "                     ngram_range=gs.best_params_['tvec__ngram_range'])\n",
    "tv_fit = tv.fit_transform(X_train)\n",
    "tv.fit(X_train)\n",
    "X_train_tv = tv.transform(X_train)\n",
    "X_test_tv = tv.transform(X_test)"
   ]
  },
  {
   "cell_type": "code",
   "execution_count": 535,
   "metadata": {},
   "outputs": [],
   "source": [
    "tv = TfidfVectorizer(max_df= gs.best_params_['tvec__max_df'],\n",
    "                     max_features= gs.best_params_['tvec__max_features'],\n",
    "                     min_df=gs.best_params_['tvec__min_df'],\n",
    "                     ngram_range=(2,2))\n",
    "tv_fit = tv.fit_transform(X_train)\n",
    "tv.fit(X_train)\n",
    "X_train_tv = tv.transform(X_train)\n",
    "X_test_tv = tv.transform(X_test)"
   ]
  },
  {
   "cell_type": "code",
   "execution_count": 536,
   "metadata": {},
   "outputs": [
    {
     "name": "stdout",
     "output_type": "stream",
     "text": [
      "F1 score for Logistic Regression model: 0.8913\n"
     ]
    }
   ],
   "source": [
    "# Instantiating model\n",
    "lr = LogisticRegression()\n",
    "# Fitting Model\n",
    "lr.fit(X_train_tv,y_train)\n",
    "# Calculating the F1 score to measure test's accuracy\n",
    "preds = lr.predict(X_test_tv)\n",
    "print(f'F1 score for Logistic Regression model: {round(f1_score(y_test,preds),5)}')"
   ]
  },
  {
   "cell_type": "code",
   "execution_count": 537,
   "metadata": {
    "scrolled": false
   },
   "outputs": [
    {
     "data": {
      "image/png": "[encoded data removed]",
      "text/plain": [
       "<Figure size 864x720 with 1 Axes>"
      ]
     },
     "metadata": {
      "needs_background": "light"
     },
     "output_type": "display_data"
    }
   ],
   "source": [
    "freq_of_all_words = sorted(zip(tv.get_feature_names(),tv_fit.toarray().sum(axis=0)), key = lambda x: x[1], reverse=True)\n",
    "freq_of_all_words[:10]\n",
    "# Plotting a graph of freq against words\n",
    "plt.figure(figsize=(12,10))\n",
    "plt.bar([p[0] for p in freq_of_all_words[:20]],[p[1] for p in freq_of_all_words[:20]],align='center', alpha=0.5)\n",
    "plt.xticks(rotation='vertical')\n",
    "plt.ylabel('Frequency')\n",
    "plt.xlabel('Top 20 tokens')\n",
    "plt.title('Top 20 tokens in combined subreddits-lem');"
   ]
  },
  {
   "cell_type": "code",
   "execution_count": 539,
   "metadata": {
    "scrolled": false
   },
   "outputs": [
    {
     "data": {
      "text/plain": [
       "{'match thread': -3.1549092268437122,\n",
       " 'premier league': -2.189362310091163,\n",
       " 'west ham': -2.0608572709044863,\n",
       " 'manchester united': -2.006247160595293,\n",
       " 'manchester city': -1.9074701350844891,\n",
       " 'post match': -1.891158531504413,\n",
       " 'napoli genoa': -1.7864006263504442,\n",
       " 'real madrid': -1.780603023352161,\n",
       " 'high school': 1.769120742266639,\n",
       " 'liverpool arsenal': -1.7488217662805263}"
      ]
     },
     "execution_count": 539,
     "metadata": {},
     "output_type": "execute_result"
    }
   ],
   "source": [
    "# Looking at the coefficient of each variable\n",
    "coef_dict = {}\n",
    "for coef, feat in zip(lr.coef_.ravel(),tv.get_feature_names()):\n",
    "    coef_dict[feat] = coef\n",
    "    \n",
    "# Sorting and viewing the top features that have the strongest influence on the predictor\n",
    "sorted_coef_dict = {k: v for k, v in sorted(coef_dict.items(), key=lambda item: abs(item[1]), reverse = True)}\n",
    "\n",
    "# Printing the top 10 features that have the strongest influence on predictions\n",
    "{K:V for (K,V) in [x for x in sorted_coef_dict.items()][:10]}"
   ]
  },
  {
   "cell_type": "code",
   "execution_count": 545,
   "metadata": {},
   "outputs": [
    {
     "data": {
      "image/png": "[encoded data removed]",
      "text/plain": [
       "<Figure size 864x720 with 1 Axes>"
      ]
     },
     "metadata": {
      "needs_background": "light"
     },
     "output_type": "display_data"
    }
   ],
   "source": [
    "# Graph of coefficients against features for easier visualization and comparison\n",
    "features = [a for a in sorted_coef_dict.keys()]\n",
    "coef =  [i for i in sorted_coef_dict.values()]\n",
    "# Plotting a bar graph for the top 10 features\n",
    "plt.figure(figsize = (12,10))\n",
    "pd.Series(coef[:15],index = features[:15]).plot.bar()\n",
    "plt.title('Coefficients against Bigrams')\n",
    "plt.ylabel('Coefficients',fontsize =13)\n",
    "plt.xlabel('Features',fontsize =13);"
   ]
  },
  {
   "cell_type": "markdown",
   "metadata": {},
   "source": [
    "Similar to the model with `CountVectorizer()`, the **match thread** bigram has the greatest influence on the logistic regression model given its large coefficients. In addition, most of the bigrams that have a strong influence on the classification power of the model comes from the soccer dataset."
   ]
  },
  {
   "cell_type": "markdown",
   "metadata": {},
   "source": [
    "### Naive Bayes Model"
   ]
  },
  {
   "cell_type": "markdown",
   "metadata": {},
   "source": [
    "The presence of labelled data also allows for the implementation of another classification technique conned the Nayes Bayes Model which assumes that the occurrence of events are independent of one another. Thus it computes the probability that an unseen document belongs to the basketball subreddit given its comprised words. Since the columns of X are integers, a `MultiNomialNB()` would be used. This model is usually implemented for its simplicity, speed and ease of use. "
   ]
  },
  {
   "cell_type": "code",
   "execution_count": 52,
   "metadata": {},
   "outputs": [],
   "source": [
    "pipe = Pipeline([\n",
    "    ('tvec',TfidfVectorizer()),\n",
    "    ('nb',MultinomialNB())\n",
    "])"
   ]
  },
  {
   "cell_type": "code",
   "execution_count": 53,
   "metadata": {
    "scrolled": false
   },
   "outputs": [
    {
     "name": "stdout",
     "output_type": "stream",
     "text": [
      "Mean Accuracy Score for Naive Bayes: 0.8351767973393178\n",
      "Best hyperparameters for Naive Bayes: {'tvec__max_df': 0.1, 'tvec__max_features': 1500, 'tvec__min_df': 2, 'tvec__ngram_range': (2, 2)}\n"
     ]
    }
   ],
   "source": [
    "pipe_params = {\n",
    "    \n",
    "    # Setting a limit of n-number of features included/vocab size\n",
    "    'tvec__max_features':[1000,1500,2000,2500,3000],\n",
    "    \n",
    "    # Setting a minimum number of times the word/token has to appear in n-documents\n",
    "    'tvec__min_df':[2,3],\n",
    "    \n",
    "    # Setting an upper threshold/max percentage of n% of documents from corpus \n",
    "    'tvec__max_df':[0.1,0.2,0.3,0.4,0.5],\n",
    "    \n",
    "    # Testing with bigrams\n",
    "    'tvec__ngram_range':[(2,2)]\n",
    "}\n",
    "gs = GridSearchCV(pipe,param_grid = pipe_params,cv = 3)\n",
    "gs.fit(X_train,y_train)\n",
    "print(f'Mean Accuracy Score for Naive Bayes: {gs.best_score_}')\n",
    "print(f'Best hyperparameters for Naive Bayes: {gs.best_params_}')"
   ]
  },
  {
   "cell_type": "code",
   "execution_count": 563,
   "metadata": {},
   "outputs": [
    {
     "name": "stdout",
     "output_type": "stream",
     "text": [
      "The accuracy score of train set: 0.8997\n",
      "The accuracy score of test set: 0.8565\n"
     ]
    }
   ],
   "source": [
    "# Accuracy scores for entire train data\n",
    "print(f'The accuracy score of train set: {round(gs.score(X_train,y_train),5)}')\n",
    "# Accuracy scores for the test data\n",
    "print(f'The accuracy score of test set: {round(gs.score(X_test,y_test),5)}')"
   ]
  },
  {
   "cell_type": "code",
   "execution_count": 564,
   "metadata": {},
   "outputs": [],
   "source": [
    "tv = TfidfVectorizer(max_df= gs.best_params_['tvec__max_df'],\n",
    "                     max_features= gs.best_params_['tvec__max_features'],\n",
    "                     min_df=gs.best_params_['tvec__min_df'],\n",
    "                     ngram_range=gs.best_params_['tvec__ngram_range'])\n",
    "X_train_tv = tv.fit_transform(X_train)\n",
    "X_test_tv = tv.transform(X_test)"
   ]
  },
  {
   "cell_type": "code",
   "execution_count": 565,
   "metadata": {},
   "outputs": [],
   "source": [
    "tv = TfidfVectorizer(max_df= gs.best_params_['tvec__max_df'],\n",
    "                     max_features= gs.best_params_['tvec__max_features'],\n",
    "                     min_df=gs.best_params_['tvec__min_df'],\n",
    "                     ngram_range=gs.best_params_['tvec__ngram_range'])\n",
    "X_train_tv = tv.fit_transform(X_train)\n",
    "X_test_tv = tv.transform(X_test)"
   ]
  },
  {
   "cell_type": "code",
   "execution_count": 566,
   "metadata": {
    "scrolled": true
   },
   "outputs": [
    {
     "name": "stdout",
     "output_type": "stream",
     "text": [
      "F1 score for Naive Bayes model: 0.90414\n"
     ]
    }
   ],
   "source": [
    "nb = MultinomialNB()\n",
    "nb.fit(X_train_tv,y_train)\n",
    "preds = nb.predict(X_test_tv)\n",
    "print(f'F1 score for Naive Bayes model: {round(f1_score(y_test,preds),5)}')"
   ]
  },
  {
   "cell_type": "markdown",
   "metadata": {},
   "source": [
    "## Conclusions and Recommendations"
   ]
  },
  {
   "cell_type": "markdown",
   "metadata": {},
   "source": [
    "**Benefits of determining important tokens:** <br>\n",
    "Based on the analysis of data collected from each subreddit, the use of `TfitVectorizer()` has given us insight on the current sentiments of the respective reddit users. The exploration of bigrams has uncover trends within each specific subgroup, namely seeking assistance with regards to the technical aspects of basketball as well as the prevalence of the **high school** bigram which could indicate a sparked interest in that particular group of consumers. Whereas within the soccer community, the high occurrence of of **post thread** and **match thread** suggest that users are more engaged in post match discussions and their interests lie in specific soccer teams. Such differing behaviours could provide an avenue for business ideas that cater specifically to a group of target consumers. Leveraging on a demand for assistance in basketball programs/clinics, sports academies could invest in advertizing their services on these platforms. Moreover, they could also extend their outreach through collaborations with schools as a more directed avenue. <br>\n",
    "Whereas for the soccer community, companies could invest in developing platforms where services such as provision of real time updates on games and soccer teams to cater to the large fanbase. Therefore, this model could provide actionable insights even for companies that are not in touch with the sports industry."
   ]
  },
  {
   "cell_type": "markdown",
   "metadata": {},
   "source": [
    "**Highly accurate predictive performance of model:**\n"
   ]
  },
  {
   "cell_type": "markdown",
   "metadata": {},
   "source": [
    "Summary of the accuracy scores from different models with their corresponding vectorizers and tuned parameters"
   ]
  },
  {
   "cell_type": "markdown",
   "metadata": {},
   "source": [
    "| Model | Normalization technique | Vectorizer | Best Parameters | Train Set Accuracy | Test Set Accuracy | F1 Score |\n",
    "| --- | --- | --- | --- | --- | --- | --- |\n",
    "|Logistic Regression|Lemmatization|CountVectorizer|max_df: 0.1, max_features: 1500, min_df: 2, ngram_range:(2,2)|0.81047|0.88407|0.88955|\n",
    "|Logistic Regression|Lemmatization|TF-IDF|max_df: 0.1, max_features: 1000, min_df: 2, ngram_range: (2, 2)|0.86492|0.83384|0.89130|   \n",
    "|Naive Bayes|Lemmatization|TF-IDF|max_df: 0.1, max_features: 1500, min_df: 2, ngram_range: (2, 2)|0.8997|0.8565|0.90414|\n"
   ]
  },
  {
   "cell_type": "markdown",
   "metadata": {},
   "source": [
    "Based on the table above, the Logistic regression model with a TF-IDF vectorizer would be the model of choice given a small margin of difference between the accuracy scores of train and test set. This is indicative of a model with low variance and a low chance of overfitting thus the model is able to generalize better to unseen data. In addition, the choice of the logistic regression over the naive bayes is due to the quantifiable influence of tokens on the output of the model. The larger the coefficients, the greater the importance of token on the output. Lastly, our model performs better than our baseline accuracy and thus would be worthwhile to implement"
   ]
  },
  {
   "cell_type": "markdown",
   "metadata": {},
   "source": [
    "**Difficulties in establishing independence between tokens**: <br>\n",
    "Since the titles and content of posts are usually correlated, models such as Linear Regression and Naive Bayes which require features to be independent would not fare well in modelling text classification problems. Since establishing independence is an assumption for both logistic regression and naive bayes, multicollinearity between features would greatly affect the performance of our model.  In addition, discussion platforms are prone to repetitive and similar content given that the body of a post is an extension of its title, and thus would further reduce the model's performance in predicting categories of future posts. The possibility of **data leakage** is also high when rows in the data are similar even if train test split was done. "
   ]
  },
  {
   "cell_type": "markdown",
   "metadata": {},
   "source": [
    "**Problems with small datasets** <br>\n",
    "The use of bigrams in our dataset significantly reduces the size of our input data and therefore our logistic regression model is very sensitive to outliers. Therefore, more data should be collected before they are fed as inputs into our model. Another way to deal with the small dataset would be to utilize the Naive Bayes model which copes well with a smaller dataset and with outliers. "
   ]
  },
  {
   "cell_type": "markdown",
   "metadata": {},
   "source": [
    "## Referrences"
   ]
  },
  {
   "cell_type": "markdown",
   "metadata": {},
   "source": [
    "- Ahmed, M. (2019, December 06). Home. Retrieved October 02, 2020, from http://in.kompass.com/e/en/article-b2b/10-profitable-business-ideas-for-sports-lovers/\n",
    "- Ajaero Tony MartinsFounder / Publisher at Profitable Venture Magazine LtdAjaero Tony Martins is an Entrepreneur. (2020, June 13). 50 Best Sports Business ideas &amp; Opportunities for 2020. Retrieved October 02, 2020, from https://www.profitableventure.com/sports-business-ideas/"
   ]
  }
 ],
 "metadata": {
  "kernelspec": {
   "display_name": "Python 3",
   "language": "python",
   "name": "python3"
  },
  "language_info": {
   "codemirror_mode": {
    "name": "ipython",
    "version": 3
   },
   "file_extension": ".py",
   "mimetype": "text/x-python",
   "name": "python",
   "nbconvert_exporter": "python",
   "pygments_lexer": "ipython3",
   "version": "3.8.3"
  }
 },
 "nbformat": 4,
 "nbformat_minor": 4
}

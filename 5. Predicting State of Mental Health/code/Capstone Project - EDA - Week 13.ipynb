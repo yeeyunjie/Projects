{
 "cells": [
  {
   "cell_type": "markdown",
   "metadata": {},
   "source": [
    "# Capstone Project: Post-Covid Mental Health Status"
   ]
  },
  {
   "cell_type": "markdown",
   "metadata": {},
   "source": [
    "## Problem Statement\n",
    "The ongoing Household Pulse Survey conducted in the States aims to measure household experiences during the coronvarius pandemic. This unprecendented spread of COVID-19 is predicted to have a long-tail effect on the mental health of people similar to the aftermath of many past natural diseases/pandemics. Moreover, the lack of mental heath literacy/awareness has discouraged people from seeking the help they need. In order to identify this susceptible group of people as well as to understand and quantify importance of factors that drive such a vulnerability/resistance to seeking mental aid, I aim to build two models to meet two different objectives. One is a binary classification **ExtraTrees Classifier model** to predict the development of avoidance behaviours with regards to seeking mental health therapy and a second **Logistic Regression** inference model to identify the top predictor features given the wide range of variables present which provides a holistic overview of a person's livelihood. Understanding these features would aid in making well-informed recommendations to better tackle the root causes of such a tendency. The performances of these models would be evaluated by **ROC-AUC** and **recall** scores. "
   ]
  },
  {
   "cell_type": "markdown",
   "metadata": {},
   "source": [
    "## Executive Summary\n",
    "Prior to COVID-19, Mental Health America(MHA) has reported an increase in the number of mental health disorders from 2017-2018 where an additional 1.5million people suffered from mental health distress. Moreover, reports have shown that these health needs are often unmet, with 60% of youths and 23.6% of adults with major depression not receiving adequate treatments even in states with highly accessible healthcare. The declaration of a national state of emergency for COVID-19 on March 13 has only exacerbated this phenomenon. Mental Health America(MHA) has reported that there is a 634% and 873% increase in the number of people who underwent online anxiety and depression screening tests respectively on the MHA portal from Janaury to September 2020. Among these respondents, 8/10 of them were scored with moderate to severe symptoms since the declaration of the covid pandemic. Therefore there is an alarming trend in the number of people developing mental health disorders.There is now an increasing need to destigmatize mental health and to provide early interventions before associated problems manifest. <br> \n",
    "\n",
    "**Direction of the project** <br>\n",
    "The goal is to build two models, one to identify respondents with the tendency to avoid seeking mental healthaid and the other to identify important predictor features that strongly correlates with such an inclination.The metrics used to evaluate the models' performances are ROC-AUC and recall scores. With these two models, I aim to provide well-informed suggestions to stateboards and mental health institutes on where to focus and channel resources to curb underlying root causes of such mental distress. Data used is collected from the Household Pulse Survey conducted by United States Census Bureau which is a holisitic questionnaire that measures social,economical and physical impact of COVID on a person's livelihood.\n",
    "\n",
    "**Findings - Data Analysis** <br>\n",
    "A logistic regression model used identified the frequency of feeling down/sad/hopeless(`DOWN` variable), frequency of feeling anxious(`ANXIOUS`), age(`TBIRTH_YEAR`) and gender(`EGENDER`) as the top few predictor variables that correlates with a resistance to seeking mental health aid(`MH_NOTGET`). <br>\n",
    "\n",
    "- #### `DOWN` and `ANXIOUS`\n",
    "There is a positive correlation with `DOWN` and `ANXIOUS` and `MH_NOTGET` where respondents who experience persistent feelings of sadness and anxieties are more likely to be passive in seeking mental therapy.\n",
    "- #### `TBIRTH_YEAR`\n",
    "There is a positive correlation between `TBIRTH_YEAR` and `MH_NOTGET` as the younger population are more susceptible to developing such an inclination as compared to the older generation.\n",
    "\n",
    "\n",
    "**Findings - Data Modeling** <br>\n",
    "An optimized ExtraTrees Classifier was selected as the final model due to its reduced bias and variance errors as compared to the other models. Based on this model, we could also re-evaluate the false positives generated where respondents exhibited signs of refusing mental help but they have indicated otherwise.<br>\n",
    "\n",
    "| Model | ROC-AUC | Recall |\n",
    "| --- | --- | --- |\n",
    "|Logistic Regression|0.790|0.802|\n",
    "|ExtraTrees Classifier|0.770|0.856|"
   ]
  },
  {
   "cell_type": "markdown",
   "metadata": {},
   "source": [
    "## Risk and assumptions"
   ]
  },
  {
   "cell_type": "markdown",
   "metadata": {},
   "source": [
    "The dataset consists of a set of questionaries which are heavily subjected to response bias given that these survey questions are answered voluntarily. Therefore, the responses are highly influenced by experimental conditions such as phrasing of questions in surveys, length of survey and intentions of a respondent. Moreover, since this is an online survey, this would disregard respondents such as those who lack access to internet services and thus would not be reflective of these groups of people. However, collection of data from such an online avenue would allow for a quicker collation of results especially given that there is an existing increase in people seeking mental help online and thus appropriate interventions can be implemented as soon as possible. Lastly, models built would not allow help to predict future occurrences but also to re-assess the sentiments of the current respondents' which could potentially identify those who are unaware of an existing mental condition."
   ]
  },
  {
   "cell_type": "markdown",
   "metadata": {},
   "source": [
    "### Contents\n",
    "\n",
    "- [Data Visualization](#Data-Visualization)\n",
    "- [Data Cleaning](#Data-Cleaning)\n",
    "- [Dropping unnecessary columns](#Dropping-unnecessary-columns)\n",
    "- [Impute missing values](#Impute-missing-values)\n",
    "- [Target variable](#Target-variable)\n",
    "- [References](#References)"
   ]
  },
  {
   "cell_type": "code",
   "execution_count": 139,
   "metadata": {},
   "outputs": [],
   "source": [
    "# import libraries\n",
    "import pandas as pd\n",
    "import numpy as np\n",
    "import scipy.stats as stats\n",
    "import matplotlib.pyplot as plt\n",
    "import seaborn as sns\n",
    "import datetime as dt\n",
    "\n",
    "import warnings\n",
    "warnings.filterwarnings('ignore')\n",
    "%matplotlib inline"
   ]
  },
  {
   "cell_type": "markdown",
   "metadata": {},
   "source": [
    "### Data Visualization"
   ]
  },
  {
   "cell_type": "code",
   "execution_count": 140,
   "metadata": {},
   "outputs": [],
   "source": [
    "# Reading the csv file\n",
    "df = pd.read_csv('../datasets/pulse2020_puf_13.csv')"
   ]
  },
  {
   "cell_type": "code",
   "execution_count": 141,
   "metadata": {},
   "outputs": [
    {
     "name": "stdout",
     "output_type": "stream",
     "text": [
      "Rows: 109051\n",
      "Columns: 188\n"
     ]
    }
   ],
   "source": [
    "# Number of columns and rows in data\n",
    "print(f'Rows: {df.shape[0]}')\n",
    "print(f'Columns: {df.shape[1]}')"
   ]
  },
  {
   "cell_type": "code",
   "execution_count": 142,
   "metadata": {
    "scrolled": false
   },
   "outputs": [
    {
     "data": {
      "text/html": [
       "<div>\n",
       "<style scoped>\n",
       "    .dataframe tbody tr th:only-of-type {\n",
       "        vertical-align: middle;\n",
       "    }\n",
       "\n",
       "    .dataframe tbody tr th {\n",
       "        vertical-align: top;\n",
       "    }\n",
       "\n",
       "    .dataframe thead th {\n",
       "        text-align: right;\n",
       "    }\n",
       "</style>\n",
       "<table border=\"1\" class=\"dataframe\">\n",
       "  <thead>\n",
       "    <tr style=\"text-align: right;\">\n",
       "      <th></th>\n",
       "      <th>SCRAM</th>\n",
       "      <th>WEEK</th>\n",
       "      <th>EST_ST</th>\n",
       "      <th>EST_MSA</th>\n",
       "      <th>REGION</th>\n",
       "      <th>HWEIGHT</th>\n",
       "      <th>PWEIGHT</th>\n",
       "      <th>TBIRTH_YEAR</th>\n",
       "      <th>ABIRTH_YEAR</th>\n",
       "      <th>EGENDER</th>\n",
       "      <th>...</th>\n",
       "      <th>PSWHYCHG1</th>\n",
       "      <th>PSWHYCHG2</th>\n",
       "      <th>PSWHYCHG3</th>\n",
       "      <th>PSWHYCHG4</th>\n",
       "      <th>PSWHYCHG5</th>\n",
       "      <th>PSWHYCHG6</th>\n",
       "      <th>PSWHYCHG7</th>\n",
       "      <th>PSWHYCHG8</th>\n",
       "      <th>PSWHYCHG9</th>\n",
       "      <th>INCOME</th>\n",
       "    </tr>\n",
       "  </thead>\n",
       "  <tbody>\n",
       "    <tr>\n",
       "      <th>0</th>\n",
       "      <td>V130000001S12010403200123</td>\n",
       "      <td>13</td>\n",
       "      <td>48</td>\n",
       "      <td>19100.0</td>\n",
       "      <td>2</td>\n",
       "      <td>1276.886650</td>\n",
       "      <td>1278.107099</td>\n",
       "      <td>1989</td>\n",
       "      <td>2</td>\n",
       "      <td>1</td>\n",
       "      <td>...</td>\n",
       "      <td>-88</td>\n",
       "      <td>-88</td>\n",
       "      <td>-88</td>\n",
       "      <td>-88</td>\n",
       "      <td>-88</td>\n",
       "      <td>-88</td>\n",
       "      <td>-88</td>\n",
       "      <td>-88</td>\n",
       "      <td>-88</td>\n",
       "      <td>2</td>\n",
       "    </tr>\n",
       "    <tr>\n",
       "      <th>1</th>\n",
       "      <td>V130000001S34010154300113</td>\n",
       "      <td>13</td>\n",
       "      <td>1</td>\n",
       "      <td>NaN</td>\n",
       "      <td>2</td>\n",
       "      <td>1195.578846</td>\n",
       "      <td>2323.078960</td>\n",
       "      <td>1988</td>\n",
       "      <td>2</td>\n",
       "      <td>2</td>\n",
       "      <td>...</td>\n",
       "      <td>-99</td>\n",
       "      <td>-99</td>\n",
       "      <td>-99</td>\n",
       "      <td>1</td>\n",
       "      <td>1</td>\n",
       "      <td>-99</td>\n",
       "      <td>1</td>\n",
       "      <td>-99</td>\n",
       "      <td>1</td>\n",
       "      <td>6</td>\n",
       "    </tr>\n",
       "    <tr>\n",
       "      <th>2</th>\n",
       "      <td>V130000001S37010241600123</td>\n",
       "      <td>13</td>\n",
       "      <td>1</td>\n",
       "      <td>NaN</td>\n",
       "      <td>2</td>\n",
       "      <td>1124.648326</td>\n",
       "      <td>1092.628425</td>\n",
       "      <td>1969</td>\n",
       "      <td>2</td>\n",
       "      <td>1</td>\n",
       "      <td>...</td>\n",
       "      <td>-88</td>\n",
       "      <td>-88</td>\n",
       "      <td>-88</td>\n",
       "      <td>-88</td>\n",
       "      <td>-88</td>\n",
       "      <td>-88</td>\n",
       "      <td>-88</td>\n",
       "      <td>-88</td>\n",
       "      <td>-88</td>\n",
       "      <td>7</td>\n",
       "    </tr>\n",
       "    <tr>\n",
       "      <th>3</th>\n",
       "      <td>V130000001S37010645600123</td>\n",
       "      <td>13</td>\n",
       "      <td>1</td>\n",
       "      <td>NaN</td>\n",
       "      <td>2</td>\n",
       "      <td>517.598058</td>\n",
       "      <td>1005.723011</td>\n",
       "      <td>1947</td>\n",
       "      <td>2</td>\n",
       "      <td>1</td>\n",
       "      <td>...</td>\n",
       "      <td>-88</td>\n",
       "      <td>-88</td>\n",
       "      <td>-88</td>\n",
       "      <td>-88</td>\n",
       "      <td>-88</td>\n",
       "      <td>-88</td>\n",
       "      <td>-88</td>\n",
       "      <td>-88</td>\n",
       "      <td>-88</td>\n",
       "      <td>6</td>\n",
       "    </tr>\n",
       "    <tr>\n",
       "      <th>4</th>\n",
       "      <td>V130000001S70011963510113</td>\n",
       "      <td>13</td>\n",
       "      <td>1</td>\n",
       "      <td>NaN</td>\n",
       "      <td>2</td>\n",
       "      <td>432.646602</td>\n",
       "      <td>840.657411</td>\n",
       "      <td>1968</td>\n",
       "      <td>2</td>\n",
       "      <td>2</td>\n",
       "      <td>...</td>\n",
       "      <td>-88</td>\n",
       "      <td>-88</td>\n",
       "      <td>-88</td>\n",
       "      <td>-88</td>\n",
       "      <td>-88</td>\n",
       "      <td>-88</td>\n",
       "      <td>-88</td>\n",
       "      <td>-88</td>\n",
       "      <td>-88</td>\n",
       "      <td>-88</td>\n",
       "    </tr>\n",
       "  </tbody>\n",
       "</table>\n",
       "<p>5 rows × 188 columns</p>\n",
       "</div>"
      ],
      "text/plain": [
       "                       SCRAM  WEEK  EST_ST  EST_MSA  REGION      HWEIGHT  \\\n",
       "0  V130000001S12010403200123    13      48  19100.0       2  1276.886650   \n",
       "1  V130000001S34010154300113    13       1      NaN       2  1195.578846   \n",
       "2  V130000001S37010241600123    13       1      NaN       2  1124.648326   \n",
       "3  V130000001S37010645600123    13       1      NaN       2   517.598058   \n",
       "4  V130000001S70011963510113    13       1      NaN       2   432.646602   \n",
       "\n",
       "       PWEIGHT  TBIRTH_YEAR  ABIRTH_YEAR  EGENDER  ...  PSWHYCHG1  PSWHYCHG2  \\\n",
       "0  1278.107099         1989            2        1  ...        -88        -88   \n",
       "1  2323.078960         1988            2        2  ...        -99        -99   \n",
       "2  1092.628425         1969            2        1  ...        -88        -88   \n",
       "3  1005.723011         1947            2        1  ...        -88        -88   \n",
       "4   840.657411         1968            2        2  ...        -88        -88   \n",
       "\n",
       "   PSWHYCHG3  PSWHYCHG4  PSWHYCHG5  PSWHYCHG6  PSWHYCHG7  PSWHYCHG8  \\\n",
       "0        -88        -88        -88        -88        -88        -88   \n",
       "1        -99          1          1        -99          1        -99   \n",
       "2        -88        -88        -88        -88        -88        -88   \n",
       "3        -88        -88        -88        -88        -88        -88   \n",
       "4        -88        -88        -88        -88        -88        -88   \n",
       "\n",
       "   PSWHYCHG9  INCOME  \n",
       "0        -88       2  \n",
       "1          1       6  \n",
       "2        -88       7  \n",
       "3        -88       6  \n",
       "4        -88     -88  \n",
       "\n",
       "[5 rows x 188 columns]"
      ]
     },
     "execution_count": 142,
     "metadata": {},
     "output_type": "execute_result"
    }
   ],
   "source": [
    "# Looking at the first 5 rows of data\n",
    "df.head()"
   ]
  },
  {
   "cell_type": "code",
   "execution_count": 143,
   "metadata": {
    "scrolled": true
   },
   "outputs": [
    {
     "data": {
      "text/html": [
       "<div>\n",
       "<style scoped>\n",
       "    .dataframe tbody tr th:only-of-type {\n",
       "        vertical-align: middle;\n",
       "    }\n",
       "\n",
       "    .dataframe tbody tr th {\n",
       "        vertical-align: top;\n",
       "    }\n",
       "\n",
       "    .dataframe thead th {\n",
       "        text-align: right;\n",
       "    }\n",
       "</style>\n",
       "<table border=\"1\" class=\"dataframe\">\n",
       "  <thead>\n",
       "    <tr style=\"text-align: right;\">\n",
       "      <th></th>\n",
       "      <th>WEEK</th>\n",
       "      <th>EST_ST</th>\n",
       "      <th>EST_MSA</th>\n",
       "      <th>REGION</th>\n",
       "      <th>HWEIGHT</th>\n",
       "      <th>PWEIGHT</th>\n",
       "      <th>TBIRTH_YEAR</th>\n",
       "      <th>ABIRTH_YEAR</th>\n",
       "      <th>EGENDER</th>\n",
       "      <th>AGENDER</th>\n",
       "      <th>...</th>\n",
       "      <th>PSWHYCHG1</th>\n",
       "      <th>PSWHYCHG2</th>\n",
       "      <th>PSWHYCHG3</th>\n",
       "      <th>PSWHYCHG4</th>\n",
       "      <th>PSWHYCHG5</th>\n",
       "      <th>PSWHYCHG6</th>\n",
       "      <th>PSWHYCHG7</th>\n",
       "      <th>PSWHYCHG8</th>\n",
       "      <th>PSWHYCHG9</th>\n",
       "      <th>INCOME</th>\n",
       "    </tr>\n",
       "  </thead>\n",
       "  <tbody>\n",
       "    <tr>\n",
       "      <th>count</th>\n",
       "      <td>109051.0</td>\n",
       "      <td>109051.000000</td>\n",
       "      <td>35244.000000</td>\n",
       "      <td>109051.000000</td>\n",
       "      <td>109051.000000</td>\n",
       "      <td>109051.000000</td>\n",
       "      <td>109051.000000</td>\n",
       "      <td>109051.000000</td>\n",
       "      <td>109051.000000</td>\n",
       "      <td>109051.000000</td>\n",
       "      <td>...</td>\n",
       "      <td>109051.000000</td>\n",
       "      <td>109051.000000</td>\n",
       "      <td>109051.000000</td>\n",
       "      <td>109051.000000</td>\n",
       "      <td>109051.000000</td>\n",
       "      <td>109051.000000</td>\n",
       "      <td>109051.00000</td>\n",
       "      <td>109051.000000</td>\n",
       "      <td>109051.000000</td>\n",
       "      <td>109051.000000</td>\n",
       "    </tr>\n",
       "    <tr>\n",
       "      <th>mean</th>\n",
       "      <td>13.0</td>\n",
       "      <td>27.699242</td>\n",
       "      <td>31792.698899</td>\n",
       "      <td>2.685239</td>\n",
       "      <td>1114.342647</td>\n",
       "      <td>2284.902624</td>\n",
       "      <td>1969.251974</td>\n",
       "      <td>1.991793</td>\n",
       "      <td>1.587753</td>\n",
       "      <td>1.993095</td>\n",
       "      <td>...</td>\n",
       "      <td>-84.786559</td>\n",
       "      <td>-89.458684</td>\n",
       "      <td>-88.606789</td>\n",
       "      <td>-81.777875</td>\n",
       "      <td>-88.182217</td>\n",
       "      <td>-87.666862</td>\n",
       "      <td>-86.22075</td>\n",
       "      <td>-86.225335</td>\n",
       "      <td>-88.262914</td>\n",
       "      <td>-16.580215</td>\n",
       "    </tr>\n",
       "    <tr>\n",
       "      <th>std</th>\n",
       "      <td>0.0</td>\n",
       "      <td>16.409699</td>\n",
       "      <td>11514.840187</td>\n",
       "      <td>1.079868</td>\n",
       "      <td>1755.280822</td>\n",
       "      <td>4156.272497</td>\n",
       "      <td>15.953085</td>\n",
       "      <td>0.090221</td>\n",
       "      <td>0.492242</td>\n",
       "      <td>0.082809</td>\n",
       "      <td>...</td>\n",
       "      <td>19.677547</td>\n",
       "      <td>5.565538</td>\n",
       "      <td>9.959077</td>\n",
       "      <td>24.361783</td>\n",
       "      <td>11.516732</td>\n",
       "      <td>13.143646</td>\n",
       "      <td>16.80769</td>\n",
       "      <td>16.797533</td>\n",
       "      <td>11.238543</td>\n",
       "      <td>39.391120</td>\n",
       "    </tr>\n",
       "    <tr>\n",
       "      <th>min</th>\n",
       "      <td>13.0</td>\n",
       "      <td>1.000000</td>\n",
       "      <td>12060.000000</td>\n",
       "      <td>1.000000</td>\n",
       "      <td>19.994057</td>\n",
       "      <td>19.635651</td>\n",
       "      <td>1932.000000</td>\n",
       "      <td>1.000000</td>\n",
       "      <td>1.000000</td>\n",
       "      <td>1.000000</td>\n",
       "      <td>...</td>\n",
       "      <td>-99.000000</td>\n",
       "      <td>-99.000000</td>\n",
       "      <td>-99.000000</td>\n",
       "      <td>-99.000000</td>\n",
       "      <td>-99.000000</td>\n",
       "      <td>-99.000000</td>\n",
       "      <td>-99.00000</td>\n",
       "      <td>-99.000000</td>\n",
       "      <td>-99.000000</td>\n",
       "      <td>-99.000000</td>\n",
       "    </tr>\n",
       "    <tr>\n",
       "      <th>25%</th>\n",
       "      <td>13.0</td>\n",
       "      <td>12.000000</td>\n",
       "      <td>19100.000000</td>\n",
       "      <td>2.000000</td>\n",
       "      <td>332.761427</td>\n",
       "      <td>555.814095</td>\n",
       "      <td>1956.000000</td>\n",
       "      <td>2.000000</td>\n",
       "      <td>1.000000</td>\n",
       "      <td>2.000000</td>\n",
       "      <td>...</td>\n",
       "      <td>-88.000000</td>\n",
       "      <td>-88.000000</td>\n",
       "      <td>-88.000000</td>\n",
       "      <td>-88.000000</td>\n",
       "      <td>-88.000000</td>\n",
       "      <td>-88.000000</td>\n",
       "      <td>-88.00000</td>\n",
       "      <td>-88.000000</td>\n",
       "      <td>-88.000000</td>\n",
       "      <td>1.000000</td>\n",
       "    </tr>\n",
       "    <tr>\n",
       "      <th>50%</th>\n",
       "      <td>13.0</td>\n",
       "      <td>27.000000</td>\n",
       "      <td>35620.000000</td>\n",
       "      <td>3.000000</td>\n",
       "      <td>604.820254</td>\n",
       "      <td>1125.616392</td>\n",
       "      <td>1969.000000</td>\n",
       "      <td>2.000000</td>\n",
       "      <td>2.000000</td>\n",
       "      <td>2.000000</td>\n",
       "      <td>...</td>\n",
       "      <td>-88.000000</td>\n",
       "      <td>-88.000000</td>\n",
       "      <td>-88.000000</td>\n",
       "      <td>-88.000000</td>\n",
       "      <td>-88.000000</td>\n",
       "      <td>-88.000000</td>\n",
       "      <td>-88.00000</td>\n",
       "      <td>-88.000000</td>\n",
       "      <td>-88.000000</td>\n",
       "      <td>4.000000</td>\n",
       "    </tr>\n",
       "    <tr>\n",
       "      <th>75%</th>\n",
       "      <td>13.0</td>\n",
       "      <td>42.000000</td>\n",
       "      <td>41860.000000</td>\n",
       "      <td>4.000000</td>\n",
       "      <td>1179.949186</td>\n",
       "      <td>2348.620985</td>\n",
       "      <td>1982.000000</td>\n",
       "      <td>2.000000</td>\n",
       "      <td>2.000000</td>\n",
       "      <td>2.000000</td>\n",
       "      <td>...</td>\n",
       "      <td>-88.000000</td>\n",
       "      <td>-88.000000</td>\n",
       "      <td>-88.000000</td>\n",
       "      <td>-88.000000</td>\n",
       "      <td>-88.000000</td>\n",
       "      <td>-88.000000</td>\n",
       "      <td>-88.00000</td>\n",
       "      <td>-88.000000</td>\n",
       "      <td>-88.000000</td>\n",
       "      <td>6.000000</td>\n",
       "    </tr>\n",
       "    <tr>\n",
       "      <th>max</th>\n",
       "      <td>13.0</td>\n",
       "      <td>56.000000</td>\n",
       "      <td>47900.000000</td>\n",
       "      <td>4.000000</td>\n",
       "      <td>110618.302480</td>\n",
       "      <td>228944.991150</td>\n",
       "      <td>2002.000000</td>\n",
       "      <td>2.000000</td>\n",
       "      <td>2.000000</td>\n",
       "      <td>2.000000</td>\n",
       "      <td>...</td>\n",
       "      <td>1.000000</td>\n",
       "      <td>1.000000</td>\n",
       "      <td>1.000000</td>\n",
       "      <td>1.000000</td>\n",
       "      <td>1.000000</td>\n",
       "      <td>1.000000</td>\n",
       "      <td>1.00000</td>\n",
       "      <td>1.000000</td>\n",
       "      <td>1.000000</td>\n",
       "      <td>8.000000</td>\n",
       "    </tr>\n",
       "  </tbody>\n",
       "</table>\n",
       "<p>8 rows × 187 columns</p>\n",
       "</div>"
      ],
      "text/plain": [
       "           WEEK         EST_ST       EST_MSA         REGION        HWEIGHT  \\\n",
       "count  109051.0  109051.000000  35244.000000  109051.000000  109051.000000   \n",
       "mean       13.0      27.699242  31792.698899       2.685239    1114.342647   \n",
       "std         0.0      16.409699  11514.840187       1.079868    1755.280822   \n",
       "min        13.0       1.000000  12060.000000       1.000000      19.994057   \n",
       "25%        13.0      12.000000  19100.000000       2.000000     332.761427   \n",
       "50%        13.0      27.000000  35620.000000       3.000000     604.820254   \n",
       "75%        13.0      42.000000  41860.000000       4.000000    1179.949186   \n",
       "max        13.0      56.000000  47900.000000       4.000000  110618.302480   \n",
       "\n",
       "             PWEIGHT    TBIRTH_YEAR    ABIRTH_YEAR        EGENDER  \\\n",
       "count  109051.000000  109051.000000  109051.000000  109051.000000   \n",
       "mean     2284.902624    1969.251974       1.991793       1.587753   \n",
       "std      4156.272497      15.953085       0.090221       0.492242   \n",
       "min        19.635651    1932.000000       1.000000       1.000000   \n",
       "25%       555.814095    1956.000000       2.000000       1.000000   \n",
       "50%      1125.616392    1969.000000       2.000000       2.000000   \n",
       "75%      2348.620985    1982.000000       2.000000       2.000000   \n",
       "max    228944.991150    2002.000000       2.000000       2.000000   \n",
       "\n",
       "             AGENDER  ...      PSWHYCHG1      PSWHYCHG2      PSWHYCHG3  \\\n",
       "count  109051.000000  ...  109051.000000  109051.000000  109051.000000   \n",
       "mean        1.993095  ...     -84.786559     -89.458684     -88.606789   \n",
       "std         0.082809  ...      19.677547       5.565538       9.959077   \n",
       "min         1.000000  ...     -99.000000     -99.000000     -99.000000   \n",
       "25%         2.000000  ...     -88.000000     -88.000000     -88.000000   \n",
       "50%         2.000000  ...     -88.000000     -88.000000     -88.000000   \n",
       "75%         2.000000  ...     -88.000000     -88.000000     -88.000000   \n",
       "max         2.000000  ...       1.000000       1.000000       1.000000   \n",
       "\n",
       "           PSWHYCHG4      PSWHYCHG5      PSWHYCHG6     PSWHYCHG7  \\\n",
       "count  109051.000000  109051.000000  109051.000000  109051.00000   \n",
       "mean      -81.777875     -88.182217     -87.666862     -86.22075   \n",
       "std        24.361783      11.516732      13.143646      16.80769   \n",
       "min       -99.000000     -99.000000     -99.000000     -99.00000   \n",
       "25%       -88.000000     -88.000000     -88.000000     -88.00000   \n",
       "50%       -88.000000     -88.000000     -88.000000     -88.00000   \n",
       "75%       -88.000000     -88.000000     -88.000000     -88.00000   \n",
       "max         1.000000       1.000000       1.000000       1.00000   \n",
       "\n",
       "           PSWHYCHG8      PSWHYCHG9         INCOME  \n",
       "count  109051.000000  109051.000000  109051.000000  \n",
       "mean      -86.225335     -88.262914     -16.580215  \n",
       "std        16.797533      11.238543      39.391120  \n",
       "min       -99.000000     -99.000000     -99.000000  \n",
       "25%       -88.000000     -88.000000       1.000000  \n",
       "50%       -88.000000     -88.000000       4.000000  \n",
       "75%       -88.000000     -88.000000       6.000000  \n",
       "max         1.000000       1.000000       8.000000  \n",
       "\n",
       "[8 rows x 187 columns]"
      ]
     },
     "execution_count": 143,
     "metadata": {},
     "output_type": "execute_result"
    }
   ],
   "source": [
    "# Statistical summary of features\n",
    "df.describe()"
   ]
  },
  {
   "cell_type": "markdown",
   "metadata": {},
   "source": [
    "### Data Cleaning"
   ]
  },
  {
   "cell_type": "code",
   "execution_count": 144,
   "metadata": {},
   "outputs": [
    {
     "data": {
      "text/html": [
       "<div>\n",
       "<style scoped>\n",
       "    .dataframe tbody tr th:only-of-type {\n",
       "        vertical-align: middle;\n",
       "    }\n",
       "\n",
       "    .dataframe tbody tr th {\n",
       "        vertical-align: top;\n",
       "    }\n",
       "\n",
       "    .dataframe thead th {\n",
       "        text-align: right;\n",
       "    }\n",
       "</style>\n",
       "<table border=\"1\" class=\"dataframe\">\n",
       "  <thead>\n",
       "    <tr style=\"text-align: right;\">\n",
       "      <th></th>\n",
       "      <th>SCRAM</th>\n",
       "      <th>WEEK</th>\n",
       "      <th>EST_ST</th>\n",
       "      <th>EST_MSA</th>\n",
       "      <th>REGION</th>\n",
       "      <th>HWEIGHT</th>\n",
       "      <th>PWEIGHT</th>\n",
       "      <th>TBIRTH_YEAR</th>\n",
       "      <th>ABIRTH_YEAR</th>\n",
       "      <th>EGENDER</th>\n",
       "      <th>...</th>\n",
       "      <th>PSWHYCHG1</th>\n",
       "      <th>PSWHYCHG2</th>\n",
       "      <th>PSWHYCHG3</th>\n",
       "      <th>PSWHYCHG4</th>\n",
       "      <th>PSWHYCHG5</th>\n",
       "      <th>PSWHYCHG6</th>\n",
       "      <th>PSWHYCHG7</th>\n",
       "      <th>PSWHYCHG8</th>\n",
       "      <th>PSWHYCHG9</th>\n",
       "      <th>INCOME</th>\n",
       "    </tr>\n",
       "  </thead>\n",
       "  <tbody>\n",
       "  </tbody>\n",
       "</table>\n",
       "<p>0 rows × 188 columns</p>\n",
       "</div>"
      ],
      "text/plain": [
       "Empty DataFrame\n",
       "Columns: [SCRAM, WEEK, EST_ST, EST_MSA, REGION, HWEIGHT, PWEIGHT, TBIRTH_YEAR, ABIRTH_YEAR, EGENDER, AGENDER, RHISPANIC, AHISPANIC, RRACE, ARACE, EEDUC, AEDUC, MS, THHLD_NUMPER, AHHLD_NUMPER, THHLD_NUMKID, AHHLD_NUMKID, THHLD_NUMADLT, WRKLOSS, EXPCTLOSS, ANYWORK, KINDWORK, RSNNOWRK, TW_START, UNEMPPAY, UI_APPLY, UI_RECV, TUI_NUMPER, SSA_RECV, SSA_APPLY, SSAPGM1, SSAPGM2, SSAPGM3, SSAPGM4, SSAPGM5, SSALIKELY, SSAEXPCT1, SSAEXPCT2, SSAEXPCT3, SSAEXPCT4, SSAEXPCT5, SSADECISN, EXPNS_DIF, CHNGHOW1, CHNGHOW2, CHNGHOW3, CHNGHOW4, CHNGHOW5, CHNGHOW6, CHNGHOW7, CHNGHOW8, CHNGHOW9, CHNGHOW10, CHNGHOW11, CHNGHOW12, WHYCHNGD1, WHYCHNGD2, WHYCHNGD3, WHYCHNGD4, WHYCHNGD5, WHYCHNGD6, WHYCHNGD7, WHYCHNGD8, WHYCHNGD9, WHYCHNGD10, WHYCHNGD11, WHYCHNGD12, WHYCHNGD13, SPNDSRC1, SPNDSRC2, SPNDSRC3, SPNDSRC4, SPNDSRC5, SPNDSRC6, SPNDSRC7, SPNDSRC8, FEWRTRIPS, FEWRTRANS, PLNDTRIPS, CNCLDTRPS, PRIFOODSUF, CURFOODSUF, CHILDFOOD, FOODSUFRSN1, FOODSUFRSN2, FOODSUFRSN3, FOODSUFRSN4, FOODSUFRSN5, FREEFOOD, WHEREFREE1, WHEREFREE2, WHEREFREE3, WHEREFREE4, WHEREFREE5, WHEREFREE6, ...]\n",
       "Index: []\n",
       "\n",
       "[0 rows x 188 columns]"
      ]
     },
     "execution_count": 144,
     "metadata": {},
     "output_type": "execute_result"
    }
   ],
   "source": [
    "# Check for duplicates\n",
    "df[df.duplicated()]"
   ]
  },
  {
   "cell_type": "code",
   "execution_count": 145,
   "metadata": {
    "scrolled": false
   },
   "outputs": [
    {
     "data": {
      "text/plain": [
       "Index(['EST_MSA'], dtype='object')"
      ]
     },
     "execution_count": 145,
     "metadata": {},
     "output_type": "execute_result"
    }
   ],
   "source": [
    "# Checking for columns with null values\n",
    "null_columns = df.columns[df.isnull().any()]\n",
    "null_columns"
   ]
  },
  {
   "cell_type": "code",
   "execution_count": 146,
   "metadata": {
    "scrolled": true
   },
   "outputs": [
    {
     "data": {
      "text/plain": [
       "EST_MSA    67.681177\n",
       "dtype: float64"
      ]
     },
     "execution_count": 146,
     "metadata": {},
     "output_type": "execute_result"
    }
   ],
   "source": [
    "# Displaying percentage of null values in EST_MSA columns\n",
    "df[null_columns].isnull().sum()/len(df) * 100"
   ]
  },
  {
   "cell_type": "markdown",
   "metadata": {},
   "source": [
    "Since responses -88 and -99 represent missing values, they would be grouped together and replaced with null instead."
   ]
  },
  {
   "cell_type": "code",
   "execution_count": 147,
   "metadata": {
    "scrolled": true
   },
   "outputs": [],
   "source": [
    "# Converting all missing values to np.nan\n",
    "for col in df.columns:\n",
    "    try:\n",
    "        df[col] = df[col].map(lambda x: np.nan if (x == -88) | (x == -99) else x)\n",
    "    except ValueError:\n",
    "        print(f'{col} cannot be converted to null values')"
   ]
  },
  {
   "cell_type": "code",
   "execution_count": 148,
   "metadata": {},
   "outputs": [
    {
     "data": {
      "text/plain": [
       "Index(['EST_MSA', 'MS', 'WRKLOSS', 'EXPCTLOSS', 'ANYWORK', 'KINDWORK',\n",
       "       'RSNNOWRK', 'TW_START', 'UNEMPPAY', 'UI_APPLY',\n",
       "       ...\n",
       "       'PSWHYCHG1', 'PSWHYCHG2', 'PSWHYCHG3', 'PSWHYCHG4', 'PSWHYCHG5',\n",
       "       'PSWHYCHG6', 'PSWHYCHG7', 'PSWHYCHG8', 'PSWHYCHG9', 'INCOME'],\n",
       "      dtype='object', length=165)"
      ]
     },
     "execution_count": 148,
     "metadata": {},
     "output_type": "execute_result"
    }
   ],
   "source": [
    "# Checking for columns with null values\n",
    "null_columns = df.columns[df.isnull().any()]\n",
    "null_columns"
   ]
  },
  {
   "cell_type": "code",
   "execution_count": 149,
   "metadata": {
    "scrolled": true
   },
   "outputs": [
    {
     "data": {
      "text/plain": [
       "{'SNAPMNTH9': 100.0,\n",
       " 'SNAPMNTH10': 100.0,\n",
       " 'SNAPMNTH11': 100.0,\n",
       " 'SNAPMNTH12': 100.0,\n",
       " 'WHEREFREE5': 99.9138017991582,\n",
       " 'SSAPGM3': 99.8771217136936,\n",
       " 'PSWHYCHG2': 99.80834655344746,\n",
       " 'SSAEXPCT3': 99.79367451926163,\n",
       " 'WHEREFREE3': 99.77808548293918,\n",
       " 'PSCHNG5': 99.77258347011949,\n",
       " 'INTRNT3': 99.74415640388442,\n",
       " 'SSAPGM4': 99.71939734619582,\n",
       " 'COMP3': 99.68913627568752,\n",
       " 'PSCHNG6': 99.55800497015159,\n",
       " 'INTRNT1': 99.51949088041376,\n",
       " 'PSCHNG7': 99.51123786118423,\n",
       " 'WHYCHNGD6': 99.37735554923843,\n",
       " 'SSAPGM2': 99.36360051718921,\n",
       " 'SSAPGM1': 99.22696719883358,\n",
       " 'SSAPGM5': 99.22421619242373,\n",
       " 'SSAEXPCT4': 99.08024685697518,\n",
       " 'PSWHYCHG3': 98.95645156853216,\n",
       " 'WHEREFREE4': 98.86841936341712,\n",
       " 'SSAEXPCT2': 98.83449028436236,\n",
       " 'WHEREFREE6': 98.81615024163007,\n",
       " 'PSWHYCHG9': 98.61257576730154,\n",
       " 'PSWHYCHG5': 98.53187957927942,\n",
       " 'WHYCHNGD12': 98.48236146390221,\n",
       " 'WHEREFREE7': 98.31179906649183,\n",
       " 'FOODSUFRSN4': 98.2980440344426,\n",
       " 'WHEREFREE2': 98.2742019788906,\n",
       " 'WHEREFREE1': 98.2622809511146,\n",
       " 'PSPLANS5': 98.22193285710355,\n",
       " 'SSAEXPCT5': 98.16782973104327,\n",
       " 'SSAEXPCT1': 98.13756866053498,\n",
       " 'PSWHYCHG6': 98.0165243785018,\n",
       " 'PSCHNG4': 97.9734252780809,\n",
       " 'WHYCHNGD8': 97.80836489349021,\n",
       " 'TEACH5': 97.79094185289452,\n",
       " 'EVICT': 97.73958973324409,\n",
       " 'PSPLANS6': 97.6799845943641,\n",
       " 'ENROLL2': 97.17379941495264,\n",
       " 'TEACH3': 97.16646339785972,\n",
       " 'PSPLANS1': 97.11511127820927,\n",
       " 'FORCLOSE': 97.11327727393605,\n",
       " 'CHNGHOW11': 97.05550613932931,\n",
       " 'FOODSUFRSN2': 96.61351110948088,\n",
       " 'PSWHYCHG8': 96.57499701974305,\n",
       " 'SNAPMNTH1': 96.57224601333321,\n",
       " 'TEACH4': 96.57224601333321,\n",
       " 'PSWHYCHG7': 96.57041200905998,\n",
       " 'SNAPMNTH2': 96.51539188086308,\n",
       " 'CHNGHOW5': 96.35766751336531,\n",
       " 'PSPLANS2': 96.11649595143557,\n",
       " 'PSPLANS4': 96.09540490229342,\n",
       " 'SNAPMNTH3': 96.03671676555007,\n",
       " 'WHYCHNGD13': 95.7817901715711,\n",
       " 'SNAPMNTH4': 95.60297475493118,\n",
       " 'SPNDSRC8': 95.55070563314413,\n",
       " 'WHYCHNGD10': 95.54703762459766,\n",
       " 'SPNDSRC7': 95.52594657545552,\n",
       " 'SNAPMNTH5': 95.29486203702855,\n",
       " 'WHYCHNGD4': 95.15180970371661,\n",
       " 'PSWHYCHG1': 95.13622066739416,\n",
       " 'SNAPMNTH6': 95.07294751996773,\n",
       " 'SNAPMNTH8': 94.97024328066685,\n",
       " 'SNAPMNTH7': 94.93539719947547,\n",
       " 'TEACH1': 94.75199677215248,\n",
       " 'PSCHNG1': 94.67863660122327,\n",
       " 'PSCHNG2': 94.01564405645065,\n",
       " 'WHYCHNGD2': 93.36457253945402,\n",
       " 'ENROLL3': 92.86939138568194,\n",
       " 'CHNGHOW3': 92.7089160117743,\n",
       " 'SPNDSRC4': 92.43381537078982,\n",
       " 'PSWHYCHG4': 92.12753665716042,\n",
       " 'PSPLANS3': 91.74239575978213,\n",
       " 'PSCHNG3': 91.59750942219695,\n",
       " 'CHNGHOW10': 90.963860945796,\n",
       " 'FOODSUFRSN3': 90.78137752060962,\n",
       " 'CHNGHOW7': 90.3889006061384,\n",
       " 'SPNDSRC5': 89.69197898231103,\n",
       " 'COMP1': 89.37928125372532,\n",
       " 'FOODSUFRSN1': 88.01478207444224,\n",
       " 'CHILDFOOD': 87.98635500820717,\n",
       " 'FOODSUFRSN5': 87.0262537711713,\n",
       " 'WHYCHNGD7': 86.5136495768035,\n",
       " 'TEACH2': 85.5700543782267,\n",
       " 'COMP2': 85.3921559637234,\n",
       " 'UI_RECV': 83.67461096184354,\n",
       " 'WHYCHNGD9': 83.58015974177219,\n",
       " 'CHNGHOW12': 82.2761827035057,\n",
       " 'WHYCHNGD5': 80.9474466075506,\n",
       " 'TCH_HRS': 80.3422251973847,\n",
       " 'RENTCUR': 80.0662075542636,\n",
       " 'TSTDY_HRS': 79.98092635555841,\n",
       " 'INTRNT2': 79.84154203079294,\n",
       " 'SCHLHRS': 79.22348259071444,\n",
       " 'INTRNTAVAIL': 78.56232405021504,\n",
       " 'SPNDSRC6': 78.46053681305078,\n",
       " 'COMPAVAIL': 78.38167462930188,\n",
       " 'ENROLL1': 78.04696884943742,\n",
       " 'SPNDSRC3': 77.1886548495658,\n",
       " 'CHNGHOW9': 76.3312578518308,\n",
       " 'SPNDSRC2': 76.1166793518629,\n",
       " 'WHYCHNGD1': 75.7691355420858,\n",
       " 'CHNGHOW2': 72.62381821349643,\n",
       " 'CHNGHOW8': 70.78797993599325,\n",
       " 'WHYCHNGD11': 69.01541480591649,\n",
       " 'EST_MSA': 67.68117669714171,\n",
       " 'CHNGHOW4': 64.35245894122933,\n",
       " 'UNEMPPAY': 63.99391110581287,\n",
       " 'RSNNOWRK': 62.3726513282776,\n",
       " 'MORTCUR': 59.14572080952949,\n",
       " 'WHYCHNGD3': 48.63595932178522,\n",
       " 'CHNGHOW1': 48.130691144510365,\n",
       " 'CHNGHOW6': 44.66900807878883,\n",
       " 'KINDWORK': 39.68510146628642,\n",
       " 'MORTCONF': 39.33297264582627,\n",
       " 'HLTHINS8': 30.384865796737305,\n",
       " 'SPNDSRC1': 29.98413586303656,\n",
       " 'SSALIKELY': 29.54672584387122,\n",
       " 'SSADECISN': 28.64347873930546,\n",
       " 'HLTHINS7': 27.98782221162575,\n",
       " 'CNCLDTRPS': 27.569669237329325,\n",
       " 'HLTHINS6': 27.275311551475916,\n",
       " 'HLTHINS5': 26.90759369469331,\n",
       " 'HLTHINS4': 26.256522177696674,\n",
       " 'TUI_NUMPER': 25.72649494273322,\n",
       " 'HLTHINS2': 24.439940945062403,\n",
       " 'HLTHINS3': 23.170809987987273,\n",
       " 'INCOME': 22.578426607733995,\n",
       " 'TNUM_PS': 21.192836379308762,\n",
       " 'TBEDROOMS': 20.014488633758518,\n",
       " 'LIVQTR': 18.252927529321145,\n",
       " 'HLTHINS1': 18.243757507954996,\n",
       " 'TSPNDPRPD': 18.095203161823367,\n",
       " 'TENURE': 17.884292670401923,\n",
       " 'TSPNDFOOD': 17.544084877717765,\n",
       " 'MH_SVCS': 16.94986749319126,\n",
       " 'PRESCRIPT': 16.9461994846448,\n",
       " 'MH_NOTGET': 16.904934388497125,\n",
       " 'NOTGET': 16.88567734362821,\n",
       " 'DELAY': 16.872839313715602,\n",
       " 'INTEREST': 15.355200777617812,\n",
       " 'DOWN': 15.297429643011068,\n",
       " 'WORRY': 15.278172598142154,\n",
       " 'ANXIOUS': 15.18555538234404,\n",
       " 'HLTHSTATUS': 15.062677096037632,\n",
       " 'FOODCONF': 13.923760442361829,\n",
       " 'SNAP_YN': 9.903623075441766,\n",
       " 'FREEFOOD': 9.353421793472778,\n",
       " 'CURFOODSUF': 9.058147105482755,\n",
       " 'PRIFOODSUF': 9.021467020018155,\n",
       " 'FEWRTRIPS': 8.322711391917544,\n",
       " 'FEWRTRANS': 8.138393962457933,\n",
       " 'PLNDTRIPS': 8.049444755206279,\n",
       " 'SSA_APPLY': 8.01276466974168,\n",
       " 'TW_START': 4.131094625450477,\n",
       " 'EXPNS_DIF': 2.696903283784651,\n",
       " 'SSA_RECV': 1.0068683460032462,\n",
       " 'MS': 0.9371761836205078,\n",
       " 'UI_APPLY': 0.7794518161227315,\n",
       " 'EXPCTLOSS': 0.6969216238273835,\n",
       " 'ANYWORK': 0.596051388799736,\n",
       " 'WRKLOSS': 0.5428652648760672}"
      ]
     },
     "execution_count": 149,
     "metadata": {},
     "output_type": "execute_result"
    }
   ],
   "source": [
    "# Displaying percentage of null values in all columns with null values\n",
    "percent_null = {}\n",
    "for col in null_columns:\n",
    "    percent_null[col] = (df[col].isnull().sum()/len(df)) * 100\n",
    "sorted_percent_null = dict(sorted(percent_null.items(),key = lambda x: x[1],reverse = True))\n",
    "sorted_percent_null"
   ]
  },
  {
   "cell_type": "markdown",
   "metadata": {},
   "source": [
    "#### Dropping unnecessary columns \n",
    "Redundant features such as those regarding the availability of internet services, aggregated features such as family size, disruption of travel plans, state of imputation, weights of respondents/households would be dropped as they are  secondary to the social and economical concerns of the respondents.  This would help to speed up the modeling process as redundant features are removed."
   ]
  },
  {
   "cell_type": "code",
   "execution_count": 150,
   "metadata": {},
   "outputs": [],
   "source": [
    "df.drop(columns = ['THHLD_NUMPER','THHLD_NUMKID','THHLD_NUMADLT','COMPAVAIL','COMP1','COMP2','COMP3','INTRNTAVAIL',\n",
    "                  'INTRNT1','INTRNT2','INTRNT3',\"SCRAM\",'WEEK','HWEIGHT','PWEIGHT','ABIRTH_YEAR','AGENDER','AHISPANIC','ARACE','AEDUC','AHHLD_NUMPER','AHHLD_NUMKID','REGION','PLNDTRIPS','CNCLDTRPS','TCH_HRS',\n",
    "                  'FEWRTRIPS','FEWRTRANS','TW_START'],inplace = True)"
   ]
  },
  {
   "cell_type": "markdown",
   "metadata": {},
   "source": [
    "#### Impute missing values\n",
    "Analyzing missing columns and understanding reasons behind them to better understand how to deal with them."
   ]
  },
  {
   "cell_type": "markdown",
   "metadata": {},
   "source": [
    "#### `EST_MSA`\n",
    "This feature identifies the Metropolitan statistical area but since the `EST_ST` is sufficient to denote the states that respondents are in, this feature can be dropped."
   ]
  },
  {
   "cell_type": "code",
   "execution_count": 151,
   "metadata": {},
   "outputs": [],
   "source": [
    "df.drop(columns = ['EST_MSA'],inplace = True)"
   ]
  },
  {
   "cell_type": "markdown",
   "metadata": {},
   "source": [
    "**`WHEREFREE`**<br>\n",
    "Questions that ask where people are seeking food aid from"
   ]
  },
  {
   "cell_type": "code",
   "execution_count": 152,
   "metadata": {
    "scrolled": false
   },
   "outputs": [
    {
     "data": {
      "text/plain": [
       "{'WHEREFREE5': 99.9138017991582,\n",
       " 'WHEREFREE3': 99.77808548293918,\n",
       " 'WHEREFREE4': 98.86841936341712,\n",
       " 'WHEREFREE6': 98.81615024163007,\n",
       " 'WHEREFREE7': 98.31179906649183,\n",
       " 'WHEREFREE2': 98.2742019788906,\n",
       " 'WHEREFREE1': 98.2622809511146}"
      ]
     },
     "execution_count": 152,
     "metadata": {},
     "output_type": "execute_result"
    }
   ],
   "source": [
    "food_dict = {k:v for k,v in sorted_percent_null.items() if k.startswith('WHERE')}\n",
    "food_dict"
   ]
  },
  {
   "cell_type": "markdown",
   "metadata": {},
   "source": [
    "All `WHEREFREE` columns have > 98% of their data missing and this is because responses to these questions are determined by the responses to `FREEFOOD`. Zooming into the people who are getting food aid, we can look at where they acquire them."
   ]
  },
  {
   "cell_type": "code",
   "execution_count": 153,
   "metadata": {
    "scrolled": true
   },
   "outputs": [
    {
     "data": {
      "text/plain": [
       "(5775, 7)"
      ]
     },
     "execution_count": 153,
     "metadata": {},
     "output_type": "execute_result"
    }
   ],
   "source": [
    "where_free = df[list(food_dict.keys())][df['FREEFOOD'] == 1]\n",
    "where_free.shape"
   ]
  },
  {
   "cell_type": "code",
   "execution_count": 154,
   "metadata": {
    "scrolled": true
   },
   "outputs": [
    {
     "data": {
      "text/plain": [
       "WHEREFREE5      94\n",
       "WHEREFREE3     242\n",
       "WHEREFREE4    1234\n",
       "WHEREFREE6    1291\n",
       "WHEREFREE7    1841\n",
       "WHEREFREE2    1882\n",
       "WHEREFREE1    1895\n",
       "dtype: int64"
      ]
     },
     "execution_count": 154,
     "metadata": {},
     "output_type": "execute_result"
    }
   ],
   "source": [
    "where_free.count()"
   ]
  },
  {
   "cell_type": "code",
   "execution_count": 155,
   "metadata": {
    "scrolled": false
   },
   "outputs": [
    {
     "data": {
      "image/png": "[encoded data removed]",
      "text/plain": [
       "<Figure size 864x576 with 1 Axes>"
      ]
     },
     "metadata": {
      "needs_background": "light"
     },
     "output_type": "display_data"
    }
   ],
   "source": [
    "# Graph that shows where people are seeking food aid from\n",
    "plt.figure(figsize = (12,8))\n",
    "sns.barplot(x = where_free.count().index,y = where_free.count().values).set_xticklabels(['Shelter/Soup Kitchen','Home-delivered Meal Service',\n",
    "                                                                         'Religious Organizations','Other Community Programs',\n",
    "                                                                         'Family/Friends/Neighbours','Food Bank/Pantry','Children School Programs'])\n",
    "# Set title\n",
    "plt.title('Place of food acquisition')\n",
    "\n",
    "# Set y label\n",
    "plt.ylabel('Frequency',fontsize = 12)\n",
    "\n",
    "# Set x label\n",
    "plt.xlabel('Place to acquire food', fontsize = 12)\n",
    "\n",
    "# Set xticks\n",
    "plt.xticks(\n",
    "    rotation=45, \n",
    "    fontweight='light'\n",
    ");"
   ]
  },
  {
   "cell_type": "markdown",
   "metadata": {},
   "source": [
    "Graph shows that schools are the most popular avenue of food aid which are targetted mainly at children, followed by food banks/pantries."
   ]
  },
  {
   "cell_type": "code",
   "execution_count": 156,
   "metadata": {
    "scrolled": true
   },
   "outputs": [
    {
     "data": {
      "text/plain": [
       "8479"
      ]
     },
     "execution_count": 156,
     "metadata": {},
     "output_type": "execute_result"
    }
   ],
   "source": [
    "# There might be overlaps!! Some people receive aid from more than 1 place.\n",
    "where_free.count().sum()"
   ]
  },
  {
   "cell_type": "markdown",
   "metadata": {},
   "source": [
    "**`FREEFOOD`**"
   ]
  },
  {
   "cell_type": "code",
   "execution_count": 157,
   "metadata": {},
   "outputs": [
    {
     "data": {
      "text/plain": [
       "1.0     5775\n",
       "2.0    93076\n",
       "NaN    10200\n",
       "Name: FREEFOOD, dtype: int64"
      ]
     },
     "execution_count": 157,
     "metadata": {},
     "output_type": "execute_result"
    }
   ],
   "source": [
    "df.FREEFOOD.value_counts(dropna = False).sort_index()"
   ]
  },
  {
   "cell_type": "code",
   "execution_count": 158,
   "metadata": {
    "scrolled": true
   },
   "outputs": [
    {
     "data": {
      "text/html": [
       "<div>\n",
       "<style scoped>\n",
       "    .dataframe tbody tr th:only-of-type {\n",
       "        vertical-align: middle;\n",
       "    }\n",
       "\n",
       "    .dataframe tbody tr th {\n",
       "        vertical-align: top;\n",
       "    }\n",
       "\n",
       "    .dataframe thead th {\n",
       "        text-align: right;\n",
       "    }\n",
       "</style>\n",
       "<table border=\"1\" class=\"dataframe\">\n",
       "  <thead>\n",
       "    <tr style=\"text-align: right;\">\n",
       "      <th></th>\n",
       "      <th>Response(value)</th>\n",
       "      <th>Response(actual)</th>\n",
       "      <th>Number</th>\n",
       "      <th>Percentage</th>\n",
       "    </tr>\n",
       "  </thead>\n",
       "  <tbody>\n",
       "    <tr>\n",
       "      <th>0</th>\n",
       "      <td>1.0</td>\n",
       "      <td>Got Free Food</td>\n",
       "      <td>5775</td>\n",
       "      <td>5.296</td>\n",
       "    </tr>\n",
       "    <tr>\n",
       "      <th>1</th>\n",
       "      <td>2.0</td>\n",
       "      <td>Didnt Get Free Food</td>\n",
       "      <td>93076</td>\n",
       "      <td>85.351</td>\n",
       "    </tr>\n",
       "    <tr>\n",
       "      <th>2</th>\n",
       "      <td>NaN</td>\n",
       "      <td>Missing</td>\n",
       "      <td>10200</td>\n",
       "      <td>9.353</td>\n",
       "    </tr>\n",
       "  </tbody>\n",
       "</table>\n",
       "</div>"
      ],
      "text/plain": [
       "   Response(value)     Response(actual)  Number  Percentage\n",
       "0              1.0        Got Free Food    5775       5.296\n",
       "1              2.0  Didnt Get Free Food   93076      85.351\n",
       "2              NaN              Missing   10200       9.353"
      ]
     },
     "execution_count": 158,
     "metadata": {},
     "output_type": "execute_result"
    }
   ],
   "source": [
    "freefood_df = pd.DataFrame({\n",
    "    'Response(value)':[i for i in df.FREEFOOD.value_counts(dropna = False).sort_index().index],\n",
    "    'Response(actual)':['Got Free Food','Didnt Get Free Food','Missing'],\n",
    "    'Number':[i for i in df.FREEFOOD.value_counts(dropna = False).sort_index().values],\n",
    "    'Percentage':[round(i,3) for i in df.FREEFOOD.value_counts(dropna = False,normalize = True).sort_index().values*100]\n",
    "})\n",
    "freefood_df"
   ]
  },
  {
   "cell_type": "markdown",
   "metadata": {},
   "source": [
    "5% of the population across the states are receiving food aids from various avenues as shown above."
   ]
  },
  {
   "cell_type": "code",
   "execution_count": 159,
   "metadata": {
    "scrolled": false
   },
   "outputs": [
    {
     "data": {
      "image/png": "[encoded data removed]",
      "text/plain": [
       "<Figure size 864x576 with 1 Axes>"
      ]
     },
     "metadata": {
      "needs_background": "light"
     },
     "output_type": "display_data"
    }
   ],
   "source": [
    "# Bar graph of count against retrival of free food\n",
    "plt.figure(figsize = (12,8))\n",
    "sns.barplot(x = freefood_df['Response(actual)'], y = freefood_df['Number'])\n",
    "\n",
    "# Set title\n",
    "plt.title('Frequency against retrival of free meals/groceries in last 7 days')\n",
    "\n",
    "# Set ylabel\n",
    "plt.ylabel('Frequency',fontsize = 12)\n",
    "\n",
    "# Set xlabel\n",
    "plt.xlabel('Response',fontsize = 12);"
   ]
  },
  {
   "cell_type": "markdown",
   "metadata": {},
   "source": [
    "Majority of the respondents did not receive food aid and therefore it is expected that the `WHEREFREE` columns would have many null values. For ease of reference in `FREE_FOOD`, the no class would be renamed as 0 instead of 2 whereas for nonresponses, they would be grouped in a separate **Missing** class. The null values in `WHEREFREE` column which indicate that they opted for other food aid alternatives, they would be imputed with 0s."
   ]
  },
  {
   "cell_type": "code",
   "execution_count": 160,
   "metadata": {},
   "outputs": [],
   "source": [
    "# Renaming the classes where 1 = yes, 2 = no\n",
    "df['FREEFOOD'] = df['FREEFOOD'].replace(1,'Yes')\n",
    "df['FREEFOOD'] = df['FREEFOOD'].replace(2,'No')\n",
    "\n",
    "# Grouping of nonresponses as one class\n",
    "df['FREEFOOD'].fillna('Missing',inplace = True)"
   ]
  },
  {
   "cell_type": "code",
   "execution_count": 161,
   "metadata": {},
   "outputs": [],
   "source": [
    "# Imputing all empty WHEREFREE rows with 0s\n",
    "for col in where_free.columns:\n",
    "    df[col] = df[col].fillna(0)"
   ]
  },
  {
   "cell_type": "markdown",
   "metadata": {},
   "source": [
    "**`SSAPGM`** <br>\n",
    "Asked if replies to `SSA_APPLY` is a yes/1. The SSP programmes that people are currently enrolled in"
   ]
  },
  {
   "cell_type": "code",
   "execution_count": 162,
   "metadata": {
    "scrolled": false
   },
   "outputs": [
    {
     "data": {
      "text/plain": [
       "{'SSAPGM3': 99.8771217136936,\n",
       " 'SSAPGM4': 99.71939734619582,\n",
       " 'SSAPGM2': 99.36360051718921,\n",
       " 'SSAPGM1': 99.22696719883358,\n",
       " 'SSAPGM5': 99.22421619242373}"
      ]
     },
     "execution_count": 162,
     "metadata": {},
     "output_type": "execute_result"
    }
   ],
   "source": [
    "ssapgm_dict = {k:v for k,v in sorted_percent_null.items() if k.startswith('SSAPGM')}\n",
    "ssapgm_dict"
   ]
  },
  {
   "cell_type": "markdown",
   "metadata": {},
   "source": [
    "There are many missing `SSAPGM` values as responses are determined by the answers to `SSA_APPLY`. "
   ]
  },
  {
   "cell_type": "code",
   "execution_count": 163,
   "metadata": {},
   "outputs": [],
   "source": [
    "# dataframe of only those who applied for SSP\n",
    "ssapgm_df = df[[i for i in ssapgm_dict.keys()]]"
   ]
  },
  {
   "cell_type": "code",
   "execution_count": 164,
   "metadata": {
    "scrolled": true
   },
   "outputs": [
    {
     "data": {
      "text/plain": [
       "SSAPGM3    134\n",
       "SSAPGM4    306\n",
       "SSAPGM2    694\n",
       "SSAPGM1    843\n",
       "SSAPGM5    846\n",
       "dtype: int64"
      ]
     },
     "execution_count": 164,
     "metadata": {},
     "output_type": "execute_result"
    }
   ],
   "source": [
    "ssapgm = df[[i for i in ssapgm_dict.keys()]].count()\n",
    "ssapgm"
   ]
  },
  {
   "cell_type": "code",
   "execution_count": 165,
   "metadata": {
    "scrolled": false
   },
   "outputs": [
    {
     "data": {
      "image/png": "[encoded data removed]",
      "text/plain": [
       "<Figure size 864x576 with 1 Axes>"
      ]
     },
     "metadata": {
      "needs_background": "light"
     },
     "output_type": "display_data"
    }
   ],
   "source": [
    "plt.figure(figsize = (12,8))\n",
    "sns.barplot(x = ssapgm.index,y = ssapgm.values).set_xticklabels(['Social Security Survivors','Suuplemental Security Income',\n",
    "                                                                'Social Security Survivors','Social Security Retirement','Medicare'])\n",
    "# Set title\n",
    "plt.title('Frequency of Social Security Programs')\n",
    "\n",
    "# Set ylabel\n",
    "plt.ylabel('Frequency',fontsize = 12)\n",
    "\n",
    "# Set xlabel\n",
    "plt.xlabel('Social Security Programs',fontsize = 12)\n",
    "\n",
    "# Set xticks\n",
    "plt.xticks(\n",
    "    rotation=45, \n",
    "    fontweight='light'\n",
    ");"
   ]
  },
  {
   "cell_type": "markdown",
   "metadata": {},
   "source": [
    "The **Medicare** and **Social Security Retirement** programmes are the most popular SSPs that people would apply for whereas the **Social Security Survivors** Programme is the least popular. This analysis would help us to make well-informed recommendations on promoting specific SSPs that would appeal more to the masses. "
   ]
  },
  {
   "cell_type": "markdown",
   "metadata": {},
   "source": [
    "#### `SSA_RECV`"
   ]
  },
  {
   "cell_type": "code",
   "execution_count": 166,
   "metadata": {
    "scrolled": true
   },
   "outputs": [
    {
     "data": {
      "text/plain": [
       "2.0    72.333129\n",
       "1.0    26.660003\n",
       "NaN     1.006868\n",
       "Name: SSA_RECV, dtype: float64"
      ]
     },
     "execution_count": 166,
     "metadata": {},
     "output_type": "execute_result"
    }
   ],
   "source": [
    "df['SSA_RECV'].value_counts(dropna = False,normalize = True) * 100"
   ]
  },
  {
   "cell_type": "code",
   "execution_count": 167,
   "metadata": {},
   "outputs": [],
   "source": [
    "# The null values would be dropped since it makes up <1% of SSA_RECV\n",
    "df.dropna(subset= ['SSA_RECV'],inplace = True)\n",
    "\n",
    "# Renaming the classes for ease of reference: 1 = yes, 0 = no\n",
    "df['SSA_RECV'] = df['SSA_RECV'].replace(2,0)\n"
   ]
  },
  {
   "cell_type": "markdown",
   "metadata": {},
   "source": [
    "**`SSA_APPLY`**"
   ]
  },
  {
   "cell_type": "code",
   "execution_count": 168,
   "metadata": {
    "scrolled": true
   },
   "outputs": [
    {
     "data": {
      "text/plain": [
       "1.0     2516\n",
       "2.0    97614\n",
       "NaN     7823\n",
       "Name: SSA_APPLY, dtype: int64"
      ]
     },
     "execution_count": 168,
     "metadata": {},
     "output_type": "execute_result"
    }
   ],
   "source": [
    "# Frequency of answers to SSA_APPLY\n",
    "df.SSA_APPLY.value_counts(dropna = \n",
    "                          False).sort_index()"
   ]
  },
  {
   "cell_type": "code",
   "execution_count": 169,
   "metadata": {
    "scrolled": true
   },
   "outputs": [
    {
     "data": {
      "text/html": [
       "<div>\n",
       "<style scoped>\n",
       "    .dataframe tbody tr th:only-of-type {\n",
       "        vertical-align: middle;\n",
       "    }\n",
       "\n",
       "    .dataframe tbody tr th {\n",
       "        vertical-align: top;\n",
       "    }\n",
       "\n",
       "    .dataframe thead th {\n",
       "        text-align: right;\n",
       "    }\n",
       "</style>\n",
       "<table border=\"1\" class=\"dataframe\">\n",
       "  <thead>\n",
       "    <tr style=\"text-align: right;\">\n",
       "      <th></th>\n",
       "      <th>Response(value)</th>\n",
       "      <th>Response(actual)</th>\n",
       "      <th>Number</th>\n",
       "      <th>Percentage</th>\n",
       "    </tr>\n",
       "  </thead>\n",
       "  <tbody>\n",
       "    <tr>\n",
       "      <th>0</th>\n",
       "      <td>1.0</td>\n",
       "      <td>Did Apply</td>\n",
       "      <td>2516</td>\n",
       "      <td>2.331</td>\n",
       "    </tr>\n",
       "    <tr>\n",
       "      <th>1</th>\n",
       "      <td>2.0</td>\n",
       "      <td>Didnt Apply</td>\n",
       "      <td>97614</td>\n",
       "      <td>90.423</td>\n",
       "    </tr>\n",
       "    <tr>\n",
       "      <th>2</th>\n",
       "      <td>NaN</td>\n",
       "      <td>Missing</td>\n",
       "      <td>7823</td>\n",
       "      <td>7.247</td>\n",
       "    </tr>\n",
       "  </tbody>\n",
       "</table>\n",
       "</div>"
      ],
      "text/plain": [
       "   Response(value) Response(actual)  Number  Percentage\n",
       "0              1.0        Did Apply    2516       2.331\n",
       "1              2.0      Didnt Apply   97614      90.423\n",
       "2              NaN          Missing    7823       7.247"
      ]
     },
     "execution_count": 169,
     "metadata": {},
     "output_type": "execute_result"
    }
   ],
   "source": [
    "ssa_df = pd.DataFrame({\n",
    "            'Response(value)':[i for i in df.SSA_APPLY.value_counts(dropna = False).sort_index().index],\n",
    "            'Response(actual)':['Did Apply','Didnt Apply','Missing'],\n",
    "            'Number':[i for i in df.SSA_APPLY.value_counts(dropna = False).sort_index().values],\n",
    "            'Percentage' : [round(i*100,3) for i in df.SSA_APPLY.value_counts(dropna = False,normalize = True).sort_index().values]})\n",
    "ssa_df\n"
   ]
  },
  {
   "cell_type": "code",
   "execution_count": 170,
   "metadata": {
    "scrolled": false
   },
   "outputs": [
    {
     "data": {
      "image/png": "[encoded data removed]",
      "text/plain": [
       "<Figure size 864x576 with 1 Axes>"
      ]
     },
     "metadata": {
      "needs_background": "light"
     },
     "output_type": "display_data"
    }
   ],
   "source": [
    "# Plotting frequency against status of application of SSP\n",
    "plt.figure(figsize = (12,8))\n",
    "sns.barplot(x = ssa_df['Response(actual)'], y = ssa_df['Percentage'])\n",
    "\n",
    "# Set title \n",
    "plt.title('Frequency against status of application of any Social Security Programs')\n",
    "\n",
    "# Set xlabel\n",
    "plt.xlabel('Responses',fontsize = 12)\n",
    "\n",
    "# Set ylabel\n",
    "plt.ylabel('Percentage',fontsize = 12);"
   ]
  },
  {
   "cell_type": "markdown",
   "metadata": {},
   "source": [
    "Majority of the respondents did not apply for any SSP and thus there is a large percentage of missing values in `SSAPGM` columns. Since only around 2% of the respondents applied for at least one SSP, this feature and associated `SSAPGM` features can be dropped. The `SSA_RECV` is sufficient to account for the effect of SSP programmes on the mental health of people. "
   ]
  },
  {
   "cell_type": "code",
   "execution_count": 171,
   "metadata": {
    "scrolled": true
   },
   "outputs": [],
   "source": [
    "# Drop SSA_APPLY and SSAPGM features to prevent overfitting of data\n",
    "df.drop(columns = ['SSA_APPLY'],inplace = True)\n",
    "df.drop(columns = [k for k in ssapgm_dict.keys()],inplace = True)"
   ]
  },
  {
   "cell_type": "markdown",
   "metadata": {},
   "source": [
    "**`SSALIKELY`** <br>\n",
    "Asked if response to `SSA_APPLY` is 2/no"
   ]
  },
  {
   "cell_type": "code",
   "execution_count": 172,
   "metadata": {
    "scrolled": true
   },
   "outputs": [
    {
     "data": {
      "text/html": [
       "<div>\n",
       "<style scoped>\n",
       "    .dataframe tbody tr th:only-of-type {\n",
       "        vertical-align: middle;\n",
       "    }\n",
       "\n",
       "    .dataframe tbody tr th {\n",
       "        vertical-align: top;\n",
       "    }\n",
       "\n",
       "    .dataframe thead th {\n",
       "        text-align: right;\n",
       "    }\n",
       "</style>\n",
       "<table border=\"1\" class=\"dataframe\">\n",
       "  <thead>\n",
       "    <tr style=\"text-align: right;\">\n",
       "      <th></th>\n",
       "      <th>Response(value)</th>\n",
       "      <th>Response(actual)</th>\n",
       "      <th>Number</th>\n",
       "      <th>Percentage</th>\n",
       "    </tr>\n",
       "  </thead>\n",
       "  <tbody>\n",
       "    <tr>\n",
       "      <th>0</th>\n",
       "      <td>1.0</td>\n",
       "      <td>Extremely Likely</td>\n",
       "      <td>1364</td>\n",
       "      <td>1.26</td>\n",
       "    </tr>\n",
       "    <tr>\n",
       "      <th>1</th>\n",
       "      <td>2.0</td>\n",
       "      <td>Very Likely</td>\n",
       "      <td>1086</td>\n",
       "      <td>1.01</td>\n",
       "    </tr>\n",
       "    <tr>\n",
       "      <th>2</th>\n",
       "      <td>3.0</td>\n",
       "      <td>Somewhat Likely</td>\n",
       "      <td>3182</td>\n",
       "      <td>2.95</td>\n",
       "    </tr>\n",
       "    <tr>\n",
       "      <th>3</th>\n",
       "      <td>4.0</td>\n",
       "      <td>Not at all Likely</td>\n",
       "      <td>71034</td>\n",
       "      <td>65.80</td>\n",
       "    </tr>\n",
       "    <tr>\n",
       "      <th>4</th>\n",
       "      <td>NaN</td>\n",
       "      <td>Missing</td>\n",
       "      <td>31287</td>\n",
       "      <td>28.98</td>\n",
       "    </tr>\n",
       "  </tbody>\n",
       "</table>\n",
       "</div>"
      ],
      "text/plain": [
       "   Response(value)   Response(actual)  Number  Percentage\n",
       "0              1.0   Extremely Likely    1364        1.26\n",
       "1              2.0        Very Likely    1086        1.01\n",
       "2              3.0    Somewhat Likely    3182        2.95\n",
       "3              4.0  Not at all Likely   71034       65.80\n",
       "4              NaN            Missing   31287       28.98"
      ]
     },
     "execution_count": 172,
     "metadata": {},
     "output_type": "execute_result"
    }
   ],
   "source": [
    "# ssa_apply_df consists of all respondents that are not currently enrolled in any SSP(SSA_APPLY = 2)\n",
    "ssa_apply_df = df['SSALIKELY']\n",
    "ssa_apply_df.value_counts(dropna = False)\n",
    "\n",
    "# Table for easy visualization \n",
    "ssa_apply_table = pd.DataFrame({\n",
    "    'Response(value)':[i for i in ssa_apply_df.value_counts(dropna = False).sort_index().index],\n",
    "    'Response(actual)':['Extremely Likely','Very Likely','Somewhat Likely','Not at all Likely','Missing'],\n",
    "    'Number':[j for j in ssa_apply_df.value_counts(dropna = False).sort_index().values],\n",
    "    'Percentage':[round(k*100,2) for k in ssa_apply_df.value_counts(dropna= False,normalize = True).sort_index().values]\n",
    "    \n",
    "})\n",
    "ssa_apply_table"
   ]
  },
  {
   "cell_type": "code",
   "execution_count": 173,
   "metadata": {
    "scrolled": false
   },
   "outputs": [
    {
     "data": {
      "image/png": "[encoded data removed]",
      "text/plain": [
       "<Figure size 864x576 with 1 Axes>"
      ]
     },
     "metadata": {
      "needs_background": "light"
     },
     "output_type": "display_data"
    }
   ],
   "source": [
    "# Graph that shows distribution of likelihood of application for any SSP\n",
    "plt.figure(figsize = (12,8))\n",
    "sns.barplot(x = ssa_apply_table['Response(actual)'],y = ssa_apply_table['Number'], palette = 'Set2')\n",
    "\n",
    "# Set title\n",
    "plt.title('Likelihood of application for any SSP')\n",
    "\n",
    "# Set xlabel\n",
    "plt.xlabel('Likelihood',fontsize = 12)\n",
    "\n",
    "# Set ylabel\n",
    "plt.ylabel('Frequency',fontsize = 12);"
   ]
  },
  {
   "cell_type": "markdown",
   "metadata": {},
   "source": [
    "Since `SSALIKELY` feature is similarly associated with `SSA_APPLY`, this can be dropped."
   ]
  },
  {
   "cell_type": "code",
   "execution_count": 174,
   "metadata": {},
   "outputs": [],
   "source": [
    "# Droping SSALIKELY\n",
    "df.drop(columns = ['SSALIKELY'],inplace = True)"
   ]
  },
  {
   "cell_type": "markdown",
   "metadata": {},
   "source": [
    "#### `SSADECISN`"
   ]
  },
  {
   "cell_type": "code",
   "execution_count": 175,
   "metadata": {},
   "outputs": [
    {
     "data": {
      "text/plain": [
       "1.0    59.864941\n",
       "NaN    28.064991\n",
       "2.0     9.057645\n",
       "3.0     1.792447\n",
       "4.0     1.219975\n",
       "Name: SSADECISN, dtype: float64"
      ]
     },
     "execution_count": 175,
     "metadata": {},
     "output_type": "execute_result"
    }
   ],
   "source": [
    "df['SSADECISN'].value_counts(dropna = False,normalize = True)*100"
   ]
  },
  {
   "cell_type": "markdown",
   "metadata": {},
   "source": [
    "Since this question is highly correlated to `SSALIKELY` and the decision for SSA application is secondary to the act of SSA application, it would be dropped."
   ]
  },
  {
   "cell_type": "code",
   "execution_count": 176,
   "metadata": {},
   "outputs": [],
   "source": [
    "# Dropping SSADECISN\n",
    "df.drop(columns = 'SSADECISN',inplace = True)"
   ]
  },
  {
   "cell_type": "markdown",
   "metadata": {},
   "source": [
    "**`SSAEXPCT`** <br>\n",
    "These questions are asked only if response to the application of Social Security Programs(SSP) in the next 12 months/`SSALIKELY` is yes. "
   ]
  },
  {
   "cell_type": "code",
   "execution_count": 177,
   "metadata": {
    "scrolled": false
   },
   "outputs": [
    {
     "data": {
      "text/plain": [
       "{'SSAEXPCT3': 99.79367451926163,\n",
       " 'SSAEXPCT4': 99.08024685697518,\n",
       " 'SSAEXPCT2': 98.83449028436236,\n",
       " 'SSAEXPCT5': 98.16782973104327,\n",
       " 'SSAEXPCT1': 98.13756866053498}"
      ]
     },
     "execution_count": 177,
     "metadata": {},
     "output_type": "execute_result"
    }
   ],
   "source": [
    "ssaexpct_dict = {k:v for k,v in sorted_percent_null.items() if k.startswith('SSAEXPCT')}\n",
    "ssaexpct_dict"
   ]
  },
  {
   "cell_type": "code",
   "execution_count": 178,
   "metadata": {},
   "outputs": [
    {
     "data": {
      "text/plain": [
       "SSAEXPCT3     224\n",
       "SSAEXPCT4    1002\n",
       "SSAEXPCT2    1269\n",
       "SSAEXPCT5    1990\n",
       "SSAEXPCT1    2026\n",
       "dtype: int64"
      ]
     },
     "execution_count": 178,
     "metadata": {},
     "output_type": "execute_result"
    }
   ],
   "source": [
    "ssaexpct = df[[i for i in ssaexpct_dict.keys()]].count()\n",
    "ssaexpct"
   ]
  },
  {
   "cell_type": "code",
   "execution_count": 179,
   "metadata": {
    "scrolled": false
   },
   "outputs": [
    {
     "data": {
      "image/png": "[encoded data removed]",
      "text/plain": [
       "<Figure size 864x576 with 1 Axes>"
      ]
     },
     "metadata": {
      "needs_background": "light"
     },
     "output_type": "display_data"
    }
   ],
   "source": [
    "# Plotting graph against type of SSP program applied\n",
    "plt.figure(figsize = (12,8))\n",
    "ssaexpct_df = df[[k for k in ssaexpct_dict.keys()]].count()\n",
    "sns.barplot(x = ssaexpct_df.index, y = ssaexpct_df.values).set_xticklabels(['Social Security Survivors','Supplemental Security Income','Social Security Disability',\n",
    "                                                                            'Medicare','Social Security Retirement'])\n",
    "\n",
    "# Set title\n",
    "plt.title('Types of Social Security Programs')\n",
    "\n",
    "# Set ylabel\n",
    "plt.ylabel('Frequency',fontsize = 12)\n",
    "\n",
    "# Set xlabel\n",
    "plt.xlabel('Social Security Programs',fontsize = 12)\n",
    "\n",
    "# Set xticks\n",
    "plt.xticks(rotation = 45,horizontalalignment='right');"
   ]
  },
  {
   "cell_type": "markdown",
   "metadata": {},
   "source": [
    "The bargraph above shows a preferrence for specific SSPs such as **Medicare** and **Social Security Retirement** which are consistent with the popular SSPs that people are currently enrolled in. However, given the strong correlation with `SSAPGM`, `SSA_APPLY` and `SSA_LIKLEY` as well as the low number of responses, these `SSAEXPCT` features would be removed from our dataset."
   ]
  },
  {
   "cell_type": "code",
   "execution_count": 180,
   "metadata": {},
   "outputs": [],
   "source": [
    "# Dropping all SSAEXPCT columns\n",
    "df.drop(columns = [i for i in ssaexpct_dict.keys()],inplace = True)"
   ]
  },
  {
   "cell_type": "markdown",
   "metadata": {},
   "source": [
    "**`PSPLANS`**"
   ]
  },
  {
   "cell_type": "code",
   "execution_count": 181,
   "metadata": {
    "scrolled": true
   },
   "outputs": [
    {
     "data": {
      "text/plain": [
       "{'PSPLANS5': 98.22193285710355,\n",
       " 'PSPLANS6': 97.6799845943641,\n",
       " 'PSPLANS1': 97.11511127820927,\n",
       " 'PSPLANS2': 96.11649595143557,\n",
       " 'PSPLANS4': 96.09540490229342,\n",
       " 'PSPLANS3': 91.74239575978213}"
      ]
     },
     "execution_count": 181,
     "metadata": {},
     "output_type": "execute_result"
    }
   ],
   "source": [
    "psplans_dict = {k:v for k,v in sorted_percent_null.items() if k.startswith('PSPLANS')}\n",
    "psplans_dict"
   ]
  },
  {
   "cell_type": "code",
   "execution_count": 182,
   "metadata": {
    "scrolled": true
   },
   "outputs": [
    {
     "data": {
      "text/plain": [
       "PSPLANS5    1937\n",
       "PSPLANS6    2527\n",
       "PSPLANS1    3142\n",
       "PSPLANS2    4228\n",
       "PSPLANS4    4255\n",
       "PSPLANS3    9000\n",
       "dtype: int64"
      ]
     },
     "execution_count": 182,
     "metadata": {},
     "output_type": "execute_result"
    }
   ],
   "source": [
    "psplans = df[[col for col in psplans_dict.keys()]]\n",
    "psplans.count()"
   ]
  },
  {
   "cell_type": "code",
   "execution_count": 183,
   "metadata": {
    "scrolled": false
   },
   "outputs": [
    {
     "data": {
      "image/png": "[encoded data removed]",
      "text/plain": [
       "<Figure size 864x576 with 1 Axes>"
      ]
     },
     "metadata": {
      "needs_background": "light"
     },
     "output_type": "display_data"
    }
   ],
   "source": [
    "# Plot frequency against planned post-sec programmes\n",
    "plt.figure(figsize = (12,8))\n",
    "sns.barplot(x = psplans.count().index, y = psplans.count().values).set_xticklabels(['Others','Non-Credential Programme','Diploma/Certificate Programme','Associate\"s Degree','Graduate Degree','Bachelor\"s Degree'])\n",
    "\n",
    "# Set title\n",
    "plt.title('Planned post-sec programmes to enroll in')\n",
    "\n",
    "# Set ylabel\n",
    "plt.ylabel('Frequency',fontsize = 12)\n",
    "\n",
    "# Set xlabel\n",
    "plt.xlabel('Post-Sec Programme',fontsize = 12)\n",
    "\n",
    "# Set xticks\n",
    "plt.xticks(rotation = 45);"
   ]
  },
  {
   "cell_type": "markdown",
   "metadata": {},
   "source": [
    "Distribution of the tertiary education paths that members of the households planned to pursue. Since there is an increasing prevalence of mental health issues amongst the students and young adults in the States, these features would be worth keeping."
   ]
  },
  {
   "cell_type": "markdown",
   "metadata": {},
   "source": [
    "#### Imputing missing values in `PSPLANS`\n",
    "The missing values would be imputed as 0s "
   ]
  },
  {
   "cell_type": "code",
   "execution_count": 184,
   "metadata": {},
   "outputs": [],
   "source": [
    "# Replacing all null values as 0\n",
    "for i in psplans_dict.keys():\n",
    "    df[i] = df[i].fillna(0)"
   ]
  },
  {
   "cell_type": "markdown",
   "metadata": {},
   "source": [
    "**`PSCHNG`**"
   ]
  },
  {
   "cell_type": "code",
   "execution_count": 185,
   "metadata": {
    "scrolled": true
   },
   "outputs": [
    {
     "data": {
      "text/plain": [
       "{'PSCHNG5': 99.77258347011949,\n",
       " 'PSCHNG6': 99.55800497015159,\n",
       " 'PSCHNG7': 99.51123786118423,\n",
       " 'PSCHNG4': 97.9734252780809,\n",
       " 'PSCHNG1': 94.67863660122327,\n",
       " 'PSCHNG2': 94.01564405645065,\n",
       " 'PSCHNG3': 91.59750942219695}"
      ]
     },
     "execution_count": 185,
     "metadata": {},
     "output_type": "execute_result"
    }
   ],
   "source": [
    "# Looking at the frequency of missing values in PSCHNG columns\n",
    "pschng_dict = {k:v for k,v in sorted_percent_null.items() if k.startswith('PSCHNG')}\n",
    "pschng_dict"
   ]
  },
  {
   "cell_type": "code",
   "execution_count": 186,
   "metadata": {
    "scrolled": false
   },
   "outputs": [
    {
     "data": {
      "text/plain": [
       "PSCHNG5     247\n",
       "PSCHNG6     481\n",
       "PSCHNG7     532\n",
       "PSCHNG4    2209\n",
       "PSCHNG1    5798\n",
       "PSCHNG2    6516\n",
       "PSCHNG3    9159\n",
       "dtype: int64"
      ]
     },
     "execution_count": 186,
     "metadata": {},
     "output_type": "execute_result"
    }
   ],
   "source": [
    "# Frequency of different changes to post-secondary plans\n",
    "pschng = df[[i for i in pschng_dict.keys()]]\n",
    "pschng.count()"
   ]
  },
  {
   "cell_type": "code",
   "execution_count": 187,
   "metadata": {
    "scrolled": false
   },
   "outputs": [
    {
     "data": {
      "image/png": "[encoded data removed]",
      "text/plain": [
       "<Figure size 864x576 with 1 Axes>"
      ]
     },
     "metadata": {
      "needs_background": "light"
     },
     "output_type": "display_data"
    }
   ],
   "source": [
    "# Looking at the distribution of changes to post-secondary education\n",
    "plt.figure(figsize = (12,8))\n",
    "pschng = df[list(pschng_dict.keys())].count()\n",
    "sns.barplot(x = pschng.index,y = pschng.values,palette = 'Set2').set_xticklabels(['More Classes','Different Institution','Different cert/degree','Fewer Classes',\n",
    "                                                                'No Changes','Cancelled Classses','Online Classes']);\n",
    "\n",
    "# Set title\n",
    "plt.title('Post-Covid changes to post-secondary education plans')\n",
    "\n",
    "# Set xlabel\n",
    "plt.xlabel('Changes',fontsize = 12)\n",
    "\n",
    "# Set ylabel\n",
    "plt.ylabel('Frequency',fontsize = 12)\n",
    "\n",
    "# Set xticks\n",
    "plt.xticks(rotation = 45);"
   ]
  },
  {
   "cell_type": "markdown",
   "metadata": {},
   "source": [
    "These questions asked for changes to post-secondary education plans if there are members in the household who planned to enroll in post-secondary classes(`TNUM_PS` > 0). Among those pursuing post-secondary programs, many of the classes are now online or are cancelled. Since there is a substantial impact of COVID on the educational landscape, these features would be kept. "
   ]
  },
  {
   "cell_type": "markdown",
   "metadata": {},
   "source": [
    "**`TNUM_PS`**"
   ]
  },
  {
   "cell_type": "code",
   "execution_count": 188,
   "metadata": {},
   "outputs": [
    {
     "data": {
      "text/html": [
       "<div>\n",
       "<style scoped>\n",
       "    .dataframe tbody tr th:only-of-type {\n",
       "        vertical-align: middle;\n",
       "    }\n",
       "\n",
       "    .dataframe tbody tr th {\n",
       "        vertical-align: top;\n",
       "    }\n",
       "\n",
       "    .dataframe thead th {\n",
       "        text-align: right;\n",
       "    }\n",
       "</style>\n",
       "<table border=\"1\" class=\"dataframe\">\n",
       "  <thead>\n",
       "    <tr style=\"text-align: right;\">\n",
       "      <th></th>\n",
       "      <th>Response(values)</th>\n",
       "      <th>Response(actual)</th>\n",
       "      <th>Number</th>\n",
       "      <th>Percentage</th>\n",
       "    </tr>\n",
       "  </thead>\n",
       "  <tbody>\n",
       "    <tr>\n",
       "      <th>0</th>\n",
       "      <td>0.0</td>\n",
       "      <td>0 Member</td>\n",
       "      <td>64170</td>\n",
       "      <td>59.44</td>\n",
       "    </tr>\n",
       "    <tr>\n",
       "      <th>1</th>\n",
       "      <td>1.0</td>\n",
       "      <td>1 Member</td>\n",
       "      <td>15835</td>\n",
       "      <td>14.67</td>\n",
       "    </tr>\n",
       "    <tr>\n",
       "      <th>2</th>\n",
       "      <td>2.0</td>\n",
       "      <td>2 Members</td>\n",
       "      <td>4531</td>\n",
       "      <td>4.20</td>\n",
       "    </tr>\n",
       "    <tr>\n",
       "      <th>3</th>\n",
       "      <td>3.0</td>\n",
       "      <td>3 Members</td>\n",
       "      <td>1276</td>\n",
       "      <td>1.18</td>\n",
       "    </tr>\n",
       "    <tr>\n",
       "      <th>4</th>\n",
       "      <td>NaN</td>\n",
       "      <td>Missing</td>\n",
       "      <td>22141</td>\n",
       "      <td>20.51</td>\n",
       "    </tr>\n",
       "  </tbody>\n",
       "</table>\n",
       "</div>"
      ],
      "text/plain": [
       "   Response(values) Response(actual)  Number  Percentage\n",
       "0               0.0         0 Member   64170       59.44\n",
       "1               1.0         1 Member   15835       14.67\n",
       "2               2.0        2 Members    4531        4.20\n",
       "3               3.0        3 Members    1276        1.18\n",
       "4               NaN          Missing   22141       20.51"
      ]
     },
     "execution_count": 188,
     "metadata": {},
     "output_type": "execute_result"
    }
   ],
   "source": [
    "# Table for ease of view\n",
    "tnum_df = pd.DataFrame({\n",
    "    'Response(values)':[i for i in df['TNUM_PS'].value_counts(dropna = False).sort_index().index],\n",
    "    'Response(actual)':['0 Member','1 Member','2 Members','3 Members','Missing'],\n",
    "    'Number':[i for i in df['TNUM_PS'].value_counts(dropna = False).sort_index().values],\n",
    "    'Percentage':[round(i*100,2) for i in df['TNUM_PS'].value_counts(dropna = False,normalize = True).sort_index().values]\n",
    "})\n",
    "tnum_df"
   ]
  },
  {
   "cell_type": "code",
   "execution_count": 189,
   "metadata": {
    "scrolled": false
   },
   "outputs": [
    {
     "data": {
      "image/png": "[encoded data removed]",
      "text/plain": [
       "<Figure size 864x576 with 1 Axes>"
      ]
     },
     "metadata": {
      "needs_background": "light"
     },
     "output_type": "display_data"
    }
   ],
   "source": [
    "# Frequency of members who are pursuing post-secondary education\n",
    "plt.figure(figsize = (12,8))\n",
    "sns.barplot(x = tnum_df['Response(actual)'], y = tnum_df['Number'])\n",
    "\n",
    "# Set title\n",
    "plt.title('Number of members in household pursuing post-secondary education')\n",
    "\n",
    "# Set xlabel\n",
    "plt.xlabel('Members',fontsize = 12)\n",
    "\n",
    "# Set yabel\n",
    "plt.ylabel('Frequency',fontsize = 12);"
   ]
  },
  {
   "cell_type": "markdown",
   "metadata": {},
   "source": [
    "Majority of the households do not have any members pursuing post-secondary classes. Since this feature does not directly influence the mental well-being of people, this feature can be dropped."
   ]
  },
  {
   "cell_type": "markdown",
   "metadata": {},
   "source": [
    "**Dropping `TNUM_PS` and imputing `PSCHG` features**"
   ]
  },
  {
   "cell_type": "code",
   "execution_count": 190,
   "metadata": {},
   "outputs": [],
   "source": [
    "# Replace all the null values with 'missing'\n",
    "df.drop(columns = ['TNUM_PS'],inplace= True)"
   ]
  },
  {
   "cell_type": "markdown",
   "metadata": {},
   "source": [
    "**`PSWHYCHG`** <br>\n",
    "These questions asked for reasons behind changes to post-secondary education plans as stated above."
   ]
  },
  {
   "cell_type": "code",
   "execution_count": 191,
   "metadata": {
    "scrolled": true
   },
   "outputs": [
    {
     "data": {
      "text/plain": [
       "{'PSWHYCHG2': 99.80834655344746,\n",
       " 'PSWHYCHG3': 98.95645156853216,\n",
       " 'PSWHYCHG9': 98.61257576730154,\n",
       " 'PSWHYCHG5': 98.53187957927942,\n",
       " 'PSWHYCHG6': 98.0165243785018,\n",
       " 'PSWHYCHG8': 96.57499701974305,\n",
       " 'PSWHYCHG7': 96.57041200905998,\n",
       " 'PSWHYCHG1': 95.13622066739416,\n",
       " 'PSWHYCHG4': 92.12753665716042}"
      ]
     },
     "execution_count": 191,
     "metadata": {},
     "output_type": "execute_result"
    }
   ],
   "source": [
    "pswhychg_dict = {k:v for k,v in sorted_percent_null.items() if k.startswith('PSWHYCHG')}\n",
    "pswhychg_dict"
   ]
  },
  {
   "cell_type": "code",
   "execution_count": 192,
   "metadata": {
    "scrolled": false
   },
   "outputs": [
    {
     "data": {
      "image/png": "[encoded data removed]",
      "text/plain": [
       "<Figure size 864x576 with 1 Axes>"
      ]
     },
     "metadata": {
      "needs_background": "light"
     },
     "output_type": "display_data"
    }
   ],
   "source": [
    "# Plotting graph of reasons for changes to post-sec education plans\n",
    "pswhychg_df = df[[k for k in pswhychg_dict.keys()]].count()\n",
    "plt.figure(figsize = (12,8))\n",
    "sns.barplot(x = pswhychg_df.index,y = pswhychg_df.values,palette = 'Set2').set_xticklabels(['Caring for COVID patient','Substitute for disrupted care','COVID related',\n",
    "                                                                          'Changes to financial aid','Campus life changes','Post COVID disruption to income','Uncertained about how classes might change',\n",
    "                                                                          'Concerns about possible COVID infection','Online classes'])\n",
    "# Set title\n",
    "plt.title('Reasons for changes to post-secondary education plans')\n",
    "\n",
    "# Set xlabel\n",
    "plt.xlabel('Reason',fontsize = 12)\n",
    "\n",
    "# Set ylabel\n",
    "plt.ylabel('Frequency',fontsize = 12)\n",
    "\n",
    "# Set xticks\n",
    "plt.xticks(rotation = 45,horizontalalignment='right');"
   ]
  },
  {
   "cell_type": "code",
   "execution_count": 193,
   "metadata": {},
   "outputs": [
    {
     "data": {
      "text/plain": [
       "27962"
      ]
     },
     "execution_count": 193,
     "metadata": {},
     "output_type": "execute_result"
    }
   ],
   "source": [
    "# Total number of responses in PSWHYCHNG columns\n",
    "pswhychng = df[[col for col in pswhychg_dict.keys()]]\n",
    "pswhychng.count().sum()"
   ]
  },
  {
   "cell_type": "markdown",
   "metadata": {},
   "source": [
    "There is a considerable number of total responses(27988) to these questions and they highlight important concerns that the population has which would influence their educational experience. The missing values would be imputed as 0s instead and the `PSCHNG`features would be dropped since they overlap with `PSWHYCHNG` features and are less explanatory. This helps to prevent overfitting of data."
   ]
  },
  {
   "cell_type": "markdown",
   "metadata": {},
   "source": [
    "**Impute missing `PSWHYCHG` values, drop `PSCHNG` columns**"
   ]
  },
  {
   "cell_type": "code",
   "execution_count": 194,
   "metadata": {},
   "outputs": [],
   "source": [
    "# Imputing missing PSWHYCHG values as 0\n",
    "for i in pswhychg_dict.keys():\n",
    "    df[i] = df[i].fillna(0)\n",
    "\n",
    "# Dropping PSCHNG features:\n",
    "df.drop(columns = [i for i in pschng_dict.keys()],inplace = True)"
   ]
  },
  {
   "cell_type": "markdown",
   "metadata": {},
   "source": [
    "**`SNAPMNTH`**"
   ]
  },
  {
   "cell_type": "code",
   "execution_count": 195,
   "metadata": {
    "scrolled": true
   },
   "outputs": [
    {
     "data": {
      "text/plain": [
       "{'SNAPMNTH9': 100.0,\n",
       " 'SNAPMNTH10': 100.0,\n",
       " 'SNAPMNTH11': 100.0,\n",
       " 'SNAPMNTH12': 100.0,\n",
       " 'SNAPMNTH1': 96.57224601333321,\n",
       " 'SNAPMNTH2': 96.51539188086308,\n",
       " 'SNAPMNTH3': 96.03671676555007,\n",
       " 'SNAPMNTH4': 95.60297475493118,\n",
       " 'SNAPMNTH5': 95.29486203702855,\n",
       " 'SNAPMNTH6': 95.07294751996773,\n",
       " 'SNAPMNTH8': 94.97024328066685,\n",
       " 'SNAPMNTH7': 94.93539719947547}"
      ]
     },
     "execution_count": 195,
     "metadata": {},
     "output_type": "execute_result"
    }
   ],
   "source": [
    "snapmnth_dict = {k:v for k,v in sorted_percent_null.items() if k.startswith('SNAPMNTH')}\n",
    "snapmnth_dict"
   ]
  },
  {
   "cell_type": "code",
   "execution_count": 196,
   "metadata": {},
   "outputs": [],
   "source": [
    "# Renaming and reordering of columns for easy viewing \n",
    "snapmnth_df = df[[col for col in snapmnth_dict.keys()]]\n",
    "snapmnth_df = snapmnth_df.rename(columns = {\n",
    "    'SNAPMNTH1':'Jan',\n",
    "    'SNAPMNTH2':'Feb',\n",
    "    'SNAPMNTH3':'Mar',\n",
    "    'SNAPMNTH4':'Apr',\n",
    "    'SNAPMNTH5':'May',\n",
    "    'SNAPMNTH6':'Jun',\n",
    "    'SNAPMNTH7':'Jul',\n",
    "    'SNAPMNTH8':'Aug',\n",
    "    'SNAPMNTH9':'Sep',\n",
    "    'SNAPMNTH10':'Oct',\n",
    "    'SNAPMNTH11':'Nov',\n",
    "    'SNAPMNTH12':'Dec'\n",
    "})\n",
    "snapmnth_df = snapmnth_df[['Jan','Feb','Mar','Apr','May','Jun','Jul','Aug','Sep','Oct','Nov','Dec']]"
   ]
  },
  {
   "cell_type": "code",
   "execution_count": 197,
   "metadata": {
    "scrolled": false
   },
   "outputs": [
    {
     "data": {
      "image/png": "[encoded data removed]",
      "text/plain": [
       "<Figure size 864x576 with 1 Axes>"
      ]
     },
     "metadata": {
      "needs_background": "light"
     },
     "output_type": "display_data"
    }
   ],
   "source": [
    "# Graph showing the months when the food benefits/stamps were received\n",
    "plt.figure(figsize = (12,8))\n",
    "\n",
    "sns.barplot(x = [col for col in snapmnth_df.columns],y = [snapmnth_df[col].count() for col in snapmnth_df.columns],palette = 'Set2')\n",
    "plt.title('Month of receiving food aid')\n",
    "plt.ylabel('Frequency')\n",
    "plt.xlabel('Month');"
   ]
  },
  {
   "cell_type": "markdown",
   "metadata": {},
   "source": [
    "There seems to be an increasing trend in the number of food aid received over the months but as it is an ongoing survey and responses were collected till the end of August, this dataset did not account for food aids received after August. This shows a possible correlation between the pandemic and food security since more people are applying for SNAP/Food Programmes."
   ]
  },
  {
   "cell_type": "markdown",
   "metadata": {},
   "source": [
    "**`SNAP_YN`**"
   ]
  },
  {
   "cell_type": "code",
   "execution_count": 198,
   "metadata": {
    "scrolled": false
   },
   "outputs": [
    {
     "data": {
      "text/plain": [
       "2.0    91193\n",
       "NaN     9892\n",
       "1.0     6868\n",
       "Name: SNAP_YN, dtype: int64"
      ]
     },
     "execution_count": 198,
     "metadata": {},
     "output_type": "execute_result"
    }
   ],
   "source": [
    "df['SNAP_YN'].value_counts(dropna = False)"
   ]
  },
  {
   "cell_type": "code",
   "execution_count": 199,
   "metadata": {
    "scrolled": false
   },
   "outputs": [
    {
     "data": {
      "text/plain": [
       "2.0    84.474725\n",
       "NaN     9.163247\n",
       "1.0     6.362028\n",
       "Name: SNAP_YN, dtype: float64"
      ]
     },
     "execution_count": 199,
     "metadata": {},
     "output_type": "execute_result"
    }
   ],
   "source": [
    "# Looking at the percentage of people who received the SNAP receipt\n",
    "df['SNAP_YN'].value_counts(normalize = True, dropna = False) * 100"
   ]
  },
  {
   "cell_type": "code",
   "execution_count": 200,
   "metadata": {},
   "outputs": [
    {
     "data": {
      "text/html": [
       "<div>\n",
       "<style scoped>\n",
       "    .dataframe tbody tr th:only-of-type {\n",
       "        vertical-align: middle;\n",
       "    }\n",
       "\n",
       "    .dataframe tbody tr th {\n",
       "        vertical-align: top;\n",
       "    }\n",
       "\n",
       "    .dataframe thead th {\n",
       "        text-align: right;\n",
       "    }\n",
       "</style>\n",
       "<table border=\"1\" class=\"dataframe\">\n",
       "  <thead>\n",
       "    <tr style=\"text-align: right;\">\n",
       "      <th></th>\n",
       "      <th>Responses(values)</th>\n",
       "      <th>Responses(actual)</th>\n",
       "      <th>Number</th>\n",
       "      <th>Percentage</th>\n",
       "    </tr>\n",
       "  </thead>\n",
       "  <tbody>\n",
       "    <tr>\n",
       "      <th>0</th>\n",
       "      <td>6868</td>\n",
       "      <td>Yes</td>\n",
       "      <td>1.0</td>\n",
       "      <td>6.36</td>\n",
       "    </tr>\n",
       "    <tr>\n",
       "      <th>1</th>\n",
       "      <td>91193</td>\n",
       "      <td>No</td>\n",
       "      <td>2.0</td>\n",
       "      <td>84.47</td>\n",
       "    </tr>\n",
       "    <tr>\n",
       "      <th>2</th>\n",
       "      <td>9892</td>\n",
       "      <td>Missing</td>\n",
       "      <td>NaN</td>\n",
       "      <td>9.16</td>\n",
       "    </tr>\n",
       "  </tbody>\n",
       "</table>\n",
       "</div>"
      ],
      "text/plain": [
       "   Responses(values) Responses(actual)  Number  Percentage\n",
       "0               6868               Yes     1.0        6.36\n",
       "1              91193                No     2.0       84.47\n",
       "2               9892           Missing     NaN        9.16"
      ]
     },
     "execution_count": 200,
     "metadata": {},
     "output_type": "execute_result"
    }
   ],
   "source": [
    "snap_yn_df = pd.DataFrame({\n",
    "    'Responses(values)':[i for i in df['SNAP_YN'].value_counts(dropna = False).sort_index().values],\n",
    "    'Responses(actual)':['Yes','No','Missing'],\n",
    "    'Number':[i for i in df['SNAP_YN'].value_counts(dropna = False).sort_index().index],\n",
    "    'Percentage':[round(i*100,2) for i in df['SNAP_YN'].value_counts(dropna = False,normalize = True).sort_index().values]\n",
    "})\n",
    "snap_yn_df"
   ]
  },
  {
   "cell_type": "markdown",
   "metadata": {},
   "source": [
    "Based on the `SNAP_YN` column which indicates if households have benefitted from the SNAP program, majority of the population responded that they **do not** have/require access to such an aid which answers for the high null values in the `SNAPMNTH` columns. The SNAP is a state-administered programme that mainly targets households with children, elderly or disabled members where more than half of the applicants are children. This would be a useful indicator of food scarcity among the households. "
   ]
  },
  {
   "cell_type": "markdown",
   "metadata": {},
   "source": [
    "Since there is a significant number of nonresponses in the `SNAP_YN` feature, they would be grouped under a **Missing** class. The `SNAPMNTH` features are not useful in providing any much value than the `SNAP_YN` features and thus can be dropped."
   ]
  },
  {
   "cell_type": "markdown",
   "metadata": {},
   "source": [
    "**Regrouping, dropping and imputing `SNAP_YN` and `SNAPMNTH` features**"
   ]
  },
  {
   "cell_type": "code",
   "execution_count": 201,
   "metadata": {},
   "outputs": [],
   "source": [
    "# Reclassifying null values in SNAP_YN under a Missing class \n",
    "df['SNAP_YN'].fillna('Missing',inplace = True)\n",
    "\n",
    "# Dropping SNAPMNTH columns\n",
    "df.drop(columns = [k for k in snapmnth_dict.keys()],inplace = True)"
   ]
  },
  {
   "cell_type": "markdown",
   "metadata": {},
   "source": [
    "**`CHNGHOW`** <br>\n",
    "Questions that ask how spending/shopping changed"
   ]
  },
  {
   "cell_type": "code",
   "execution_count": 202,
   "metadata": {
    "scrolled": true
   },
   "outputs": [
    {
     "data": {
      "text/plain": [
       "{'CHNGHOW11': 97.05550613932931,\n",
       " 'CHNGHOW5': 96.35766751336531,\n",
       " 'CHNGHOW3': 92.7089160117743,\n",
       " 'CHNGHOW10': 90.963860945796,\n",
       " 'CHNGHOW7': 90.3889006061384,\n",
       " 'CHNGHOW12': 82.2761827035057,\n",
       " 'CHNGHOW9': 76.3312578518308,\n",
       " 'CHNGHOW2': 72.62381821349643,\n",
       " 'CHNGHOW8': 70.78797993599325,\n",
       " 'CHNGHOW4': 64.35245894122933,\n",
       " 'CHNGHOW1': 48.130691144510365,\n",
       " 'CHNGHOW6': 44.66900807878883}"
      ]
     },
     "execution_count": 202,
     "metadata": {},
     "output_type": "execute_result"
    }
   ],
   "source": [
    "chnghow_dict = {k:v for k,v in sorted_percent_null.items() if k.startswith('CHNGHOW')}\n",
    "chnghow_dict"
   ]
  },
  {
   "cell_type": "code",
   "execution_count": 203,
   "metadata": {
    "scrolled": true
   },
   "outputs": [
    {
     "data": {
      "text/plain": [
       "CHNGHOW11     3202\n",
       "CHNGHOW5      3961\n",
       "CHNGHOW3      7936\n",
       "CHNGHOW10     9831\n",
       "CHNGHOW7     10466\n",
       "CHNGHOW12    19292\n",
       "CHNGHOW9     25752\n",
       "CHNGHOW2     29807\n",
       "CHNGHOW8     31791\n",
       "CHNGHOW4     38814\n",
       "CHNGHOW1     56469\n",
       "CHNGHOW6     60210\n",
       "dtype: int64"
      ]
     },
     "execution_count": 203,
     "metadata": {},
     "output_type": "execute_result"
    }
   ],
   "source": [
    "chnghow = df[[k for k in chnghow_dict.keys()]]\n",
    "chnghow.count()"
   ]
  },
  {
   "cell_type": "code",
   "execution_count": 204,
   "metadata": {
    "scrolled": false
   },
   "outputs": [
    {
     "data": {
      "image/png": "[encoded data removed]",
      "text/plain": [
       "<Figure size 864x576 with 1 Axes>"
      ]
     },
     "metadata": {
      "needs_background": "light"
     },
     "output_type": "display_data"
    }
   ],
   "source": [
    "# plot frequenecy against changing spending/shopping habits\n",
    "plt.figure(figsize = (12,8))\n",
    "sns.barplot(x = [i for i in chnghow.columns], y = [chnghow[i].count() for i in chnghow.columns])\n",
    "\n",
    "# Set title\n",
    "plt.title('How did spending/shopping habits change')\n",
    "\n",
    "# Set ylabel\n",
    "plt.ylabel('Frequency',fontsize = 12)\n",
    "\n",
    "# Set xlabel\n",
    "plt.xlabel('Types of Changes',fontsize = 12)\n",
    "\n",
    "# Set xticks\n",
    "plt.xticks(rotation = 45);"
   ]
  },
  {
   "cell_type": "markdown",
   "metadata": {},
   "source": [
    "|Features|Labels|\n",
    "|--------|------|\n",
    "|CHNGHOW1|Made more online purchases|\n",
    "|CHNGHOW2|Made more curbside pick-up purchases|\n",
    "|CHNGHOW3|Made more in-store purchases|\n",
    "|CHNGHOW4|Made more electronic payments|\n",
    "|CHNGHOW5|Made more cash purchases|\n",
    "|CHNGHOW6|Avoid eating at restaurants|\n",
    "|CHNGHOW7|Resumed eating at restaurants|\n",
    "|CHNGHOW8|Cancelled/postponed in-person medical/dental appointments|\n",
    "|CHNGHOW9|Attended in-person medical/dental appointments|\n",
    "|CHNGHOW10|Cancelled/postponed housekeeping/caregiving arrangements|\n",
    "|CHNGHOW11|Resumed/started new housekeeping/caregiving services|\n",
    "|CHNGHOW12|No changes to spending/shopping habits|"
   ]
  },
  {
   "cell_type": "code",
   "execution_count": 205,
   "metadata": {},
   "outputs": [
    {
     "data": {
      "text/plain": [
       "297531"
      ]
     },
     "execution_count": 205,
     "metadata": {},
     "output_type": "execute_result"
    }
   ],
   "source": [
    "chnghow.count().sum()"
   ]
  },
  {
   "cell_type": "markdown",
   "metadata": {},
   "source": [
    "The top few features show that respondents prefer to reduce social interactions by avoiding public places and resorting to cashless payments instead.\n"
   ]
  },
  {
   "cell_type": "markdown",
   "metadata": {},
   "source": [
    "**`WHYCHNGD`** <br>\n",
    "Reasons behind changes to household spendings"
   ]
  },
  {
   "cell_type": "code",
   "execution_count": 206,
   "metadata": {
    "scrolled": true
   },
   "outputs": [
    {
     "data": {
      "text/plain": [
       "{'WHYCHNGD6': 99.37735554923843,\n",
       " 'WHYCHNGD12': 98.48236146390221,\n",
       " 'WHYCHNGD8': 97.80836489349021,\n",
       " 'WHYCHNGD13': 95.7817901715711,\n",
       " 'WHYCHNGD10': 95.54703762459766,\n",
       " 'WHYCHNGD4': 95.15180970371661,\n",
       " 'WHYCHNGD2': 93.36457253945402,\n",
       " 'WHYCHNGD7': 86.5136495768035,\n",
       " 'WHYCHNGD9': 83.58015974177219,\n",
       " 'WHYCHNGD5': 80.9474466075506,\n",
       " 'WHYCHNGD1': 75.7691355420858,\n",
       " 'WHYCHNGD11': 69.01541480591649,\n",
       " 'WHYCHNGD3': 48.63595932178522}"
      ]
     },
     "execution_count": 206,
     "metadata": {},
     "output_type": "execute_result"
    }
   ],
   "source": [
    "whychng_dict = {k:v for k,v in sorted_percent_null.items() if k.startswith('WHYCHNGD')}\n",
    "whychng_dict"
   ]
  },
  {
   "cell_type": "code",
   "execution_count": 207,
   "metadata": {},
   "outputs": [
    {
     "data": {
      "text/plain": [
       "WHYCHNGD6       677\n",
       "WHYCHNGD12     1650\n",
       "WHYCHNGD8      2380\n",
       "WHYCHNGD13     4590\n",
       "WHYCHNGD10     4852\n",
       "WHYCHNGD4      5273\n",
       "WHYCHNGD2      7224\n",
       "WHYCHNGD7     14689\n",
       "WHYCHNGD9     17877\n",
       "WHYCHNGD5     20746\n",
       "WHYCHNGD1     26377\n",
       "WHYCHNGD11    33718\n",
       "WHYCHNGD3     55897\n",
       "dtype: int64"
      ]
     },
     "execution_count": 207,
     "metadata": {},
     "output_type": "execute_result"
    }
   ],
   "source": [
    "whychng = df[[k for k in whychng_dict.keys()]]\n",
    "whychng.count()"
   ]
  },
  {
   "cell_type": "code",
   "execution_count": 274,
   "metadata": {
    "scrolled": false
   },
   "outputs": [
    {
     "data": {
      "image/png": "[encoded data removed]",
      "text/plain": [
       "<Figure size 864x576 with 1 Axes>"
      ]
     },
     "metadata": {
      "needs_background": "light"
     },
     "output_type": "display_data"
    }
   ],
   "source": [
    "# Graph of reasons behind household spending changes against frequency\n",
    "plt.figure(figsize = (12,8))\n",
    "sns.barplot(y = [i for i in whychng.count().values],x = [i for i in whychng.count().index])\n",
    "\n",
    "# Set title\n",
    "plt.title('Why household spendings changed')\n",
    "\n",
    "# Set ylabel\n",
    "plt.ylabel('Frequency',fontsize = 12)\n",
    "\n",
    "# Set xlabel\n",
    "plt.xlabel('Reasons for household spending changes',fontsize = 12)\n",
    "\n",
    "# Set xticks\n",
    "plt.xticks(rotation = 45);"
   ]
  },
  {
   "cell_type": "markdown",
   "metadata": {},
   "source": [
    "|Features|Labels|\n",
    "|--------|------|\n",
    "|WHYCHNGD1|Limited shop opening hours|\n",
    "|WHYCHNGD2|Extension of shop opening hours|\n",
    "|WHYCHNGD3|Concerns with contaminating virus/interacting with high-risk individuals|\n",
    "|WHYCHNGD4|Not concerned with contaiminating virus/interacting with high-risk individuals\n",
    "|WHYCHNGD5|Loss of income|\n",
    "|WHYCHNGD6|Increased income|\n",
    "|WHYCHNGD7|Concerns about job-loss/pay-cut|\n",
    "|WHYCHNGD8|Not concerned about job-loss/pay-cut|\n",
    "|WHYCHNGD9|Work from home/telecomm|\n",
    "|WHYCHNGD10|Resumed working onsite|\n",
    "|WHYCHNGD11|Concerns about economy|\n",
    "|WHYCHNGD12|No concerns about economy|"
   ]
  },
  {
   "cell_type": "code",
   "execution_count": 208,
   "metadata": {},
   "outputs": [
    {
     "data": {
      "text/plain": [
       "195950"
      ]
     },
     "execution_count": 208,
     "metadata": {},
     "output_type": "execute_result"
    }
   ],
   "source": [
    "# Total number of responses in WHYCHNGD features\n",
    "whychng.count().sum()"
   ]
  },
  {
   "cell_type": "markdown",
   "metadata": {},
   "source": [
    "There is a large number of households who are spending less during this pandemic due to worries regarding **risk of virus infection**, **economical landscape** as well as a **loss of income**. These responses have highlighted the social and economical changes that result. This could explain for the changes that were described in `CHNGHOW` where people have reduced possible social interactions. The large number of missing values in `WHYCHNGD6` and `WHYCHNGD12` is because these changes are not applicable to the respondents. Since people could select more than one reason, the total number of responses in these columns are more than the total number rows in data. "
   ]
  },
  {
   "cell_type": "markdown",
   "metadata": {},
   "source": [
    "**Removing `CHNGHOW` features** <br>\n",
    "\n",
    "Since `WHYCHNGD` and `CHNGHOW` are correlated and `WHYCHNGD` features provide valuable explanations for changes in lifestyle habits of people, to prevent overfitting of our model, the `CHNGHOW` columns would be dropped."
   ]
  },
  {
   "cell_type": "code",
   "execution_count": 209,
   "metadata": {},
   "outputs": [],
   "source": [
    "# Dropping all CHNGHOW columns\n",
    "df.drop(columns = [col for col in chnghow_dict.keys()],inplace = True)"
   ]
  },
  {
   "cell_type": "markdown",
   "metadata": {},
   "source": [
    "**Imputing missing values** <br>\n",
    "\n",
    "All null values in `WHYCHNGD` features would be replaced with 0s."
   ]
  },
  {
   "cell_type": "code",
   "execution_count": 210,
   "metadata": {},
   "outputs": [],
   "source": [
    "# Replacing all null values with 0s in WHYCHNGD\n",
    "for i in whychng_dict.keys():\n",
    "    df[i] = df[i].fillna(0)"
   ]
  },
  {
   "cell_type": "markdown",
   "metadata": {},
   "source": [
    "**`FOODSUFRSN`**"
   ]
  },
  {
   "cell_type": "code",
   "execution_count": 211,
   "metadata": {
    "scrolled": true
   },
   "outputs": [
    {
     "data": {
      "text/plain": [
       "{'FOODSUFRSN4': 98.2980440344426,\n",
       " 'FOODSUFRSN2': 96.61351110948088,\n",
       " 'FOODSUFRSN3': 90.78137752060962,\n",
       " 'FOODSUFRSN1': 88.01478207444224,\n",
       " 'FOODSUFRSN5': 87.0262537711713}"
      ]
     },
     "execution_count": 211,
     "metadata": {},
     "output_type": "execute_result"
    }
   ],
   "source": [
    "foodsufrsn_dict = {k:v for k,v in sorted_percent_null.items() if k.startswith('FOODSUFRSN')}\n",
    "foodsufrsn_dict"
   ]
  },
  {
   "cell_type": "code",
   "execution_count": 212,
   "metadata": {
    "scrolled": true
   },
   "outputs": [
    {
     "data": {
      "text/plain": [
       "FOODSUFRSN4     1850\n",
       "FOODSUFRSN2     3678\n",
       "FOODSUFRSN3    10021\n",
       "FOODSUFRSN1    13045\n",
       "FOODSUFRSN5    14119\n",
       "dtype: int64"
      ]
     },
     "execution_count": 212,
     "metadata": {},
     "output_type": "execute_result"
    }
   ],
   "source": [
    "foodsufrsn_df = df[[col for col in foodsufrsn_dict.keys()]]\n",
    "foodsufrsn_df.count()"
   ]
  },
  {
   "cell_type": "code",
   "execution_count": 280,
   "metadata": {
    "scrolled": false
   },
   "outputs": [
    {
     "data": {
      "image/png": "[encoded data removed]",
      "text/plain": [
       "<Figure size 864x576 with 1 Axes>"
      ]
     },
     "metadata": {
      "needs_background": "light"
     },
     "output_type": "display_data"
    }
   ],
   "source": [
    "# Plot frequency against reasons for insufficient food intake\n",
    "plt.figure(figsize = (12,8))\n",
    "sns.barplot(x = [col for col in foodsufrsn_df.count().index],y = [i for i in foodsufrsn_df.count().values])\n",
    "\n",
    "# Set title \n",
    "plt.title('Reasons for insufficient food intake')\n",
    "\n",
    "# Set xlabel\n",
    "plt.xlabel('Reason',fontsize = 12)\n",
    "\n",
    "# Set ylabel\n",
    "plt.ylabel('Frequency',fontsize = 12);"
   ]
  },
  {
   "cell_type": "markdown",
   "metadata": {},
   "source": [
    "|Features|Labels|\n",
    "|--------|------|\n",
    "|FOODSUFRSN1|Could not afford to buy|\n",
    "|FOODSUFRSN2|Could not go out to buy(no transportation/health problems)\n",
    "|FOODSUFRSN3|Afraid to go/Did not want to go out|\n",
    "|FOODSUFRSN4|Could not get groceries/meals delivered|\n",
    "|FOODSUFRSN5|Limited selection of food|\n"
   ]
  },
  {
   "cell_type": "markdown",
   "metadata": {},
   "source": [
    "**Imputing missing values** <br>\n",
    "\n",
    "All null values in `FOODSUFRSN` features would be replaced with 0s."
   ]
  },
  {
   "cell_type": "code",
   "execution_count": 213,
   "metadata": {},
   "outputs": [],
   "source": [
    "for i in foodsufrsn_dict.keys():\n",
    "    df[i] = df[i].fillna(0)"
   ]
  },
  {
   "cell_type": "markdown",
   "metadata": {},
   "source": [
    "These questions are asked only if `CURFOODSUF` is answered appropriately. Nevertheless, there is an alarming number of people who are unable to afford food."
   ]
  },
  {
   "cell_type": "markdown",
   "metadata": {},
   "source": [
    "**`CURFOODSUF`** <br>\n",
    "Current food sufficiency"
   ]
  },
  {
   "cell_type": "code",
   "execution_count": 214,
   "metadata": {
    "scrolled": true
   },
   "outputs": [
    {
     "data": {
      "text/html": [
       "<div>\n",
       "<style scoped>\n",
       "    .dataframe tbody tr th:only-of-type {\n",
       "        vertical-align: middle;\n",
       "    }\n",
       "\n",
       "    .dataframe tbody tr th {\n",
       "        vertical-align: top;\n",
       "    }\n",
       "\n",
       "    .dataframe thead th {\n",
       "        text-align: right;\n",
       "    }\n",
       "</style>\n",
       "<table border=\"1\" class=\"dataframe\">\n",
       "  <thead>\n",
       "    <tr style=\"text-align: right;\">\n",
       "      <th></th>\n",
       "      <th>Responses(values)</th>\n",
       "      <th>Responses(actual)</th>\n",
       "      <th>Number</th>\n",
       "      <th>Percentage</th>\n",
       "    </tr>\n",
       "  </thead>\n",
       "  <tbody>\n",
       "    <tr>\n",
       "      <th>0</th>\n",
       "      <td>1.0</td>\n",
       "      <td>Enough of the food we want</td>\n",
       "      <td>66235</td>\n",
       "      <td>61.36</td>\n",
       "    </tr>\n",
       "    <tr>\n",
       "      <th>1</th>\n",
       "      <td>2.0</td>\n",
       "      <td>Enough but not always the food we want</td>\n",
       "      <td>26194</td>\n",
       "      <td>24.26</td>\n",
       "    </tr>\n",
       "    <tr>\n",
       "      <th>2</th>\n",
       "      <td>3.0</td>\n",
       "      <td>Sometimes not enough to eat</td>\n",
       "      <td>5179</td>\n",
       "      <td>4.80</td>\n",
       "    </tr>\n",
       "    <tr>\n",
       "      <th>3</th>\n",
       "      <td>4.0</td>\n",
       "      <td>Often not enough to eat</td>\n",
       "      <td>1370</td>\n",
       "      <td>1.27</td>\n",
       "    </tr>\n",
       "    <tr>\n",
       "      <th>4</th>\n",
       "      <td>NaN</td>\n",
       "      <td>Missing</td>\n",
       "      <td>8975</td>\n",
       "      <td>8.31</td>\n",
       "    </tr>\n",
       "  </tbody>\n",
       "</table>\n",
       "</div>"
      ],
      "text/plain": [
       "   Responses(values)                       Responses(actual)  Number  \\\n",
       "0                1.0              Enough of the food we want   66235   \n",
       "1                2.0  Enough but not always the food we want   26194   \n",
       "2                3.0             Sometimes not enough to eat    5179   \n",
       "3                4.0                 Often not enough to eat    1370   \n",
       "4                NaN                                 Missing    8975   \n",
       "\n",
       "   Percentage  \n",
       "0       61.36  \n",
       "1       24.26  \n",
       "2        4.80  \n",
       "3        1.27  \n",
       "4        8.31  "
      ]
     },
     "execution_count": 214,
     "metadata": {},
     "output_type": "execute_result"
    }
   ],
   "source": [
    "curfoodsuf_df = pd.DataFrame({\n",
    "    'Responses(values)':[i for i in df.CURFOODSUF.value_counts(dropna = False).sort_index().index],\n",
    "    'Responses(actual)':['Enough of the food we want','Enough but not always the food we want','Sometimes not enough to eat','Often not enough to eat','Missing'],\n",
    "    'Number':[i for i in df.CURFOODSUF.value_counts(dropna = False).sort_index().values],\n",
    "    'Percentage':[round(i*100,2) for i in df.CURFOODSUF.value_counts(dropna = False,normalize = True).sort_index().values]})\n",
    "curfoodsuf_df"
   ]
  },
  {
   "cell_type": "markdown",
   "metadata": {},
   "source": [
    "**`PRIFOODSUF`**"
   ]
  },
  {
   "cell_type": "code",
   "execution_count": 215,
   "metadata": {
    "scrolled": true
   },
   "outputs": [
    {
     "data": {
      "text/html": [
       "<div>\n",
       "<style scoped>\n",
       "    .dataframe tbody tr th:only-of-type {\n",
       "        vertical-align: middle;\n",
       "    }\n",
       "\n",
       "    .dataframe tbody tr th {\n",
       "        vertical-align: top;\n",
       "    }\n",
       "\n",
       "    .dataframe thead th {\n",
       "        text-align: right;\n",
       "    }\n",
       "</style>\n",
       "<table border=\"1\" class=\"dataframe\">\n",
       "  <thead>\n",
       "    <tr style=\"text-align: right;\">\n",
       "      <th></th>\n",
       "      <th>Responses(values)</th>\n",
       "      <th>Responses(actual)</th>\n",
       "      <th>Number</th>\n",
       "      <th>Percentage</th>\n",
       "    </tr>\n",
       "  </thead>\n",
       "  <tbody>\n",
       "    <tr>\n",
       "      <th>0</th>\n",
       "      <td>1.0</td>\n",
       "      <td>Enough of the food we want</td>\n",
       "      <td>75441</td>\n",
       "      <td>69.88</td>\n",
       "    </tr>\n",
       "    <tr>\n",
       "      <th>1</th>\n",
       "      <td>2.0</td>\n",
       "      <td>Enough but not always the food we want</td>\n",
       "      <td>18339</td>\n",
       "      <td>16.99</td>\n",
       "    </tr>\n",
       "    <tr>\n",
       "      <th>2</th>\n",
       "      <td>3.0</td>\n",
       "      <td>Sometimes not enough to eat</td>\n",
       "      <td>4067</td>\n",
       "      <td>3.77</td>\n",
       "    </tr>\n",
       "    <tr>\n",
       "      <th>3</th>\n",
       "      <td>4.0</td>\n",
       "      <td>Often not enough to eat</td>\n",
       "      <td>1165</td>\n",
       "      <td>1.08</td>\n",
       "    </tr>\n",
       "    <tr>\n",
       "      <th>4</th>\n",
       "      <td>NaN</td>\n",
       "      <td>Missing</td>\n",
       "      <td>8941</td>\n",
       "      <td>8.28</td>\n",
       "    </tr>\n",
       "  </tbody>\n",
       "</table>\n",
       "</div>"
      ],
      "text/plain": [
       "   Responses(values)                       Responses(actual)  Number  \\\n",
       "0                1.0              Enough of the food we want   75441   \n",
       "1                2.0  Enough but not always the food we want   18339   \n",
       "2                3.0             Sometimes not enough to eat    4067   \n",
       "3                4.0                 Often not enough to eat    1165   \n",
       "4                NaN                                 Missing    8941   \n",
       "\n",
       "   Percentage  \n",
       "0       69.88  \n",
       "1       16.99  \n",
       "2        3.77  \n",
       "3        1.08  \n",
       "4        8.28  "
      ]
     },
     "execution_count": 215,
     "metadata": {},
     "output_type": "execute_result"
    }
   ],
   "source": [
    "prifoodsuf_df = pd.DataFrame({\n",
    "    'Responses(values)':[i for i in df.PRIFOODSUF.value_counts(dropna = False).sort_index().index],\n",
    "    'Responses(actual)':['Enough of the food we want','Enough but not always the food we want','Sometimes not enough to eat','Often not enough to eat','Missing'],\n",
    "    'Number':[i for i in df.PRIFOODSUF.value_counts(dropna = False).sort_index().values],\n",
    "    'Percentage':[round(i*100,2) for i in df.PRIFOODSUF.value_counts(dropna = False,normalize = True).sort_index().values]})\n",
    "prifoodsuf_df"
   ]
  },
  {
   "cell_type": "code",
   "execution_count": 284,
   "metadata": {
    "scrolled": false
   },
   "outputs": [
    {
     "data": {
      "image/png": "[encoded data removed]",
      "text/plain": [
       "<Figure size 864x576 with 1 Axes>"
      ]
     },
     "metadata": {
      "needs_background": "light"
     },
     "output_type": "display_data"
    }
   ],
   "source": [
    "# Plot graph of frequency against food sufficiency in March and Aug\n",
    "plt.figure(figsize = (12,8))\n",
    "width = 0.8 \n",
    "ind = np.arange(1,10,2)\n",
    "plt.bar(ind+width, curfoodsuf_df['Number'], label='Aug')\n",
    "plt.bar(ind,prifoodsuf_df['Number'], label='March')\n",
    "\n",
    "plt.ylabel('Frequency')\n",
    "plt.title('Comparison of food sufficiency in March and August')\n",
    "\n",
    "plt.xticks(ind + width / 2, curfoodsuf_df['Responses(actual)'])\n",
    "plt.legend()\n",
    "plt.xticks(rotation = 45);"
   ]
  },
  {
   "cell_type": "markdown",
   "metadata": {},
   "source": [
    "`PRIFOODSUF` was asked with regards to food sufficiency before 13 March which is the date that President Donald Trump declared a national state of emergency to cope with the pandemic. The implications that result are economical standstill, hikes in unemploment rates and implementations of stay-at-home orders. These factors could be the underlying reasons for the slight increase in food insufficiency going from March to August. To account for the rise in food insufficiency, a new feature would be engineered by taking the difference of `PRIFOODSUF` and `CURFOODSUF`"
   ]
  },
  {
   "cell_type": "markdown",
   "metadata": {},
   "source": [
    "**`FOODSUF`** <br>\n",
    "New feature which indicates if accessibility of food has changed after the declaration of state of emergency due to COVID"
   ]
  },
  {
   "cell_type": "code",
   "execution_count": 216,
   "metadata": {
    "scrolled": true
   },
   "outputs": [
    {
     "data": {
      "text/plain": [
       " 3.0       63\n",
       " 2.0      286\n",
       " 1.0     4673\n",
       " 0.0    79712\n",
       "-1.0    12338\n",
       "-2.0     1446\n",
       "-3.0      302\n",
       " NaN     9133\n",
       "Name: FOODSUF, dtype: int64"
      ]
     },
     "execution_count": 216,
     "metadata": {},
     "output_type": "execute_result"
    }
   ],
   "source": [
    "df['FOODSUF'] = df['PRIFOODSUF'] - df['CURFOODSUF']\n",
    "df['FOODSUF'].value_counts(dropna = False).sort_index(ascending = False)"
   ]
  },
  {
   "cell_type": "code",
   "execution_count": 217,
   "metadata": {
    "scrolled": true
   },
   "outputs": [
    {
     "data": {
      "text/plain": [
       "Unchanged         79712\n",
       "Less available    14086\n",
       "Missing            9133\n",
       "More available     5022\n",
       "Name: FOODSUF, dtype: int64"
      ]
     },
     "execution_count": 217,
     "metadata": {},
     "output_type": "execute_result"
    }
   ],
   "source": [
    "df['FOODSUF'] = df['FOODSUF'].map(lambda x: 'Less available' if x < 0 else ('More available' if x > 0 else x))\n",
    "df['FOODSUF'] = df['FOODSUF'].replace(0,'Unchanged')\n",
    "df['FOODSUF'] = df['FOODSUF'].replace(np.nan,'Missing')\n",
    "df['FOODSUF'].value_counts(dropna = False)"
   ]
  },
  {
   "cell_type": "code",
   "execution_count": 218,
   "metadata": {},
   "outputs": [
    {
     "data": {
      "image/png": "[encoded data removed]",
      "text/plain": [
       "<Figure size 864x576 with 1 Axes>"
      ]
     },
     "metadata": {
      "needs_background": "light"
     },
     "output_type": "display_data"
    }
   ],
   "source": [
    "# Plot graph of frequency against post-declaration of food availability\n",
    "plt.figure(figsize = (12,8))\n",
    "sns.barplot(x = df['FOODSUF'].value_counts().index,y = df['FOODSUF'].value_counts().values,order = ['Unchanged','Less available','More available','Missing'])\n",
    "\n",
    "# Set title\n",
    "plt.title('Frequency of post-declaration of food availability')\n",
    "\n",
    "# Set xlabel\n",
    "plt.xlabel('Availability',fontsize = 12)\n",
    "\n",
    "# Set ylabel\n",
    "plt.ylabel('Frequency',fontsize = 12);"
   ]
  },
  {
   "cell_type": "markdown",
   "metadata": {},
   "source": [
    "#### Drop `PRIFOODSUF`,`CURFOODSUF`, `CHILDFOOD` and `FOODSUFRSN` features\n",
    "Since data in all of these features is accounted for in `FOODSUF`, they would be dropped."
   ]
  },
  {
   "cell_type": "code",
   "execution_count": 219,
   "metadata": {
    "scrolled": true
   },
   "outputs": [],
   "source": [
    "# Drop the 2 features\n",
    "df.drop(columns = ['PRIFOODSUF','CURFOODSUF','CHILDFOOD'],inplace = True)\n",
    "df.drop(columns = [k for k in foodsufrsn_dict.keys()],inplace = True)"
   ]
  },
  {
   "cell_type": "markdown",
   "metadata": {},
   "source": [
    "**`EVICT`**"
   ]
  },
  {
   "cell_type": "markdown",
   "metadata": {},
   "source": [
    "Measuring the likelihood of eviction in the next 2 months. This question is only asked if `TENURE` is answered as 3/Rented and `RENTCUR` is 2/no"
   ]
  },
  {
   "cell_type": "code",
   "execution_count": 220,
   "metadata": {
    "scrolled": false
   },
   "outputs": [
    {
     "data": {
      "text/plain": [
       "NaN    97.722157\n",
       "3.0     0.705863\n",
       "2.0     0.684557\n",
       "4.0     0.555797\n",
       "1.0     0.331626\n",
       "Name: EVICT, dtype: float64"
      ]
     },
     "execution_count": 220,
     "metadata": {},
     "output_type": "execute_result"
    }
   ],
   "source": [
    "# Removal of missing values from EVICT\n",
    "df['EVICT'].value_counts(dropna = False,normalize = True) * 100"
   ]
  },
  {
   "cell_type": "markdown",
   "metadata": {},
   "source": [
    "Since most of the data are missing and `EVICT` is dependent on responses to `TENURE` and `RENTCUR`, this column can be dropped. The other columns would be sufficient to account for the status of eviction in our model."
   ]
  },
  {
   "cell_type": "markdown",
   "metadata": {},
   "source": [
    "**`RENTCUR`**"
   ]
  },
  {
   "cell_type": "code",
   "execution_count": 223,
   "metadata": {},
   "outputs": [
    {
     "data": {
      "text/plain": [
       "80.0662075542636"
      ]
     },
     "execution_count": 223,
     "metadata": {},
     "output_type": "execute_result"
    }
   ],
   "source": [
    "# Percentage of RENTCUR missing\n",
    "sorted_percent_null['RENTCUR']"
   ]
  },
  {
   "cell_type": "code",
   "execution_count": 224,
   "metadata": {
    "scrolled": false
   },
   "outputs": [
    {
     "data": {
      "text/plain": [
       "NaN    86251\n",
       "1.0    19210\n",
       "2.0     2492\n",
       "Name: RENTCUR, dtype: int64"
      ]
     },
     "execution_count": 224,
     "metadata": {},
     "output_type": "execute_result"
    }
   ],
   "source": [
    "df['RENTCUR'].value_counts(dropna = False)"
   ]
  },
  {
   "cell_type": "code",
   "execution_count": 225,
   "metadata": {},
   "outputs": [],
   "source": [
    "rentcur_df = pd.DataFrame({\n",
    "    'Responses(values)':[i for i in df['RENTCUR'].value_counts(dropna = False).sort_index().index],\n",
    "    'Responses(actual)':['Yes','No','Missing'],\n",
    "    'Number':[i for i in df['RENTCUR'].value_counts(dropna = False).sort_index().values],\n",
    "    'Percentage':[round(i*100,2) for i in df['RENTCUR'].value_counts(dropna = False,normalize = True).sort_index().values]\n",
    "})"
   ]
  },
  {
   "cell_type": "code",
   "execution_count": 294,
   "metadata": {
    "scrolled": true
   },
   "outputs": [
    {
     "data": {
      "image/png": "[encoded data removed]",
      "text/plain": [
       "<Figure size 432x288 with 1 Axes>"
      ]
     },
     "metadata": {
      "needs_background": "light"
     },
     "output_type": "display_data"
    }
   ],
   "source": [
    "# Plot graph of frequency against ability to pay rent\n",
    "sns.barplot(x = rentcur_df['Responses(actual)'], y = rentcur_df['Number'])\n",
    "\n",
    "# Set title\n",
    "plt.title('Ability to pay rent')\n",
    "\n",
    "# Set xlabel\n",
    "plt.xlabel('Responses')\n",
    "\n",
    "# Set ylabel\n",
    "plt.ylabel('Frequency');"
   ]
  },
  {
   "cell_type": "markdown",
   "metadata": {},
   "source": [
    "**`MORTCUR`** <br>\n",
    "Question asking if households are able to afford mortgage payments"
   ]
  },
  {
   "cell_type": "code",
   "execution_count": 226,
   "metadata": {},
   "outputs": [
    {
     "data": {
      "text/plain": [
       "1.0    41323\n",
       "2.0     3177\n",
       "NaN    63453\n",
       "Name: MORTCUR, dtype: int64"
      ]
     },
     "execution_count": 226,
     "metadata": {},
     "output_type": "execute_result"
    }
   ],
   "source": [
    "df['MORTCUR'].value_counts(dropna = False).sort_index()"
   ]
  },
  {
   "cell_type": "markdown",
   "metadata": {},
   "source": [
    "**`FORCLOSE`** <br>\n",
    "Similar to `EVICT` which asks respondents about the likelihood of losing the ability to pay mortgage and thus obligated to give up their homes"
   ]
  },
  {
   "cell_type": "code",
   "execution_count": 227,
   "metadata": {},
   "outputs": [
    {
     "data": {
      "text/plain": [
       "NaN    104807\n",
       "4.0      1447\n",
       "3.0      1146\n",
       "2.0       429\n",
       "1.0       124\n",
       "Name: FORCLOSE, dtype: int64"
      ]
     },
     "execution_count": 227,
     "metadata": {},
     "output_type": "execute_result"
    }
   ],
   "source": [
    "df['FORCLOSE'].value_counts(dropna = False)"
   ]
  },
  {
   "cell_type": "markdown",
   "metadata": {},
   "source": [
    "**`TENURE`**"
   ]
  },
  {
   "cell_type": "code",
   "execution_count": 228,
   "metadata": {},
   "outputs": [
    {
     "data": {
      "text/plain": [
       "17.884292670401923"
      ]
     },
     "execution_count": 228,
     "metadata": {},
     "output_type": "execute_result"
    }
   ],
   "source": [
    "# Percentage of TENURE missing\n",
    "sorted_percent_null['TENURE']"
   ]
  },
  {
   "cell_type": "code",
   "execution_count": 229,
   "metadata": {
    "scrolled": true
   },
   "outputs": [
    {
     "data": {
      "text/html": [
       "<div>\n",
       "<style scoped>\n",
       "    .dataframe tbody tr th:only-of-type {\n",
       "        vertical-align: middle;\n",
       "    }\n",
       "\n",
       "    .dataframe tbody tr th {\n",
       "        vertical-align: top;\n",
       "    }\n",
       "\n",
       "    .dataframe thead th {\n",
       "        text-align: right;\n",
       "    }\n",
       "</style>\n",
       "<table border=\"1\" class=\"dataframe\">\n",
       "  <thead>\n",
       "    <tr style=\"text-align: right;\">\n",
       "      <th></th>\n",
       "      <th>Responses(values)</th>\n",
       "      <th>Responses(actual)</th>\n",
       "      <th>Number</th>\n",
       "      <th>Percentage</th>\n",
       "    </tr>\n",
       "  </thead>\n",
       "  <tbody>\n",
       "    <tr>\n",
       "      <th>0</th>\n",
       "      <td>1.0</td>\n",
       "      <td>Owned free and clear</td>\n",
       "      <td>21824</td>\n",
       "      <td>20.22</td>\n",
       "    </tr>\n",
       "    <tr>\n",
       "      <th>1</th>\n",
       "      <td>2.0</td>\n",
       "      <td>Owned with mortgage/loan</td>\n",
       "      <td>44659</td>\n",
       "      <td>41.37</td>\n",
       "    </tr>\n",
       "    <tr>\n",
       "      <th>2</th>\n",
       "      <td>3.0</td>\n",
       "      <td>Rented</td>\n",
       "      <td>21776</td>\n",
       "      <td>20.17</td>\n",
       "    </tr>\n",
       "    <tr>\n",
       "      <th>3</th>\n",
       "      <td>4.0</td>\n",
       "      <td>Occupied without paying</td>\n",
       "      <td>1149</td>\n",
       "      <td>1.06</td>\n",
       "    </tr>\n",
       "    <tr>\n",
       "      <th>4</th>\n",
       "      <td>NaN</td>\n",
       "      <td>Missing</td>\n",
       "      <td>18545</td>\n",
       "      <td>17.18</td>\n",
       "    </tr>\n",
       "  </tbody>\n",
       "</table>\n",
       "</div>"
      ],
      "text/plain": [
       "   Responses(values)         Responses(actual)  Number  Percentage\n",
       "0                1.0      Owned free and clear   21824       20.22\n",
       "1                2.0  Owned with mortgage/loan   44659       41.37\n",
       "2                3.0                    Rented   21776       20.17\n",
       "3                4.0   Occupied without paying    1149        1.06\n",
       "4                NaN                   Missing   18545       17.18"
      ]
     },
     "execution_count": 229,
     "metadata": {},
     "output_type": "execute_result"
    }
   ],
   "source": [
    "tenure_df = pd.DataFrame({\n",
    "    'Responses(values)':[i for i in df.TENURE.value_counts(dropna = False).sort_index().index],\n",
    "    'Responses(actual)':['Owned free and clear','Owned with mortgage/loan','Rented','Occupied without paying','Missing'],\n",
    "    'Number':[i for i in df.TENURE.value_counts(dropna = False).sort_index().values],\n",
    "    'Percentage':[round(i*100,2) for i in df.TENURE.value_counts(dropna = False,normalize = True).sort_index().values]})\n",
    "tenure_df\n"
   ]
  },
  {
   "cell_type": "code",
   "execution_count": 232,
   "metadata": {},
   "outputs": [
    {
     "data": {
      "image/png": "[encoded data removed]",
      "text/plain": [
       "<Figure size 864x576 with 1 Axes>"
      ]
     },
     "metadata": {
      "needs_background": "light"
     },
     "output_type": "display_data"
    }
   ],
   "source": [
    "# Plot frequency against housing status\n",
    "plt.figure(figsize = (12,8))\n",
    "sns.barplot(x = tenure_df['Responses(actual)'], y = tenure_df['Number'], palette = 'Set2')\n",
    "plt.title('Graph of housing status')\n",
    "plt.xticks(rotation = 45)\n",
    "plt.ylabel('Frequency',fontsize = 12)\n",
    "plt.xlabel('Housing Status',fontsize = 12);\n"
   ]
  },
  {
   "cell_type": "markdown",
   "metadata": {},
   "source": [
    "#### Imputing missing data\n",
    "Since there is a large number of missing values and `TENURE` is an indicator of the financial status of people, it should not be dropped and the missing values are classified under a **Missing** class."
   ]
  },
  {
   "cell_type": "code",
   "execution_count": 233,
   "metadata": {},
   "outputs": [],
   "source": [
    "# Reclassifying null TENURE values\n",
    "df['TENURE'] = df['TENURE'].fillna('Missing')"
   ]
  },
  {
   "cell_type": "markdown",
   "metadata": {},
   "source": [
    "#### Merging of `RENTCUR` and `MORTCUR` into one feature"
   ]
  },
  {
   "cell_type": "code",
   "execution_count": 234,
   "metadata": {},
   "outputs": [],
   "source": [
    "# Function to regroup values \n",
    "def housepay(row):\n",
    "    if row['TENURE'] == 2 and row['MORTCUR'] == 1:\n",
    "        return 'Yes'\n",
    "    elif row['TENURE'] == 2 and row['MORTCUR'] == 2:\n",
    "        return 'No'\n",
    "    elif row['TENURE'] == 3 and row['RENTCUR'] == 1:\n",
    "        return 'Yes'\n",
    "    elif row['TENURE'] == 3 and row['RENTCUR'] == 2:\n",
    "        return 'No'\n",
    "    else:\n",
    "        return 'Missing'"
   ]
  },
  {
   "cell_type": "code",
   "execution_count": 235,
   "metadata": {},
   "outputs": [
    {
     "data": {
      "text/plain": [
       "Yes        60533\n",
       "Missing    41751\n",
       "No          5669\n",
       "Name: HOUSEPAY, dtype: int64"
      ]
     },
     "execution_count": 235,
     "metadata": {},
     "output_type": "execute_result"
    }
   ],
   "source": [
    "# New feature to indicate if households are able to afford their houses\n",
    "df['HOUSEPAY'] = df.apply(housepay,axis = 1)\n",
    "df['HOUSEPAY'].value_counts()"
   ]
  },
  {
   "cell_type": "markdown",
   "metadata": {},
   "source": [
    "#### Drop `RENTCUR`,`MORTCUR`,`EVICT`,`FORCLOSE`"
   ]
  },
  {
   "cell_type": "markdown",
   "metadata": {},
   "source": [
    "Since `RENTCUR`,`MORTCUR`,`EVICT`,`FORCLOSE` are highly correlated to `HOUSEPAY` and could be a substitute for one another,all would be removed to prevent overfitting of our model."
   ]
  },
  {
   "cell_type": "code",
   "execution_count": 236,
   "metadata": {},
   "outputs": [],
   "source": [
    "# Dropping columns\n",
    "df.drop(columns = ['EVICT','FORCLOSE','RENTCUR','MORTCUR'],inplace = True)"
   ]
  },
  {
   "cell_type": "markdown",
   "metadata": {},
   "source": [
    "#### `MORTCONF`"
   ]
  },
  {
   "cell_type": "code",
   "execution_count": 237,
   "metadata": {
    "scrolled": true
   },
   "outputs": [
    {
     "data": {
      "text/plain": [
       "1.0     3212\n",
       "2.0     5087\n",
       "3.0    11488\n",
       "4.0    45410\n",
       "5.0      876\n",
       "NaN    41880\n",
       "Name: MORTCONF, dtype: int64"
      ]
     },
     "execution_count": 237,
     "metadata": {},
     "output_type": "execute_result"
    }
   ],
   "source": [
    "df['MORTCONF'].value_counts(dropna = False).sort_index()"
   ]
  },
  {
   "cell_type": "markdown",
   "metadata": {},
   "source": [
    "Since this feature is highly correlated to `HOUSEPAY`, this would be dropped."
   ]
  },
  {
   "cell_type": "code",
   "execution_count": 240,
   "metadata": {},
   "outputs": [],
   "source": [
    "# Dropping MORTCONF feature\n",
    "df.drop(columns = ['MORTCONF'],inplace = True)"
   ]
  },
  {
   "cell_type": "markdown",
   "metadata": {},
   "source": [
    "**`TEACH`**"
   ]
  },
  {
   "cell_type": "code",
   "execution_count": 241,
   "metadata": {
    "scrolled": true
   },
   "outputs": [
    {
     "data": {
      "text/plain": [
       "{'TEACH5': 97.79094185289452,\n",
       " 'TEACH3': 97.16646339785972,\n",
       " 'TEACH4': 96.57224601333321,\n",
       " 'TEACH1': 94.75199677215248,\n",
       " 'TEACH2': 85.5700543782267}"
      ]
     },
     "execution_count": 241,
     "metadata": {},
     "output_type": "execute_result"
    }
   ],
   "source": [
    "teach_dict = {k:v for k,v in sorted_percent_null.items() if k.startswith('TEACH')}\n",
    "teach_dict"
   ]
  },
  {
   "cell_type": "code",
   "execution_count": 242,
   "metadata": {
    "scrolled": true
   },
   "outputs": [
    {
     "data": {
      "text/plain": [
       "TEACH5     2404\n",
       "TEACH3     3085\n",
       "TEACH4     3736\n",
       "TEACH1     5718\n",
       "TEACH2    15725\n",
       "dtype: int64"
      ]
     },
     "execution_count": 242,
     "metadata": {},
     "output_type": "execute_result"
    }
   ],
   "source": [
    "teach_df = df[[k for k in teach_dict.keys()]]\n",
    "teach_df.count()"
   ]
  },
  {
   "cell_type": "code",
   "execution_count": 243,
   "metadata": {},
   "outputs": [
    {
     "data": {
      "text/plain": [
       "TEACH5    105549\n",
       "TEACH3    104868\n",
       "TEACH4    104217\n",
       "TEACH1    102235\n",
       "TEACH2     92228\n",
       "dtype: int64"
      ]
     },
     "execution_count": 243,
     "metadata": {},
     "output_type": "execute_result"
    }
   ],
   "source": [
    "# Null values in each TEACH column\n",
    "teach_df.isnull().sum()"
   ]
  },
  {
   "cell_type": "markdown",
   "metadata": {},
   "source": [
    "|Features|Labels|\n",
    "|--------|------|\n",
    "|TEACH1|Cancelled classes|\n",
    "|TEACH2|Changed to e-learning|\n",
    "|TEACH3|Changed to mailed school materials|\n",
    "|TEACH4|Changed to other ways|\n",
    "|TEACH5|No changes|"
   ]
  },
  {
   "cell_type": "markdown",
   "metadata": {},
   "source": [
    "Since the `TEACH` features have many missing values and are secondary to impacting the mental health of adults, they would be dropped"
   ]
  },
  {
   "cell_type": "code",
   "execution_count": 244,
   "metadata": {},
   "outputs": [],
   "source": [
    "# Drop all other TEACH features:\n",
    "df.drop(columns = [k for k in teach_dict.keys()],inplace = True)"
   ]
  },
  {
   "cell_type": "markdown",
   "metadata": {},
   "source": [
    "These questions are only asked if `ENROLL` are answered with yes/1"
   ]
  },
  {
   "cell_type": "code",
   "execution_count": 245,
   "metadata": {
    "scrolled": true
   },
   "outputs": [
    {
     "data": {
      "text/plain": [
       "{'ENROLL2': 97.17379941495264,\n",
       " 'ENROLL3': 92.86939138568194,\n",
       " 'ENROLL1': 78.04696884943742}"
      ]
     },
     "execution_count": 245,
     "metadata": {},
     "output_type": "execute_result"
    }
   ],
   "source": [
    "enroll_dict = {k:v for k,v in sorted_percent_null.items() if k.startswith('ENROLL')}\n",
    "enroll_dict"
   ]
  },
  {
   "cell_type": "code",
   "execution_count": 246,
   "metadata": {
    "scrolled": true
   },
   "outputs": [
    {
     "name": "stdout",
     "output_type": "stream",
     "text": [
      "NaN    104877\n",
      "1.0      3076\n",
      "Name: ENROLL2, dtype: int64\n",
      "\n",
      "NaN    100204\n",
      "1.0      7749\n",
      "Name: ENROLL3, dtype: int64\n",
      "\n",
      "NaN    84036\n",
      "1.0    23917\n",
      "Name: ENROLL1, dtype: int64\n",
      "\n"
     ]
    }
   ],
   "source": [
    "for i in enroll_dict.keys():\n",
    "    print(df[i].value_counts(dropna = False))\n",
    "    print('')"
   ]
  },
  {
   "cell_type": "markdown",
   "metadata": {},
   "source": [
    "#### Drop `ENROLL` features\n",
    "Since most of the values in `ENROLL` features are missing and are questions that surround the well-being of children and not our target audience, these would be dropped."
   ]
  },
  {
   "cell_type": "code",
   "execution_count": 247,
   "metadata": {
    "scrolled": false
   },
   "outputs": [],
   "source": [
    "df.drop(columns = [k for k in enroll_dict.keys()],inplace = True)"
   ]
  },
  {
   "cell_type": "markdown",
   "metadata": {},
   "source": [
    "**`SPNDSRC`**"
   ]
  },
  {
   "cell_type": "code",
   "execution_count": 248,
   "metadata": {
    "scrolled": true
   },
   "outputs": [
    {
     "data": {
      "text/plain": [
       "{'SPNDSRC8': 95.55070563314413,\n",
       " 'SPNDSRC7': 95.52594657545552,\n",
       " 'SPNDSRC4': 92.43381537078982,\n",
       " 'SPNDSRC5': 89.69197898231103,\n",
       " 'SPNDSRC6': 78.46053681305078,\n",
       " 'SPNDSRC3': 77.1886548495658,\n",
       " 'SPNDSRC2': 76.1166793518629,\n",
       " 'SPNDSRC1': 29.98413586303656}"
      ]
     },
     "execution_count": 248,
     "metadata": {},
     "output_type": "execute_result"
    }
   ],
   "source": [
    "spndsrc_dict = {k:v for k,v in sorted_percent_null.items() if k.startswith('SPNDSRC')}\n",
    "spndsrc_dict"
   ]
  },
  {
   "cell_type": "code",
   "execution_count": 249,
   "metadata": {
    "scrolled": false
   },
   "outputs": [
    {
     "data": {
      "text/plain": [
       "SPNDSRC8     4841\n",
       "SPNDSRC7     4870\n",
       "SPNDSRC4     8237\n",
       "SPNDSRC5    11228\n",
       "SPNDSRC6    23451\n",
       "SPNDSRC3    24836\n",
       "SPNDSRC2    25994\n",
       "SPNDSRC1    76225\n",
       "dtype: int64"
      ]
     },
     "execution_count": 249,
     "metadata": {},
     "output_type": "execute_result"
    }
   ],
   "source": [
    "spndsrc_df = df[[i for i in spndsrc_dict.keys()]]\n",
    "spndsrc_df.count()"
   ]
  },
  {
   "cell_type": "code",
   "execution_count": 317,
   "metadata": {
    "scrolled": false
   },
   "outputs": [
    {
     "data": {
      "image/png": "[encoded data removed]",
      "text/plain": [
       "<Figure size 864x576 with 1 Axes>"
      ]
     },
     "metadata": {
      "needs_background": "light"
     },
     "output_type": "display_data"
    }
   ],
   "source": [
    "# Plot graph of frequency against sources of spending needs\n",
    "plt.figure(figsize = (12,8))\n",
    "sns.set_palette(\"Spectral\", 8, .75)\n",
    "sns.barplot(x = spndsrc_df.count().index, y = spndsrc_df.count().values)\n",
    "plt.title('Sources of spending needs',fontsize = 15)\n",
    "plt.ylabel('Frequency',fontsize = 12)\n",
    "plt.xlabel('Sources',fontsize = 12);"
   ]
  },
  {
   "cell_type": "markdown",
   "metadata": {},
   "source": [
    "|Features|Labels|\n",
    "|--------|------|\n",
    "|SPNDSRC1|Regular flow of income|\n",
    "|SPNDSRC2|Credit cards/loans|\n",
    "|SPNDSRC3|Savings|\n",
    "|SPNDSRC4|Borrow from friends/family|\n",
    "|SPNDSRC5|Unemployment Insurance(UI) benefit payments|\n",
    "|SPNDSRC6|Stimulus Payment|\n",
    "|SPNDSRC7|Money saved from deferred/forgiven payments|\n",
    "|SPNDSRC8|Supplemental Nutrition Assistance Program(SNAP)|"
   ]
  },
  {
   "cell_type": "markdown",
   "metadata": {},
   "source": [
    "#### Imputing missing values\n",
    "All null values would be imputed as 0"
   ]
  },
  {
   "cell_type": "code",
   "execution_count": 250,
   "metadata": {},
   "outputs": [],
   "source": [
    "# Imputing all missing values in SPNDSRC features as 0\n",
    "for i in spndsrc_dict.keys():\n",
    "    df[i] = df[i].fillna(0)"
   ]
  },
  {
   "cell_type": "markdown",
   "metadata": {},
   "source": [
    "**`UI_RECV`**,**`UI_APPLY`**"
   ]
  },
  {
   "cell_type": "code",
   "execution_count": 251,
   "metadata": {
    "scrolled": true
   },
   "outputs": [
    {
     "data": {
      "text/plain": [
       "NaN    83.596565\n",
       "1.0    12.672181\n",
       "2.0     3.731253\n",
       "Name: UI_RECV, dtype: float64"
      ]
     },
     "execution_count": 251,
     "metadata": {},
     "output_type": "execute_result"
    }
   ],
   "source": [
    "df['UI_RECV'].value_counts(dropna = False,normalize = True)*100"
   ]
  },
  {
   "cell_type": "code",
   "execution_count": 252,
   "metadata": {
    "scrolled": true
   },
   "outputs": [
    {
     "data": {
      "text/plain": [
       "2.0    83.109316\n",
       "1.0    16.588701\n",
       "NaN     0.301983\n",
       "Name: UI_APPLY, dtype: float64"
      ]
     },
     "execution_count": 252,
     "metadata": {},
     "output_type": "execute_result"
    }
   ],
   "source": [
    "df['UI_APPLY'].value_counts(dropna = False,normalize = True) * 100"
   ]
  },
  {
   "cell_type": "markdown",
   "metadata": {},
   "source": [
    "A survey conducted has shown that only half of the potential UI applicants are receiving benefits due to the difficulties such as slow approval and UI's slow payment rate. "
   ]
  },
  {
   "cell_type": "markdown",
   "metadata": {},
   "source": [
    "Since both features are indicators of the usage of Unemployment Insurance(UI), `UI_RECV` can be removed as it has more null values. Missing values in `UI_APPLY` would be dropped as it only accounts for <1%"
   ]
  },
  {
   "cell_type": "code",
   "execution_count": 253,
   "metadata": {
    "scrolled": true
   },
   "outputs": [],
   "source": [
    "# Dropping UI_RECV column\n",
    "df.drop(columns = ['UI_RECV'],inplace = True)\n",
    "\n",
    "# Dropping all null values in UI_APPLY\n",
    "df.dropna(subset = ['UI_APPLY'],inplace = True)"
   ]
  },
  {
   "cell_type": "markdown",
   "metadata": {},
   "source": [
    "**`TSTDY_HRS`**"
   ]
  },
  {
   "cell_type": "code",
   "execution_count": 254,
   "metadata": {
    "scrolled": false
   },
   "outputs": [
    {
     "data": {
      "image/png": "[encoded data removed]",
      "text/plain": [
       "<Figure size 432x288 with 1 Axes>"
      ]
     },
     "metadata": {
      "needs_background": "light"
     },
     "output_type": "display_data"
    }
   ],
   "source": [
    "# Distribution of the number of studying hours\n",
    "sns.violinplot(x = df['TSTDY_HRS'])\n",
    "plt.title('Distribution of studying hours in the last week');"
   ]
  },
  {
   "cell_type": "markdown",
   "metadata": {},
   "source": [
    "The plot shows that the graph is right skewed and there area several small peaks that can be seen. The areas of higher probabilities show that majority of the children spend < 10 hours on studying in the past week. However, this feature would be dropped as it is secondary in influencing the mental health of people."
   ]
  },
  {
   "cell_type": "code",
   "execution_count": 255,
   "metadata": {},
   "outputs": [],
   "source": [
    "df.drop(columns = ['TSTDY_HRS'],inplace = True)"
   ]
  },
  {
   "cell_type": "markdown",
   "metadata": {},
   "source": [
    "**`SCHLHRS`**"
   ]
  },
  {
   "cell_type": "markdown",
   "metadata": {},
   "source": [
    "Since this feature is mainly targetting at children, it would be dropped."
   ]
  },
  {
   "cell_type": "code",
   "execution_count": 256,
   "metadata": {},
   "outputs": [],
   "source": [
    "df.drop(columns = ['SCHLHRS'],inplace = True)"
   ]
  },
  {
   "cell_type": "markdown",
   "metadata": {},
   "source": [
    "#### `HLTHINS`\n",
    "Queries regarding health insurance coverage plans"
   ]
  },
  {
   "cell_type": "code",
   "execution_count": 257,
   "metadata": {
    "scrolled": true
   },
   "outputs": [
    {
     "data": {
      "text/plain": [
       "{'HLTHINS8': 30.384865796737305,\n",
       " 'HLTHINS7': 27.98782221162575,\n",
       " 'HLTHINS6': 27.275311551475916,\n",
       " 'HLTHINS5': 26.90759369469331,\n",
       " 'HLTHINS4': 26.256522177696674,\n",
       " 'HLTHINS2': 24.439940945062403,\n",
       " 'HLTHINS3': 23.170809987987273,\n",
       " 'HLTHINS1': 18.243757507954996}"
      ]
     },
     "execution_count": 257,
     "metadata": {},
     "output_type": "execute_result"
    }
   ],
   "source": [
    "hlthins_dict = {k:v for k,v in sorted_percent_null.items() if k.startswith('HLTHINS')}\n",
    "hlthins_dict"
   ]
  },
  {
   "cell_type": "code",
   "execution_count": 258,
   "metadata": {
    "scrolled": true
   },
   "outputs": [],
   "source": [
    "# Replacing all No responses as 0\n",
    "hlthins_df = df[[k for k in hlthins_dict.keys()]]\n",
    "for i in hlthins_df:\n",
    "    hlthins_df[i] = hlthins_df[i].replace(2.0,0.0)"
   ]
  },
  {
   "cell_type": "code",
   "execution_count": 259,
   "metadata": {},
   "outputs": [
    {
     "data": {
      "text/plain": [
       "HLTHINS8     4418.0\n",
       "HLTHINS7      761.0\n",
       "HLTHINS6     4409.0\n",
       "HLTHINS5     4367.0\n",
       "HLTHINS4     9517.0\n",
       "HLTHINS2    21757.0\n",
       "HLTHINS3    22363.0\n",
       "HLTHINS1    61688.0\n",
       "dtype: float64"
      ]
     },
     "execution_count": 259,
     "metadata": {},
     "output_type": "execute_result"
    }
   ],
   "source": [
    "hlthins_df.sum()"
   ]
  },
  {
   "cell_type": "code",
   "execution_count": 328,
   "metadata": {
    "scrolled": false
   },
   "outputs": [
    {
     "data": {
      "image/png": "[encoded data removed]",
      "text/plain": [
       "<Figure size 864x576 with 1 Axes>"
      ]
     },
     "metadata": {
      "needs_background": "light"
     },
     "output_type": "display_data"
    }
   ],
   "source": [
    "# Plot frequency against health insurance coverage\n",
    "plt.figure(figsize = (12,8))\n",
    "sns.barplot(x = [i for i in hlthins_df.sum().index],y = [i for i in hlthins_df.sum().values])\n",
    "plt.title('Frequency against health insurance coverage')\n",
    "plt.ylabel('Frequency',fontsize = 12)\n",
    "plt.xlabel('Health Insurance Coverage',fontsize = 12);"
   ]
  },
  {
   "cell_type": "markdown",
   "metadata": {},
   "source": [
    "|Features|Labels|\n",
    "|--------|------|\n",
    "|HLTHINS1|Insured by a current/former employer/union|\n",
    "|HLTHINS2|Insured by an insurance company|\n",
    "|HLTHINS3|Medicare, people > 65 and people with disabilities|\n",
    "|HLTHINS4|Government-assistance plan(Medicaid,Medical Assistance)|\n",
    "|HLTHINS5|TRICARE/other military healthcare|\n",
    "|HLTHINS6|VA healthcare|\n",
    "|HLTHINS7|Indian Health Service|\n",
    "|HLTHINS8|Others|"
   ]
  },
  {
   "cell_type": "code",
   "execution_count": 260,
   "metadata": {},
   "outputs": [
    {
     "data": {
      "text/plain": [
       "HLTHINS8    31969\n",
       "HLTHINS7    29374\n",
       "HLTHINS6    28609\n",
       "HLTHINS5    28211\n",
       "HLTHINS4    27502\n",
       "HLTHINS2    25533\n",
       "HLTHINS3    24181\n",
       "HLTHINS1    18812\n",
       "dtype: int64"
      ]
     },
     "execution_count": 260,
     "metadata": {},
     "output_type": "execute_result"
    }
   ],
   "source": [
    "hlthins_df.isnull().sum()"
   ]
  },
  {
   "cell_type": "markdown",
   "metadata": {},
   "source": [
    "Out of those who are insured, majority of them are insured by their current employer. Given that there is a strong correlation of health insurance with employment, the loss of income/career would have a ripple effect on the health insurance coverage of people. Medicare is the next most popular health insurance coverage as it has been the largest payer in the US. Since medical expenses are huge finanical woes for people despite being insured, these features could be important in influencing the mental well-being of people."
   ]
  },
  {
   "cell_type": "markdown",
   "metadata": {},
   "source": [
    "https://www.bmj.com/content/370/bmj.m2606"
   ]
  },
  {
   "cell_type": "markdown",
   "metadata": {},
   "source": [
    "**`PUBHLTH`** and **`PRIVHLTH`**"
   ]
  },
  {
   "cell_type": "code",
   "execution_count": 261,
   "metadata": {
    "scrolled": true
   },
   "outputs": [
    {
     "data": {
      "text/plain": [
       "2    52056\n",
       "1    31091\n",
       "3    24480\n",
       "Name: PUBHLTH, dtype: int64"
      ]
     },
     "execution_count": 261,
     "metadata": {},
     "output_type": "execute_result"
    }
   ],
   "source": [
    "df['PUBHLTH'].value_counts(dropna = False)"
   ]
  },
  {
   "cell_type": "code",
   "execution_count": 262,
   "metadata": {
    "scrolled": true
   },
   "outputs": [
    {
     "data": {
      "text/plain": [
       "1    72529\n",
       "3    19291\n",
       "2    15807\n",
       "Name: PRIVHLTH, dtype: int64"
      ]
     },
     "execution_count": 262,
     "metadata": {},
     "output_type": "execute_result"
    }
   ],
   "source": [
    "df['PRIVHLTH'].value_counts(dropna = False)"
   ]
  },
  {
   "cell_type": "markdown",
   "metadata": {},
   "source": [
    "Since there is a large number of missing values in `HLTHINS` features and `PUBHLTH` and `PRIVHLTH` are sufficient to account for the health insurance coverage status of people, these would be dropped. A new feature `INSURED` would be engineered from `PUBHLTH` and `PRIVHLTH` to distinguish insured from un-insured respondents and a a missing class for the nonresponses"
   ]
  },
  {
   "cell_type": "code",
   "execution_count": 263,
   "metadata": {
    "scrolled": true
   },
   "outputs": [
    {
     "data": {
      "text/plain": [
       "Insured        78.973678\n",
       "Missing        15.680080\n",
       "Not insured     5.346242\n",
       "Name: INSURED, dtype: float64"
      ]
     },
     "execution_count": 263,
     "metadata": {},
     "output_type": "execute_result"
    }
   ],
   "source": [
    "# Engineering a new feature INSURED where 1 = ins\n",
    "df['INSURED'] = df.apply(lambda row: 'Insured' if (row['PUBHLTH'] == 1) | (row['PRIVHLTH'] == 1) else \n",
    "                         ('Missing' if (row['PUBHLTH'] == 3) & (row['PRIVHLTH'] == 3) else 'Not insured')  ,axis = 1)\n",
    "df['INSURED'].value_counts(dropna = False,normalize = True) * 100"
   ]
  },
  {
   "cell_type": "code",
   "execution_count": 264,
   "metadata": {},
   "outputs": [],
   "source": [
    "# Dropping redundant HLTHINS features\n",
    "df.drop(columns = [i for i in hlthins_dict.keys()],inplace = True)"
   ]
  },
  {
   "cell_type": "markdown",
   "metadata": {},
   "source": [
    "#### `UNEMPPAY`\n",
    "Question asking if respondents are paid for time not working"
   ]
  },
  {
   "cell_type": "code",
   "execution_count": 265,
   "metadata": {
    "scrolled": true
   },
   "outputs": [
    {
     "data": {
      "text/plain": [
       "NaN    68729\n",
       "4.0    35883\n",
       "2.0     1337\n",
       "3.0     1133\n",
       "1.0      545\n",
       "Name: UNEMPPAY, dtype: int64"
      ]
     },
     "execution_count": 265,
     "metadata": {},
     "output_type": "execute_result"
    }
   ],
   "source": [
    "df['UNEMPPAY'].value_counts(dropna = False)"
   ]
  },
  {
   "cell_type": "code",
   "execution_count": 266,
   "metadata": {
    "scrolled": true
   },
   "outputs": [
    {
     "data": {
      "text/html": [
       "<div>\n",
       "<style scoped>\n",
       "    .dataframe tbody tr th:only-of-type {\n",
       "        vertical-align: middle;\n",
       "    }\n",
       "\n",
       "    .dataframe tbody tr th {\n",
       "        vertical-align: top;\n",
       "    }\n",
       "\n",
       "    .dataframe thead th {\n",
       "        text-align: right;\n",
       "    }\n",
       "</style>\n",
       "<table border=\"1\" class=\"dataframe\">\n",
       "  <thead>\n",
       "    <tr style=\"text-align: right;\">\n",
       "      <th></th>\n",
       "      <th>Responses(values)</th>\n",
       "      <th>Responses(actual)</th>\n",
       "      <th>Number</th>\n",
       "      <th>Percentage</th>\n",
       "    </tr>\n",
       "  </thead>\n",
       "  <tbody>\n",
       "    <tr>\n",
       "      <th>0</th>\n",
       "      <td>1.0</td>\n",
       "      <td>Fully pay with paid leave</td>\n",
       "      <td>545</td>\n",
       "      <td>0.51</td>\n",
       "    </tr>\n",
       "    <tr>\n",
       "      <th>1</th>\n",
       "      <td>2.0</td>\n",
       "      <td>Full-pay without taking paid leave</td>\n",
       "      <td>1337</td>\n",
       "      <td>1.24</td>\n",
       "    </tr>\n",
       "    <tr>\n",
       "      <th>2</th>\n",
       "      <td>3.0</td>\n",
       "      <td>Partial pay</td>\n",
       "      <td>1133</td>\n",
       "      <td>1.05</td>\n",
       "    </tr>\n",
       "    <tr>\n",
       "      <th>3</th>\n",
       "      <td>4.0</td>\n",
       "      <td>No pay</td>\n",
       "      <td>35883</td>\n",
       "      <td>33.34</td>\n",
       "    </tr>\n",
       "    <tr>\n",
       "      <th>4</th>\n",
       "      <td>NaN</td>\n",
       "      <td>Missing</td>\n",
       "      <td>68729</td>\n",
       "      <td>63.86</td>\n",
       "    </tr>\n",
       "  </tbody>\n",
       "</table>\n",
       "</div>"
      ],
      "text/plain": [
       "   Responses(values)                   Responses(actual)  Number  Percentage\n",
       "0                1.0           Fully pay with paid leave     545        0.51\n",
       "1                2.0  Full-pay without taking paid leave    1337        1.24\n",
       "2                3.0                         Partial pay    1133        1.05\n",
       "3                4.0                              No pay   35883       33.34\n",
       "4                NaN                             Missing   68729       63.86"
      ]
     },
     "execution_count": 266,
     "metadata": {},
     "output_type": "execute_result"
    }
   ],
   "source": [
    "unemppay_df = pd.DataFrame({\n",
    "    'Responses(values)':[i for i in df['UNEMPPAY'].value_counts(dropna = False).sort_index().index],\n",
    "    'Responses(actual)':['Fully pay with paid leave','Full-pay without taking paid leave','Partial pay','No pay','Missing'],\n",
    "    'Number':[i for i in df['UNEMPPAY'].value_counts(dropna = False).sort_index().values],\n",
    "    'Percentage':[round(i*100,2) for i in df['UNEMPPAY'].value_counts(dropna = False,normalize = True).sort_index().values]\n",
    "})\n",
    "unemppay_df"
   ]
  },
  {
   "cell_type": "code",
   "execution_count": 267,
   "metadata": {
    "scrolled": false
   },
   "outputs": [
    {
     "data": {
      "image/png": "[encoded data removed]",
      "text/plain": [
       "<Figure size 864x576 with 1 Axes>"
      ]
     },
     "metadata": {
      "needs_background": "light"
     },
     "output_type": "display_data"
    }
   ],
   "source": [
    "# Plot frequency against unemployment pay status\n",
    "plt.figure(figsize = (12,8))\n",
    "sns.barplot(x = unemppay_df['Responses(actual)'],y = unemppay_df['Number'],palette = 'Set2')\n",
    "plt.title('Unemployment pay status')\n",
    "plt.ylabel('Frequency',fontsize = 12)\n",
    "plt.xlabel('Response',fontsize = 12)\n",
    "plt.xticks(rotation = 45);"
   ]
  },
  {
   "cell_type": "markdown",
   "metadata": {},
   "source": [
    "Since there is a large number of missing data and most of them are unpaid, this feature can be dropped and the change in employment status as a result of COVID can be accounted for by `ANYWORK`"
   ]
  },
  {
   "cell_type": "code",
   "execution_count": 268,
   "metadata": {},
   "outputs": [],
   "source": [
    "# Dropping UNEMPPAY feature\n",
    "df.drop(columns = ['UNEMPPAY'],inplace = True)"
   ]
  },
  {
   "cell_type": "markdown",
   "metadata": {},
   "source": [
    "#### `ANYWORK`\n",
    "Question which asks for the employment status of people in the last 7 days."
   ]
  },
  {
   "cell_type": "code",
   "execution_count": 269,
   "metadata": {
    "scrolled": false
   },
   "outputs": [
    {
     "data": {
      "text/plain": [
       "1.0    66551\n",
       "2.0    40929\n",
       "NaN      147\n",
       "Name: ANYWORK, dtype: int64"
      ]
     },
     "execution_count": 269,
     "metadata": {},
     "output_type": "execute_result"
    }
   ],
   "source": [
    "df['ANYWORK'].value_counts(dropna = False)"
   ]
  },
  {
   "cell_type": "code",
   "execution_count": 270,
   "metadata": {
    "scrolled": false
   },
   "outputs": [
    {
     "data": {
      "text/html": [
       "<div>\n",
       "<style scoped>\n",
       "    .dataframe tbody tr th:only-of-type {\n",
       "        vertical-align: middle;\n",
       "    }\n",
       "\n",
       "    .dataframe tbody tr th {\n",
       "        vertical-align: top;\n",
       "    }\n",
       "\n",
       "    .dataframe thead th {\n",
       "        text-align: right;\n",
       "    }\n",
       "</style>\n",
       "<table border=\"1\" class=\"dataframe\">\n",
       "  <thead>\n",
       "    <tr style=\"text-align: right;\">\n",
       "      <th></th>\n",
       "      <th>Responses(values)</th>\n",
       "      <th>Responses(actual)</th>\n",
       "      <th>Number</th>\n",
       "      <th>Percentage</th>\n",
       "    </tr>\n",
       "  </thead>\n",
       "  <tbody>\n",
       "    <tr>\n",
       "      <th>0</th>\n",
       "      <td>1.0</td>\n",
       "      <td>Working</td>\n",
       "      <td>66551</td>\n",
       "      <td>61.83</td>\n",
       "    </tr>\n",
       "    <tr>\n",
       "      <th>1</th>\n",
       "      <td>2.0</td>\n",
       "      <td>Not working</td>\n",
       "      <td>40929</td>\n",
       "      <td>38.03</td>\n",
       "    </tr>\n",
       "    <tr>\n",
       "      <th>2</th>\n",
       "      <td>NaN</td>\n",
       "      <td>Missing</td>\n",
       "      <td>147</td>\n",
       "      <td>0.14</td>\n",
       "    </tr>\n",
       "  </tbody>\n",
       "</table>\n",
       "</div>"
      ],
      "text/plain": [
       "   Responses(values) Responses(actual)  Number  Percentage\n",
       "0                1.0           Working   66551       61.83\n",
       "1                2.0       Not working   40929       38.03\n",
       "2                NaN           Missing     147        0.14"
      ]
     },
     "execution_count": 270,
     "metadata": {},
     "output_type": "execute_result"
    }
   ],
   "source": [
    "anywork_df = pd.DataFrame({\n",
    "    'Responses(values)':[i for i in df['ANYWORK'].value_counts(dropna = False).sort_index().index],\n",
    "    'Responses(actual)':['Working','Not working','Missing'],\n",
    "    'Number':[i for i in df['ANYWORK'].value_counts(dropna = False).sort_index().values],\n",
    "    'Percentage':[round(i*100,2) for i in df['ANYWORK'].value_counts(dropna = False,normalize = True).sort_index().values]\n",
    "})\n",
    "anywork_df"
   ]
  },
  {
   "cell_type": "code",
   "execution_count": 271,
   "metadata": {},
   "outputs": [
    {
     "data": {
      "image/png": "[encoded data removed]",
      "text/plain": [
       "<Figure size 864x576 with 1 Axes>"
      ]
     },
     "metadata": {
      "needs_background": "light"
     },
     "output_type": "display_data"
    }
   ],
   "source": [
    "# plot Frequency against employment status\n",
    "plt.figure(figsize = (12,8))\n",
    "sns.barplot(x = anywork_df['Responses(actual)'], y = anywork_df['Number'], palette = 'coolwarm_r')\n",
    "plt.title('Employment status')\n",
    "plt.xlabel('Status', fontsize = 12)\n",
    "plt.ylabel('Frequency', fontsize = 12 );"
   ]
  },
  {
   "cell_type": "markdown",
   "metadata": {},
   "source": [
    "Close to 40% of the respondents are no longer employed. Missing values in `ANYWORK` would also be dropped since they only account for a small percentage of responses."
   ]
  },
  {
   "cell_type": "code",
   "execution_count": 272,
   "metadata": {},
   "outputs": [],
   "source": [
    "# Dropping null values in ANYWORK\n",
    "df.dropna(subset = ['ANYWORK'],inplace = True)"
   ]
  },
  {
   "cell_type": "markdown",
   "metadata": {},
   "source": [
    "#### `RSNNOWRK`"
   ]
  },
  {
   "cell_type": "code",
   "execution_count": 273,
   "metadata": {
    "scrolled": false
   },
   "outputs": [
    {
     "data": {
      "text/plain": [
       "NaN     62.346483\n",
       "7.0     17.248790\n",
       "12.0     5.494045\n",
       "9.0      2.542799\n",
       "4.0      2.422776\n",
       "8.0      2.337179\n",
       "6.0      1.756606\n",
       "10.0     1.540752\n",
       "1.0      1.480275\n",
       "13.0     1.323967\n",
       "5.0      0.487533\n",
       "2.0      0.458690\n",
       "11.0     0.453108\n",
       "3.0      0.106997\n",
       "Name: RSNNOWRK, dtype: float64"
      ]
     },
     "execution_count": 273,
     "metadata": {},
     "output_type": "execute_result"
    }
   ],
   "source": [
    "df['RSNNOWRK'].value_counts(dropna = False,normalize = True) * 100"
   ]
  },
  {
   "cell_type": "code",
   "execution_count": 274,
   "metadata": {
    "scrolled": false
   },
   "outputs": [
    {
     "data": {
      "image/png": "[encoded data removed]",
      "text/plain": [
       "<Figure size 864x576 with 1 Axes>"
      ]
     },
     "metadata": {
      "needs_background": "light"
     },
     "output_type": "display_data"
    }
   ],
   "source": [
    "# Plot frequency against reasons for unemployment\n",
    "plt.figure(figsize = (12,8))\n",
    "sns.barplot(x = df['RSNNOWRK'].value_counts().sort_index().index, y = df['RSNNOWRK'].value_counts().sort_index().values)\n",
    "plt.title('Reasons for unemployment')\n",
    "plt.xlabel('Reasons',fontsize = 12)\n",
    "plt.ylabel('Frequency',fontsize = 12);"
   ]
  },
  {
   "cell_type": "markdown",
   "metadata": {},
   "source": [
    "|Options|Labels|\n",
    "|--------|------|\n",
    "|1|I did not want to be employed at this time|\n",
    "|2|I am/was sick with coronavirus symptoms|\n",
    "|3|I am/was caring for someone with coronavirus symptoms|\n",
    "|4|I am/was caring for children not in school/daycare|\n",
    "|5|I am/was caring for an elderly person|\n",
    "|6|I am/was sick(not coronavirus related) or disabled|\n",
    "|7|I am retired|\n",
    "|8|My employer experienced a reduction in business|\n",
    "|9|I am/was laid off due to coronavirus pandemic|\n",
    "|10|My employer closed temporarily due to coronavirus pandemic|\n",
    "|11|My employer went out of business due to coronavirus pandemic|\n",
    "|12|Others|\n",
    "|13|I was concerned about getting/spreading the coronavirus|"
   ]
  },
  {
   "cell_type": "markdown",
   "metadata": {},
   "source": [
    "Majority of the respondents have who stopped working have retired and therefore are not working. However, given the large number of missing data as this is associated with `ANYWORK`, this can be dropped. "
   ]
  },
  {
   "cell_type": "code",
   "execution_count": 275,
   "metadata": {},
   "outputs": [],
   "source": [
    "# Dropping RSNNOWRK feature\n",
    "df.drop(columns = ['RSNNOWRK'],inplace = True)"
   ]
  },
  {
   "cell_type": "markdown",
   "metadata": {},
   "source": [
    "#### `KINDWORK`"
   ]
  },
  {
   "cell_type": "code",
   "execution_count": 276,
   "metadata": {
    "scrolled": true
   },
   "outputs": [
    {
     "data": {
      "text/plain": [
       "65480"
      ]
     },
     "execution_count": 276,
     "metadata": {},
     "output_type": "execute_result"
    }
   ],
   "source": [
    "df['KINDWORK'].value_counts().sum()"
   ]
  },
  {
   "cell_type": "code",
   "execution_count": 277,
   "metadata": {
    "scrolled": true
   },
   "outputs": [
    {
     "data": {
      "text/html": [
       "<div>\n",
       "<style scoped>\n",
       "    .dataframe tbody tr th:only-of-type {\n",
       "        vertical-align: middle;\n",
       "    }\n",
       "\n",
       "    .dataframe tbody tr th {\n",
       "        vertical-align: top;\n",
       "    }\n",
       "\n",
       "    .dataframe thead th {\n",
       "        text-align: right;\n",
       "    }\n",
       "</style>\n",
       "<table border=\"1\" class=\"dataframe\">\n",
       "  <thead>\n",
       "    <tr style=\"text-align: right;\">\n",
       "      <th></th>\n",
       "      <th>Responses(values)</th>\n",
       "      <th>Responses(actual)</th>\n",
       "      <th>Number</th>\n",
       "      <th>Percentage</th>\n",
       "    </tr>\n",
       "  </thead>\n",
       "  <tbody>\n",
       "    <tr>\n",
       "      <th>0</th>\n",
       "      <td>11698</td>\n",
       "      <td>Government</td>\n",
       "      <td>11698</td>\n",
       "      <td>10.88</td>\n",
       "    </tr>\n",
       "    <tr>\n",
       "      <th>1</th>\n",
       "      <td>36268</td>\n",
       "      <td>Private Company</td>\n",
       "      <td>36268</td>\n",
       "      <td>33.74</td>\n",
       "    </tr>\n",
       "    <tr>\n",
       "      <th>2</th>\n",
       "      <td>8102</td>\n",
       "      <td>NPO</td>\n",
       "      <td>8102</td>\n",
       "      <td>7.54</td>\n",
       "    </tr>\n",
       "    <tr>\n",
       "      <th>3</th>\n",
       "      <td>7896</td>\n",
       "      <td>Self-employed</td>\n",
       "      <td>7896</td>\n",
       "      <td>7.35</td>\n",
       "    </tr>\n",
       "    <tr>\n",
       "      <th>4</th>\n",
       "      <td>1516</td>\n",
       "      <td>Family Business</td>\n",
       "      <td>1516</td>\n",
       "      <td>1.41</td>\n",
       "    </tr>\n",
       "    <tr>\n",
       "      <th>5</th>\n",
       "      <td>42000</td>\n",
       "      <td>Missing</td>\n",
       "      <td>42000</td>\n",
       "      <td>39.08</td>\n",
       "    </tr>\n",
       "  </tbody>\n",
       "</table>\n",
       "</div>"
      ],
      "text/plain": [
       "   Responses(values) Responses(actual)  Number  Percentage\n",
       "0              11698        Government   11698       10.88\n",
       "1              36268   Private Company   36268       33.74\n",
       "2               8102               NPO    8102        7.54\n",
       "3               7896     Self-employed    7896        7.35\n",
       "4               1516   Family Business    1516        1.41\n",
       "5              42000           Missing   42000       39.08"
      ]
     },
     "execution_count": 277,
     "metadata": {},
     "output_type": "execute_result"
    }
   ],
   "source": [
    "kindwork_df = pd.DataFrame({\n",
    "    'Responses(values)':[i for i in df['KINDWORK'].value_counts(dropna = False).sort_index().values],\n",
    "    'Responses(actual)':['Government','Private Company','NPO','Self-employed','Family Business','Missing'],\n",
    "    'Number':[i for i in df['KINDWORK'].value_counts(dropna= False).sort_index().values],\n",
    "    'Percentage':[round(i*100,2) for i in df['KINDWORK'].value_counts(dropna = False,normalize = True).sort_index().values]\n",
    "})\n",
    "kindwork_df"
   ]
  },
  {
   "cell_type": "markdown",
   "metadata": {},
   "source": [
    "Since there is a large number of missing values which overlap in the **Not working** class in `ANYWORK`, this feature would be dropped to reduce correlation between columns when modeling our data"
   ]
  },
  {
   "cell_type": "code",
   "execution_count": 278,
   "metadata": {},
   "outputs": [],
   "source": [
    "# Dropping KINDWORK feature\n",
    "df.drop(columns = ['KINDWORK'],inplace = True)"
   ]
  },
  {
   "cell_type": "markdown",
   "metadata": {},
   "source": [
    "#### `TUI_NUMPER`"
   ]
  },
  {
   "cell_type": "code",
   "execution_count": 279,
   "metadata": {
    "scrolled": true
   },
   "outputs": [
    {
     "data": {
      "text/plain": [
       "0.0    61154\n",
       "NaN    26987\n",
       "1.0    15198\n",
       "2.0     4141\n",
       "Name: TUI_NUMPER, dtype: int64"
      ]
     },
     "execution_count": 279,
     "metadata": {},
     "output_type": "execute_result"
    }
   ],
   "source": [
    "df['TUI_NUMPER'].value_counts(dropna = False)"
   ]
  },
  {
   "cell_type": "markdown",
   "metadata": {},
   "source": [
    "Since this overlaps with `UI_APPLY` as they both measure the number of UI applications, this would be dropped."
   ]
  },
  {
   "cell_type": "code",
   "execution_count": 280,
   "metadata": {},
   "outputs": [],
   "source": [
    "df.drop(columns = ['TUI_NUMPER'],inplace = True)"
   ]
  },
  {
   "cell_type": "markdown",
   "metadata": {},
   "source": [
    "#### `INCOME`"
   ]
  },
  {
   "cell_type": "code",
   "execution_count": 281,
   "metadata": {},
   "outputs": [
    {
     "data": {
      "text/html": [
       "<div>\n",
       "<style scoped>\n",
       "    .dataframe tbody tr th:only-of-type {\n",
       "        vertical-align: middle;\n",
       "    }\n",
       "\n",
       "    .dataframe tbody tr th {\n",
       "        vertical-align: top;\n",
       "    }\n",
       "\n",
       "    .dataframe thead th {\n",
       "        text-align: right;\n",
       "    }\n",
       "</style>\n",
       "<table border=\"1\" class=\"dataframe\">\n",
       "  <thead>\n",
       "    <tr style=\"text-align: right;\">\n",
       "      <th></th>\n",
       "      <th>Responses(values)</th>\n",
       "      <th>Responses(actual)</th>\n",
       "      <th>Number</th>\n",
       "      <th>Percentage</th>\n",
       "    </tr>\n",
       "  </thead>\n",
       "  <tbody>\n",
       "    <tr>\n",
       "      <th>0</th>\n",
       "      <td>1.0</td>\n",
       "      <td>&lt; $25,000</td>\n",
       "      <td>8326</td>\n",
       "      <td>832600</td>\n",
       "    </tr>\n",
       "    <tr>\n",
       "      <th>1</th>\n",
       "      <td>2.0</td>\n",
       "      <td>$25,000 - $34,999</td>\n",
       "      <td>7011</td>\n",
       "      <td>701100</td>\n",
       "    </tr>\n",
       "    <tr>\n",
       "      <th>2</th>\n",
       "      <td>3.0</td>\n",
       "      <td>$35,000 - $49,999</td>\n",
       "      <td>9093</td>\n",
       "      <td>909300</td>\n",
       "    </tr>\n",
       "    <tr>\n",
       "      <th>3</th>\n",
       "      <td>4.0</td>\n",
       "      <td>$50,000 - $74,999</td>\n",
       "      <td>14790</td>\n",
       "      <td>1479000</td>\n",
       "    </tr>\n",
       "    <tr>\n",
       "      <th>4</th>\n",
       "      <td>5.0</td>\n",
       "      <td>$75,000 - $99,999</td>\n",
       "      <td>12575</td>\n",
       "      <td>1257500</td>\n",
       "    </tr>\n",
       "    <tr>\n",
       "      <th>5</th>\n",
       "      <td>6.0</td>\n",
       "      <td>$100,000 - $149,999</td>\n",
       "      <td>15652</td>\n",
       "      <td>1565200</td>\n",
       "    </tr>\n",
       "    <tr>\n",
       "      <th>6</th>\n",
       "      <td>7.0</td>\n",
       "      <td>$150,000 - $199,999</td>\n",
       "      <td>7496</td>\n",
       "      <td>749600</td>\n",
       "    </tr>\n",
       "    <tr>\n",
       "      <th>7</th>\n",
       "      <td>8.0</td>\n",
       "      <td>&gt; $200,000</td>\n",
       "      <td>9135</td>\n",
       "      <td>913500</td>\n",
       "    </tr>\n",
       "    <tr>\n",
       "      <th>8</th>\n",
       "      <td>NaN</td>\n",
       "      <td>Missing</td>\n",
       "      <td>23402</td>\n",
       "      <td>2340200</td>\n",
       "    </tr>\n",
       "  </tbody>\n",
       "</table>\n",
       "</div>"
      ],
      "text/plain": [
       "   Responses(values)    Responses(actual)  Number  Percentage\n",
       "0                1.0            < $25,000    8326      832600\n",
       "1                2.0    $25,000 - $34,999    7011      701100\n",
       "2                3.0    $35,000 - $49,999    9093      909300\n",
       "3                4.0    $50,000 - $74,999   14790     1479000\n",
       "4                5.0    $75,000 - $99,999   12575     1257500\n",
       "5                6.0  $100,000 - $149,999   15652     1565200\n",
       "6                7.0  $150,000 - $199,999    7496      749600\n",
       "7                8.0           > $200,000    9135      913500\n",
       "8                NaN              Missing   23402     2340200"
      ]
     },
     "execution_count": 281,
     "metadata": {},
     "output_type": "execute_result"
    }
   ],
   "source": [
    "income_df = pd.DataFrame({\n",
    "    'Responses(values)':[i for i in df['INCOME'].value_counts(dropna = False).sort_index().index],\n",
    "    'Responses(actual)':['< $25,000','$25,000 - $34,999','$35,000 - $49,999','$50,000 - $74,999','$75,000 - $99,999','$100,000 - $149,999','$150,000 - $199,999','> $200,000','Missing'],\n",
    "    'Number':[i for i in df['INCOME'].value_counts(dropna = False).sort_index().values],\n",
    "    'Percentage':[round(i*100,2) for i in df['INCOME'].value_counts(dropna = False).sort_index().values]\n",
    "                \n",
    "})\n",
    "income_df"
   ]
  },
  {
   "cell_type": "code",
   "execution_count": 283,
   "metadata": {
    "scrolled": false
   },
   "outputs": [
    {
     "data": {
      "image/png": "[encoded data removed]",
      "text/plain": [
       "<Figure size 864x576 with 1 Axes>"
      ]
     },
     "metadata": {
      "needs_background": "light"
     },
     "output_type": "display_data"
    }
   ],
   "source": [
    "# plot frequency against total household incomes \n",
    "plt.figure(figsize = (12,8))\n",
    "sns.barplot(x = income_df['Responses(actual)'], y = income_df['Number'])\n",
    "plt.title('Distribution of total household incomes')\n",
    "plt.ylabel('Frequency',fontsize = 13)\n",
    "plt.xlabel('Total Household Income($)',fontsize = 13)\n",
    "plt.xticks(rotation = 45);"
   ]
  },
  {
   "cell_type": "markdown",
   "metadata": {},
   "source": [
    "Since the median household income was $68,703 in 2019, the missing values would be grouped under the 50,000 - 74,999 category instead."
   ]
  },
  {
   "cell_type": "code",
   "execution_count": 284,
   "metadata": {
    "scrolled": true
   },
   "outputs": [],
   "source": [
    "# Replacing missing values with 4.0\n",
    "df['INCOME'].fillna(4.0,inplace = True)"
   ]
  },
  {
   "cell_type": "markdown",
   "metadata": {},
   "source": [
    "#### `TBEDROOMS`"
   ]
  },
  {
   "cell_type": "code",
   "execution_count": 285,
   "metadata": {},
   "outputs": [
    {
     "data": {
      "text/plain": [
       "3.0    32.223670\n",
       "NaN    19.205434\n",
       "4.0    19.157983\n",
       "2.0    16.394678\n",
       "1.0     6.199293\n",
       "5.0     5.120953\n",
       "6.0     1.195571\n",
       "0.0     0.502419\n",
       "Name: TBEDROOMS, dtype: float64"
      ]
     },
     "execution_count": 285,
     "metadata": {},
     "output_type": "execute_result"
    }
   ],
   "source": [
    "df['TBEDROOMS'].value_counts(dropna = False,normalize = True) * 100"
   ]
  },
  {
   "cell_type": "markdown",
   "metadata": {},
   "source": [
    "Since the number of bedrooms are secondary and unlikely in influencing the health of people, this feature can be dropped."
   ]
  },
  {
   "cell_type": "markdown",
   "metadata": {},
   "source": [
    "#### `LIVQTR`"
   ]
  },
  {
   "cell_type": "code",
   "execution_count": 286,
   "metadata": {
    "scrolled": true
   },
   "outputs": [
    {
     "data": {
      "text/plain": [
       "2.0     57.619092\n",
       "NaN     17.446967\n",
       "3.0      6.687756\n",
       "9.0      3.832341\n",
       "5.0      2.771678\n",
       "6.0      2.572572\n",
       "1.0      2.510234\n",
       "7.0      2.285076\n",
       "8.0      2.084109\n",
       "4.0      1.841273\n",
       "10.0     0.348902\n",
       "Name: LIVQTR, dtype: float64"
      ]
     },
     "execution_count": 286,
     "metadata": {},
     "output_type": "execute_result"
    }
   ],
   "source": [
    "df['LIVQTR'].value_counts(dropna = False,normalize = True) * 100"
   ]
  },
  {
   "cell_type": "markdown",
   "metadata": {},
   "source": [
    "Since this feature is not immediately helpful to predicting the mental health states of people and other features are able to provide more information on the housing status of people, this can be dropped."
   ]
  },
  {
   "cell_type": "code",
   "execution_count": 287,
   "metadata": {},
   "outputs": [],
   "source": [
    "df.drop(columns = ['LIVQTR','TBEDROOMS'],inplace = True)"
   ]
  },
  {
   "cell_type": "markdown",
   "metadata": {},
   "source": [
    "#### `TSPNDPRPD`"
   ]
  },
  {
   "cell_type": "code",
   "execution_count": 288,
   "metadata": {
    "scrolled": true
   },
   "outputs": [
    {
     "data": {
      "text/plain": [
       "<matplotlib.axes._subplots.AxesSubplot at 0x1ecaae62ac0>"
      ]
     },
     "execution_count": 288,
     "metadata": {},
     "output_type": "execute_result"
    },
    {
     "data": {
      "image/png": "[encoded data removed]",
      "text/plain": [
       "<Figure size 432x288 with 1 Axes>"
      ]
     },
     "metadata": {
      "needs_background": "light"
     },
     "output_type": "display_data"
    }
   ],
   "source": [
    "# Distribution of food expenditure over the last week\n",
    "sns.violinplot(df['TSPNDPRPD'])"
   ]
  },
  {
   "cell_type": "code",
   "execution_count": 289,
   "metadata": {},
   "outputs": [
    {
     "data": {
      "text/plain": [
       "77.85821919348672"
      ]
     },
     "execution_count": 289,
     "metadata": {},
     "output_type": "execute_result"
    }
   ],
   "source": [
    "df['TSPNDPRPD'].mean()"
   ]
  },
  {
   "cell_type": "markdown",
   "metadata": {},
   "source": [
    "#### `TSPNDFOOD`"
   ]
  },
  {
   "cell_type": "code",
   "execution_count": 290,
   "metadata": {
    "scrolled": false
   },
   "outputs": [
    {
     "data": {
      "text/plain": [
       "<matplotlib.axes._subplots.AxesSubplot at 0x1ecf2a336a0>"
      ]
     },
     "execution_count": 290,
     "metadata": {},
     "output_type": "execute_result"
    },
    {
     "data": {
      "image/png": "[encoded data removed]",
      "text/plain": [
       "<Figure size 432x288 with 1 Axes>"
      ]
     },
     "metadata": {
      "needs_background": "light"
     },
     "output_type": "display_data"
    }
   ],
   "source": [
    "sns.violinplot(df['TSPNDFOOD'])"
   ]
  },
  {
   "cell_type": "code",
   "execution_count": 291,
   "metadata": {},
   "outputs": [
    {
     "name": "stdout",
     "output_type": "stream",
     "text": [
      "Median weekly household food expenditure: 160.0\n",
      "Mean weekly household food expenditure: 199.09328224833564\n"
     ]
    }
   ],
   "source": [
    "print(f'Median weekly household food expenditure: {df.TSPNDFOOD.median()}')\n",
    "print(f'Mean weekly household food expenditure: {df.TSPNDFOOD.mean()}')"
   ]
  },
  {
   "cell_type": "markdown",
   "metadata": {},
   "source": [
    "Both graphs are multimodal graphs where there are clusters of people with different weekly household food expenditure. This could be indicative of different communities or states that are more/less affluent. Since `TSPNDPRPD` is a subset of `TSPNDFOOD` and has more missing values, this feature would be dropped. The missing values in `TSPNDFOOD` would be imputed with the median values since the data is positively skewed."
   ]
  },
  {
   "cell_type": "code",
   "execution_count": 292,
   "metadata": {
    "scrolled": true
   },
   "outputs": [],
   "source": [
    "# Dropping TSPNDPRPF feature\n",
    "df.drop(columns = ['TSPNDPRPD'],inplace = True)"
   ]
  },
  {
   "cell_type": "code",
   "execution_count": 293,
   "metadata": {},
   "outputs": [],
   "source": [
    "# Imputing missing values with median food expenditure\n",
    "df['TSPNDFOOD'].fillna(df.TSPNDFOOD.median(),inplace = True)"
   ]
  },
  {
   "cell_type": "markdown",
   "metadata": {},
   "source": [
    "#### `MH_SVCS`"
   ]
  },
  {
   "cell_type": "code",
   "execution_count": 294,
   "metadata": {
    "scrolled": false
   },
   "outputs": [
    {
     "data": {
      "text/plain": [
       "2.0    75.352624\n",
       "NaN    16.155564\n",
       "1.0     8.491812\n",
       "Name: MH_SVCS, dtype: float64"
      ]
     },
     "execution_count": 294,
     "metadata": {},
     "output_type": "execute_result"
    }
   ],
   "source": [
    "df['MH_SVCS'].value_counts(dropna = False,normalize = True) * 100"
   ]
  },
  {
   "cell_type": "markdown",
   "metadata": {},
   "source": [
    "The large percentage of null values would be replaced as a new class under the **Missing** class to prevent loss of information. The other 2 classes would be renamed for ease of reference."
   ]
  },
  {
   "cell_type": "code",
   "execution_count": 295,
   "metadata": {},
   "outputs": [],
   "source": [
    "# Imputing null values as Missing\n",
    "df['MH_SVCS'] = df['MH_SVCS'].fillna('Missing')\n",
    "# Renaming the other 2 classes\n",
    "df['MH_SVCS'] = df['MH_SVCS'].replace(1,'Yes')\n",
    "df['MH_SVCS'] = df['MH_SVCS'].replace(2,'No')"
   ]
  },
  {
   "cell_type": "markdown",
   "metadata": {},
   "source": [
    "**`PRESCRIPT`**"
   ]
  },
  {
   "cell_type": "code",
   "execution_count": 296,
   "metadata": {
    "scrolled": false
   },
   "outputs": [
    {
     "data": {
      "text/plain": [
       "2.0    70829\n",
       "1.0    19293\n",
       "NaN    17358\n",
       "Name: PRESCRIPT, dtype: int64"
      ]
     },
     "execution_count": 296,
     "metadata": {},
     "output_type": "execute_result"
    }
   ],
   "source": [
    "df['PRESCRIPT'].value_counts(dropna = False)"
   ]
  },
  {
   "cell_type": "markdown",
   "metadata": {},
   "source": [
    "Since there is alot of rows with missing values, they would be imputed as a new **Missing** class. The other 2 classes would be renamed for an easier reference."
   ]
  },
  {
   "cell_type": "code",
   "execution_count": 297,
   "metadata": {},
   "outputs": [],
   "source": [
    "# Imputing null values as Missing\n",
    "df['PRESCRIPT'] = df['PRESCRIPT'].fillna('Missing')\n",
    "# Renaming the other 2 classes\n",
    "df['PRESCRIPT'] = df['PRESCRIPT'].replace(1,'Yes')\n",
    "df['PRESCRIPT'] = df['PRESCRIPT'].replace(2,'No')"
   ]
  },
  {
   "cell_type": "markdown",
   "metadata": {},
   "source": [
    "**`NOTGET`** and **`DELAY`**"
   ]
  },
  {
   "cell_type": "code",
   "execution_count": 298,
   "metadata": {
    "scrolled": true
   },
   "outputs": [
    {
     "data": {
      "text/plain": [
       "2.0    67037\n",
       "1.0    23152\n",
       "NaN    17291\n",
       "Name: NOTGET, dtype: int64"
      ]
     },
     "execution_count": 298,
     "metadata": {},
     "output_type": "execute_result"
    }
   ],
   "source": [
    "df['NOTGET'].value_counts(dropna = False)"
   ]
  },
  {
   "cell_type": "code",
   "execution_count": 299,
   "metadata": {},
   "outputs": [
    {
     "data": {
      "text/plain": [
       "2.0    56980\n",
       "1.0    33223\n",
       "NaN    17277\n",
       "Name: DELAY, dtype: int64"
      ]
     },
     "execution_count": 299,
     "metadata": {},
     "output_type": "execute_result"
    }
   ],
   "source": [
    "df['DELAY'].value_counts(dropna = False)"
   ]
  },
  {
   "cell_type": "markdown",
   "metadata": {},
   "source": [
    "Both features are indicators of the hindrance to getting medical aid because of the pandemic and since there are already dire consequences with getting delayed healthcare, `DELAY` is a sufficient measurement and so `NOTGET` would be dropped. Given that there is a large number of missing values, they would be imputed under a **Missing** class instead. "
   ]
  },
  {
   "cell_type": "code",
   "execution_count": 300,
   "metadata": {
    "scrolled": true
   },
   "outputs": [],
   "source": [
    "# Dropping NOTGET feature\n",
    "df.drop(columns = ['NOTGET'],inplace = True)\n",
    "# Imputing null values as missing in DELAY and renaming the other classes\n",
    "df['DELAY'] = df['DELAY'].fillna('Missing')\n",
    "df['DELAY'] = df['DELAY'].replace(1,'Yes')\n",
    "df['DELAY'] = df['DELAY'].replace(2,'No')"
   ]
  },
  {
   "cell_type": "markdown",
   "metadata": {},
   "source": [
    "#### `INTEREST` and `DOWN`"
   ]
  },
  {
   "cell_type": "code",
   "execution_count": 301,
   "metadata": {
    "scrolled": true
   },
   "outputs": [
    {
     "data": {
      "text/plain": [
       "1.0    46105\n",
       "2.0    28305\n",
       "NaN    15640\n",
       "3.0     9794\n",
       "4.0     7636\n",
       "Name: INTEREST, dtype: int64"
      ]
     },
     "execution_count": 301,
     "metadata": {},
     "output_type": "execute_result"
    }
   ],
   "source": [
    "df['INTEREST'].value_counts(dropna = False)"
   ]
  },
  {
   "cell_type": "code",
   "execution_count": 302,
   "metadata": {
    "scrolled": true
   },
   "outputs": [
    {
     "data": {
      "text/plain": [
       "1.0    47078\n",
       "2.0    28712\n",
       "NaN    15573\n",
       "3.0     8137\n",
       "4.0     7980\n",
       "Name: DOWN, dtype: int64"
      ]
     },
     "execution_count": 302,
     "metadata": {},
     "output_type": "execute_result"
    }
   ],
   "source": [
    "df['DOWN'].value_counts(dropna = False)"
   ]
  },
  {
   "cell_type": "markdown",
   "metadata": {},
   "source": [
    "Since `INTEREST` and `DOWN` seem to have the same number of respondents for each class, `DOWN` would be kept since it has fewer missing values. Moreover, both of the measurements are signs of depression and therefore should be in parallel of one another. The other classes in `DOWN` would be renamed for easier reference(one-hot encoding) during data modeling."
   ]
  },
  {
   "cell_type": "code",
   "execution_count": 303,
   "metadata": {},
   "outputs": [],
   "source": [
    "# Dropping INTEREST feature\n",
    "df.drop(columns = ['INTEREST'],inplace = True)"
   ]
  },
  {
   "cell_type": "code",
   "execution_count": 304,
   "metadata": {
    "scrolled": true
   },
   "outputs": [
    {
     "data": {
      "text/html": [
       "<div>\n",
       "<style scoped>\n",
       "    .dataframe tbody tr th:only-of-type {\n",
       "        vertical-align: middle;\n",
       "    }\n",
       "\n",
       "    .dataframe tbody tr th {\n",
       "        vertical-align: top;\n",
       "    }\n",
       "\n",
       "    .dataframe thead th {\n",
       "        text-align: right;\n",
       "    }\n",
       "</style>\n",
       "<table border=\"1\" class=\"dataframe\">\n",
       "  <thead>\n",
       "    <tr style=\"text-align: right;\">\n",
       "      <th></th>\n",
       "      <th>Responses(values)</th>\n",
       "      <th>Responses(actual)</th>\n",
       "      <th>Number</th>\n",
       "      <th>Percentage</th>\n",
       "    </tr>\n",
       "  </thead>\n",
       "  <tbody>\n",
       "    <tr>\n",
       "      <th>0</th>\n",
       "      <td>1.0</td>\n",
       "      <td>Not at all</td>\n",
       "      <td>47078</td>\n",
       "      <td>43.80</td>\n",
       "    </tr>\n",
       "    <tr>\n",
       "      <th>1</th>\n",
       "      <td>2.0</td>\n",
       "      <td>Several days</td>\n",
       "      <td>28712</td>\n",
       "      <td>26.71</td>\n",
       "    </tr>\n",
       "    <tr>\n",
       "      <th>2</th>\n",
       "      <td>3.0</td>\n",
       "      <td>More than half the days</td>\n",
       "      <td>8137</td>\n",
       "      <td>7.57</td>\n",
       "    </tr>\n",
       "    <tr>\n",
       "      <th>3</th>\n",
       "      <td>4.0</td>\n",
       "      <td>Nearly everyday</td>\n",
       "      <td>7980</td>\n",
       "      <td>7.42</td>\n",
       "    </tr>\n",
       "    <tr>\n",
       "      <th>4</th>\n",
       "      <td>NaN</td>\n",
       "      <td>Missing</td>\n",
       "      <td>15573</td>\n",
       "      <td>14.49</td>\n",
       "    </tr>\n",
       "  </tbody>\n",
       "</table>\n",
       "</div>"
      ],
      "text/plain": [
       "   Responses(values)        Responses(actual)  Number  Percentage\n",
       "0                1.0               Not at all   47078       43.80\n",
       "1                2.0             Several days   28712       26.71\n",
       "2                3.0  More than half the days    8137        7.57\n",
       "3                4.0          Nearly everyday    7980        7.42\n",
       "4                NaN                  Missing   15573       14.49"
      ]
     },
     "execution_count": 304,
     "metadata": {},
     "output_type": "execute_result"
    }
   ],
   "source": [
    "down_df = pd.DataFrame({\n",
    "    'Responses(values)':[i for i in df['DOWN'].value_counts(dropna = False).sort_index().index],\n",
    "    'Responses(actual)':['Not at all','Several days','More than half the days','Nearly everyday','Missing'],\n",
    "    'Number':[i for i in df['DOWN'].value_counts(dropna = False).sort_index().values],\n",
    "    'Percentage':[round(i*100,2) for i in df['DOWN'].value_counts(dropna = False,normalize = True).sort_index().values]\n",
    "})\n",
    "down_df\n"
   ]
  },
  {
   "cell_type": "code",
   "execution_count": 374,
   "metadata": {},
   "outputs": [
    {
     "data": {
      "image/png": "[encoded data removed]",
      "text/plain": [
       "<Figure size 864x576 with 1 Axes>"
      ]
     },
     "metadata": {
      "needs_background": "light"
     },
     "output_type": "display_data"
    }
   ],
   "source": [
    "# Plot frequency against feelign depressed\n",
    "plt.figure(figsize = (12,8))\n",
    "sns.barplot(x = down_df['Responses(actual)'],y = down_df['Number'])\n",
    "plt.title('Frequency of feeling depressed over the last week')\n",
    "plt.xlabel('How Often',fontsize = 13)\n",
    "plt.ylabel('Frequency',fontsize = 13);"
   ]
  },
  {
   "cell_type": "code",
   "execution_count": 305,
   "metadata": {},
   "outputs": [],
   "source": [
    "# Rename all the DOWN classes and imputing null as missing\n",
    "df['DOWN'] = df['DOWN'].replace(1,'Not at all')\n",
    "df['DOWN'] = df['DOWN'].replace(2,'Several days')\n",
    "df['DOWN'] = df['DOWN'].replace(3,'More than half the days')\n",
    "df['DOWN'] = df['DOWN'].replace(4,'Everyday')\n",
    "df['DOWN'] = df['DOWN'].fillna('Missing')"
   ]
  },
  {
   "cell_type": "markdown",
   "metadata": {},
   "source": [
    "#### `WORRY` and `ANXIOUS`"
   ]
  },
  {
   "cell_type": "code",
   "execution_count": 306,
   "metadata": {
    "scrolled": true
   },
   "outputs": [
    {
     "data": {
      "text/plain": [
       "1.0    40.695013\n",
       "2.0    26.070897\n",
       "NaN    14.476182\n",
       "4.0     9.609230\n",
       "3.0     9.148679\n",
       "Name: WORRY, dtype: float64"
      ]
     },
     "execution_count": 306,
     "metadata": {},
     "output_type": "execute_result"
    }
   ],
   "source": [
    "df['WORRY'].value_counts(dropna = False,normalize = True) * 100"
   ]
  },
  {
   "cell_type": "code",
   "execution_count": 307,
   "metadata": {},
   "outputs": [
    {
     "data": {
      "text/plain": [
       "1.0    31.476554\n",
       "2.0    28.641608\n",
       "NaN    14.387793\n",
       "4.0    14.312430\n",
       "3.0    11.181615\n",
       "Name: ANXIOUS, dtype: float64"
      ]
     },
     "execution_count": 307,
     "metadata": {},
     "output_type": "execute_result"
    }
   ],
   "source": [
    "df['ANXIOUS'].value_counts(dropna = False,normalize = True) * 100"
   ]
  },
  {
   "cell_type": "markdown",
   "metadata": {},
   "source": [
    "Since worry and anxious have many overlaps, one has to dropped to reduce correlation in dataset. Since `ANXIOUS` has fewer null values and have classes that are more evenly distributed, it would be kept. The missing values would be imputed as a **Missing** class and other classes would be renamed."
   ]
  },
  {
   "cell_type": "code",
   "execution_count": 308,
   "metadata": {},
   "outputs": [],
   "source": [
    "# Dropping WORRY feature\n",
    "df.drop(columns = ['WORRY'],inplace = True)\n",
    "# Rename all the ANXIOUS classes and imputing null as missing\n",
    "df['ANXIOUS'] = df['ANXIOUS'].replace(1,'Not at all')\n",
    "df['ANXIOUS'] = df['ANXIOUS'].replace(2,'Several days')\n",
    "df['ANXIOUS'] = df['ANXIOUS'].replace(3,'More than half the days')\n",
    "df['ANXIOUS'] = df['ANXIOUS'].replace(4,'Everyday')\n",
    "df['ANXIOUS'] = df['ANXIOUS'].fillna('Missing')"
   ]
  },
  {
   "cell_type": "markdown",
   "metadata": {},
   "source": [
    "#### `HLTHSTATUS`"
   ]
  },
  {
   "cell_type": "code",
   "execution_count": 309,
   "metadata": {
    "scrolled": true
   },
   "outputs": [
    {
     "data": {
      "text/plain": [
       "2.0    31.083923\n",
       "3.0    23.648121\n",
       "1.0    18.203387\n",
       "NaN    14.265910\n",
       "4.0    10.443803\n",
       "5.0     2.354857\n",
       "Name: HLTHSTATUS, dtype: float64"
      ]
     },
     "execution_count": 309,
     "metadata": {},
     "output_type": "execute_result"
    }
   ],
   "source": [
    "df['HLTHSTATUS'].value_counts(dropna = False,normalize = True)*100"
   ]
  },
  {
   "cell_type": "markdown",
   "metadata": {},
   "source": [
    "The missing values would be imputed in the **Missing** class given the large number of null values and the other classes would be renamed"
   ]
  },
  {
   "cell_type": "code",
   "execution_count": 310,
   "metadata": {},
   "outputs": [],
   "source": [
    "# Rename all the HLTHSTATUS classes and imputing null as missing\n",
    "df['HLTHSTATUS'] = df['HLTHSTATUS'].replace(1,'Excellent')\n",
    "df['HLTHSTATUS'] = df['HLTHSTATUS'].replace(2,'Very Good')\n",
    "df['HLTHSTATUS'] = df['HLTHSTATUS'].replace(3,'Good')\n",
    "df['HLTHSTATUS'] = df['HLTHSTATUS'].replace(4,'Fair')\n",
    "df['HLTHSTATUS'] = df['HLTHSTATUS'].replace(5,'Poor')\n",
    "df['HLTHSTATUS'] = df['HLTHSTATUS'].fillna('Missing')"
   ]
  },
  {
   "cell_type": "code",
   "execution_count": 311,
   "metadata": {
    "scrolled": true
   },
   "outputs": [
    {
     "data": {
      "text/plain": [
       "{'MH_NOTGET': 16.108113137327877,\n",
       " 'FOODCONF': 13.122441384443617,\n",
       " 'EXPNS_DIF': 1.8719761816151843,\n",
       " 'MS': 0.4968366207666543,\n",
       " 'EXPCTLOSS': 0.22701898027540005,\n",
       " 'WRKLOSS': 0.10141421659843693}"
      ]
     },
     "execution_count": 311,
     "metadata": {},
     "output_type": "execute_result"
    }
   ],
   "source": [
    "null_columns = df.columns[df.isnull().any()]\n",
    "null_columns\n",
    "percent_null = {}\n",
    "for col in null_columns:\n",
    "    percent_null[col] = (df[col].isnull().sum()/len(df)) * 100\n",
    "sorted_percent_null = dict(sorted(percent_null.items(),key = lambda x: x[1],reverse = True))\n",
    "sorted_percent_null"
   ]
  },
  {
   "cell_type": "markdown",
   "metadata": {},
   "source": [
    "#### `EXPNS_DIF`"
   ]
  },
  {
   "cell_type": "code",
   "execution_count": 312,
   "metadata": {
    "scrolled": true
   },
   "outputs": [
    {
     "data": {
      "text/plain": [
       "1.0    52.452549\n",
       "2.0    21.286751\n",
       "3.0    14.687384\n",
       "4.0     9.701340\n",
       "NaN     1.871976\n",
       "Name: EXPNS_DIF, dtype: float64"
      ]
     },
     "execution_count": 312,
     "metadata": {},
     "output_type": "execute_result"
    }
   ],
   "source": [
    "df['EXPNS_DIF'].value_counts(dropna = False,normalize = True) * 100"
   ]
  },
  {
   "cell_type": "markdown",
   "metadata": {},
   "source": [
    "Given the low percentage of null values and a large dataset, the null values can be dropped. The classes are renamed for easier reference after one hot-encoding"
   ]
  },
  {
   "cell_type": "code",
   "execution_count": 313,
   "metadata": {},
   "outputs": [],
   "source": [
    "# Dropping null values\n",
    "df.dropna(subset = ['EXPNS_DIF'],inplace = True)\n",
    "\n",
    "# Renaming classes\n",
    "df['EXPNS_DIF'] = df['EXPNS_DIF'].replace(1,'Not at all difficult')\n",
    "df['EXPNS_DIF'] = df['EXPNS_DIF'].replace(2,'A little difficult')\n",
    "df['EXPNS_DIF'] = df['EXPNS_DIF'].replace(3,'Somewhat difficult')\n",
    "df['EXPNS_DIF'] = df['EXPNS_DIF'].replace(4,'Very difficult')\n"
   ]
  },
  {
   "cell_type": "markdown",
   "metadata": {},
   "source": [
    "#### `FOODCONF`"
   ]
  },
  {
   "cell_type": "code",
   "execution_count": 314,
   "metadata": {
    "scrolled": false
   },
   "outputs": [
    {
     "data": {
      "text/plain": [
       "4.0    51.493344\n",
       "3.0    17.407176\n",
       "2.0    14.648993\n",
       "NaN    11.547578\n",
       "1.0     4.902909\n",
       "Name: FOODCONF, dtype: float64"
      ]
     },
     "execution_count": 314,
     "metadata": {},
     "output_type": "execute_result"
    }
   ],
   "source": [
    "# Level of confidence in ensuring food sufficiency\n",
    "df['FOODCONF'].value_counts(dropna = False,normalize = True) * 100"
   ]
  },
  {
   "cell_type": "markdown",
   "metadata": {},
   "source": [
    "The missing values would be imputed in the **Missing** class given the large number of null values and the other classes would be renamed"
   ]
  },
  {
   "cell_type": "code",
   "execution_count": 315,
   "metadata": {},
   "outputs": [],
   "source": [
    "# Rename all the HLTHSTATUS classes and imputing null as missing\n",
    "df['FOODCONF'] = df['FOODCONF'].replace(1,'Not at all confident')\n",
    "df['FOODCONF'] = df['FOODCONF'].replace(2,'Somewhat confident')\n",
    "df['FOODCONF'] = df['FOODCONF'].replace(3,'Moderately Confident')\n",
    "df['FOODCONF'] = df['FOODCONF'].replace(4,'Very Confident')\n",
    "df['FOODCONF'] = df['FOODCONF'].fillna('Missing')"
   ]
  },
  {
   "cell_type": "markdown",
   "metadata": {},
   "source": [
    "#### `EXPCTLOSS` and `WRKLOSS`"
   ]
  },
  {
   "cell_type": "code",
   "execution_count": 316,
   "metadata": {
    "scrolled": true
   },
   "outputs": [
    {
     "data": {
      "text/plain": [
       "2.0    61.859521\n",
       "1.0    38.042819\n",
       "NaN     0.097660\n",
       "Name: WRKLOSS, dtype: float64"
      ]
     },
     "execution_count": 316,
     "metadata": {},
     "output_type": "execute_result"
    }
   ],
   "source": [
    "df['WRKLOSS'].value_counts(dropna = False,normalize = True) * 100"
   ]
  },
  {
   "cell_type": "markdown",
   "metadata": {},
   "source": [
    "40% of the respondents replied that someone in their households have lost a job since the declaration of the state of emergency on 13 March"
   ]
  },
  {
   "cell_type": "code",
   "execution_count": 317,
   "metadata": {},
   "outputs": [],
   "source": [
    "# Removing null values since it makes up a small percentage\n",
    "df.dropna(subset = ['WRKLOSS'],inplace = True)\n",
    "\n",
    "# Renaming the classes \n",
    "df['WRKLOSS'] = df['WRKLOSS'].replace(2,0)"
   ]
  },
  {
   "cell_type": "code",
   "execution_count": 318,
   "metadata": {
    "scrolled": true
   },
   "outputs": [
    {
     "data": {
      "text/plain": [
       "2.0    78.756703\n",
       "1.0    21.043990\n",
       "NaN     0.199307\n",
       "Name: EXPCTLOSS, dtype: float64"
      ]
     },
     "execution_count": 318,
     "metadata": {},
     "output_type": "execute_result"
    }
   ],
   "source": [
    "df['EXPCTLOSS'].value_counts(dropna = False,normalize=  True) * 100"
   ]
  },
  {
   "cell_type": "markdown",
   "metadata": {},
   "source": [
    "About 20% of the respondents anticipate unemployment in the next month"
   ]
  },
  {
   "cell_type": "code",
   "execution_count": 319,
   "metadata": {},
   "outputs": [],
   "source": [
    "# Removing null values since it makes up a small percentage\n",
    "df.dropna(subset = ['EXPCTLOSS'],inplace = True)\n",
    "\n",
    "# Renaming the classes(1 = yes, 2 = no)\n",
    "df['EXPCTLOSS'] = df['EXPCTLOSS'].replace(2,0)"
   ]
  },
  {
   "cell_type": "markdown",
   "metadata": {},
   "source": [
    "#### `MS`\n",
    "Feature indicating the marital status of respondents"
   ]
  },
  {
   "cell_type": "code",
   "execution_count": 320,
   "metadata": {
    "scrolled": true
   },
   "outputs": [
    {
     "data": {
      "text/plain": [
       "1.0    57.300176\n",
       "5.0    20.655223\n",
       "3.0    14.894204\n",
       "2.0     4.799582\n",
       "4.0     1.871523\n",
       "NaN     0.479292\n",
       "Name: MS, dtype: float64"
      ]
     },
     "execution_count": 320,
     "metadata": {},
     "output_type": "execute_result"
    }
   ],
   "source": [
    "df['MS'].value_counts(dropna = False,normalize = True)*100"
   ]
  },
  {
   "cell_type": "markdown",
   "metadata": {},
   "source": [
    "Given the small percentage of null values, these would be dropped"
   ]
  },
  {
   "cell_type": "code",
   "execution_count": 321,
   "metadata": {},
   "outputs": [],
   "source": [
    "df.dropna(subset = ['MS'],inplace = True)"
   ]
  },
  {
   "cell_type": "code",
   "execution_count": 322,
   "metadata": {
    "scrolled": true
   },
   "outputs": [
    {
     "data": {
      "text/html": [
       "<div>\n",
       "<style scoped>\n",
       "    .dataframe tbody tr th:only-of-type {\n",
       "        vertical-align: middle;\n",
       "    }\n",
       "\n",
       "    .dataframe tbody tr th {\n",
       "        vertical-align: top;\n",
       "    }\n",
       "\n",
       "    .dataframe thead th {\n",
       "        text-align: right;\n",
       "    }\n",
       "</style>\n",
       "<table border=\"1\" class=\"dataframe\">\n",
       "  <thead>\n",
       "    <tr style=\"text-align: right;\">\n",
       "      <th></th>\n",
       "      <th>Responses(values)</th>\n",
       "      <th>Responses(actual)</th>\n",
       "      <th>Number</th>\n",
       "      <th>Percentage</th>\n",
       "    </tr>\n",
       "  </thead>\n",
       "  <tbody>\n",
       "    <tr>\n",
       "      <th>0</th>\n",
       "      <td>1.0</td>\n",
       "      <td>Married</td>\n",
       "      <td>60254</td>\n",
       "      <td>57.58</td>\n",
       "    </tr>\n",
       "    <tr>\n",
       "      <th>1</th>\n",
       "      <td>2.0</td>\n",
       "      <td>Widowed</td>\n",
       "      <td>5047</td>\n",
       "      <td>4.82</td>\n",
       "    </tr>\n",
       "    <tr>\n",
       "      <th>2</th>\n",
       "      <td>3.0</td>\n",
       "      <td>Divorced</td>\n",
       "      <td>15662</td>\n",
       "      <td>14.97</td>\n",
       "    </tr>\n",
       "    <tr>\n",
       "      <th>3</th>\n",
       "      <td>4.0</td>\n",
       "      <td>Separated</td>\n",
       "      <td>1968</td>\n",
       "      <td>1.88</td>\n",
       "    </tr>\n",
       "    <tr>\n",
       "      <th>4</th>\n",
       "      <td>5.0</td>\n",
       "      <td>Never Married</td>\n",
       "      <td>21720</td>\n",
       "      <td>20.75</td>\n",
       "    </tr>\n",
       "  </tbody>\n",
       "</table>\n",
       "</div>"
      ],
      "text/plain": [
       "   Responses(values) Responses(actual)  Number  Percentage\n",
       "0                1.0           Married   60254       57.58\n",
       "1                2.0           Widowed    5047        4.82\n",
       "2                3.0          Divorced   15662       14.97\n",
       "3                4.0         Separated    1968        1.88\n",
       "4                5.0     Never Married   21720       20.75"
      ]
     },
     "execution_count": 322,
     "metadata": {},
     "output_type": "execute_result"
    }
   ],
   "source": [
    "ms_df = pd.DataFrame({\n",
    "    'Responses(values)':[i for i in df['MS'].value_counts(dropna = False).sort_index().index],\n",
    "    'Responses(actual)':['Married','Widowed','Divorced','Separated','Never Married'],\n",
    "    'Number':[i for i in df['MS'].value_counts(dropna = False).sort_index().values],\n",
    "    'Percentage':[round(i*100,2) for i in df['MS'].value_counts(dropna = False,normalize = True).sort_index().values]\n",
    "})\n",
    "ms_df"
   ]
  },
  {
   "cell_type": "code",
   "execution_count": 323,
   "metadata": {},
   "outputs": [],
   "source": [
    "# Rename all the MS classes \n",
    "df['MS'] = df['MS'].replace(1,'Married')\n",
    "df['MS'] = df['MS'].replace(2,'Widowed')\n",
    "df['MS'] = df['MS'].replace(3,'Divorced')\n",
    "df['MS'] = df['MS'].replace(4,'Separated')\n",
    "df['MS'] = df['MS'].replace(5,'Never Married')"
   ]
  },
  {
   "cell_type": "markdown",
   "metadata": {},
   "source": [
    "#### **`EGENDER`**"
   ]
  },
  {
   "cell_type": "code",
   "execution_count": 324,
   "metadata": {},
   "outputs": [
    {
     "data": {
      "text/plain": [
       "2    61415\n",
       "1    43236\n",
       "Name: EGENDER, dtype: int64"
      ]
     },
     "execution_count": 324,
     "metadata": {},
     "output_type": "execute_result"
    }
   ],
   "source": [
    "df['EGENDER'].value_counts(dropna = False)"
   ]
  },
  {
   "cell_type": "code",
   "execution_count": 325,
   "metadata": {},
   "outputs": [],
   "source": [
    "# Renaming the classes, Male = 1, Female = 0\n",
    "df['EGENDER'] = df['EGENDER'].replace(2,0)"
   ]
  },
  {
   "cell_type": "code",
   "execution_count": 326,
   "metadata": {
    "scrolled": true
   },
   "outputs": [
    {
     "data": {
      "text/plain": [
       "0    61415\n",
       "1    43236\n",
       "Name: EGENDER, dtype: int64"
      ]
     },
     "execution_count": 326,
     "metadata": {},
     "output_type": "execute_result"
    }
   ],
   "source": [
    "df['EGENDER'].value_counts()"
   ]
  },
  {
   "cell_type": "markdown",
   "metadata": {},
   "source": [
    "#### `EEDUC`"
   ]
  },
  {
   "cell_type": "code",
   "execution_count": 327,
   "metadata": {},
   "outputs": [],
   "source": [
    "df['EEDUC'].value_counts(dropna = False)\n",
    "# Renaming all the classes\n",
    "df['EEDUC'] = df['EEDUC'].replace(1,'Less than high school')\n",
    "df['EEDUC'] = df['EEDUC'].replace(2,'Some high school')\n",
    "df['EEDUC'] = df['EEDUC'].replace(3,'High school graduate/equivalent')\n",
    "df['EEDUC'] = df['EEDUC'].replace(4,'College undergraduate/dropout')\n",
    "df['EEDUC'] = df['EEDUC'].replace(5,\"Associate's degree\")\n",
    "df['EEDUC'] = df['EEDUC'].replace(6,\"Bachelor's degree\")\n",
    "df['EEDUC'] = df['EEDUC'].replace(7,'Graduate degree')"
   ]
  },
  {
   "cell_type": "code",
   "execution_count": 400,
   "metadata": {
    "scrolled": false
   },
   "outputs": [
    {
     "data": {
      "text/plain": [
       "Bachelor's degree                  30719\n",
       "Graduate degree                    25725\n",
       "College undergraduate/dropout      22562\n",
       "High school graduate/equivalent    12589\n",
       "Associate's degree                 10931\n",
       "Some high school                    1478\n",
       "Less than high school                647\n",
       "Name: EEDUC, dtype: int64"
      ]
     },
     "execution_count": 400,
     "metadata": {},
     "output_type": "execute_result"
    }
   ],
   "source": [
    "df['EEDUC'].value_counts(dropna = False)"
   ]
  },
  {
   "cell_type": "markdown",
   "metadata": {},
   "source": [
    "#### `RRACE`"
   ]
  },
  {
   "cell_type": "code",
   "execution_count": 328,
   "metadata": {},
   "outputs": [
    {
     "data": {
      "text/plain": [
       "1    85261\n",
       "2     8803\n",
       "3     5419\n",
       "4     5168\n",
       "Name: RRACE, dtype: int64"
      ]
     },
     "execution_count": 328,
     "metadata": {},
     "output_type": "execute_result"
    }
   ],
   "source": [
    "df['RRACE'].value_counts(dropna = False)"
   ]
  },
  {
   "cell_type": "code",
   "execution_count": 329,
   "metadata": {},
   "outputs": [],
   "source": [
    "# Renaming classes before one hot encoding\n",
    "df['RRACE'] = df['RRACE'].replace(1,'White')\n",
    "df['RRACE'] = df['RRACE'].replace(2,'Black')\n",
    "df['RRACE'] = df['RRACE'].replace(3,'Asian')\n",
    "df['RRACE'] = df['RRACE'].replace(4,'Others')"
   ]
  },
  {
   "cell_type": "markdown",
   "metadata": {},
   "source": [
    "### Target variable\n",
    "**`MH_NOTGET`**"
   ]
  },
  {
   "cell_type": "markdown",
   "metadata": {},
   "source": [
    "It is a feature which measures the likelihood of receiving counseling/therapy from a mental health professional where 2 = got help given that they they needed professional aid and 1 = did not get help given that they needed professional aid. As this feature is normalized by the condition that everyone needs helps, it would be simplified into two classes, did get help and did not get help. This would group people that do not need professional aid under the same category as those who received the necessary help to cope with their mental health. Since the motivation is to identify people who have refrained from seeking mental health therapy, this grouping would be inconsequential. The implications of refraining from seeking necessary aid is still critical and thus making predictions of susceptible respondents would allow for an early intervention."
   ]
  },
  {
   "cell_type": "code",
   "execution_count": 330,
   "metadata": {},
   "outputs": [
    {
     "data": {
      "text/plain": [
       "2.0    77.298831\n",
       "NaN    14.517778\n",
       "1.0     8.183391\n",
       "Name: MH_NOTGET, dtype: float64"
      ]
     },
     "execution_count": 330,
     "metadata": {},
     "output_type": "execute_result"
    }
   ],
   "source": [
    "df['MH_NOTGET'].value_counts(dropna = False,normalize = True) * 100"
   ]
  },
  {
   "cell_type": "markdown",
   "metadata": {},
   "source": [
    "Since `MH_NOTGET` is our target variable, null values would be removed"
   ]
  },
  {
   "cell_type": "code",
   "execution_count": 331,
   "metadata": {},
   "outputs": [],
   "source": [
    "# Dropping all null rows\n",
    "df.dropna(subset = ['MH_NOTGET'],inplace = True)"
   ]
  },
  {
   "cell_type": "code",
   "execution_count": 332,
   "metadata": {},
   "outputs": [],
   "source": [
    "# Relabelling values to fit a binary classification model\n",
    "# 1 = Did not get help, 0 = Did get help\n",
    "df['MH_NOTGET'] = df['MH_NOTGET'].replace(2,0)"
   ]
  },
  {
   "cell_type": "code",
   "execution_count": 333,
   "metadata": {
    "scrolled": false
   },
   "outputs": [
    {
     "data": {
      "text/plain": [
       "0.0    90.426792\n",
       "1.0     9.573208\n",
       "Name: MH_NOTGET, dtype: float64"
      ]
     },
     "execution_count": 333,
     "metadata": {},
     "output_type": "execute_result"
    }
   ],
   "source": [
    "df['MH_NOTGET'].value_counts(normalize = True) * 100"
   ]
  },
  {
   "cell_type": "code",
   "execution_count": 334,
   "metadata": {
    "scrolled": true
   },
   "outputs": [
    {
     "data": {
      "text/plain": [
       "{'MS': 0.0,\n",
       " 'WRKLOSS': 0.0,\n",
       " 'EXPCTLOSS': 0.0,\n",
       " 'EXPNS_DIF': 0.0,\n",
       " 'FOODCONF': 0.0,\n",
       " 'MH_NOTGET': 0.0}"
      ]
     },
     "execution_count": 334,
     "metadata": {},
     "output_type": "execute_result"
    }
   ],
   "source": [
    "# Displaying percentage of null values in all columns with null values\n",
    "percent_null = {}\n",
    "for col in null_columns:\n",
    "    percent_null[col] = (df[col].isnull().sum()/len(df)) * 100\n",
    "sorted_percent_null = dict(sorted(percent_null.items(),key = lambda x: x[1],reverse = True))\n",
    "sorted_percent_null"
   ]
  },
  {
   "cell_type": "markdown",
   "metadata": {},
   "source": [
    "### Saving cleaned data"
   ]
  },
  {
   "cell_type": "code",
   "execution_count": 335,
   "metadata": {},
   "outputs": [],
   "source": [
    "df.to_csv('../datasets/cleaned_data_week_13.csv',index = False)"
   ]
  },
  {
   "cell_type": "markdown",
   "metadata": {},
   "source": [
    "### References\n",
    "--- \n",
    "1) Schumaker, E. (2020, September 22). Timeline: How coronavirus got started. AbcNEWS. https://abcnews.go.com/Health/timeline-coronavirus-started/story?id=69435165 <br>\n",
    "2) Cathey, L. (2020, March 14). Government coronavirus response: Trump declares national emergency, says he “likely” will get tested. AbcNEWS. https://abcnews.go.com/Politics/government-coronavirus-response-live-updates-trump-declares-national/story?id=69580277 <br>\n",
    "3) Aziz, S. (2020, October 22). New coronavirus surge in the US: What you need to know. ALJAZEERA. https://www.aljazeera.com/news/2020/10/22/us-coronavirus-surge-four-things-to-know <br>\n",
    "4) Elshaug, A. (2020, August 14). Pandemic letter from America: how the US handling of COVID-19 provides the starkest warning for us all. The Conversation. https://theconversation.com/pandemic-letter-from-america-how-the-us-handling-of-covid-19-provides-the-starkest-warning-for-us-all-144357 <br>\n",
    "5) Cox, J. (2020, August 6). U.S. weekly jobless claims total 1.186 million, lowest level of the coronavirus pandemic. CNBC. https://www.cnbc.com/2020/08/06/weekly-jobless-claims.html <br>\n",
    "6) Kochhar, R. (2020, June 11). Unemployment rose higher in three months of COVID-19 than it did in two years of the Great Recession. Pew Research Center. https://www.pewresearch.org/fact-tank/2020/06/11/unemployment-rose-higher-in-three-months-of-covid-19-than-it-did-in-two-years-of-the-great-recession/"
   ]
  }
 ],
 "metadata": {
  "kernelspec": {
   "display_name": "Python 3",
   "language": "python",
   "name": "python3"
  },
  "language_info": {
   "codemirror_mode": {
    "name": "ipython",
    "version": 3
   },
   "file_extension": ".py",
   "mimetype": "text/x-python",
   "name": "python",
   "nbconvert_exporter": "python",
   "pygments_lexer": "ipython3",
   "version": "3.8.3"
  }
 },
 "nbformat": 4,
 "nbformat_minor": 4
}

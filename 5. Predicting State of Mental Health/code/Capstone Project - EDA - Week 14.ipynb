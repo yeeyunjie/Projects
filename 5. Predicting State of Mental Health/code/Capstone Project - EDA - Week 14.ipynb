{
 "cells": [
  {
   "cell_type": "markdown",
   "metadata": {},
   "source": [
    "# Capstone Project: Post-Covid Mental Health Status"
   ]
  },
  {
   "cell_type": "markdown",
   "metadata": {},
   "source": [
    "## Problem Statement\n",
    "The ongoing Household Pulse Survey conducted in the States aims to measure household experiences during the coronvarius pandemic. This unprecendented spread of COVID-19 is predicted to have a long-tail effect on the mental health of people similar to the aftermath of many past natural diseases/pandemics. Moreover, the lack of mental heath literacy/awareness has discouraged people from seeking the help they need. In order to identify this susceptible group of people as well as to understand and quantify importance of factors that drive such a vulnerability/resistance to seeking mental aid, I aim to build two models to meet two different objectives. One is a binary classification **ExtraTrees Classifier model** to predict the development of avoidance behaviours with regards to seeking mental health therapy and a second **Logistic Regression** inference model to identify the top predictor features given the wide range of variables present which provides a holistic overview of a person's livelihood. Understanding these features would aid in making well-informed recommendations to better tackle the root causes of such a tendency. The performances of these models would be evaluated by **ROC-AUC** and **recall** scores. "
   ]
  },
  {
   "cell_type": "markdown",
   "metadata": {},
   "source": [
    "## Executive Summary\n",
    "Prior to COVID-19, Mental Health America(MHA) has reported an increase in the number of mental health disorders from 2017-2018 where an additional 1.5million people suffered from mental health distress. Moreover, reports have shown that these health needs are often unmet, with 60% of youths and 23.6% of adults with major depression not receiving adequate treatments even in states with highly accessible healthcare. The declaration of a national state of emergency for COVID-19 on March 13 has only exacerbated this phenomenon. Mental Health America(MHA) has reported that there is a 634% and 873% increase in the number of people who underwent online anxiety and depression screening tests respectively on the MHA portal from Janaury to September 2020. Among these respondents, 8/10 of them were scored with moderate to severe symptoms since the declaration of the covid pandemic. Therefore there is an alarming trend in the number of people developing mental health disorders.There is now an increasing need to destigmatize mental health and to provide early interventions before associated problems manifest. <br> \n",
    "\n",
    "**Direction of the project** <br>\n",
    "The goal is to build two models, one to identify respondents with the tendency to avoid seeking mental healthaid and the other to identify important predictor features that strongly correlates with such an inclination.The metrics used to evaluate the models' performances are ROC-AUC and recall scores. With these two models, I aim to provide well-informed suggestions to stateboards and mental health institutes on where to focus and channel resources to curb underlying root causes of such mental distress. Data used is collected from the Household Pulse Survey conducted by United States Census Bureau which is a holisitic questionnaire that measures social,economical and physical impact of COVID on a person's livelihood.\n",
    "\n",
    "**Findings - Data Analysis** <br>\n",
    "A logistic regression model used identified the frequency of feeling down/sad/hopeless(`DOWN` variable), frequency of feeling anxious(`ANXIOUS`), age(`TBIRTH_YEAR`) and gender(`EGENDER`) as the top few predictor variables that correlates with a resistance to seeking mental health aid(`MH_NOTGET`). <br>\n",
    "\n",
    "- #### `DOWN` and `ANXIOUS`\n",
    "There is a positive correlation with `DOWN` and `ANXIOUS` and `MH_NOTGET` where respondents who experience persistent feelings of sadness and anxieties are more likely to be passive in seeking mental therapy.\n",
    "- #### `TBIRTH_YEAR`\n",
    "There is a positive correlation between `TBIRTH_YEAR` and `MH_NOTGET` as the younger population are more susceptible to developing such an inclination as compared to the older generation.\n",
    "\n",
    "\n",
    "**Findings - Data Modeling** <br>\n",
    "An optimized ExtraTrees Classifier was selected as the final model due to its reduced bias and variance errors as compared to the other models. Based on this model, we could also re-evaluate the false positives generated where respondents exhibited signs of refusing mental help but they have indicated otherwise.<br>\n",
    "\n",
    "| Model | ROC-AUC | Recall |\n",
    "| --- | --- | --- |\n",
    "|Logistic Regression|0.790|0.802|\n",
    "|ExtraTrees Classifier|0.770|0.856|"
   ]
  },
  {
   "cell_type": "markdown",
   "metadata": {},
   "source": [
    "## Risk and assumptions"
   ]
  },
  {
   "cell_type": "markdown",
   "metadata": {},
   "source": [
    "The dataset consists of a set of questionaries which are heavily subjected to response bias given that these survey questions are answered voluntarily. Therefore, the responses are highly influenced by experimental conditions such as phrasing of questions in surveys, length of survey and intentions of a respondent. Moreover, since this is an online survey, this would disregard respondents such as those who lack access to internet services and thus would not be reflective of these groups of people. However, collection of data from such an online avenue would allow for a quicker collation of results especially given that there is an existing increase in people seeking mental help online and thus appropriate interventions can be implemented as soon as possible. Lastly, models built would not allow help to predict future occurrences but also to re-assess the sentiments of the current respondents' which could potentially identify those who are unaware of an existing mental condition."
   ]
  },
  {
   "cell_type": "markdown",
   "metadata": {},
   "source": [
    "### Contents\n",
    "\n",
    "- [Data Visualization](#Data-Visualization)\n",
    "- [Data Cleaning](#Data-Cleaning)\n",
    "- [Dropping unnecessary columns](#Dropping-unnecessary-columns)\n",
    "- [Impute missing values](#Impute-missing-values)\n",
    "- [Target variable](#Target-variable)\n",
    "- [References](#References)"
   ]
  },
  {
   "cell_type": "code",
   "execution_count": 1,
   "metadata": {},
   "outputs": [],
   "source": [
    "# import libraries\n",
    "import pandas as pd\n",
    "import numpy as np\n",
    "import scipy.stats as stats\n",
    "import matplotlib.pyplot as plt\n",
    "import seaborn as sns\n",
    "import datetime as dt\n",
    "\n",
    "import warnings\n",
    "warnings.filterwarnings('ignore')\n",
    "%matplotlib inline"
   ]
  },
  {
   "cell_type": "markdown",
   "metadata": {},
   "source": [
    "### Data Visualization"
   ]
  },
  {
   "cell_type": "code",
   "execution_count": 2,
   "metadata": {},
   "outputs": [],
   "source": [
    "# Reading the csv file\n",
    "df = pd.read_csv('../datasets/pulse2020_puf_14.csv')"
   ]
  },
  {
   "cell_type": "code",
   "execution_count": 3,
   "metadata": {},
   "outputs": [
    {
     "name": "stdout",
     "output_type": "stream",
     "text": [
      "Rows: 110019\n",
      "Columns: 188\n"
     ]
    }
   ],
   "source": [
    "# Number of columns and rows in data\n",
    "print(f'Rows: {df.shape[0]}')\n",
    "print(f'Columns: {df.shape[1]}')"
   ]
  },
  {
   "cell_type": "code",
   "execution_count": 4,
   "metadata": {
    "scrolled": false
   },
   "outputs": [
    {
     "data": {
      "text/html": [
       "<div>\n",
       "<style scoped>\n",
       "    .dataframe tbody tr th:only-of-type {\n",
       "        vertical-align: middle;\n",
       "    }\n",
       "\n",
       "    .dataframe tbody tr th {\n",
       "        vertical-align: top;\n",
       "    }\n",
       "\n",
       "    .dataframe thead th {\n",
       "        text-align: right;\n",
       "    }\n",
       "</style>\n",
       "<table border=\"1\" class=\"dataframe\">\n",
       "  <thead>\n",
       "    <tr style=\"text-align: right;\">\n",
       "      <th></th>\n",
       "      <th>SCRAM</th>\n",
       "      <th>WEEK</th>\n",
       "      <th>EST_ST</th>\n",
       "      <th>EST_MSA</th>\n",
       "      <th>REGION</th>\n",
       "      <th>HWEIGHT</th>\n",
       "      <th>PWEIGHT</th>\n",
       "      <th>TBIRTH_YEAR</th>\n",
       "      <th>ABIRTH_YEAR</th>\n",
       "      <th>EGENDER</th>\n",
       "      <th>...</th>\n",
       "      <th>PSWHYCHG1</th>\n",
       "      <th>PSWHYCHG2</th>\n",
       "      <th>PSWHYCHG3</th>\n",
       "      <th>PSWHYCHG4</th>\n",
       "      <th>PSWHYCHG5</th>\n",
       "      <th>PSWHYCHG6</th>\n",
       "      <th>PSWHYCHG7</th>\n",
       "      <th>PSWHYCHG8</th>\n",
       "      <th>PSWHYCHG9</th>\n",
       "      <th>INCOME</th>\n",
       "    </tr>\n",
       "  </thead>\n",
       "  <tbody>\n",
       "    <tr>\n",
       "      <th>0</th>\n",
       "      <td>V140000001S16010791500121</td>\n",
       "      <td>14</td>\n",
       "      <td>1</td>\n",
       "      <td>NaN</td>\n",
       "      <td>2</td>\n",
       "      <td>400.561735</td>\n",
       "      <td>1162.869522</td>\n",
       "      <td>1967</td>\n",
       "      <td>2</td>\n",
       "      <td>2</td>\n",
       "      <td>...</td>\n",
       "      <td>-88</td>\n",
       "      <td>-88</td>\n",
       "      <td>-88</td>\n",
       "      <td>-88</td>\n",
       "      <td>-88</td>\n",
       "      <td>-88</td>\n",
       "      <td>-88</td>\n",
       "      <td>-88</td>\n",
       "      <td>-88</td>\n",
       "      <td>1</td>\n",
       "    </tr>\n",
       "    <tr>\n",
       "      <th>1</th>\n",
       "      <td>V140000001S18010473900111</td>\n",
       "      <td>14</td>\n",
       "      <td>6</td>\n",
       "      <td>NaN</td>\n",
       "      <td>4</td>\n",
       "      <td>808.408298</td>\n",
       "      <td>791.494578</td>\n",
       "      <td>1956</td>\n",
       "      <td>2</td>\n",
       "      <td>2</td>\n",
       "      <td>...</td>\n",
       "      <td>-88</td>\n",
       "      <td>-88</td>\n",
       "      <td>-88</td>\n",
       "      <td>-88</td>\n",
       "      <td>-88</td>\n",
       "      <td>-88</td>\n",
       "      <td>-88</td>\n",
       "      <td>-88</td>\n",
       "      <td>-88</td>\n",
       "      <td>1</td>\n",
       "    </tr>\n",
       "    <tr>\n",
       "      <th>2</th>\n",
       "      <td>V140000001S33010579200121</td>\n",
       "      <td>14</td>\n",
       "      <td>1</td>\n",
       "      <td>NaN</td>\n",
       "      <td>2</td>\n",
       "      <td>582.500637</td>\n",
       "      <td>563.685260</td>\n",
       "      <td>1966</td>\n",
       "      <td>2</td>\n",
       "      <td>2</td>\n",
       "      <td>...</td>\n",
       "      <td>-88</td>\n",
       "      <td>-88</td>\n",
       "      <td>-88</td>\n",
       "      <td>-88</td>\n",
       "      <td>-88</td>\n",
       "      <td>-88</td>\n",
       "      <td>-88</td>\n",
       "      <td>-88</td>\n",
       "      <td>-88</td>\n",
       "      <td>2</td>\n",
       "    </tr>\n",
       "    <tr>\n",
       "      <th>3</th>\n",
       "      <td>V140000001S37010059600111</td>\n",
       "      <td>14</td>\n",
       "      <td>1</td>\n",
       "      <td>NaN</td>\n",
       "      <td>2</td>\n",
       "      <td>3150.927544</td>\n",
       "      <td>3049.149301</td>\n",
       "      <td>1948</td>\n",
       "      <td>2</td>\n",
       "      <td>2</td>\n",
       "      <td>...</td>\n",
       "      <td>1</td>\n",
       "      <td>-99</td>\n",
       "      <td>-99</td>\n",
       "      <td>-99</td>\n",
       "      <td>-99</td>\n",
       "      <td>-99</td>\n",
       "      <td>-99</td>\n",
       "      <td>-99</td>\n",
       "      <td>-99</td>\n",
       "      <td>1</td>\n",
       "    </tr>\n",
       "    <tr>\n",
       "      <th>4</th>\n",
       "      <td>V140000001S37010126700121</td>\n",
       "      <td>14</td>\n",
       "      <td>1</td>\n",
       "      <td>NaN</td>\n",
       "      <td>2</td>\n",
       "      <td>332.211296</td>\n",
       "      <td>321.480525</td>\n",
       "      <td>1969</td>\n",
       "      <td>2</td>\n",
       "      <td>2</td>\n",
       "      <td>...</td>\n",
       "      <td>-88</td>\n",
       "      <td>-88</td>\n",
       "      <td>-88</td>\n",
       "      <td>-88</td>\n",
       "      <td>-88</td>\n",
       "      <td>-88</td>\n",
       "      <td>-88</td>\n",
       "      <td>-88</td>\n",
       "      <td>-88</td>\n",
       "      <td>-88</td>\n",
       "    </tr>\n",
       "  </tbody>\n",
       "</table>\n",
       "<p>5 rows × 188 columns</p>\n",
       "</div>"
      ],
      "text/plain": [
       "                       SCRAM  WEEK  EST_ST  EST_MSA  REGION      HWEIGHT  \\\n",
       "0  V140000001S16010791500121    14       1      NaN       2   400.561735   \n",
       "1  V140000001S18010473900111    14       6      NaN       4   808.408298   \n",
       "2  V140000001S33010579200121    14       1      NaN       2   582.500637   \n",
       "3  V140000001S37010059600111    14       1      NaN       2  3150.927544   \n",
       "4  V140000001S37010126700121    14       1      NaN       2   332.211296   \n",
       "\n",
       "       PWEIGHT  TBIRTH_YEAR  ABIRTH_YEAR  EGENDER  ...  PSWHYCHG1  PSWHYCHG2  \\\n",
       "0  1162.869522         1967            2        2  ...        -88        -88   \n",
       "1   791.494578         1956            2        2  ...        -88        -88   \n",
       "2   563.685260         1966            2        2  ...        -88        -88   \n",
       "3  3049.149301         1948            2        2  ...          1        -99   \n",
       "4   321.480525         1969            2        2  ...        -88        -88   \n",
       "\n",
       "   PSWHYCHG3  PSWHYCHG4  PSWHYCHG5  PSWHYCHG6  PSWHYCHG7  PSWHYCHG8  \\\n",
       "0        -88        -88        -88        -88        -88        -88   \n",
       "1        -88        -88        -88        -88        -88        -88   \n",
       "2        -88        -88        -88        -88        -88        -88   \n",
       "3        -99        -99        -99        -99        -99        -99   \n",
       "4        -88        -88        -88        -88        -88        -88   \n",
       "\n",
       "   PSWHYCHG9  INCOME  \n",
       "0        -88       1  \n",
       "1        -88       1  \n",
       "2        -88       2  \n",
       "3        -99       1  \n",
       "4        -88     -88  \n",
       "\n",
       "[5 rows x 188 columns]"
      ]
     },
     "execution_count": 4,
     "metadata": {},
     "output_type": "execute_result"
    }
   ],
   "source": [
    "# Looking at the first 5 rows of data\n",
    "df.head()"
   ]
  },
  {
   "cell_type": "code",
   "execution_count": 5,
   "metadata": {
    "scrolled": true
   },
   "outputs": [
    {
     "data": {
      "text/html": [
       "<div>\n",
       "<style scoped>\n",
       "    .dataframe tbody tr th:only-of-type {\n",
       "        vertical-align: middle;\n",
       "    }\n",
       "\n",
       "    .dataframe tbody tr th {\n",
       "        vertical-align: top;\n",
       "    }\n",
       "\n",
       "    .dataframe thead th {\n",
       "        text-align: right;\n",
       "    }\n",
       "</style>\n",
       "<table border=\"1\" class=\"dataframe\">\n",
       "  <thead>\n",
       "    <tr style=\"text-align: right;\">\n",
       "      <th></th>\n",
       "      <th>WEEK</th>\n",
       "      <th>EST_ST</th>\n",
       "      <th>EST_MSA</th>\n",
       "      <th>REGION</th>\n",
       "      <th>HWEIGHT</th>\n",
       "      <th>PWEIGHT</th>\n",
       "      <th>TBIRTH_YEAR</th>\n",
       "      <th>ABIRTH_YEAR</th>\n",
       "      <th>EGENDER</th>\n",
       "      <th>AGENDER</th>\n",
       "      <th>...</th>\n",
       "      <th>PSWHYCHG1</th>\n",
       "      <th>PSWHYCHG2</th>\n",
       "      <th>PSWHYCHG3</th>\n",
       "      <th>PSWHYCHG4</th>\n",
       "      <th>PSWHYCHG5</th>\n",
       "      <th>PSWHYCHG6</th>\n",
       "      <th>PSWHYCHG7</th>\n",
       "      <th>PSWHYCHG8</th>\n",
       "      <th>PSWHYCHG9</th>\n",
       "      <th>INCOME</th>\n",
       "    </tr>\n",
       "  </thead>\n",
       "  <tbody>\n",
       "    <tr>\n",
       "      <th>count</th>\n",
       "      <td>110019.0</td>\n",
       "      <td>110019.000000</td>\n",
       "      <td>35149.000000</td>\n",
       "      <td>110019.000000</td>\n",
       "      <td>110019.000000</td>\n",
       "      <td>110019.000000</td>\n",
       "      <td>110019.000000</td>\n",
       "      <td>110019.000000</td>\n",
       "      <td>110019.000000</td>\n",
       "      <td>110019.000000</td>\n",
       "      <td>...</td>\n",
       "      <td>110019.000000</td>\n",
       "      <td>110019.000000</td>\n",
       "      <td>110019.000000</td>\n",
       "      <td>110019.000000</td>\n",
       "      <td>110019.000000</td>\n",
       "      <td>110019.000000</td>\n",
       "      <td>110019.000000</td>\n",
       "      <td>110019.00000</td>\n",
       "      <td>110019.000000</td>\n",
       "      <td>110019.000000</td>\n",
       "    </tr>\n",
       "    <tr>\n",
       "      <th>mean</th>\n",
       "      <td>14.0</td>\n",
       "      <td>27.875967</td>\n",
       "      <td>31986.081539</td>\n",
       "      <td>2.695543</td>\n",
       "      <td>1104.538125</td>\n",
       "      <td>2264.798953</td>\n",
       "      <td>1969.084195</td>\n",
       "      <td>1.991838</td>\n",
       "      <td>1.584726</td>\n",
       "      <td>1.993128</td>\n",
       "      <td>...</td>\n",
       "      <td>-84.946309</td>\n",
       "      <td>-89.437352</td>\n",
       "      <td>-88.559322</td>\n",
       "      <td>-81.955917</td>\n",
       "      <td>-88.145757</td>\n",
       "      <td>-87.656750</td>\n",
       "      <td>-86.365155</td>\n",
       "      <td>-86.09702</td>\n",
       "      <td>-88.229379</td>\n",
       "      <td>-15.781220</td>\n",
       "    </tr>\n",
       "    <tr>\n",
       "      <th>std</th>\n",
       "      <td>0.0</td>\n",
       "      <td>16.424726</td>\n",
       "      <td>11490.297994</td>\n",
       "      <td>1.081055</td>\n",
       "      <td>1790.950102</td>\n",
       "      <td>4294.878731</td>\n",
       "      <td>15.871639</td>\n",
       "      <td>0.089976</td>\n",
       "      <td>0.492771</td>\n",
       "      <td>0.082610</td>\n",
       "      <td>...</td>\n",
       "      <td>19.377238</td>\n",
       "      <td>5.694906</td>\n",
       "      <td>10.132724</td>\n",
       "      <td>24.114807</td>\n",
       "      <td>11.628501</td>\n",
       "      <td>13.163142</td>\n",
       "      <td>16.476005</td>\n",
       "      <td>17.07117</td>\n",
       "      <td>11.343196</td>\n",
       "      <td>38.871182</td>\n",
       "    </tr>\n",
       "    <tr>\n",
       "      <th>min</th>\n",
       "      <td>14.0</td>\n",
       "      <td>1.000000</td>\n",
       "      <td>12060.000000</td>\n",
       "      <td>1.000000</td>\n",
       "      <td>16.300361</td>\n",
       "      <td>16.689905</td>\n",
       "      <td>1932.000000</td>\n",
       "      <td>1.000000</td>\n",
       "      <td>1.000000</td>\n",
       "      <td>1.000000</td>\n",
       "      <td>...</td>\n",
       "      <td>-99.000000</td>\n",
       "      <td>-99.000000</td>\n",
       "      <td>-99.000000</td>\n",
       "      <td>-99.000000</td>\n",
       "      <td>-99.000000</td>\n",
       "      <td>-99.000000</td>\n",
       "      <td>-99.000000</td>\n",
       "      <td>-99.00000</td>\n",
       "      <td>-99.000000</td>\n",
       "      <td>-99.000000</td>\n",
       "    </tr>\n",
       "    <tr>\n",
       "      <th>25%</th>\n",
       "      <td>14.0</td>\n",
       "      <td>12.000000</td>\n",
       "      <td>19100.000000</td>\n",
       "      <td>2.000000</td>\n",
       "      <td>315.133123</td>\n",
       "      <td>525.632545</td>\n",
       "      <td>1956.000000</td>\n",
       "      <td>2.000000</td>\n",
       "      <td>1.000000</td>\n",
       "      <td>2.000000</td>\n",
       "      <td>...</td>\n",
       "      <td>-88.000000</td>\n",
       "      <td>-88.000000</td>\n",
       "      <td>-88.000000</td>\n",
       "      <td>-88.000000</td>\n",
       "      <td>-88.000000</td>\n",
       "      <td>-88.000000</td>\n",
       "      <td>-88.000000</td>\n",
       "      <td>-88.00000</td>\n",
       "      <td>-88.000000</td>\n",
       "      <td>1.000000</td>\n",
       "    </tr>\n",
       "    <tr>\n",
       "      <th>50%</th>\n",
       "      <td>14.0</td>\n",
       "      <td>27.000000</td>\n",
       "      <td>35620.000000</td>\n",
       "      <td>3.000000</td>\n",
       "      <td>586.510288</td>\n",
       "      <td>1087.321502</td>\n",
       "      <td>1969.000000</td>\n",
       "      <td>2.000000</td>\n",
       "      <td>2.000000</td>\n",
       "      <td>2.000000</td>\n",
       "      <td>...</td>\n",
       "      <td>-88.000000</td>\n",
       "      <td>-88.000000</td>\n",
       "      <td>-88.000000</td>\n",
       "      <td>-88.000000</td>\n",
       "      <td>-88.000000</td>\n",
       "      <td>-88.000000</td>\n",
       "      <td>-88.000000</td>\n",
       "      <td>-88.00000</td>\n",
       "      <td>-88.000000</td>\n",
       "      <td>4.000000</td>\n",
       "    </tr>\n",
       "    <tr>\n",
       "      <th>75%</th>\n",
       "      <td>14.0</td>\n",
       "      <td>42.000000</td>\n",
       "      <td>41860.000000</td>\n",
       "      <td>4.000000</td>\n",
       "      <td>1185.695521</td>\n",
       "      <td>2306.509628</td>\n",
       "      <td>1982.000000</td>\n",
       "      <td>2.000000</td>\n",
       "      <td>2.000000</td>\n",
       "      <td>2.000000</td>\n",
       "      <td>...</td>\n",
       "      <td>-88.000000</td>\n",
       "      <td>-88.000000</td>\n",
       "      <td>-88.000000</td>\n",
       "      <td>-88.000000</td>\n",
       "      <td>-88.000000</td>\n",
       "      <td>-88.000000</td>\n",
       "      <td>-88.000000</td>\n",
       "      <td>-88.00000</td>\n",
       "      <td>-88.000000</td>\n",
       "      <td>6.000000</td>\n",
       "    </tr>\n",
       "    <tr>\n",
       "      <th>max</th>\n",
       "      <td>14.0</td>\n",
       "      <td>56.000000</td>\n",
       "      <td>47900.000000</td>\n",
       "      <td>4.000000</td>\n",
       "      <td>62691.109655</td>\n",
       "      <td>214851.196590</td>\n",
       "      <td>2002.000000</td>\n",
       "      <td>2.000000</td>\n",
       "      <td>2.000000</td>\n",
       "      <td>2.000000</td>\n",
       "      <td>...</td>\n",
       "      <td>1.000000</td>\n",
       "      <td>1.000000</td>\n",
       "      <td>1.000000</td>\n",
       "      <td>1.000000</td>\n",
       "      <td>1.000000</td>\n",
       "      <td>1.000000</td>\n",
       "      <td>1.000000</td>\n",
       "      <td>1.00000</td>\n",
       "      <td>1.000000</td>\n",
       "      <td>8.000000</td>\n",
       "    </tr>\n",
       "  </tbody>\n",
       "</table>\n",
       "<p>8 rows × 187 columns</p>\n",
       "</div>"
      ],
      "text/plain": [
       "           WEEK         EST_ST       EST_MSA         REGION        HWEIGHT  \\\n",
       "count  110019.0  110019.000000  35149.000000  110019.000000  110019.000000   \n",
       "mean       14.0      27.875967  31986.081539       2.695543    1104.538125   \n",
       "std         0.0      16.424726  11490.297994       1.081055    1790.950102   \n",
       "min        14.0       1.000000  12060.000000       1.000000      16.300361   \n",
       "25%        14.0      12.000000  19100.000000       2.000000     315.133123   \n",
       "50%        14.0      27.000000  35620.000000       3.000000     586.510288   \n",
       "75%        14.0      42.000000  41860.000000       4.000000    1185.695521   \n",
       "max        14.0      56.000000  47900.000000       4.000000   62691.109655   \n",
       "\n",
       "             PWEIGHT    TBIRTH_YEAR    ABIRTH_YEAR        EGENDER  \\\n",
       "count  110019.000000  110019.000000  110019.000000  110019.000000   \n",
       "mean     2264.798953    1969.084195       1.991838       1.584726   \n",
       "std      4294.878731      15.871639       0.089976       0.492771   \n",
       "min        16.689905    1932.000000       1.000000       1.000000   \n",
       "25%       525.632545    1956.000000       2.000000       1.000000   \n",
       "50%      1087.321502    1969.000000       2.000000       2.000000   \n",
       "75%      2306.509628    1982.000000       2.000000       2.000000   \n",
       "max    214851.196590    2002.000000       2.000000       2.000000   \n",
       "\n",
       "             AGENDER  ...      PSWHYCHG1      PSWHYCHG2      PSWHYCHG3  \\\n",
       "count  110019.000000  ...  110019.000000  110019.000000  110019.000000   \n",
       "mean        1.993128  ...     -84.946309     -89.437352     -88.559322   \n",
       "std         0.082610  ...      19.377238       5.694906      10.132724   \n",
       "min         1.000000  ...     -99.000000     -99.000000     -99.000000   \n",
       "25%         2.000000  ...     -88.000000     -88.000000     -88.000000   \n",
       "50%         2.000000  ...     -88.000000     -88.000000     -88.000000   \n",
       "75%         2.000000  ...     -88.000000     -88.000000     -88.000000   \n",
       "max         2.000000  ...       1.000000       1.000000       1.000000   \n",
       "\n",
       "           PSWHYCHG4      PSWHYCHG5      PSWHYCHG6      PSWHYCHG7  \\\n",
       "count  110019.000000  110019.000000  110019.000000  110019.000000   \n",
       "mean      -81.955917     -88.145757     -87.656750     -86.365155   \n",
       "std        24.114807      11.628501      13.163142      16.476005   \n",
       "min       -99.000000     -99.000000     -99.000000     -99.000000   \n",
       "25%       -88.000000     -88.000000     -88.000000     -88.000000   \n",
       "50%       -88.000000     -88.000000     -88.000000     -88.000000   \n",
       "75%       -88.000000     -88.000000     -88.000000     -88.000000   \n",
       "max         1.000000       1.000000       1.000000       1.000000   \n",
       "\n",
       "          PSWHYCHG8      PSWHYCHG9         INCOME  \n",
       "count  110019.00000  110019.000000  110019.000000  \n",
       "mean      -86.09702     -88.229379     -15.781220  \n",
       "std        17.07117      11.343196      38.871182  \n",
       "min       -99.00000     -99.000000     -99.000000  \n",
       "25%       -88.00000     -88.000000       1.000000  \n",
       "50%       -88.00000     -88.000000       4.000000  \n",
       "75%       -88.00000     -88.000000       6.000000  \n",
       "max         1.00000       1.000000       8.000000  \n",
       "\n",
       "[8 rows x 187 columns]"
      ]
     },
     "execution_count": 5,
     "metadata": {},
     "output_type": "execute_result"
    }
   ],
   "source": [
    "# Statistical summary of features\n",
    "df.describe()"
   ]
  },
  {
   "cell_type": "markdown",
   "metadata": {},
   "source": [
    "### Data Cleaning"
   ]
  },
  {
   "cell_type": "code",
   "execution_count": 6,
   "metadata": {},
   "outputs": [
    {
     "data": {
      "text/html": [
       "<div>\n",
       "<style scoped>\n",
       "    .dataframe tbody tr th:only-of-type {\n",
       "        vertical-align: middle;\n",
       "    }\n",
       "\n",
       "    .dataframe tbody tr th {\n",
       "        vertical-align: top;\n",
       "    }\n",
       "\n",
       "    .dataframe thead th {\n",
       "        text-align: right;\n",
       "    }\n",
       "</style>\n",
       "<table border=\"1\" class=\"dataframe\">\n",
       "  <thead>\n",
       "    <tr style=\"text-align: right;\">\n",
       "      <th></th>\n",
       "      <th>SCRAM</th>\n",
       "      <th>WEEK</th>\n",
       "      <th>EST_ST</th>\n",
       "      <th>EST_MSA</th>\n",
       "      <th>REGION</th>\n",
       "      <th>HWEIGHT</th>\n",
       "      <th>PWEIGHT</th>\n",
       "      <th>TBIRTH_YEAR</th>\n",
       "      <th>ABIRTH_YEAR</th>\n",
       "      <th>EGENDER</th>\n",
       "      <th>...</th>\n",
       "      <th>PSWHYCHG1</th>\n",
       "      <th>PSWHYCHG2</th>\n",
       "      <th>PSWHYCHG3</th>\n",
       "      <th>PSWHYCHG4</th>\n",
       "      <th>PSWHYCHG5</th>\n",
       "      <th>PSWHYCHG6</th>\n",
       "      <th>PSWHYCHG7</th>\n",
       "      <th>PSWHYCHG8</th>\n",
       "      <th>PSWHYCHG9</th>\n",
       "      <th>INCOME</th>\n",
       "    </tr>\n",
       "  </thead>\n",
       "  <tbody>\n",
       "  </tbody>\n",
       "</table>\n",
       "<p>0 rows × 188 columns</p>\n",
       "</div>"
      ],
      "text/plain": [
       "Empty DataFrame\n",
       "Columns: [SCRAM, WEEK, EST_ST, EST_MSA, REGION, HWEIGHT, PWEIGHT, TBIRTH_YEAR, ABIRTH_YEAR, EGENDER, AGENDER, RHISPANIC, AHISPANIC, RRACE, ARACE, EEDUC, AEDUC, MS, THHLD_NUMPER, AHHLD_NUMPER, THHLD_NUMKID, AHHLD_NUMKID, THHLD_NUMADLT, WRKLOSS, EXPCTLOSS, ANYWORK, KINDWORK, RSNNOWRK, TW_START, UNEMPPAY, UI_APPLY, UI_RECV, TUI_NUMPER, SSA_RECV, SSA_APPLY, SSAPGM1, SSAPGM2, SSAPGM3, SSAPGM4, SSAPGM5, SSALIKELY, SSAEXPCT1, SSAEXPCT2, SSAEXPCT3, SSAEXPCT4, SSAEXPCT5, SSADECISN, EXPNS_DIF, CHNGHOW1, CHNGHOW2, CHNGHOW3, CHNGHOW4, CHNGHOW5, CHNGHOW6, CHNGHOW7, CHNGHOW8, CHNGHOW9, CHNGHOW10, CHNGHOW11, CHNGHOW12, WHYCHNGD1, WHYCHNGD2, WHYCHNGD3, WHYCHNGD4, WHYCHNGD5, WHYCHNGD6, WHYCHNGD7, WHYCHNGD8, WHYCHNGD9, WHYCHNGD10, WHYCHNGD11, WHYCHNGD12, WHYCHNGD13, SPNDSRC1, SPNDSRC2, SPNDSRC3, SPNDSRC4, SPNDSRC5, SPNDSRC6, SPNDSRC7, SPNDSRC8, FEWRTRIPS, FEWRTRANS, PLNDTRIPS, CNCLDTRPS, PRIFOODSUF, CURFOODSUF, CHILDFOOD, FOODSUFRSN1, FOODSUFRSN2, FOODSUFRSN3, FOODSUFRSN4, FOODSUFRSN5, FREEFOOD, WHEREFREE1, WHEREFREE2, WHEREFREE3, WHEREFREE4, WHEREFREE5, WHEREFREE6, ...]\n",
       "Index: []\n",
       "\n",
       "[0 rows x 188 columns]"
      ]
     },
     "execution_count": 6,
     "metadata": {},
     "output_type": "execute_result"
    }
   ],
   "source": [
    "# Check for duplicates\n",
    "df[df.duplicated()]"
   ]
  },
  {
   "cell_type": "code",
   "execution_count": 7,
   "metadata": {
    "scrolled": false
   },
   "outputs": [
    {
     "data": {
      "text/plain": [
       "Index(['EST_MSA'], dtype='object')"
      ]
     },
     "execution_count": 7,
     "metadata": {},
     "output_type": "execute_result"
    }
   ],
   "source": [
    "# Checking for columns with null values\n",
    "null_columns = df.columns[df.isnull().any()]\n",
    "null_columns"
   ]
  },
  {
   "cell_type": "code",
   "execution_count": 8,
   "metadata": {
    "scrolled": true
   },
   "outputs": [
    {
     "data": {
      "text/plain": [
       "EST_MSA    68.051882\n",
       "dtype: float64"
      ]
     },
     "execution_count": 8,
     "metadata": {},
     "output_type": "execute_result"
    }
   ],
   "source": [
    "# Displaying percentage of null values in EST_MSA columns\n",
    "df[null_columns].isnull().sum()/len(df) * 100"
   ]
  },
  {
   "cell_type": "markdown",
   "metadata": {},
   "source": [
    "Since responses -88 and -99 represent missing values, they would be grouped together and replaced with null instead."
   ]
  },
  {
   "cell_type": "code",
   "execution_count": 9,
   "metadata": {
    "scrolled": true
   },
   "outputs": [],
   "source": [
    "# Converting all missing values to np.nan\n",
    "for col in df.columns:\n",
    "    try:\n",
    "        df[col] = df[col].map(lambda x: np.nan if (x == -88) | (x == -99) else x)\n",
    "    except ValueError:\n",
    "        print(f'{col} cannot be converted to null values')"
   ]
  },
  {
   "cell_type": "code",
   "execution_count": 10,
   "metadata": {},
   "outputs": [
    {
     "data": {
      "text/plain": [
       "Index(['EST_MSA', 'MS', 'WRKLOSS', 'EXPCTLOSS', 'ANYWORK', 'KINDWORK',\n",
       "       'RSNNOWRK', 'TW_START', 'UNEMPPAY', 'UI_APPLY',\n",
       "       ...\n",
       "       'PSWHYCHG1', 'PSWHYCHG2', 'PSWHYCHG3', 'PSWHYCHG4', 'PSWHYCHG5',\n",
       "       'PSWHYCHG6', 'PSWHYCHG7', 'PSWHYCHG8', 'PSWHYCHG9', 'INCOME'],\n",
       "      dtype='object', length=165)"
      ]
     },
     "execution_count": 10,
     "metadata": {},
     "output_type": "execute_result"
    }
   ],
   "source": [
    "# Checking for columns with null values\n",
    "null_columns = df.columns[df.isnull().any()]\n",
    "null_columns"
   ]
  },
  {
   "cell_type": "code",
   "execution_count": 11,
   "metadata": {
    "scrolled": true
   },
   "outputs": [
    {
     "data": {
      "text/plain": [
       "{'SNAPMNTH10': 100.0,\n",
       " 'SNAPMNTH11': 100.0,\n",
       " 'SNAPMNTH12': 100.0,\n",
       " 'WHEREFREE5': 99.89001899671874,\n",
       " 'SSAPGM3': 99.84184549941374,\n",
       " 'SSAEXPCT3': 99.80639707686854,\n",
       " 'PSCHNG5': 99.79548986993156,\n",
       " 'PSWHYCHG2': 99.79003626646306,\n",
       " 'INTRNT3': 99.7618593152092,\n",
       " 'WHEREFREE3': 99.73186449613249,\n",
       " 'COMP3': 99.73095556222107,\n",
       " 'SSAPGM4': 99.66369445277634,\n",
       " 'PSCHNG6': 99.56825639207774,\n",
       " 'PSCHNG7': 99.55189558167226,\n",
       " 'INTRNT1': 99.41646442887138,\n",
       " 'WHYCHNGD6': 99.33193357510976,\n",
       " 'SSAPGM2': 99.27467073869059,\n",
       " 'SSAEXPCT4': 99.11924303983858,\n",
       " 'SSAPGM1': 99.00926203655732,\n",
       " 'SSAPGM5': 98.99653696179752,\n",
       " 'WHEREFREE4': 98.92018651323862,\n",
       " 'PSWHYCHG3': 98.91200610803588,\n",
       " 'SSAEXPCT2': 98.90655250456739,\n",
       " 'WHEREFREE6': 98.8120233777802,\n",
       " 'PSWHYCHG9': 98.58206309819212,\n",
       " 'PSWHYCHG5': 98.49844117834192,\n",
       " 'WHYCHNGD12': 98.35392068642689,\n",
       " 'WHEREFREE7': 98.34755814904699,\n",
       " 'WHEREFREE2': 98.30756505694471,\n",
       " 'FOODSUFRSN4': 98.29847571783056,\n",
       " 'PSPLANS5': 98.22576100491733,\n",
       " 'SSAEXPCT5': 98.16213563111826,\n",
       " 'SSAEXPCT1': 98.06124396695117,\n",
       " 'WHEREFREE1': 98.04670102436852,\n",
       " 'PSCHNG4': 98.01761513920323,\n",
       " 'PSWHYCHG6': 98.0094347340005,\n",
       " 'WHYCHNGD8': 97.64313436770013,\n",
       " 'ENROLL2': 97.54769630700152,\n",
       " 'PSPLANS6': 97.50224961143076,\n",
       " 'EVICT': 97.40772048464356,\n",
       " 'TEACH5': 97.40226688117507,\n",
       " 'TEACH3': 97.16594406420708,\n",
       " 'PSPLANS1': 97.15049218771303,\n",
       " 'FORCLOSE': 97.0886846817368,\n",
       " 'CHNGHOW11': 97.08414001217972,\n",
       " 'PSWHYCHG7': 96.71783964587934,\n",
       " 'FOODSUFRSN2': 96.60422290695243,\n",
       " 'TEACH4': 96.49605977149402,\n",
       " 'PSWHYCHG8': 96.44970414201184,\n",
       " 'SNAPMNTH1': 96.40153064470682,\n",
       " 'SNAPMNTH2': 96.37517156127578,\n",
       " 'CHNGHOW5': 96.28246030231142,\n",
       " 'PSPLANS4': 96.22065279633519,\n",
       " 'PSPLANS2': 96.21065452330961,\n",
       " 'SNAPMNTH9': 96.08249484180004,\n",
       " 'SNAPMNTH3': 95.91706886992247,\n",
       " 'WHYCHNGD13': 95.72437488070243,\n",
       " 'SPNDSRC7': 95.51713794889973,\n",
       " 'WHYCHNGD10': 95.47078231941755,\n",
       " 'SNAPMNTH4': 95.44624110380934,\n",
       " 'SPNDSRC8': 95.3780710604532,\n",
       " 'TEACH1': 95.35898344831347,\n",
       " 'PSWHYCHG1': 95.29899381016006,\n",
       " 'SNAPMNTH5': 95.21809869204411,\n",
       " 'SNAPMNTH6': 94.99722775157018,\n",
       " 'SNAPMNTH7': 94.87997527699761,\n",
       " 'PSCHNG1': 94.74727092593098,\n",
       " 'SNAPMNTH8': 94.69818849471456,\n",
       " 'WHYCHNGD4': 94.56639307755933,\n",
       " 'PSCHNG2': 93.75925976422255,\n",
       " 'ENROLL3': 92.97484979867113,\n",
       " 'WHYCHNGD2': 92.97030512911407,\n",
       " 'CHNGHOW3': 92.60854943237076,\n",
       " 'PSWHYCHG4': 92.30860124160372,\n",
       " 'SPNDSRC4': 92.16498968360011,\n",
       " 'PSCHNG3': 91.97047782655723,\n",
       " 'PSPLANS3': 91.89412737799834,\n",
       " 'FOODSUFRSN3': 91.27332551650169,\n",
       " 'CHNGHOW10': 91.17152491842319,\n",
       " 'CHNGHOW7': 89.79267217480617,\n",
       " 'SPNDSRC5': 89.7881275052491,\n",
       " 'CHILDFOOD': 88.20476463156363,\n",
       " 'COMP1': 87.7157581872222,\n",
       " 'FOODSUFRSN5': 87.63486306910625,\n",
       " 'FOODSUFRSN1': 87.5012497841282,\n",
       " 'WHYCHNGD7': 86.91862314691099,\n",
       " 'COMP2': 86.526872631091,\n",
       " 'TEACH2': 85.56249375107936,\n",
       " 'WHYCHNGD9': 83.71554004308346,\n",
       " 'UI_RECV': 83.44558667139313,\n",
       " 'CHNGHOW12': 81.29504903698452,\n",
       " 'WHYCHNGD5': 81.11144438687863,\n",
       " 'SPNDSRC6': 80.09616520782774,\n",
       " 'INTRNT2': 79.65896799643699,\n",
       " 'TSTDY_HRS': 79.63806251647443,\n",
       " 'TCH_HRS': 79.63169997909452,\n",
       " 'RENTCUR': 79.58534434961234,\n",
       " 'SCHLHRS': 79.00817131586363,\n",
       " 'INTRNTAVAIL': 78.43554295167199,\n",
       " 'COMPAVAIL': 78.28375098846563,\n",
       " 'ENROLL1': 77.97016878902735,\n",
       " 'SPNDSRC3': 76.98033975949609,\n",
       " 'WHYCHNGD1': 76.89489997182305,\n",
       " 'CHNGHOW9': 76.39953099010171,\n",
       " 'SPNDSRC2': 76.0841309228406,\n",
       " 'CHNGHOW2': 73.50275861442115,\n",
       " 'CHNGHOW8': 72.25661022187076,\n",
       " 'WHYCHNGD11': 69.40619347567238,\n",
       " 'EST_MSA': 68.05188194766359,\n",
       " 'CHNGHOW4': 64.53158090875213,\n",
       " 'UNEMPPAY': 64.40887483071106,\n",
       " 'RSNNOWRK': 62.84005489960825,\n",
       " 'MORTCUR': 59.21522646088403,\n",
       " 'WHYCHNGD3': 50.22950581263237,\n",
       " 'CHNGHOW1': 49.07152400948927,\n",
       " 'CHNGHOW6': 45.86753197175034,\n",
       " 'KINDWORK': 39.1468746307456,\n",
       " 'MORTCONF': 38.926912624183096,\n",
       " 'HLTHINS8': 30.282042192712165,\n",
       " 'SSALIKELY': 30.00936201928758,\n",
       " 'SPNDSRC1': 29.60125069306211,\n",
       " 'SSADECISN': 28.563248166225836,\n",
       " 'HLTHINS7': 27.886092402221436,\n",
       " 'CNCLDTRPS': 27.24529399467365,\n",
       " 'HLTHINS6': 27.164398876557687,\n",
       " 'HLTHINS5': 26.881720430107524,\n",
       " 'HLTHINS4': 26.2091093356602,\n",
       " 'TUI_NUMPER': 25.961879311755244,\n",
       " 'HLTHINS2': 24.317617866004962,\n",
       " 'HLTHINS3': 22.886046955525863,\n",
       " 'INCOME': 21.708068606331636,\n",
       " 'TNUM_PS': 20.32376225924613,\n",
       " 'TBEDROOMS': 19.303938410638164,\n",
       " 'HLTHINS1': 17.837828011525282,\n",
       " 'LIVQTR': 17.516065406884266,\n",
       " 'TSPNDPRPD': 17.294285532498932,\n",
       " 'TENURE': 17.16339904925513,\n",
       " 'TSPNDFOOD': 16.77801107081504,\n",
       " 'PRESCRIPT': 16.244466864814257,\n",
       " 'MH_SVCS': 16.238104327434353,\n",
       " 'NOTGET': 16.16266281278688,\n",
       " 'DELAY': 16.15902707714122,\n",
       " 'MH_NOTGET': 16.15902707714122,\n",
       " 'INTEREST': 14.634744907697762,\n",
       " 'DOWN': 14.592933947772657,\n",
       " 'WORRY': 14.589298212126996,\n",
       " 'ANXIOUS': 14.501131622719713,\n",
       " 'HLTHSTATUS': 14.365700469918833,\n",
       " 'FOODCONF': 13.293158454448777,\n",
       " 'SNAP_YN': 9.472909224770266,\n",
       " 'FREEFOOD': 8.93845608485807,\n",
       " 'CURFOODSUF': 8.72394768176406,\n",
       " 'PRIFOODSUF': 8.656686572319327,\n",
       " 'FEWRTRIPS': 7.993164816986156,\n",
       " 'FEWRTRANS': 7.759568801752424,\n",
       " 'PLNDTRIPS': 7.7177578418273205,\n",
       " 'TW_START': 4.147465437788019,\n",
       " 'EXPNS_DIF': 2.6204564666103125,\n",
       " 'SSA_APPLY': 1.9342113634917606,\n",
       " 'SSA_RECV': 1.0143702451394758,\n",
       " 'MS': 0.9471091356947436,\n",
       " 'UI_APPLY': 0.8271298593879239,\n",
       " 'EXPCTLOSS': 0.6807914996500605,\n",
       " 'ANYWORK': 0.5780819676601314,\n",
       " 'WRKLOSS': 0.561721157254656}"
      ]
     },
     "execution_count": 11,
     "metadata": {},
     "output_type": "execute_result"
    }
   ],
   "source": [
    "# Displaying percentage of null values in all columns with null values\n",
    "percent_null = {}\n",
    "for col in null_columns:\n",
    "    percent_null[col] = (df[col].isnull().sum()/len(df)) * 100\n",
    "sorted_percent_null = dict(sorted(percent_null.items(),key = lambda x: x[1],reverse = True))\n",
    "sorted_percent_null"
   ]
  },
  {
   "cell_type": "markdown",
   "metadata": {},
   "source": [
    "#### Dropping unnecessary columns \n",
    "Redundant features such as those regarding the availability of internet services, aggregated features such as family size, disruption of travel plans, state of imputation, weights of respondents/households would be dropped as they are  secondary to the social and economical concerns of the respondents.  This would help to speed up the modeling process as redundant features are removed."
   ]
  },
  {
   "cell_type": "code",
   "execution_count": 12,
   "metadata": {},
   "outputs": [],
   "source": [
    "df.drop(columns = ['THHLD_NUMPER','THHLD_NUMKID','THHLD_NUMADLT','COMPAVAIL','COMP1','COMP2','COMP3','INTRNTAVAIL',\n",
    "                  'INTRNT1','INTRNT2','INTRNT3',\"SCRAM\",'WEEK','HWEIGHT','PWEIGHT','ABIRTH_YEAR','AGENDER','AHISPANIC','ARACE','AEDUC','AHHLD_NUMPER','AHHLD_NUMKID','REGION','PLNDTRIPS','CNCLDTRPS','TCH_HRS',\n",
    "                  'FEWRTRIPS','FEWRTRANS','TW_START'],inplace = True)"
   ]
  },
  {
   "cell_type": "markdown",
   "metadata": {},
   "source": [
    "#### Impute missing values\n",
    "Analyzing missing columns and understanding reasons behind them to better understand how to deal with them."
   ]
  },
  {
   "cell_type": "markdown",
   "metadata": {},
   "source": [
    "#### `EST_MSA`\n",
    "This feature identifies the Metropolitan statistical area but since the `EST_ST` is sufficient to denote the states that respondents are in, this feature can be dropped."
   ]
  },
  {
   "cell_type": "code",
   "execution_count": 13,
   "metadata": {},
   "outputs": [],
   "source": [
    "df.drop(columns = ['EST_MSA'],inplace = True)"
   ]
  },
  {
   "cell_type": "markdown",
   "metadata": {},
   "source": [
    "**`WHEREFREE`**<br>\n",
    "Questions that ask where people are seeking food aid from"
   ]
  },
  {
   "cell_type": "code",
   "execution_count": 14,
   "metadata": {
    "scrolled": false
   },
   "outputs": [
    {
     "data": {
      "text/plain": [
       "{'WHEREFREE5': 99.89001899671874,\n",
       " 'WHEREFREE3': 99.73186449613249,\n",
       " 'WHEREFREE4': 98.92018651323862,\n",
       " 'WHEREFREE6': 98.8120233777802,\n",
       " 'WHEREFREE7': 98.34755814904699,\n",
       " 'WHEREFREE2': 98.30756505694471,\n",
       " 'WHEREFREE1': 98.04670102436852}"
      ]
     },
     "execution_count": 14,
     "metadata": {},
     "output_type": "execute_result"
    }
   ],
   "source": [
    "food_dict = {k:v for k,v in sorted_percent_null.items() if k.startswith('WHERE')}\n",
    "food_dict"
   ]
  },
  {
   "cell_type": "markdown",
   "metadata": {},
   "source": [
    "All `WHEREFREE` columns have > 98% of their data missing and this is because responses to these questions are determined by the responses to `FREEFOOD`. Zooming into the people who are getting food aid, we can look at where they acquire them."
   ]
  },
  {
   "cell_type": "code",
   "execution_count": 15,
   "metadata": {
    "scrolled": true
   },
   "outputs": [
    {
     "data": {
      "text/plain": [
       "(6066, 7)"
      ]
     },
     "execution_count": 15,
     "metadata": {},
     "output_type": "execute_result"
    }
   ],
   "source": [
    "where_free = df[list(food_dict.keys())][df['FREEFOOD'] == 1]\n",
    "where_free.shape"
   ]
  },
  {
   "cell_type": "code",
   "execution_count": 16,
   "metadata": {
    "scrolled": true
   },
   "outputs": [
    {
     "data": {
      "text/plain": [
       "WHEREFREE5     121\n",
       "WHEREFREE3     295\n",
       "WHEREFREE4    1188\n",
       "WHEREFREE6    1307\n",
       "WHEREFREE7    1818\n",
       "WHEREFREE2    1862\n",
       "WHEREFREE1    2149\n",
       "dtype: int64"
      ]
     },
     "execution_count": 16,
     "metadata": {},
     "output_type": "execute_result"
    }
   ],
   "source": [
    "where_free.count()"
   ]
  },
  {
   "cell_type": "code",
   "execution_count": 17,
   "metadata": {
    "scrolled": false
   },
   "outputs": [
    {
     "data": {
      "image/png": "[encoded data removed]",
      "text/plain": [
       "<Figure size 864x576 with 1 Axes>"
      ]
     },
     "metadata": {
      "needs_background": "light"
     },
     "output_type": "display_data"
    }
   ],
   "source": [
    "# Graph that shows where people are seeking food aid from\n",
    "plt.figure(figsize = (12,8))\n",
    "sns.barplot(x = where_free.count().index,y = where_free.count().values).set_xticklabels(['Shelter/Soup Kitchen','Home-delivered Meal Service',\n",
    "                                                                         'Religious Organizations','Other Community Programs',\n",
    "                                                                         'Family/Friends/Neighbours','Food Bank/Pantry','Children School Programs'])\n",
    "# Set title\n",
    "plt.title('Place of food acquisition')\n",
    "\n",
    "# Set y label\n",
    "plt.ylabel('Frequency',fontsize = 12)\n",
    "\n",
    "# Set x label\n",
    "plt.xlabel('Place to acquire food', fontsize = 12)\n",
    "\n",
    "# Set xticks\n",
    "plt.xticks(\n",
    "    rotation=45, \n",
    "    fontweight='light'\n",
    ");"
   ]
  },
  {
   "cell_type": "markdown",
   "metadata": {},
   "source": [
    "Graph shows that schools are the most popular avenue of food aid which are targetted mainly at children, followed by food banks/pantries."
   ]
  },
  {
   "cell_type": "code",
   "execution_count": 18,
   "metadata": {
    "scrolled": true
   },
   "outputs": [
    {
     "data": {
      "text/plain": [
       "8740"
      ]
     },
     "execution_count": 18,
     "metadata": {},
     "output_type": "execute_result"
    }
   ],
   "source": [
    "# There might be overlaps!! Some people receive aid from more than 1 place.\n",
    "where_free.count().sum()"
   ]
  },
  {
   "cell_type": "markdown",
   "metadata": {},
   "source": [
    "**`FREEFOOD`**"
   ]
  },
  {
   "cell_type": "code",
   "execution_count": 19,
   "metadata": {},
   "outputs": [
    {
     "data": {
      "text/plain": [
       "1.0     6066\n",
       "2.0    94119\n",
       "NaN     9834\n",
       "Name: FREEFOOD, dtype: int64"
      ]
     },
     "execution_count": 19,
     "metadata": {},
     "output_type": "execute_result"
    }
   ],
   "source": [
    "df.FREEFOOD.value_counts(dropna = False).sort_index()"
   ]
  },
  {
   "cell_type": "code",
   "execution_count": 20,
   "metadata": {
    "scrolled": true
   },
   "outputs": [
    {
     "data": {
      "text/html": [
       "<div>\n",
       "<style scoped>\n",
       "    .dataframe tbody tr th:only-of-type {\n",
       "        vertical-align: middle;\n",
       "    }\n",
       "\n",
       "    .dataframe tbody tr th {\n",
       "        vertical-align: top;\n",
       "    }\n",
       "\n",
       "    .dataframe thead th {\n",
       "        text-align: right;\n",
       "    }\n",
       "</style>\n",
       "<table border=\"1\" class=\"dataframe\">\n",
       "  <thead>\n",
       "    <tr style=\"text-align: right;\">\n",
       "      <th></th>\n",
       "      <th>Response(value)</th>\n",
       "      <th>Response(actual)</th>\n",
       "      <th>Number</th>\n",
       "      <th>Percentage</th>\n",
       "    </tr>\n",
       "  </thead>\n",
       "  <tbody>\n",
       "    <tr>\n",
       "      <th>0</th>\n",
       "      <td>1.0</td>\n",
       "      <td>Got Free Food</td>\n",
       "      <td>6066</td>\n",
       "      <td>5.514</td>\n",
       "    </tr>\n",
       "    <tr>\n",
       "      <th>1</th>\n",
       "      <td>2.0</td>\n",
       "      <td>Didnt Get Free Food</td>\n",
       "      <td>94119</td>\n",
       "      <td>85.548</td>\n",
       "    </tr>\n",
       "    <tr>\n",
       "      <th>2</th>\n",
       "      <td>NaN</td>\n",
       "      <td>Missing</td>\n",
       "      <td>9834</td>\n",
       "      <td>8.938</td>\n",
       "    </tr>\n",
       "  </tbody>\n",
       "</table>\n",
       "</div>"
      ],
      "text/plain": [
       "   Response(value)     Response(actual)  Number  Percentage\n",
       "0              1.0        Got Free Food    6066       5.514\n",
       "1              2.0  Didnt Get Free Food   94119      85.548\n",
       "2              NaN              Missing    9834       8.938"
      ]
     },
     "execution_count": 20,
     "metadata": {},
     "output_type": "execute_result"
    }
   ],
   "source": [
    "freefood_df = pd.DataFrame({\n",
    "    'Response(value)':[i for i in df.FREEFOOD.value_counts(dropna = False).sort_index().index],\n",
    "    'Response(actual)':['Got Free Food','Didnt Get Free Food','Missing'],\n",
    "    'Number':[i for i in df.FREEFOOD.value_counts(dropna = False).sort_index().values],\n",
    "    'Percentage':[round(i,3) for i in df.FREEFOOD.value_counts(dropna = False,normalize = True).sort_index().values*100]\n",
    "})\n",
    "freefood_df"
   ]
  },
  {
   "cell_type": "markdown",
   "metadata": {},
   "source": [
    "5% of the population across the states are receiving food aids from various avenues as shown above."
   ]
  },
  {
   "cell_type": "code",
   "execution_count": 21,
   "metadata": {
    "scrolled": false
   },
   "outputs": [
    {
     "data": {
      "image/png": "[encoded data removed]",
      "text/plain": [
       "<Figure size 864x576 with 1 Axes>"
      ]
     },
     "metadata": {
      "needs_background": "light"
     },
     "output_type": "display_data"
    }
   ],
   "source": [
    "# Bar graph of count against retrival of free food\n",
    "plt.figure(figsize = (12,8))\n",
    "sns.barplot(x = freefood_df['Response(actual)'], y = freefood_df['Number'])\n",
    "\n",
    "# Set title\n",
    "plt.title('Frequency against retrival of free meals/groceries in last 7 days')\n",
    "\n",
    "# Set ylabel\n",
    "plt.ylabel('Frequency',fontsize = 12)\n",
    "\n",
    "# Set xlabel\n",
    "plt.xlabel('Response',fontsize = 12);"
   ]
  },
  {
   "cell_type": "markdown",
   "metadata": {},
   "source": [
    "Majority of the respondents did not receive food aid and therefore it is expected that the `WHEREFREE` columns would have many null values. For ease of reference in `FREE_FOOD`, the no class would be renamed as 0 instead of 2 whereas for nonresponses, they would be grouped in a separate **Missing** class. The null values in `WHEREFREE` column which indicate that they opted for other food aid alternatives, they would be imputed with 0s."
   ]
  },
  {
   "cell_type": "code",
   "execution_count": 22,
   "metadata": {},
   "outputs": [],
   "source": [
    "# Renaming the classes where 1 = yes, 2 = no\n",
    "df['FREEFOOD'] = df['FREEFOOD'].replace(1,'Yes')\n",
    "df['FREEFOOD'] = df['FREEFOOD'].replace(2,'No')\n",
    "\n",
    "# Grouping of nonresponses as one class\n",
    "df['FREEFOOD'].fillna('Missing',inplace = True)"
   ]
  },
  {
   "cell_type": "code",
   "execution_count": 23,
   "metadata": {},
   "outputs": [],
   "source": [
    "# Imputing all empty WHEREFREE rows with 0s\n",
    "for col in where_free.columns:\n",
    "    df[col] = df[col].fillna(0)"
   ]
  },
  {
   "cell_type": "markdown",
   "metadata": {},
   "source": [
    "**`SSAPGM`** <br>\n",
    "Asked if replies to `SSA_APPLY` is a yes/1. The SSP programmes that people are currently enrolled in"
   ]
  },
  {
   "cell_type": "code",
   "execution_count": 24,
   "metadata": {
    "scrolled": false
   },
   "outputs": [
    {
     "data": {
      "text/plain": [
       "{'SSAPGM3': 99.84184549941374,\n",
       " 'SSAPGM4': 99.66369445277634,\n",
       " 'SSAPGM2': 99.27467073869059,\n",
       " 'SSAPGM1': 99.00926203655732,\n",
       " 'SSAPGM5': 98.99653696179752}"
      ]
     },
     "execution_count": 24,
     "metadata": {},
     "output_type": "execute_result"
    }
   ],
   "source": [
    "ssapgm_dict = {k:v for k,v in sorted_percent_null.items() if k.startswith('SSAPGM')}\n",
    "ssapgm_dict"
   ]
  },
  {
   "cell_type": "markdown",
   "metadata": {},
   "source": [
    "There are many missing `SSAPGM` values as responses are determined by the answers to `SSA_APPLY`. "
   ]
  },
  {
   "cell_type": "code",
   "execution_count": 25,
   "metadata": {},
   "outputs": [],
   "source": [
    "# dataframe of only those who applied for SSP\n",
    "ssapgm_df = df[[i for i in ssapgm_dict.keys()]]"
   ]
  },
  {
   "cell_type": "code",
   "execution_count": 26,
   "metadata": {
    "scrolled": true
   },
   "outputs": [
    {
     "data": {
      "text/plain": [
       "SSAPGM3     174\n",
       "SSAPGM4     370\n",
       "SSAPGM2     798\n",
       "SSAPGM1    1090\n",
       "SSAPGM5    1104\n",
       "dtype: int64"
      ]
     },
     "execution_count": 26,
     "metadata": {},
     "output_type": "execute_result"
    }
   ],
   "source": [
    "ssapgm = df[[i for i in ssapgm_dict.keys()]].count()\n",
    "ssapgm"
   ]
  },
  {
   "cell_type": "code",
   "execution_count": 27,
   "metadata": {
    "scrolled": false
   },
   "outputs": [
    {
     "data": {
      "image/png": "[encoded data removed]",
      "text/plain": [
       "<Figure size 864x576 with 1 Axes>"
      ]
     },
     "metadata": {
      "needs_background": "light"
     },
     "output_type": "display_data"
    }
   ],
   "source": [
    "plt.figure(figsize = (12,8))\n",
    "sns.barplot(x = ssapgm.index,y = ssapgm.values).set_xticklabels(['Social Security Survivors','Suuplemental Security Income',\n",
    "                                                                'Social Security Survivors','Social Security Retirement','Medicare'])\n",
    "# Set title\n",
    "plt.title('Frequency of Social Security Programs')\n",
    "\n",
    "# Set ylabel\n",
    "plt.ylabel('Frequency',fontsize = 12)\n",
    "\n",
    "# Set xlabel\n",
    "plt.xlabel('Social Security Programs',fontsize = 12)\n",
    "\n",
    "# Set xticks\n",
    "plt.xticks(\n",
    "    rotation=45, \n",
    "    fontweight='light'\n",
    ");"
   ]
  },
  {
   "cell_type": "markdown",
   "metadata": {},
   "source": [
    "The **Medicare** and **Social Security Retirement** programmes are the most popular SSPs that people would apply for whereas the **Social Security Survivors** Programme is the least popular. This analysis would help us to make well-informed recommendations on promoting specific SSPs that would appeal more to the masses. "
   ]
  },
  {
   "cell_type": "markdown",
   "metadata": {},
   "source": [
    "#### `SSA_RECV`"
   ]
  },
  {
   "cell_type": "code",
   "execution_count": 28,
   "metadata": {
    "scrolled": true
   },
   "outputs": [
    {
     "data": {
      "text/plain": [
       "2.0    72.023014\n",
       "1.0    26.962616\n",
       "NaN     1.014370\n",
       "Name: SSA_RECV, dtype: float64"
      ]
     },
     "execution_count": 28,
     "metadata": {},
     "output_type": "execute_result"
    }
   ],
   "source": [
    "df['SSA_RECV'].value_counts(dropna = False,normalize = True) * 100"
   ]
  },
  {
   "cell_type": "code",
   "execution_count": 29,
   "metadata": {},
   "outputs": [],
   "source": [
    "# The null values would be dropped since it makes up <1% of SSA_RECV\n",
    "df.dropna(subset= ['SSA_RECV'],inplace = True)\n",
    "\n",
    "# Renaming the classes for ease of reference: 1 = yes, 0 = no\n",
    "df['SSA_RECV'] = df['SSA_RECV'].replace(2,0)\n"
   ]
  },
  {
   "cell_type": "markdown",
   "metadata": {},
   "source": [
    "**`SSA_APPLY`**"
   ]
  },
  {
   "cell_type": "code",
   "execution_count": 30,
   "metadata": {
    "scrolled": true
   },
   "outputs": [
    {
     "data": {
      "text/plain": [
       "1.0      3047\n",
       "2.0    104613\n",
       "NaN      1243\n",
       "Name: SSA_APPLY, dtype: int64"
      ]
     },
     "execution_count": 30,
     "metadata": {},
     "output_type": "execute_result"
    }
   ],
   "source": [
    "# Frequency of answers to SSA_APPLY\n",
    "df.SSA_APPLY.value_counts(dropna = \n",
    "                          False).sort_index()"
   ]
  },
  {
   "cell_type": "code",
   "execution_count": 31,
   "metadata": {
    "scrolled": true
   },
   "outputs": [
    {
     "data": {
      "text/html": [
       "<div>\n",
       "<style scoped>\n",
       "    .dataframe tbody tr th:only-of-type {\n",
       "        vertical-align: middle;\n",
       "    }\n",
       "\n",
       "    .dataframe tbody tr th {\n",
       "        vertical-align: top;\n",
       "    }\n",
       "\n",
       "    .dataframe thead th {\n",
       "        text-align: right;\n",
       "    }\n",
       "</style>\n",
       "<table border=\"1\" class=\"dataframe\">\n",
       "  <thead>\n",
       "    <tr style=\"text-align: right;\">\n",
       "      <th></th>\n",
       "      <th>Response(value)</th>\n",
       "      <th>Response(actual)</th>\n",
       "      <th>Number</th>\n",
       "      <th>Percentage</th>\n",
       "    </tr>\n",
       "  </thead>\n",
       "  <tbody>\n",
       "    <tr>\n",
       "      <th>0</th>\n",
       "      <td>1.0</td>\n",
       "      <td>Did Apply</td>\n",
       "      <td>3047</td>\n",
       "      <td>2.798</td>\n",
       "    </tr>\n",
       "    <tr>\n",
       "      <th>1</th>\n",
       "      <td>2.0</td>\n",
       "      <td>Didnt Apply</td>\n",
       "      <td>104613</td>\n",
       "      <td>96.061</td>\n",
       "    </tr>\n",
       "    <tr>\n",
       "      <th>2</th>\n",
       "      <td>NaN</td>\n",
       "      <td>Missing</td>\n",
       "      <td>1243</td>\n",
       "      <td>1.141</td>\n",
       "    </tr>\n",
       "  </tbody>\n",
       "</table>\n",
       "</div>"
      ],
      "text/plain": [
       "   Response(value) Response(actual)  Number  Percentage\n",
       "0              1.0        Did Apply    3047       2.798\n",
       "1              2.0      Didnt Apply  104613      96.061\n",
       "2              NaN          Missing    1243       1.141"
      ]
     },
     "execution_count": 31,
     "metadata": {},
     "output_type": "execute_result"
    }
   ],
   "source": [
    "ssa_df = pd.DataFrame({\n",
    "            'Response(value)':[i for i in df.SSA_APPLY.value_counts(dropna = False).sort_index().index],\n",
    "            'Response(actual)':['Did Apply','Didnt Apply','Missing'],\n",
    "            'Number':[i for i in df.SSA_APPLY.value_counts(dropna = False).sort_index().values],\n",
    "            'Percentage' : [round(i*100,3) for i in df.SSA_APPLY.value_counts(dropna = False,normalize = True).sort_index().values]})\n",
    "ssa_df\n"
   ]
  },
  {
   "cell_type": "code",
   "execution_count": 32,
   "metadata": {
    "scrolled": false
   },
   "outputs": [
    {
     "data": {
      "image/png": "[encoded data removed]",
      "text/plain": [
       "<Figure size 864x576 with 1 Axes>"
      ]
     },
     "metadata": {
      "needs_background": "light"
     },
     "output_type": "display_data"
    }
   ],
   "source": [
    "# Plotting frequency against status of application of SSP\n",
    "plt.figure(figsize = (12,8))\n",
    "sns.barplot(x = ssa_df['Response(actual)'], y = ssa_df['Percentage'])\n",
    "\n",
    "# Set title \n",
    "plt.title('Frequency against status of application of any Social Security Programs')\n",
    "\n",
    "# Set xlabel\n",
    "plt.xlabel('Responses',fontsize = 12)\n",
    "\n",
    "# Set ylabel\n",
    "plt.ylabel('Percentage',fontsize = 12);"
   ]
  },
  {
   "cell_type": "markdown",
   "metadata": {},
   "source": [
    "Majority of the respondents did not apply for any SSP and thus there is a large percentage of missing values in `SSAPGM` columns. Since only around 2% of the respondents applied for at least one SSP, this feature and associated `SSAPGM` features can be dropped. The `SSA_RECV` is sufficient to account for the effect of SSP programmes on the mental health of people. "
   ]
  },
  {
   "cell_type": "code",
   "execution_count": 33,
   "metadata": {
    "scrolled": true
   },
   "outputs": [],
   "source": [
    "# Drop SSA_APPLY and SSAPGM features to prevent overfitting of data\n",
    "df.drop(columns = ['SSA_APPLY'],inplace = True)\n",
    "df.drop(columns = [k for k in ssapgm_dict.keys()],inplace = True)"
   ]
  },
  {
   "cell_type": "markdown",
   "metadata": {},
   "source": [
    "**`SSALIKELY`** <br>\n",
    "Asked if response to `SSA_APPLY` is 2/no"
   ]
  },
  {
   "cell_type": "code",
   "execution_count": 34,
   "metadata": {
    "scrolled": true
   },
   "outputs": [
    {
     "data": {
      "text/html": [
       "<div>\n",
       "<style scoped>\n",
       "    .dataframe tbody tr th:only-of-type {\n",
       "        vertical-align: middle;\n",
       "    }\n",
       "\n",
       "    .dataframe tbody tr th {\n",
       "        vertical-align: top;\n",
       "    }\n",
       "\n",
       "    .dataframe thead th {\n",
       "        text-align: right;\n",
       "    }\n",
       "</style>\n",
       "<table border=\"1\" class=\"dataframe\">\n",
       "  <thead>\n",
       "    <tr style=\"text-align: right;\">\n",
       "      <th></th>\n",
       "      <th>Response(value)</th>\n",
       "      <th>Response(actual)</th>\n",
       "      <th>Number</th>\n",
       "      <th>Percentage</th>\n",
       "    </tr>\n",
       "  </thead>\n",
       "  <tbody>\n",
       "    <tr>\n",
       "      <th>0</th>\n",
       "      <td>1.0</td>\n",
       "      <td>Extremely Likely</td>\n",
       "      <td>1394</td>\n",
       "      <td>1.28</td>\n",
       "    </tr>\n",
       "    <tr>\n",
       "      <th>1</th>\n",
       "      <td>2.0</td>\n",
       "      <td>Very Likely</td>\n",
       "      <td>1021</td>\n",
       "      <td>0.94</td>\n",
       "    </tr>\n",
       "    <tr>\n",
       "      <th>2</th>\n",
       "      <td>3.0</td>\n",
       "      <td>Somewhat Likely</td>\n",
       "      <td>3160</td>\n",
       "      <td>2.90</td>\n",
       "    </tr>\n",
       "    <tr>\n",
       "      <th>3</th>\n",
       "      <td>4.0</td>\n",
       "      <td>Not at all Likely</td>\n",
       "      <td>71230</td>\n",
       "      <td>65.41</td>\n",
       "    </tr>\n",
       "    <tr>\n",
       "      <th>4</th>\n",
       "      <td>NaN</td>\n",
       "      <td>Missing</td>\n",
       "      <td>32098</td>\n",
       "      <td>29.47</td>\n",
       "    </tr>\n",
       "  </tbody>\n",
       "</table>\n",
       "</div>"
      ],
      "text/plain": [
       "   Response(value)   Response(actual)  Number  Percentage\n",
       "0              1.0   Extremely Likely    1394        1.28\n",
       "1              2.0        Very Likely    1021        0.94\n",
       "2              3.0    Somewhat Likely    3160        2.90\n",
       "3              4.0  Not at all Likely   71230       65.41\n",
       "4              NaN            Missing   32098       29.47"
      ]
     },
     "execution_count": 34,
     "metadata": {},
     "output_type": "execute_result"
    }
   ],
   "source": [
    "# ssa_apply_df consists of all respondents that are not currently enrolled in any SSP(SSA_APPLY = 2)\n",
    "ssa_apply_df = df['SSALIKELY']\n",
    "ssa_apply_df.value_counts(dropna = False)\n",
    "\n",
    "# Table for easy visualization \n",
    "ssa_apply_table = pd.DataFrame({\n",
    "    'Response(value)':[i for i in ssa_apply_df.value_counts(dropna = False).sort_index().index],\n",
    "    'Response(actual)':['Extremely Likely','Very Likely','Somewhat Likely','Not at all Likely','Missing'],\n",
    "    'Number':[j for j in ssa_apply_df.value_counts(dropna = False).sort_index().values],\n",
    "    'Percentage':[round(k*100,2) for k in ssa_apply_df.value_counts(dropna= False,normalize = True).sort_index().values]\n",
    "    \n",
    "})\n",
    "ssa_apply_table"
   ]
  },
  {
   "cell_type": "code",
   "execution_count": 35,
   "metadata": {
    "scrolled": false
   },
   "outputs": [
    {
     "data": {
      "image/png": "[encoded data removed]",
      "text/plain": [
       "<Figure size 864x576 with 1 Axes>"
      ]
     },
     "metadata": {
      "needs_background": "light"
     },
     "output_type": "display_data"
    }
   ],
   "source": [
    "# Graph that shows distribution of likelihood of application for any SSP\n",
    "plt.figure(figsize = (12,8))\n",
    "sns.barplot(x = ssa_apply_table['Response(actual)'],y = ssa_apply_table['Number'], palette = 'Set2')\n",
    "\n",
    "# Set title\n",
    "plt.title('Likelihood of application for any SSP')\n",
    "\n",
    "# Set xlabel\n",
    "plt.xlabel('Likelihood',fontsize = 12)\n",
    "\n",
    "# Set ylabel\n",
    "plt.ylabel('Frequency',fontsize = 12);"
   ]
  },
  {
   "cell_type": "markdown",
   "metadata": {},
   "source": [
    "Since `SSALIKELY` feature is similarly associated with `SSA_APPLY`, this can be dropped."
   ]
  },
  {
   "cell_type": "code",
   "execution_count": 36,
   "metadata": {},
   "outputs": [],
   "source": [
    "# Droping SSALIKELY\n",
    "df.drop(columns = ['SSALIKELY'],inplace = True)"
   ]
  },
  {
   "cell_type": "markdown",
   "metadata": {},
   "source": [
    "#### `SSADECISN`"
   ]
  },
  {
   "cell_type": "code",
   "execution_count": 37,
   "metadata": {},
   "outputs": [
    {
     "data": {
      "text/plain": [
       "1.0    59.865201\n",
       "NaN    28.004738\n",
       "2.0     8.896908\n",
       "3.0     1.982498\n",
       "4.0     1.250654\n",
       "Name: SSADECISN, dtype: float64"
      ]
     },
     "execution_count": 37,
     "metadata": {},
     "output_type": "execute_result"
    }
   ],
   "source": [
    "df['SSADECISN'].value_counts(dropna = False,normalize = True)*100"
   ]
  },
  {
   "cell_type": "markdown",
   "metadata": {},
   "source": [
    "Since this question is highly correlated to `SSALIKELY` and the decision for SSA application is secondary to the act of SSA application, it would be dropped."
   ]
  },
  {
   "cell_type": "code",
   "execution_count": 38,
   "metadata": {},
   "outputs": [],
   "source": [
    "# Dropping SSADECISN\n",
    "df.drop(columns = 'SSADECISN',inplace = True)"
   ]
  },
  {
   "cell_type": "markdown",
   "metadata": {},
   "source": [
    "**`SSAEXPCT`** <br>\n",
    "These questions are asked only if response to the application of Social Security Programs(SSP) in the next 12 months/`SSALIKELY` is yes. "
   ]
  },
  {
   "cell_type": "code",
   "execution_count": 39,
   "metadata": {
    "scrolled": false
   },
   "outputs": [
    {
     "data": {
      "text/plain": [
       "{'SSAEXPCT3': 99.80639707686854,\n",
       " 'SSAEXPCT4': 99.11924303983858,\n",
       " 'SSAEXPCT2': 98.90655250456739,\n",
       " 'SSAEXPCT5': 98.16213563111826,\n",
       " 'SSAEXPCT1': 98.06124396695117}"
      ]
     },
     "execution_count": 39,
     "metadata": {},
     "output_type": "execute_result"
    }
   ],
   "source": [
    "ssaexpct_dict = {k:v for k,v in sorted_percent_null.items() if k.startswith('SSAEXPCT')}\n",
    "ssaexpct_dict"
   ]
  },
  {
   "cell_type": "code",
   "execution_count": 40,
   "metadata": {},
   "outputs": [
    {
     "data": {
      "text/plain": [
       "SSAEXPCT3     211\n",
       "SSAEXPCT4     965\n",
       "SSAEXPCT2    1201\n",
       "SSAEXPCT5    2015\n",
       "SSAEXPCT1    2128\n",
       "dtype: int64"
      ]
     },
     "execution_count": 40,
     "metadata": {},
     "output_type": "execute_result"
    }
   ],
   "source": [
    "ssaexpct = df[[i for i in ssaexpct_dict.keys()]].count()\n",
    "ssaexpct"
   ]
  },
  {
   "cell_type": "code",
   "execution_count": 41,
   "metadata": {
    "scrolled": false
   },
   "outputs": [
    {
     "data": {
      "image/png": "[encoded data removed]",
      "text/plain": [
       "<Figure size 864x576 with 1 Axes>"
      ]
     },
     "metadata": {
      "needs_background": "light"
     },
     "output_type": "display_data"
    }
   ],
   "source": [
    "# Plotting graph against type of SSP program applied\n",
    "plt.figure(figsize = (12,8))\n",
    "ssaexpct_df = df[[k for k in ssaexpct_dict.keys()]].count()\n",
    "sns.barplot(x = ssaexpct_df.index, y = ssaexpct_df.values).set_xticklabels(['Social Security Survivors','Supplemental Security Income','Social Security Disability',\n",
    "                                                                            'Medicare','Social Security Retirement'])\n",
    "\n",
    "# Set title\n",
    "plt.title('Types of Social Security Programs')\n",
    "\n",
    "# Set ylabel\n",
    "plt.ylabel('Frequency',fontsize = 12)\n",
    "\n",
    "# Set xlabel\n",
    "plt.xlabel('Social Security Programs',fontsize = 12)\n",
    "\n",
    "# Set xticks\n",
    "plt.xticks(rotation = 45,horizontalalignment='right');"
   ]
  },
  {
   "cell_type": "markdown",
   "metadata": {},
   "source": [
    "The bargraph above shows a preferrence for specific SSPs such as **Medicare** and **Social Security Retirement** which are consistent with the popular SSPs that people are currently enrolled in. However, given the strong correlation with `SSAPGM`, `SSA_APPLY` and `SSA_LIKLEY` as well as the low number of responses, these `SSAEXPCT` features would be removed from our dataset."
   ]
  },
  {
   "cell_type": "code",
   "execution_count": 42,
   "metadata": {},
   "outputs": [],
   "source": [
    "# Dropping all SSAEXPCT columns\n",
    "df.drop(columns = [i for i in ssaexpct_dict.keys()],inplace = True)"
   ]
  },
  {
   "cell_type": "markdown",
   "metadata": {},
   "source": [
    "**`PSPLANS`**"
   ]
  },
  {
   "cell_type": "code",
   "execution_count": 43,
   "metadata": {
    "scrolled": true
   },
   "outputs": [
    {
     "data": {
      "text/plain": [
       "{'PSPLANS5': 98.22576100491733,\n",
       " 'PSPLANS6': 97.50224961143076,\n",
       " 'PSPLANS1': 97.15049218771303,\n",
       " 'PSPLANS4': 96.22065279633519,\n",
       " 'PSPLANS2': 96.21065452330961,\n",
       " 'PSPLANS3': 91.89412737799834}"
      ]
     },
     "execution_count": 43,
     "metadata": {},
     "output_type": "execute_result"
    }
   ],
   "source": [
    "psplans_dict = {k:v for k,v in sorted_percent_null.items() if k.startswith('PSPLANS')}\n",
    "psplans_dict"
   ]
  },
  {
   "cell_type": "code",
   "execution_count": 44,
   "metadata": {
    "scrolled": true
   },
   "outputs": [
    {
     "data": {
      "text/plain": [
       "PSPLANS5    1946\n",
       "PSPLANS6    2737\n",
       "PSPLANS1    3127\n",
       "PSPLANS4    4152\n",
       "PSPLANS2    4162\n",
       "PSPLANS3    8910\n",
       "dtype: int64"
      ]
     },
     "execution_count": 44,
     "metadata": {},
     "output_type": "execute_result"
    }
   ],
   "source": [
    "psplans = df[[col for col in psplans_dict.keys()]]\n",
    "psplans.count()"
   ]
  },
  {
   "cell_type": "code",
   "execution_count": 45,
   "metadata": {
    "scrolled": false
   },
   "outputs": [
    {
     "data": {
      "image/png": "[encoded data removed]",
      "text/plain": [
       "<Figure size 864x576 with 1 Axes>"
      ]
     },
     "metadata": {
      "needs_background": "light"
     },
     "output_type": "display_data"
    }
   ],
   "source": [
    "# Plot frequency against planned post-sec programmes\n",
    "plt.figure(figsize = (12,8))\n",
    "sns.barplot(x = psplans.count().index, y = psplans.count().values).set_xticklabels(['Others','Non-Credential Programme','Diploma/Certificate Programme','Associate\"s Degree','Graduate Degree','Bachelor\"s Degree'])\n",
    "\n",
    "# Set title\n",
    "plt.title('Planned post-sec programmes to enroll in')\n",
    "\n",
    "# Set ylabel\n",
    "plt.ylabel('Frequency',fontsize = 12)\n",
    "\n",
    "# Set xlabel\n",
    "plt.xlabel('Post-Sec Programme',fontsize = 12)\n",
    "\n",
    "# Set xticks\n",
    "plt.xticks(rotation = 45);"
   ]
  },
  {
   "cell_type": "markdown",
   "metadata": {},
   "source": [
    "Distribution of the tertiary education paths that members of the households planned to pursue. Since there is an increasing prevalence of mental health issues amongst the students and young adults in the States, these features would be worth keeping."
   ]
  },
  {
   "cell_type": "markdown",
   "metadata": {},
   "source": [
    "#### Imputing missing values in `PSPLANS`\n",
    "The missing values would be imputed as 0s "
   ]
  },
  {
   "cell_type": "code",
   "execution_count": 46,
   "metadata": {},
   "outputs": [],
   "source": [
    "# Replacing all null values as 0\n",
    "for i in psplans_dict.keys():\n",
    "    df[i] = df[i].fillna(0)"
   ]
  },
  {
   "cell_type": "markdown",
   "metadata": {},
   "source": [
    "**`PSCHNG`**"
   ]
  },
  {
   "cell_type": "code",
   "execution_count": 47,
   "metadata": {
    "scrolled": true
   },
   "outputs": [
    {
     "data": {
      "text/plain": [
       "{'PSCHNG5': 99.79548986993156,\n",
       " 'PSCHNG6': 99.56825639207774,\n",
       " 'PSCHNG7': 99.55189558167226,\n",
       " 'PSCHNG4': 98.01761513920323,\n",
       " 'PSCHNG1': 94.74727092593098,\n",
       " 'PSCHNG2': 93.75925976422255,\n",
       " 'PSCHNG3': 91.97047782655723}"
      ]
     },
     "execution_count": 47,
     "metadata": {},
     "output_type": "execute_result"
    }
   ],
   "source": [
    "# Looking at the frequency of missing values in PSCHNG columns\n",
    "pschng_dict = {k:v for k,v in sorted_percent_null.items() if k.startswith('PSCHNG')}\n",
    "pschng_dict"
   ]
  },
  {
   "cell_type": "code",
   "execution_count": 48,
   "metadata": {
    "scrolled": false
   },
   "outputs": [
    {
     "data": {
      "text/plain": [
       "PSCHNG5     222\n",
       "PSCHNG6     474\n",
       "PSCHNG7     491\n",
       "PSCHNG4    2177\n",
       "PSCHNG1    5771\n",
       "PSCHNG2    6847\n",
       "PSCHNG3    8825\n",
       "dtype: int64"
      ]
     },
     "execution_count": 48,
     "metadata": {},
     "output_type": "execute_result"
    }
   ],
   "source": [
    "# Frequency of different changes to post-secondary plans\n",
    "pschng = df[[i for i in pschng_dict.keys()]]\n",
    "pschng.count()"
   ]
  },
  {
   "cell_type": "code",
   "execution_count": 49,
   "metadata": {
    "scrolled": false
   },
   "outputs": [
    {
     "data": {
      "image/png": "[encoded data removed]",
      "text/plain": [
       "<Figure size 864x576 with 1 Axes>"
      ]
     },
     "metadata": {
      "needs_background": "light"
     },
     "output_type": "display_data"
    }
   ],
   "source": [
    "# Looking at the distribution of changes to post-secondary education\n",
    "plt.figure(figsize = (12,8))\n",
    "pschng = df[list(pschng_dict.keys())].count()\n",
    "sns.barplot(x = pschng.index,y = pschng.values,palette = 'Set2').set_xticklabels(['More Classes','Different Institution','Different cert/degree','Fewer Classes',\n",
    "                                                                'No Changes','Cancelled Classses','Online Classes']);\n",
    "\n",
    "# Set title\n",
    "plt.title('Post-Covid changes to post-secondary education plans')\n",
    "\n",
    "# Set xlabel\n",
    "plt.xlabel('Changes',fontsize = 12)\n",
    "\n",
    "# Set ylabel\n",
    "plt.ylabel('Frequency',fontsize = 12)\n",
    "\n",
    "# Set xticks\n",
    "plt.xticks(rotation = 45);"
   ]
  },
  {
   "cell_type": "markdown",
   "metadata": {},
   "source": [
    "These questions asked for changes to post-secondary education plans if there are members in the household who planned to enroll in post-secondary classes(`TNUM_PS` > 0). Among those pursuing post-secondary programs, many of the classes are now online or are cancelled. Since there is a substantial impact of COVID on the educational landscape, these features would be kept. "
   ]
  },
  {
   "cell_type": "markdown",
   "metadata": {},
   "source": [
    "**`TNUM_PS`**"
   ]
  },
  {
   "cell_type": "code",
   "execution_count": 50,
   "metadata": {},
   "outputs": [
    {
     "data": {
      "text/html": [
       "<div>\n",
       "<style scoped>\n",
       "    .dataframe tbody tr th:only-of-type {\n",
       "        vertical-align: middle;\n",
       "    }\n",
       "\n",
       "    .dataframe tbody tr th {\n",
       "        vertical-align: top;\n",
       "    }\n",
       "\n",
       "    .dataframe thead th {\n",
       "        text-align: right;\n",
       "    }\n",
       "</style>\n",
       "<table border=\"1\" class=\"dataframe\">\n",
       "  <thead>\n",
       "    <tr style=\"text-align: right;\">\n",
       "      <th></th>\n",
       "      <th>Response(values)</th>\n",
       "      <th>Response(actual)</th>\n",
       "      <th>Number</th>\n",
       "      <th>Percentage</th>\n",
       "    </tr>\n",
       "  </thead>\n",
       "  <tbody>\n",
       "    <tr>\n",
       "      <th>0</th>\n",
       "      <td>0.0</td>\n",
       "      <td>0 Member</td>\n",
       "      <td>65857</td>\n",
       "      <td>60.47</td>\n",
       "    </tr>\n",
       "    <tr>\n",
       "      <th>1</th>\n",
       "      <td>1.0</td>\n",
       "      <td>1 Member</td>\n",
       "      <td>16009</td>\n",
       "      <td>14.70</td>\n",
       "    </tr>\n",
       "    <tr>\n",
       "      <th>2</th>\n",
       "      <td>2.0</td>\n",
       "      <td>2 Members</td>\n",
       "      <td>4440</td>\n",
       "      <td>4.08</td>\n",
       "    </tr>\n",
       "    <tr>\n",
       "      <th>3</th>\n",
       "      <td>3.0</td>\n",
       "      <td>3 Members</td>\n",
       "      <td>1179</td>\n",
       "      <td>1.08</td>\n",
       "    </tr>\n",
       "    <tr>\n",
       "      <th>4</th>\n",
       "      <td>NaN</td>\n",
       "      <td>Missing</td>\n",
       "      <td>21418</td>\n",
       "      <td>19.67</td>\n",
       "    </tr>\n",
       "  </tbody>\n",
       "</table>\n",
       "</div>"
      ],
      "text/plain": [
       "   Response(values) Response(actual)  Number  Percentage\n",
       "0               0.0         0 Member   65857       60.47\n",
       "1               1.0         1 Member   16009       14.70\n",
       "2               2.0        2 Members    4440        4.08\n",
       "3               3.0        3 Members    1179        1.08\n",
       "4               NaN          Missing   21418       19.67"
      ]
     },
     "execution_count": 50,
     "metadata": {},
     "output_type": "execute_result"
    }
   ],
   "source": [
    "# Table for ease of view\n",
    "tnum_df = pd.DataFrame({\n",
    "    'Response(values)':[i for i in df['TNUM_PS'].value_counts(dropna = False).sort_index().index],\n",
    "    'Response(actual)':['0 Member','1 Member','2 Members','3 Members','Missing'],\n",
    "    'Number':[i for i in df['TNUM_PS'].value_counts(dropna = False).sort_index().values],\n",
    "    'Percentage':[round(i*100,2) for i in df['TNUM_PS'].value_counts(dropna = False,normalize = True).sort_index().values]\n",
    "})\n",
    "tnum_df"
   ]
  },
  {
   "cell_type": "code",
   "execution_count": 51,
   "metadata": {
    "scrolled": false
   },
   "outputs": [
    {
     "data": {
      "image/png": "[encoded data removed]",
      "text/plain": [
       "<Figure size 864x576 with 1 Axes>"
      ]
     },
     "metadata": {
      "needs_background": "light"
     },
     "output_type": "display_data"
    }
   ],
   "source": [
    "# Frequency of members who are pursuing post-secondary education\n",
    "plt.figure(figsize = (12,8))\n",
    "sns.barplot(x = tnum_df['Response(actual)'], y = tnum_df['Number'])\n",
    "\n",
    "# Set title\n",
    "plt.title('Number of members in household pursuing post-secondary education')\n",
    "\n",
    "# Set xlabel\n",
    "plt.xlabel('Members',fontsize = 12)\n",
    "\n",
    "# Set yabel\n",
    "plt.ylabel('Frequency',fontsize = 12);"
   ]
  },
  {
   "cell_type": "markdown",
   "metadata": {},
   "source": [
    "Majority of the households do not have any members pursuing post-secondary classes. Since this feature does not directly influence the mental well-being of people, this feature can be dropped."
   ]
  },
  {
   "cell_type": "markdown",
   "metadata": {},
   "source": [
    "**Dropping `TNUM_PS` and imputing `PSCHG` features**"
   ]
  },
  {
   "cell_type": "code",
   "execution_count": 52,
   "metadata": {},
   "outputs": [],
   "source": [
    "# Replace all the null values with 'missing'\n",
    "df.drop(columns = ['TNUM_PS'],inplace= True)"
   ]
  },
  {
   "cell_type": "markdown",
   "metadata": {},
   "source": [
    "**`PSWHYCHG`** <br>\n",
    "These questions asked for reasons behind changes to post-secondary education plans as stated above."
   ]
  },
  {
   "cell_type": "code",
   "execution_count": 53,
   "metadata": {
    "scrolled": true
   },
   "outputs": [
    {
     "data": {
      "text/plain": [
       "{'PSWHYCHG2': 99.79003626646306,\n",
       " 'PSWHYCHG3': 98.91200610803588,\n",
       " 'PSWHYCHG9': 98.58206309819212,\n",
       " 'PSWHYCHG5': 98.49844117834192,\n",
       " 'PSWHYCHG6': 98.0094347340005,\n",
       " 'PSWHYCHG7': 96.71783964587934,\n",
       " 'PSWHYCHG8': 96.44970414201184,\n",
       " 'PSWHYCHG1': 95.29899381016006,\n",
       " 'PSWHYCHG4': 92.30860124160372}"
      ]
     },
     "execution_count": 53,
     "metadata": {},
     "output_type": "execute_result"
    }
   ],
   "source": [
    "pswhychg_dict = {k:v for k,v in sorted_percent_null.items() if k.startswith('PSWHYCHG')}\n",
    "pswhychg_dict"
   ]
  },
  {
   "cell_type": "code",
   "execution_count": 54,
   "metadata": {
    "scrolled": false
   },
   "outputs": [
    {
     "data": {
      "image/png": "[encoded data removed]",
      "text/plain": [
       "<Figure size 864x576 with 1 Axes>"
      ]
     },
     "metadata": {
      "needs_background": "light"
     },
     "output_type": "display_data"
    }
   ],
   "source": [
    "# Plotting graph of reasons for changes to post-sec education plans\n",
    "pswhychg_df = df[[k for k in pswhychg_dict.keys()]].count()\n",
    "plt.figure(figsize = (12,8))\n",
    "sns.barplot(x = pswhychg_df.index,y = pswhychg_df.values,palette = 'Set2').set_xticklabels(['Caring for COVID patient','Substitute for disrupted care','COVID related',\n",
    "                                                                          'Changes to financial aid','Campus life changes','Post COVID disruption to income','Uncertained about how classes might change',\n",
    "                                                                          'Concerns about possible COVID infection','Online classes'])\n",
    "# Set title\n",
    "plt.title('Reasons for changes to post-secondary education plans')\n",
    "\n",
    "# Set xlabel\n",
    "plt.xlabel('Reason',fontsize = 12)\n",
    "\n",
    "# Set ylabel\n",
    "plt.ylabel('Frequency',fontsize = 12)\n",
    "\n",
    "# Set xticks\n",
    "plt.xticks(rotation = 45,horizontalalignment='right');"
   ]
  },
  {
   "cell_type": "code",
   "execution_count": 55,
   "metadata": {},
   "outputs": [
    {
     "data": {
      "text/plain": [
       "27940"
      ]
     },
     "execution_count": 55,
     "metadata": {},
     "output_type": "execute_result"
    }
   ],
   "source": [
    "# Total number of responses in PSWHYCHNG columns\n",
    "pswhychng = df[[col for col in pswhychg_dict.keys()]]\n",
    "pswhychng.count().sum()"
   ]
  },
  {
   "cell_type": "markdown",
   "metadata": {},
   "source": [
    "There is a considerable number of total responses(27988) to these questions and they highlight important concerns that the population has which would influence their educational experience. The missing values would be imputed as 0s instead and the `PSCHNG`features would be dropped since they overlap with `PSWHYCHNG` features and are less explanatory. This helps to prevent overfitting of data."
   ]
  },
  {
   "cell_type": "markdown",
   "metadata": {},
   "source": [
    "**Impute missing `PSWHYCHG` values, drop `PSCHNG` columns**"
   ]
  },
  {
   "cell_type": "code",
   "execution_count": 56,
   "metadata": {},
   "outputs": [],
   "source": [
    "# Imputing missing PSWHYCHG values as 0\n",
    "for i in pswhychg_dict.keys():\n",
    "    df[i] = df[i].fillna(0)\n",
    "\n",
    "# Dropping PSCHNG features:\n",
    "df.drop(columns = [i for i in pschng_dict.keys()],inplace = True)"
   ]
  },
  {
   "cell_type": "markdown",
   "metadata": {},
   "source": [
    "**`SNAPMNTH`**"
   ]
  },
  {
   "cell_type": "code",
   "execution_count": 57,
   "metadata": {
    "scrolled": true
   },
   "outputs": [
    {
     "data": {
      "text/plain": [
       "{'SNAPMNTH10': 100.0,\n",
       " 'SNAPMNTH11': 100.0,\n",
       " 'SNAPMNTH12': 100.0,\n",
       " 'SNAPMNTH1': 96.40153064470682,\n",
       " 'SNAPMNTH2': 96.37517156127578,\n",
       " 'SNAPMNTH9': 96.08249484180004,\n",
       " 'SNAPMNTH3': 95.91706886992247,\n",
       " 'SNAPMNTH4': 95.44624110380934,\n",
       " 'SNAPMNTH5': 95.21809869204411,\n",
       " 'SNAPMNTH6': 94.99722775157018,\n",
       " 'SNAPMNTH7': 94.87997527699761,\n",
       " 'SNAPMNTH8': 94.69818849471456}"
      ]
     },
     "execution_count": 57,
     "metadata": {},
     "output_type": "execute_result"
    }
   ],
   "source": [
    "snapmnth_dict = {k:v for k,v in sorted_percent_null.items() if k.startswith('SNAPMNTH')}\n",
    "snapmnth_dict"
   ]
  },
  {
   "cell_type": "code",
   "execution_count": 58,
   "metadata": {},
   "outputs": [],
   "source": [
    "# Renaming and reordering of columns for easy viewing \n",
    "snapmnth_df = df[[col for col in snapmnth_dict.keys()]]\n",
    "snapmnth_df = snapmnth_df.rename(columns = {\n",
    "    'SNAPMNTH1':'Jan',\n",
    "    'SNAPMNTH2':'Feb',\n",
    "    'SNAPMNTH3':'Mar',\n",
    "    'SNAPMNTH4':'Apr',\n",
    "    'SNAPMNTH5':'May',\n",
    "    'SNAPMNTH6':'Jun',\n",
    "    'SNAPMNTH7':'Jul',\n",
    "    'SNAPMNTH8':'Aug',\n",
    "    'SNAPMNTH9':'Sep',\n",
    "    'SNAPMNTH10':'Oct',\n",
    "    'SNAPMNTH11':'Nov',\n",
    "    'SNAPMNTH12':'Dec'\n",
    "})\n",
    "snapmnth_df = snapmnth_df[['Jan','Feb','Mar','Apr','May','Jun','Jul','Aug','Sep','Oct','Nov','Dec']]"
   ]
  },
  {
   "cell_type": "code",
   "execution_count": 59,
   "metadata": {
    "scrolled": false
   },
   "outputs": [
    {
     "data": {
      "image/png": "[encoded data removed]",
      "text/plain": [
       "<Figure size 864x576 with 1 Axes>"
      ]
     },
     "metadata": {
      "needs_background": "light"
     },
     "output_type": "display_data"
    }
   ],
   "source": [
    "# Graph showing the months when the food benefits/stamps were received\n",
    "plt.figure(figsize = (12,8))\n",
    "\n",
    "sns.barplot(x = [col for col in snapmnth_df.columns],y = [snapmnth_df[col].count() for col in snapmnth_df.columns],palette = 'Set2')\n",
    "plt.title('Month of receiving food aid')\n",
    "plt.ylabel('Frequency')\n",
    "plt.xlabel('Month');"
   ]
  },
  {
   "cell_type": "markdown",
   "metadata": {},
   "source": [
    "There seems to be an increasing trend in the number of food aid received over the months but as it is an ongoing survey and responses were collected till the end of August, this dataset did not account for food aids received after August. This shows a possible correlation between the pandemic and food security since more people are applying for SNAP/Food Programmes."
   ]
  },
  {
   "cell_type": "markdown",
   "metadata": {},
   "source": [
    "**`SNAP_YN`**"
   ]
  },
  {
   "cell_type": "code",
   "execution_count": 60,
   "metadata": {
    "scrolled": false
   },
   "outputs": [
    {
     "data": {
      "text/plain": [
       "2.0    92186\n",
       "NaN     9533\n",
       "1.0     7184\n",
       "Name: SNAP_YN, dtype: int64"
      ]
     },
     "execution_count": 60,
     "metadata": {},
     "output_type": "execute_result"
    }
   ],
   "source": [
    "df['SNAP_YN'].value_counts(dropna = False)"
   ]
  },
  {
   "cell_type": "code",
   "execution_count": 61,
   "metadata": {
    "scrolled": false
   },
   "outputs": [
    {
     "data": {
      "text/plain": [
       "2.0    84.649642\n",
       "NaN     8.753662\n",
       "1.0     6.596696\n",
       "Name: SNAP_YN, dtype: float64"
      ]
     },
     "execution_count": 61,
     "metadata": {},
     "output_type": "execute_result"
    }
   ],
   "source": [
    "# Looking at the percentage of people who received the SNAP receipt\n",
    "df['SNAP_YN'].value_counts(normalize = True, dropna = False) * 100"
   ]
  },
  {
   "cell_type": "code",
   "execution_count": 62,
   "metadata": {},
   "outputs": [
    {
     "data": {
      "text/html": [
       "<div>\n",
       "<style scoped>\n",
       "    .dataframe tbody tr th:only-of-type {\n",
       "        vertical-align: middle;\n",
       "    }\n",
       "\n",
       "    .dataframe tbody tr th {\n",
       "        vertical-align: top;\n",
       "    }\n",
       "\n",
       "    .dataframe thead th {\n",
       "        text-align: right;\n",
       "    }\n",
       "</style>\n",
       "<table border=\"1\" class=\"dataframe\">\n",
       "  <thead>\n",
       "    <tr style=\"text-align: right;\">\n",
       "      <th></th>\n",
       "      <th>Responses(values)</th>\n",
       "      <th>Responses(actual)</th>\n",
       "      <th>Number</th>\n",
       "      <th>Percentage</th>\n",
       "    </tr>\n",
       "  </thead>\n",
       "  <tbody>\n",
       "    <tr>\n",
       "      <th>0</th>\n",
       "      <td>7184</td>\n",
       "      <td>Yes</td>\n",
       "      <td>1.0</td>\n",
       "      <td>6.60</td>\n",
       "    </tr>\n",
       "    <tr>\n",
       "      <th>1</th>\n",
       "      <td>92186</td>\n",
       "      <td>No</td>\n",
       "      <td>2.0</td>\n",
       "      <td>84.65</td>\n",
       "    </tr>\n",
       "    <tr>\n",
       "      <th>2</th>\n",
       "      <td>9533</td>\n",
       "      <td>Missing</td>\n",
       "      <td>NaN</td>\n",
       "      <td>8.75</td>\n",
       "    </tr>\n",
       "  </tbody>\n",
       "</table>\n",
       "</div>"
      ],
      "text/plain": [
       "   Responses(values) Responses(actual)  Number  Percentage\n",
       "0               7184               Yes     1.0        6.60\n",
       "1              92186                No     2.0       84.65\n",
       "2               9533           Missing     NaN        8.75"
      ]
     },
     "execution_count": 62,
     "metadata": {},
     "output_type": "execute_result"
    }
   ],
   "source": [
    "snap_yn_df = pd.DataFrame({\n",
    "    'Responses(values)':[i for i in df['SNAP_YN'].value_counts(dropna = False).sort_index().values],\n",
    "    'Responses(actual)':['Yes','No','Missing'],\n",
    "    'Number':[i for i in df['SNAP_YN'].value_counts(dropna = False).sort_index().index],\n",
    "    'Percentage':[round(i*100,2) for i in df['SNAP_YN'].value_counts(dropna = False,normalize = True).sort_index().values]\n",
    "})\n",
    "snap_yn_df"
   ]
  },
  {
   "cell_type": "markdown",
   "metadata": {},
   "source": [
    "Based on the `SNAP_YN` column which indicates if households have benefitted from the SNAP program, majority of the population responded that they **do not** have/require access to such an aid which answers for the high null values in the `SNAPMNTH` columns. The SNAP is a state-administered programme that mainly targets households with children, elderly or disabled members where more than half of the applicants are children. This would be a useful indicator of food scarcity among the households. "
   ]
  },
  {
   "cell_type": "markdown",
   "metadata": {},
   "source": [
    "Since there is a significant number of nonresponses in the `SNAP_YN` feature, they would be grouped under a **Missing** class. The `SNAPMNTH` features are not useful in providing any much value than the `SNAP_YN` features and thus can be dropped."
   ]
  },
  {
   "cell_type": "markdown",
   "metadata": {},
   "source": [
    "**Regrouping, dropping and imputing `SNAP_YN` and `SNAPMNTH` features**"
   ]
  },
  {
   "cell_type": "code",
   "execution_count": 63,
   "metadata": {},
   "outputs": [],
   "source": [
    "# Reclassifying null values in SNAP_YN under a Missing class \n",
    "df['SNAP_YN'].fillna('Missing',inplace = True)\n",
    "\n",
    "# Dropping SNAPMNTH columns\n",
    "df.drop(columns = [k for k in snapmnth_dict.keys()],inplace = True)"
   ]
  },
  {
   "cell_type": "markdown",
   "metadata": {},
   "source": [
    "**`CHNGHOW`** <br>\n",
    "Questions that ask how spending/shopping changed"
   ]
  },
  {
   "cell_type": "code",
   "execution_count": 64,
   "metadata": {
    "scrolled": true
   },
   "outputs": [
    {
     "data": {
      "text/plain": [
       "{'CHNGHOW11': 97.08414001217972,\n",
       " 'CHNGHOW5': 96.28246030231142,\n",
       " 'CHNGHOW3': 92.60854943237076,\n",
       " 'CHNGHOW10': 91.17152491842319,\n",
       " 'CHNGHOW7': 89.79267217480617,\n",
       " 'CHNGHOW12': 81.29504903698452,\n",
       " 'CHNGHOW9': 76.39953099010171,\n",
       " 'CHNGHOW2': 73.50275861442115,\n",
       " 'CHNGHOW8': 72.25661022187076,\n",
       " 'CHNGHOW4': 64.53158090875213,\n",
       " 'CHNGHOW1': 49.07152400948927,\n",
       " 'CHNGHOW6': 45.86753197175034}"
      ]
     },
     "execution_count": 64,
     "metadata": {},
     "output_type": "execute_result"
    }
   ],
   "source": [
    "chnghow_dict = {k:v for k,v in sorted_percent_null.items() if k.startswith('CHNGHOW')}\n",
    "chnghow_dict"
   ]
  },
  {
   "cell_type": "code",
   "execution_count": 65,
   "metadata": {
    "scrolled": true
   },
   "outputs": [
    {
     "data": {
      "text/plain": [
       "CHNGHOW11     3197\n",
       "CHNGHOW5      4075\n",
       "CHNGHOW3      8102\n",
       "CHNGHOW10     9690\n",
       "CHNGHOW7     11203\n",
       "CHNGHOW12    20522\n",
       "CHNGHOW9     25904\n",
       "CHNGHOW2     29110\n",
       "CHNGHOW8     30456\n",
       "CHNGHOW4     38956\n",
       "CHNGHOW1     55929\n",
       "CHNGHOW6     59437\n",
       "dtype: int64"
      ]
     },
     "execution_count": 65,
     "metadata": {},
     "output_type": "execute_result"
    }
   ],
   "source": [
    "chnghow = df[[k for k in chnghow_dict.keys()]]\n",
    "chnghow.count()"
   ]
  },
  {
   "cell_type": "code",
   "execution_count": 66,
   "metadata": {
    "scrolled": false
   },
   "outputs": [
    {
     "data": {
      "image/png": "[encoded data removed]",
      "text/plain": [
       "<Figure size 864x576 with 1 Axes>"
      ]
     },
     "metadata": {
      "needs_background": "light"
     },
     "output_type": "display_data"
    }
   ],
   "source": [
    "# plot frequenecy against changing spending/shopping habits\n",
    "plt.figure(figsize = (12,8))\n",
    "sns.barplot(x = [i for i in chnghow.columns], y = [chnghow[i].count() for i in chnghow.columns])\n",
    "\n",
    "# Set title\n",
    "plt.title('How did spending/shopping habits change')\n",
    "\n",
    "# Set ylabel\n",
    "plt.ylabel('Frequency',fontsize = 12)\n",
    "\n",
    "# Set xlabel\n",
    "plt.xlabel('Types of Changes',fontsize = 12)\n",
    "\n",
    "# Set xticks\n",
    "plt.xticks(rotation = 45);"
   ]
  },
  {
   "cell_type": "markdown",
   "metadata": {},
   "source": [
    "|Features|Labels|\n",
    "|--------|------|\n",
    "|CHNGHOW1|Made more online purchases|\n",
    "|CHNGHOW2|Made more curbside pick-up purchases|\n",
    "|CHNGHOW3|Made more in-store purchases|\n",
    "|CHNGHOW4|Made more electronic payments|\n",
    "|CHNGHOW5|Made more cash purchases|\n",
    "|CHNGHOW6|Avoid eating at restaurants|\n",
    "|CHNGHOW7|Resumed eating at restaurants|\n",
    "|CHNGHOW8|Cancelled/postponed in-person medical/dental appointments|\n",
    "|CHNGHOW9|Attended in-person medical/dental appointments|\n",
    "|CHNGHOW10|Cancelled/postponed housekeeping/caregiving arrangements|\n",
    "|CHNGHOW11|Resumed/started new housekeeping/caregiving services|\n",
    "|CHNGHOW12|No changes to spending/shopping habits|"
   ]
  },
  {
   "cell_type": "code",
   "execution_count": 67,
   "metadata": {},
   "outputs": [
    {
     "data": {
      "text/plain": [
       "296581"
      ]
     },
     "execution_count": 67,
     "metadata": {},
     "output_type": "execute_result"
    }
   ],
   "source": [
    "chnghow.count().sum()"
   ]
  },
  {
   "cell_type": "markdown",
   "metadata": {},
   "source": [
    "The top few features show that respondents prefer to reduce social interactions by avoiding public places and resorting to cashless payments instead.\n"
   ]
  },
  {
   "cell_type": "markdown",
   "metadata": {},
   "source": [
    "**`WHYCHNGD`** <br>\n",
    "Reasons behind changes to household spendings"
   ]
  },
  {
   "cell_type": "code",
   "execution_count": 68,
   "metadata": {
    "scrolled": true
   },
   "outputs": [
    {
     "data": {
      "text/plain": [
       "{'WHYCHNGD6': 99.33193357510976,\n",
       " 'WHYCHNGD12': 98.35392068642689,\n",
       " 'WHYCHNGD8': 97.64313436770013,\n",
       " 'WHYCHNGD13': 95.72437488070243,\n",
       " 'WHYCHNGD10': 95.47078231941755,\n",
       " 'WHYCHNGD4': 94.56639307755933,\n",
       " 'WHYCHNGD2': 92.97030512911407,\n",
       " 'WHYCHNGD7': 86.91862314691099,\n",
       " 'WHYCHNGD9': 83.71554004308346,\n",
       " 'WHYCHNGD5': 81.11144438687863,\n",
       " 'WHYCHNGD1': 76.89489997182305,\n",
       " 'WHYCHNGD11': 69.40619347567238,\n",
       " 'WHYCHNGD3': 50.22950581263237}"
      ]
     },
     "execution_count": 68,
     "metadata": {},
     "output_type": "execute_result"
    }
   ],
   "source": [
    "whychng_dict = {k:v for k,v in sorted_percent_null.items() if k.startswith('WHYCHNGD')}\n",
    "whychng_dict"
   ]
  },
  {
   "cell_type": "code",
   "execution_count": 69,
   "metadata": {},
   "outputs": [
    {
     "data": {
      "text/plain": [
       "WHYCHNGD6       733\n",
       "WHYCHNGD12     1801\n",
       "WHYCHNGD8      2585\n",
       "WHYCHNGD13     4691\n",
       "WHYCHNGD10     4978\n",
       "WHYCHNGD4      5968\n",
       "WHYCHNGD2      7720\n",
       "WHYCHNGD7     14373\n",
       "WHYCHNGD9     17895\n",
       "WHYCHNGD5     20746\n",
       "WHYCHNGD1     25372\n",
       "WHYCHNGD11    33590\n",
       "WHYCHNGD3     54642\n",
       "dtype: int64"
      ]
     },
     "execution_count": 69,
     "metadata": {},
     "output_type": "execute_result"
    }
   ],
   "source": [
    "whychng = df[[k for k in whychng_dict.keys()]]\n",
    "whychng.count()"
   ]
  },
  {
   "cell_type": "code",
   "execution_count": 70,
   "metadata": {
    "scrolled": false
   },
   "outputs": [
    {
     "data": {
      "image/png": "[encoded data removed]",
      "text/plain": [
       "<Figure size 864x576 with 1 Axes>"
      ]
     },
     "metadata": {
      "needs_background": "light"
     },
     "output_type": "display_data"
    }
   ],
   "source": [
    "# Graph of reasons behind household spending changes against frequency\n",
    "plt.figure(figsize = (12,8))\n",
    "sns.barplot(y = [i for i in whychng.count().values],x = [i for i in whychng.count().index])\n",
    "\n",
    "# Set title\n",
    "plt.title('Why household spendings changed')\n",
    "\n",
    "# Set ylabel\n",
    "plt.ylabel('Frequency',fontsize = 12)\n",
    "\n",
    "# Set xlabel\n",
    "plt.xlabel('Reasons for household spending changes',fontsize = 12)\n",
    "\n",
    "# Set xticks\n",
    "plt.xticks(rotation = 45);"
   ]
  },
  {
   "cell_type": "markdown",
   "metadata": {},
   "source": [
    "|Features|Labels|\n",
    "|--------|------|\n",
    "|WHYCHNGD1|Limited shop opening hours|\n",
    "|WHYCHNGD2|Extension of shop opening hours|\n",
    "|WHYCHNGD3|Concerns with contaminating virus/interacting with high-risk individuals|\n",
    "|WHYCHNGD4|Not concerned with contaiminating virus/interacting with high-risk individuals\n",
    "|WHYCHNGD5|Loss of income|\n",
    "|WHYCHNGD6|Increased income|\n",
    "|WHYCHNGD7|Concerns about job-loss/pay-cut|\n",
    "|WHYCHNGD8|Not concerned about job-loss/pay-cut|\n",
    "|WHYCHNGD9|Work from home/telecomm|\n",
    "|WHYCHNGD10|Resumed working onsite|\n",
    "|WHYCHNGD11|Concerns about economy|\n",
    "|WHYCHNGD12|No concerns about economy|"
   ]
  },
  {
   "cell_type": "code",
   "execution_count": 71,
   "metadata": {},
   "outputs": [
    {
     "data": {
      "text/plain": [
       "195094"
      ]
     },
     "execution_count": 71,
     "metadata": {},
     "output_type": "execute_result"
    }
   ],
   "source": [
    "# Total number of responses in WHYCHNGD features\n",
    "whychng.count().sum()"
   ]
  },
  {
   "cell_type": "markdown",
   "metadata": {},
   "source": [
    "There is a large number of households who are spending less during this pandemic due to worries regarding **risk of virus infection**, **economical landscape** as well as a **loss of income**. These responses have highlighted the social and economical changes that result. This could explain for the changes that were described in `CHNGHOW` where people have reduced possible social interactions. The large number of missing values in `WHYCHNGD6` and `WHYCHNGD12` is because these changes are not applicable to the respondents. Since people could select more than one reason, the total number of responses in these columns are more than the total number rows in data. "
   ]
  },
  {
   "cell_type": "markdown",
   "metadata": {},
   "source": [
    "**Removing `CHNGHOW` features** <br>\n",
    "\n",
    "Since `WHYCHNGD` and `CHNGHOW` are correlated and `WHYCHNGD` features provide valuable explanations for changes in lifestyle habits of people, to prevent overfitting of our model, the `CHNGHOW` columns would be dropped."
   ]
  },
  {
   "cell_type": "code",
   "execution_count": 72,
   "metadata": {},
   "outputs": [],
   "source": [
    "# Dropping all CHNGHOW columns\n",
    "df.drop(columns = [col for col in chnghow_dict.keys()],inplace = True)"
   ]
  },
  {
   "cell_type": "markdown",
   "metadata": {},
   "source": [
    "**Imputing missing values** <br>\n",
    "\n",
    "All null values in `WHYCHNGD` features would be replaced with 0s."
   ]
  },
  {
   "cell_type": "code",
   "execution_count": 73,
   "metadata": {},
   "outputs": [],
   "source": [
    "# Replacing all null values with 0s in WHYCHNGD\n",
    "for i in whychng_dict.keys():\n",
    "    df[i] = df[i].fillna(0)"
   ]
  },
  {
   "cell_type": "markdown",
   "metadata": {},
   "source": [
    "**`FOODSUFRSN`**"
   ]
  },
  {
   "cell_type": "code",
   "execution_count": 74,
   "metadata": {
    "scrolled": true
   },
   "outputs": [
    {
     "data": {
      "text/plain": [
       "{'FOODSUFRSN4': 98.29847571783056,\n",
       " 'FOODSUFRSN2': 96.60422290695243,\n",
       " 'FOODSUFRSN3': 91.27332551650169,\n",
       " 'FOODSUFRSN5': 87.63486306910625,\n",
       " 'FOODSUFRSN1': 87.5012497841282}"
      ]
     },
     "execution_count": 74,
     "metadata": {},
     "output_type": "execute_result"
    }
   ],
   "source": [
    "foodsufrsn_dict = {k:v for k,v in sorted_percent_null.items() if k.startswith('FOODSUFRSN')}\n",
    "foodsufrsn_dict"
   ]
  },
  {
   "cell_type": "code",
   "execution_count": 75,
   "metadata": {
    "scrolled": true
   },
   "outputs": [
    {
     "data": {
      "text/plain": [
       "FOODSUFRSN4     1868\n",
       "FOODSUFRSN2     3725\n",
       "FOODSUFRSN3     9579\n",
       "FOODSUFRSN5    13572\n",
       "FOODSUFRSN1    13725\n",
       "dtype: int64"
      ]
     },
     "execution_count": 75,
     "metadata": {},
     "output_type": "execute_result"
    }
   ],
   "source": [
    "foodsufrsn_df = df[[col for col in foodsufrsn_dict.keys()]]\n",
    "foodsufrsn_df.count()"
   ]
  },
  {
   "cell_type": "code",
   "execution_count": 76,
   "metadata": {
    "scrolled": false
   },
   "outputs": [
    {
     "data": {
      "image/png": "[encoded data removed]",
      "text/plain": [
       "<Figure size 864x576 with 1 Axes>"
      ]
     },
     "metadata": {
      "needs_background": "light"
     },
     "output_type": "display_data"
    }
   ],
   "source": [
    "# Plot frequency against reasons for insufficient food intake\n",
    "plt.figure(figsize = (12,8))\n",
    "sns.barplot(x = [col for col in foodsufrsn_df.count().index],y = [i for i in foodsufrsn_df.count().values])\n",
    "\n",
    "# Set title \n",
    "plt.title('Reasons for insufficient food intake')\n",
    "\n",
    "# Set xlabel\n",
    "plt.xlabel('Reason',fontsize = 12)\n",
    "\n",
    "# Set ylabel\n",
    "plt.ylabel('Frequency',fontsize = 12);"
   ]
  },
  {
   "cell_type": "markdown",
   "metadata": {},
   "source": [
    "|Features|Labels|\n",
    "|--------|------|\n",
    "|FOODSUFRSN1|Could not afford to buy|\n",
    "|FOODSUFRSN2|Could not go out to buy(no transportation/health problems)\n",
    "|FOODSUFRSN3|Afraid to go/Did not want to go out|\n",
    "|FOODSUFRSN4|Could not get groceries/meals delivered|\n",
    "|FOODSUFRSN5|Limited selection of food|\n"
   ]
  },
  {
   "cell_type": "markdown",
   "metadata": {},
   "source": [
    "**Imputing missing values** <br>\n",
    "\n",
    "All null values in `FOODSUFRSN` features would be replaced with 0s."
   ]
  },
  {
   "cell_type": "code",
   "execution_count": 77,
   "metadata": {},
   "outputs": [],
   "source": [
    "for i in foodsufrsn_dict.keys():\n",
    "    df[i] = df[i].fillna(0)"
   ]
  },
  {
   "cell_type": "markdown",
   "metadata": {},
   "source": [
    "These questions are asked only if `CURFOODSUF` is answered appropriately. Nevertheless, there is an alarming number of people who are unable to afford food."
   ]
  },
  {
   "cell_type": "markdown",
   "metadata": {},
   "source": [
    "**`CURFOODSUF`** <br>\n",
    "Current food sufficiency"
   ]
  },
  {
   "cell_type": "code",
   "execution_count": 78,
   "metadata": {
    "scrolled": true
   },
   "outputs": [
    {
     "data": {
      "text/html": [
       "<div>\n",
       "<style scoped>\n",
       "    .dataframe tbody tr th:only-of-type {\n",
       "        vertical-align: middle;\n",
       "    }\n",
       "\n",
       "    .dataframe tbody tr th {\n",
       "        vertical-align: top;\n",
       "    }\n",
       "\n",
       "    .dataframe thead th {\n",
       "        text-align: right;\n",
       "    }\n",
       "</style>\n",
       "<table border=\"1\" class=\"dataframe\">\n",
       "  <thead>\n",
       "    <tr style=\"text-align: right;\">\n",
       "      <th></th>\n",
       "      <th>Responses(values)</th>\n",
       "      <th>Responses(actual)</th>\n",
       "      <th>Number</th>\n",
       "      <th>Percentage</th>\n",
       "    </tr>\n",
       "  </thead>\n",
       "  <tbody>\n",
       "    <tr>\n",
       "      <th>0</th>\n",
       "      <td>1.0</td>\n",
       "      <td>Enough of the food we want</td>\n",
       "      <td>67665</td>\n",
       "      <td>62.13</td>\n",
       "    </tr>\n",
       "    <tr>\n",
       "      <th>1</th>\n",
       "      <td>2.0</td>\n",
       "      <td>Enough but not always the food we want</td>\n",
       "      <td>25668</td>\n",
       "      <td>23.57</td>\n",
       "    </tr>\n",
       "    <tr>\n",
       "      <th>2</th>\n",
       "      <td>3.0</td>\n",
       "      <td>Sometimes not enough to eat</td>\n",
       "      <td>5364</td>\n",
       "      <td>4.93</td>\n",
       "    </tr>\n",
       "    <tr>\n",
       "      <th>3</th>\n",
       "      <td>4.0</td>\n",
       "      <td>Often not enough to eat</td>\n",
       "      <td>1491</td>\n",
       "      <td>1.37</td>\n",
       "    </tr>\n",
       "    <tr>\n",
       "      <th>4</th>\n",
       "      <td>NaN</td>\n",
       "      <td>Missing</td>\n",
       "      <td>8715</td>\n",
       "      <td>8.00</td>\n",
       "    </tr>\n",
       "  </tbody>\n",
       "</table>\n",
       "</div>"
      ],
      "text/plain": [
       "   Responses(values)                       Responses(actual)  Number  \\\n",
       "0                1.0              Enough of the food we want   67665   \n",
       "1                2.0  Enough but not always the food we want   25668   \n",
       "2                3.0             Sometimes not enough to eat    5364   \n",
       "3                4.0                 Often not enough to eat    1491   \n",
       "4                NaN                                 Missing    8715   \n",
       "\n",
       "   Percentage  \n",
       "0       62.13  \n",
       "1       23.57  \n",
       "2        4.93  \n",
       "3        1.37  \n",
       "4        8.00  "
      ]
     },
     "execution_count": 78,
     "metadata": {},
     "output_type": "execute_result"
    }
   ],
   "source": [
    "curfoodsuf_df = pd.DataFrame({\n",
    "    'Responses(values)':[i for i in df.CURFOODSUF.value_counts(dropna = False).sort_index().index],\n",
    "    'Responses(actual)':['Enough of the food we want','Enough but not always the food we want','Sometimes not enough to eat','Often not enough to eat','Missing'],\n",
    "    'Number':[i for i in df.CURFOODSUF.value_counts(dropna = False).sort_index().values],\n",
    "    'Percentage':[round(i*100,2) for i in df.CURFOODSUF.value_counts(dropna = False,normalize = True).sort_index().values]})\n",
    "curfoodsuf_df"
   ]
  },
  {
   "cell_type": "markdown",
   "metadata": {},
   "source": [
    "**`PRIFOODSUF`**"
   ]
  },
  {
   "cell_type": "code",
   "execution_count": 79,
   "metadata": {
    "scrolled": true
   },
   "outputs": [
    {
     "data": {
      "text/html": [
       "<div>\n",
       "<style scoped>\n",
       "    .dataframe tbody tr th:only-of-type {\n",
       "        vertical-align: middle;\n",
       "    }\n",
       "\n",
       "    .dataframe tbody tr th {\n",
       "        vertical-align: top;\n",
       "    }\n",
       "\n",
       "    .dataframe thead th {\n",
       "        text-align: right;\n",
       "    }\n",
       "</style>\n",
       "<table border=\"1\" class=\"dataframe\">\n",
       "  <thead>\n",
       "    <tr style=\"text-align: right;\">\n",
       "      <th></th>\n",
       "      <th>Responses(values)</th>\n",
       "      <th>Responses(actual)</th>\n",
       "      <th>Number</th>\n",
       "      <th>Percentage</th>\n",
       "    </tr>\n",
       "  </thead>\n",
       "  <tbody>\n",
       "    <tr>\n",
       "      <th>0</th>\n",
       "      <td>1.0</td>\n",
       "      <td>Enough of the food we want</td>\n",
       "      <td>76611</td>\n",
       "      <td>70.35</td>\n",
       "    </tr>\n",
       "    <tr>\n",
       "      <th>1</th>\n",
       "      <td>2.0</td>\n",
       "      <td>Enough but not always the food we want</td>\n",
       "      <td>18276</td>\n",
       "      <td>16.78</td>\n",
       "    </tr>\n",
       "    <tr>\n",
       "      <th>2</th>\n",
       "      <td>3.0</td>\n",
       "      <td>Sometimes not enough to eat</td>\n",
       "      <td>4177</td>\n",
       "      <td>3.84</td>\n",
       "    </tr>\n",
       "    <tr>\n",
       "      <th>3</th>\n",
       "      <td>4.0</td>\n",
       "      <td>Often not enough to eat</td>\n",
       "      <td>1195</td>\n",
       "      <td>1.10</td>\n",
       "    </tr>\n",
       "    <tr>\n",
       "      <th>4</th>\n",
       "      <td>NaN</td>\n",
       "      <td>Missing</td>\n",
       "      <td>8644</td>\n",
       "      <td>7.94</td>\n",
       "    </tr>\n",
       "  </tbody>\n",
       "</table>\n",
       "</div>"
      ],
      "text/plain": [
       "   Responses(values)                       Responses(actual)  Number  \\\n",
       "0                1.0              Enough of the food we want   76611   \n",
       "1                2.0  Enough but not always the food we want   18276   \n",
       "2                3.0             Sometimes not enough to eat    4177   \n",
       "3                4.0                 Often not enough to eat    1195   \n",
       "4                NaN                                 Missing    8644   \n",
       "\n",
       "   Percentage  \n",
       "0       70.35  \n",
       "1       16.78  \n",
       "2        3.84  \n",
       "3        1.10  \n",
       "4        7.94  "
      ]
     },
     "execution_count": 79,
     "metadata": {},
     "output_type": "execute_result"
    }
   ],
   "source": [
    "prifoodsuf_df = pd.DataFrame({\n",
    "    'Responses(values)':[i for i in df.PRIFOODSUF.value_counts(dropna = False).sort_index().index],\n",
    "    'Responses(actual)':['Enough of the food we want','Enough but not always the food we want','Sometimes not enough to eat','Often not enough to eat','Missing'],\n",
    "    'Number':[i for i in df.PRIFOODSUF.value_counts(dropna = False).sort_index().values],\n",
    "    'Percentage':[round(i*100,2) for i in df.PRIFOODSUF.value_counts(dropna = False,normalize = True).sort_index().values]})\n",
    "prifoodsuf_df"
   ]
  },
  {
   "cell_type": "code",
   "execution_count": 80,
   "metadata": {
    "scrolled": false
   },
   "outputs": [
    {
     "data": {
      "image/png": "[encoded data removed]",
      "text/plain": [
       "<Figure size 864x576 with 1 Axes>"
      ]
     },
     "metadata": {
      "needs_background": "light"
     },
     "output_type": "display_data"
    }
   ],
   "source": [
    "# Plot graph of frequency against food sufficiency in March and Aug\n",
    "plt.figure(figsize = (12,8))\n",
    "width = 0.8 \n",
    "ind = np.arange(1,10,2)\n",
    "plt.bar(ind+width, curfoodsuf_df['Number'], label='Aug')\n",
    "plt.bar(ind,prifoodsuf_df['Number'], label='March')\n",
    "\n",
    "plt.ylabel('Frequency')\n",
    "plt.title('Comparison of food sufficiency in March and August')\n",
    "\n",
    "plt.xticks(ind + width / 2, curfoodsuf_df['Responses(actual)'])\n",
    "plt.legend()\n",
    "plt.xticks(rotation = 45);"
   ]
  },
  {
   "cell_type": "markdown",
   "metadata": {},
   "source": [
    "`PRIFOODSUF` was asked with regards to food sufficiency before 13 March which is the date that President Donald Trump declared a national state of emergency to cope with the pandemic. The implications that result are economical standstill, hikes in unemploment rates and implementations of stay-at-home orders. These factors could be the underlying reasons for the slight increase in food insufficiency going from March to August. To account for the rise in food insufficiency, a new feature would be engineered by taking the difference of `PRIFOODSUF` and `CURFOODSUF`"
   ]
  },
  {
   "cell_type": "markdown",
   "metadata": {},
   "source": [
    "**`FOODSUF`** <br>\n",
    "New feature which indicates if accessibility of food has changed after the declaration of state of emergency due to COVID"
   ]
  },
  {
   "cell_type": "code",
   "execution_count": 81,
   "metadata": {
    "scrolled": true
   },
   "outputs": [
    {
     "data": {
      "text/plain": [
       " 3.0       60\n",
       " 2.0      277\n",
       " 1.0     4729\n",
       " 0.0    81012\n",
       "-1.0    12080\n",
       "-2.0     1544\n",
       "-3.0      326\n",
       " NaN     8875\n",
       "Name: FOODSUF, dtype: int64"
      ]
     },
     "execution_count": 81,
     "metadata": {},
     "output_type": "execute_result"
    }
   ],
   "source": [
    "df['FOODSUF'] = df['PRIFOODSUF'] - df['CURFOODSUF']\n",
    "df['FOODSUF'].value_counts(dropna = False).sort_index(ascending = False)"
   ]
  },
  {
   "cell_type": "code",
   "execution_count": 82,
   "metadata": {
    "scrolled": true
   },
   "outputs": [
    {
     "data": {
      "text/plain": [
       "Unchanged         81012\n",
       "Less available    13950\n",
       "Missing            8875\n",
       "More available     5066\n",
       "Name: FOODSUF, dtype: int64"
      ]
     },
     "execution_count": 82,
     "metadata": {},
     "output_type": "execute_result"
    }
   ],
   "source": [
    "df['FOODSUF'] = df['FOODSUF'].map(lambda x: 'Less available' if x < 0 else ('More available' if x > 0 else x))\n",
    "df['FOODSUF'] = df['FOODSUF'].replace(0,'Unchanged')\n",
    "df['FOODSUF'] = df['FOODSUF'].replace(np.nan,'Missing')\n",
    "df['FOODSUF'].value_counts(dropna = False)"
   ]
  },
  {
   "cell_type": "code",
   "execution_count": 83,
   "metadata": {},
   "outputs": [
    {
     "data": {
      "image/png": "[encoded data removed]",
      "text/plain": [
       "<Figure size 864x576 with 1 Axes>"
      ]
     },
     "metadata": {
      "needs_background": "light"
     },
     "output_type": "display_data"
    }
   ],
   "source": [
    "# Plot graph of frequency against post-declaration of food availability\n",
    "plt.figure(figsize = (12,8))\n",
    "sns.barplot(x = df['FOODSUF'].value_counts().index,y = df['FOODSUF'].value_counts().values,order = ['Unchanged','Less available','More available','Missing'])\n",
    "\n",
    "# Set title\n",
    "plt.title('Frequency of post-declaration of food availability')\n",
    "\n",
    "# Set xlabel\n",
    "plt.xlabel('Availability',fontsize = 12)\n",
    "\n",
    "# Set ylabel\n",
    "plt.ylabel('Frequency',fontsize = 12);"
   ]
  },
  {
   "cell_type": "markdown",
   "metadata": {},
   "source": [
    "#### Drop `PRIFOODSUF`,`CURFOODSUF`, `CHILDFOOD` and `FOODSUFRSN` features\n",
    "Since data in all of these features is accounted for in `FOODSUF`, they would be dropped."
   ]
  },
  {
   "cell_type": "code",
   "execution_count": 84,
   "metadata": {
    "scrolled": true
   },
   "outputs": [],
   "source": [
    "# Drop the 2 features\n",
    "df.drop(columns = ['PRIFOODSUF','CURFOODSUF','CHILDFOOD'],inplace = True)\n",
    "df.drop(columns = [k for k in foodsufrsn_dict.keys()],inplace = True)"
   ]
  },
  {
   "cell_type": "markdown",
   "metadata": {},
   "source": [
    "**`EVICT`**"
   ]
  },
  {
   "cell_type": "markdown",
   "metadata": {},
   "source": [
    "Measuring the likelihood of eviction in the next 2 months. This question is only asked if `TENURE` is answered as 3/Rented and `RENTCUR` is 2/no"
   ]
  },
  {
   "cell_type": "code",
   "execution_count": 85,
   "metadata": {
    "scrolled": false
   },
   "outputs": [
    {
     "data": {
      "text/plain": [
       "NaN    97.391256\n",
       "3.0     0.871418\n",
       "2.0     0.755718\n",
       "4.0     0.620736\n",
       "1.0     0.360872\n",
       "Name: EVICT, dtype: float64"
      ]
     },
     "execution_count": 85,
     "metadata": {},
     "output_type": "execute_result"
    }
   ],
   "source": [
    "# Removal of missing values from EVICT\n",
    "df['EVICT'].value_counts(dropna = False,normalize = True) * 100"
   ]
  },
  {
   "cell_type": "markdown",
   "metadata": {},
   "source": [
    "Since most of the data are missing and `EVICT` is dependent on responses to `TENURE` and `RENTCUR`, this column can be dropped. The other columns would be sufficient to account for the status of eviction in our model."
   ]
  },
  {
   "cell_type": "markdown",
   "metadata": {},
   "source": [
    "**`RENTCUR`**"
   ]
  },
  {
   "cell_type": "code",
   "execution_count": 86,
   "metadata": {},
   "outputs": [
    {
     "data": {
      "text/plain": [
       "79.58534434961234"
      ]
     },
     "execution_count": 86,
     "metadata": {},
     "output_type": "execute_result"
    }
   ],
   "source": [
    "# Percentage of RENTCUR missing\n",
    "sorted_percent_null['RENTCUR']"
   ]
  },
  {
   "cell_type": "code",
   "execution_count": 87,
   "metadata": {
    "scrolled": false
   },
   "outputs": [
    {
     "data": {
      "text/plain": [
       "NaN    86499\n",
       "1.0    19537\n",
       "2.0     2867\n",
       "Name: RENTCUR, dtype: int64"
      ]
     },
     "execution_count": 87,
     "metadata": {},
     "output_type": "execute_result"
    }
   ],
   "source": [
    "df['RENTCUR'].value_counts(dropna = False)"
   ]
  },
  {
   "cell_type": "code",
   "execution_count": 88,
   "metadata": {},
   "outputs": [],
   "source": [
    "rentcur_df = pd.DataFrame({\n",
    "    'Responses(values)':[i for i in df['RENTCUR'].value_counts(dropna = False).sort_index().index],\n",
    "    'Responses(actual)':['Yes','No','Missing'],\n",
    "    'Number':[i for i in df['RENTCUR'].value_counts(dropna = False).sort_index().values],\n",
    "    'Percentage':[round(i*100,2) for i in df['RENTCUR'].value_counts(dropna = False,normalize = True).sort_index().values]\n",
    "})"
   ]
  },
  {
   "cell_type": "code",
   "execution_count": 89,
   "metadata": {
    "scrolled": true
   },
   "outputs": [
    {
     "data": {
      "image/png": "[encoded data removed]",
      "text/plain": [
       "<Figure size 432x288 with 1 Axes>"
      ]
     },
     "metadata": {
      "needs_background": "light"
     },
     "output_type": "display_data"
    }
   ],
   "source": [
    "# Plot graph of frequency against ability to pay rent\n",
    "sns.barplot(x = rentcur_df['Responses(actual)'], y = rentcur_df['Number'])\n",
    "\n",
    "# Set title\n",
    "plt.title('Ability to pay rent')\n",
    "\n",
    "# Set xlabel\n",
    "plt.xlabel('Responses')\n",
    "\n",
    "# Set ylabel\n",
    "plt.ylabel('Frequency');"
   ]
  },
  {
   "cell_type": "markdown",
   "metadata": {},
   "source": [
    "**`MORTCUR`** <br>\n",
    "Question asking if households are able to afford mortgage payments"
   ]
  },
  {
   "cell_type": "code",
   "execution_count": 90,
   "metadata": {},
   "outputs": [
    {
     "data": {
      "text/plain": [
       "1.0    41568\n",
       "2.0     3234\n",
       "NaN    64101\n",
       "Name: MORTCUR, dtype: int64"
      ]
     },
     "execution_count": 90,
     "metadata": {},
     "output_type": "execute_result"
    }
   ],
   "source": [
    "df['MORTCUR'].value_counts(dropna = False).sort_index()"
   ]
  },
  {
   "cell_type": "markdown",
   "metadata": {},
   "source": [
    "**`FORCLOSE`** <br>\n",
    "Similar to `EVICT` which asks respondents about the likelihood of losing the ability to pay mortgage and thus obligated to give up their homes"
   ]
  },
  {
   "cell_type": "code",
   "execution_count": 91,
   "metadata": {},
   "outputs": [
    {
     "data": {
      "text/plain": [
       "NaN    105707\n",
       "4.0      1482\n",
       "3.0      1159\n",
       "2.0       437\n",
       "1.0       118\n",
       "Name: FORCLOSE, dtype: int64"
      ]
     },
     "execution_count": 91,
     "metadata": {},
     "output_type": "execute_result"
    }
   ],
   "source": [
    "df['FORCLOSE'].value_counts(dropna = False)"
   ]
  },
  {
   "cell_type": "markdown",
   "metadata": {},
   "source": [
    "**`TENURE`**"
   ]
  },
  {
   "cell_type": "code",
   "execution_count": 92,
   "metadata": {},
   "outputs": [
    {
     "data": {
      "text/plain": [
       "17.16339904925513"
      ]
     },
     "execution_count": 92,
     "metadata": {},
     "output_type": "execute_result"
    }
   ],
   "source": [
    "# Percentage of TENURE missing\n",
    "sorted_percent_null['TENURE']"
   ]
  },
  {
   "cell_type": "code",
   "execution_count": 93,
   "metadata": {
    "scrolled": true
   },
   "outputs": [
    {
     "data": {
      "text/html": [
       "<div>\n",
       "<style scoped>\n",
       "    .dataframe tbody tr th:only-of-type {\n",
       "        vertical-align: middle;\n",
       "    }\n",
       "\n",
       "    .dataframe tbody tr th {\n",
       "        vertical-align: top;\n",
       "    }\n",
       "\n",
       "    .dataframe thead th {\n",
       "        text-align: right;\n",
       "    }\n",
       "</style>\n",
       "<table border=\"1\" class=\"dataframe\">\n",
       "  <thead>\n",
       "    <tr style=\"text-align: right;\">\n",
       "      <th></th>\n",
       "      <th>Responses(values)</th>\n",
       "      <th>Responses(actual)</th>\n",
       "      <th>Number</th>\n",
       "      <th>Percentage</th>\n",
       "    </tr>\n",
       "  </thead>\n",
       "  <tbody>\n",
       "    <tr>\n",
       "      <th>0</th>\n",
       "      <td>1.0</td>\n",
       "      <td>Owned free and clear</td>\n",
       "      <td>22333</td>\n",
       "      <td>20.51</td>\n",
       "    </tr>\n",
       "    <tr>\n",
       "      <th>1</th>\n",
       "      <td>2.0</td>\n",
       "      <td>Owned with mortgage/loan</td>\n",
       "      <td>44969</td>\n",
       "      <td>41.29</td>\n",
       "    </tr>\n",
       "    <tr>\n",
       "      <th>2</th>\n",
       "      <td>3.0</td>\n",
       "      <td>Rented</td>\n",
       "      <td>22483</td>\n",
       "      <td>20.64</td>\n",
       "    </tr>\n",
       "    <tr>\n",
       "      <th>3</th>\n",
       "      <td>4.0</td>\n",
       "      <td>Occupied without paying</td>\n",
       "      <td>1153</td>\n",
       "      <td>1.06</td>\n",
       "    </tr>\n",
       "    <tr>\n",
       "      <th>4</th>\n",
       "      <td>NaN</td>\n",
       "      <td>Missing</td>\n",
       "      <td>17965</td>\n",
       "      <td>16.50</td>\n",
       "    </tr>\n",
       "  </tbody>\n",
       "</table>\n",
       "</div>"
      ],
      "text/plain": [
       "   Responses(values)         Responses(actual)  Number  Percentage\n",
       "0                1.0      Owned free and clear   22333       20.51\n",
       "1                2.0  Owned with mortgage/loan   44969       41.29\n",
       "2                3.0                    Rented   22483       20.64\n",
       "3                4.0   Occupied without paying    1153        1.06\n",
       "4                NaN                   Missing   17965       16.50"
      ]
     },
     "execution_count": 93,
     "metadata": {},
     "output_type": "execute_result"
    }
   ],
   "source": [
    "tenure_df = pd.DataFrame({\n",
    "    'Responses(values)':[i for i in df.TENURE.value_counts(dropna = False).sort_index().index],\n",
    "    'Responses(actual)':['Owned free and clear','Owned with mortgage/loan','Rented','Occupied without paying','Missing'],\n",
    "    'Number':[i for i in df.TENURE.value_counts(dropna = False).sort_index().values],\n",
    "    'Percentage':[round(i*100,2) for i in df.TENURE.value_counts(dropna = False,normalize = True).sort_index().values]})\n",
    "tenure_df\n"
   ]
  },
  {
   "cell_type": "code",
   "execution_count": 94,
   "metadata": {},
   "outputs": [
    {
     "data": {
      "image/png": "[encoded data removed]",
      "text/plain": [
       "<Figure size 864x576 with 1 Axes>"
      ]
     },
     "metadata": {
      "needs_background": "light"
     },
     "output_type": "display_data"
    }
   ],
   "source": [
    "# Plot frequency against housing status\n",
    "plt.figure(figsize = (12,8))\n",
    "sns.barplot(x = tenure_df['Responses(actual)'], y = tenure_df['Number'], palette = 'Set2')\n",
    "plt.title('Graph of housing status')\n",
    "plt.xticks(rotation = 45)\n",
    "plt.ylabel('Frequency',fontsize = 12)\n",
    "plt.xlabel('Housing Status',fontsize = 12);\n"
   ]
  },
  {
   "cell_type": "markdown",
   "metadata": {},
   "source": [
    "#### Imputing missing data\n",
    "Since there is a large number of missing values and `TENURE` is an indicator of the financial status of people, it should not be dropped and the missing values are classified under a **Missing** class."
   ]
  },
  {
   "cell_type": "code",
   "execution_count": 95,
   "metadata": {},
   "outputs": [],
   "source": [
    "# Reclassifying null TENURE values\n",
    "df['TENURE'] = df['TENURE'].fillna('Missing')"
   ]
  },
  {
   "cell_type": "markdown",
   "metadata": {},
   "source": [
    "#### Merging of `RENTCUR` and `MORTCUR` into one feature"
   ]
  },
  {
   "cell_type": "code",
   "execution_count": 96,
   "metadata": {},
   "outputs": [],
   "source": [
    "# Function to regroup values \n",
    "def housepay(row):\n",
    "    if row['TENURE'] == 2 and row['MORTCUR'] == 1:\n",
    "        return 'Yes'\n",
    "    elif row['TENURE'] == 2 and row['MORTCUR'] == 2:\n",
    "        return 'No'\n",
    "    elif row['TENURE'] == 3 and row['RENTCUR'] == 1:\n",
    "        return 'Yes'\n",
    "    elif row['TENURE'] == 3 and row['RENTCUR'] == 2:\n",
    "        return 'No'\n",
    "    else:\n",
    "        return 'Missing'"
   ]
  },
  {
   "cell_type": "code",
   "execution_count": 97,
   "metadata": {},
   "outputs": [
    {
     "data": {
      "text/plain": [
       "Yes        61105\n",
       "Missing    41697\n",
       "No          6101\n",
       "Name: HOUSEPAY, dtype: int64"
      ]
     },
     "execution_count": 97,
     "metadata": {},
     "output_type": "execute_result"
    }
   ],
   "source": [
    "# New feature to indicate if households are able to afford their houses\n",
    "df['HOUSEPAY'] = df.apply(housepay,axis = 1)\n",
    "df['HOUSEPAY'].value_counts()"
   ]
  },
  {
   "cell_type": "markdown",
   "metadata": {},
   "source": [
    "#### Drop `RENTCUR`,`MORTCUR`,`EVICT`,`FORCLOSE`"
   ]
  },
  {
   "cell_type": "markdown",
   "metadata": {},
   "source": [
    "Since `RENTCUR`,`MORTCUR`,`EVICT`,`FORCLOSE` are highly correlated to `HOUSEPAY` and could be a substitute for one another,all would be removed to prevent overfitting of our model."
   ]
  },
  {
   "cell_type": "code",
   "execution_count": 98,
   "metadata": {},
   "outputs": [],
   "source": [
    "# Dropping columns\n",
    "df.drop(columns = ['EVICT','FORCLOSE','RENTCUR','MORTCUR'],inplace = True)"
   ]
  },
  {
   "cell_type": "markdown",
   "metadata": {},
   "source": [
    "#### `MORTCONF`"
   ]
  },
  {
   "cell_type": "code",
   "execution_count": 99,
   "metadata": {
    "scrolled": true
   },
   "outputs": [
    {
     "data": {
      "text/plain": [
       "1.0     3177\n",
       "2.0     5187\n",
       "3.0    11673\n",
       "4.0    46175\n",
       "5.0      858\n",
       "NaN    41833\n",
       "Name: MORTCONF, dtype: int64"
      ]
     },
     "execution_count": 99,
     "metadata": {},
     "output_type": "execute_result"
    }
   ],
   "source": [
    "df['MORTCONF'].value_counts(dropna = False).sort_index()"
   ]
  },
  {
   "cell_type": "markdown",
   "metadata": {},
   "source": [
    "Since this feature is highly correlated to `HOUSEPAY`, this would be dropped."
   ]
  },
  {
   "cell_type": "code",
   "execution_count": 100,
   "metadata": {},
   "outputs": [],
   "source": [
    "# Dropping MORTCONF feature\n",
    "df.drop(columns = ['MORTCONF'],inplace = True)"
   ]
  },
  {
   "cell_type": "markdown",
   "metadata": {},
   "source": [
    "**`TEACH`**"
   ]
  },
  {
   "cell_type": "code",
   "execution_count": 101,
   "metadata": {
    "scrolled": true
   },
   "outputs": [
    {
     "data": {
      "text/plain": [
       "{'TEACH5': 97.40226688117507,\n",
       " 'TEACH3': 97.16594406420708,\n",
       " 'TEACH4': 96.49605977149402,\n",
       " 'TEACH1': 95.35898344831347,\n",
       " 'TEACH2': 85.56249375107936}"
      ]
     },
     "execution_count": 101,
     "metadata": {},
     "output_type": "execute_result"
    }
   ],
   "source": [
    "teach_dict = {k:v for k,v in sorted_percent_null.items() if k.startswith('TEACH')}\n",
    "teach_dict"
   ]
  },
  {
   "cell_type": "code",
   "execution_count": 102,
   "metadata": {
    "scrolled": true
   },
   "outputs": [
    {
     "data": {
      "text/plain": [
       "TEACH5     2855\n",
       "TEACH3     3115\n",
       "TEACH4     3852\n",
       "TEACH1     5097\n",
       "TEACH2    15865\n",
       "dtype: int64"
      ]
     },
     "execution_count": 102,
     "metadata": {},
     "output_type": "execute_result"
    }
   ],
   "source": [
    "teach_df = df[[k for k in teach_dict.keys()]]\n",
    "teach_df.count()"
   ]
  },
  {
   "cell_type": "code",
   "execution_count": 103,
   "metadata": {},
   "outputs": [
    {
     "data": {
      "text/plain": [
       "TEACH5    106048\n",
       "TEACH3    105788\n",
       "TEACH4    105051\n",
       "TEACH1    103806\n",
       "TEACH2     93038\n",
       "dtype: int64"
      ]
     },
     "execution_count": 103,
     "metadata": {},
     "output_type": "execute_result"
    }
   ],
   "source": [
    "# Null values in each TEACH column\n",
    "teach_df.isnull().sum()"
   ]
  },
  {
   "cell_type": "markdown",
   "metadata": {},
   "source": [
    "|Features|Labels|\n",
    "|--------|------|\n",
    "|TEACH1|Cancelled classes|\n",
    "|TEACH2|Changed to e-learning|\n",
    "|TEACH3|Changed to mailed school materials|\n",
    "|TEACH4|Changed to other ways|\n",
    "|TEACH5|No changes|"
   ]
  },
  {
   "cell_type": "markdown",
   "metadata": {},
   "source": [
    "Since the `TEACH` features have many missing values and are secondary to impacting the mental health of adults, they would be dropped"
   ]
  },
  {
   "cell_type": "code",
   "execution_count": 104,
   "metadata": {},
   "outputs": [],
   "source": [
    "# Drop all other TEACH features:\n",
    "df.drop(columns = [k for k in teach_dict.keys()],inplace = True)"
   ]
  },
  {
   "cell_type": "markdown",
   "metadata": {},
   "source": [
    "These questions are only asked if `ENROLL` are answered with yes/1"
   ]
  },
  {
   "cell_type": "code",
   "execution_count": 105,
   "metadata": {
    "scrolled": true
   },
   "outputs": [
    {
     "data": {
      "text/plain": [
       "{'ENROLL2': 97.54769630700152,\n",
       " 'ENROLL3': 92.97484979867113,\n",
       " 'ENROLL1': 77.97016878902735}"
      ]
     },
     "execution_count": 105,
     "metadata": {},
     "output_type": "execute_result"
    }
   ],
   "source": [
    "enroll_dict = {k:v for k,v in sorted_percent_null.items() if k.startswith('ENROLL')}\n",
    "enroll_dict"
   ]
  },
  {
   "cell_type": "code",
   "execution_count": 106,
   "metadata": {
    "scrolled": true
   },
   "outputs": [
    {
     "name": "stdout",
     "output_type": "stream",
     "text": [
      "NaN    106209\n",
      "1.0      2694\n",
      "Name: ENROLL2, dtype: int64\n",
      "\n",
      "NaN    101212\n",
      "1.0      7691\n",
      "Name: ENROLL3, dtype: int64\n",
      "\n",
      "NaN    84695\n",
      "1.0    24208\n",
      "Name: ENROLL1, dtype: int64\n",
      "\n"
     ]
    }
   ],
   "source": [
    "for i in enroll_dict.keys():\n",
    "    print(df[i].value_counts(dropna = False))\n",
    "    print('')"
   ]
  },
  {
   "cell_type": "markdown",
   "metadata": {},
   "source": [
    "#### Drop `ENROLL` features\n",
    "Since most of the values in `ENROLL` features are missing and are questions that surround the well-being of children and not our target audience, these would be dropped."
   ]
  },
  {
   "cell_type": "code",
   "execution_count": 107,
   "metadata": {
    "scrolled": false
   },
   "outputs": [],
   "source": [
    "df.drop(columns = [k for k in enroll_dict.keys()],inplace = True)"
   ]
  },
  {
   "cell_type": "markdown",
   "metadata": {},
   "source": [
    "**`SPNDSRC`**"
   ]
  },
  {
   "cell_type": "code",
   "execution_count": 108,
   "metadata": {
    "scrolled": true
   },
   "outputs": [
    {
     "data": {
      "text/plain": [
       "{'SPNDSRC7': 95.51713794889973,\n",
       " 'SPNDSRC8': 95.3780710604532,\n",
       " 'SPNDSRC4': 92.16498968360011,\n",
       " 'SPNDSRC5': 89.7881275052491,\n",
       " 'SPNDSRC6': 80.09616520782774,\n",
       " 'SPNDSRC3': 76.98033975949609,\n",
       " 'SPNDSRC2': 76.0841309228406,\n",
       " 'SPNDSRC1': 29.60125069306211}"
      ]
     },
     "execution_count": 108,
     "metadata": {},
     "output_type": "execute_result"
    }
   ],
   "source": [
    "spndsrc_dict = {k:v for k,v in sorted_percent_null.items() if k.startswith('SPNDSRC')}\n",
    "spndsrc_dict"
   ]
  },
  {
   "cell_type": "code",
   "execution_count": 109,
   "metadata": {
    "scrolled": false
   },
   "outputs": [
    {
     "data": {
      "text/plain": [
       "SPNDSRC7     4919\n",
       "SPNDSRC8     5068\n",
       "SPNDSRC4     8596\n",
       "SPNDSRC5    11213\n",
       "SPNDSRC6    21849\n",
       "SPNDSRC3    25269\n",
       "SPNDSRC2    26261\n",
       "SPNDSRC1    77299\n",
       "dtype: int64"
      ]
     },
     "execution_count": 109,
     "metadata": {},
     "output_type": "execute_result"
    }
   ],
   "source": [
    "spndsrc_df = df[[i for i in spndsrc_dict.keys()]]\n",
    "spndsrc_df.count()"
   ]
  },
  {
   "cell_type": "code",
   "execution_count": 110,
   "metadata": {
    "scrolled": false
   },
   "outputs": [
    {
     "data": {
      "image/png": "[encoded data removed]",
      "text/plain": [
       "<Figure size 864x576 with 1 Axes>"
      ]
     },
     "metadata": {
      "needs_background": "light"
     },
     "output_type": "display_data"
    }
   ],
   "source": [
    "# Plot graph of frequency against sources of spending needs\n",
    "plt.figure(figsize = (12,8))\n",
    "sns.set_palette(\"Spectral\", 8, .75)\n",
    "sns.barplot(x = spndsrc_df.count().index, y = spndsrc_df.count().values)\n",
    "plt.title('Sources of spending needs',fontsize = 15)\n",
    "plt.ylabel('Frequency',fontsize = 12)\n",
    "plt.xlabel('Sources',fontsize = 12);"
   ]
  },
  {
   "cell_type": "markdown",
   "metadata": {},
   "source": [
    "|Features|Labels|\n",
    "|--------|------|\n",
    "|SPNDSRC1|Regular flow of income|\n",
    "|SPNDSRC2|Credit cards/loans|\n",
    "|SPNDSRC3|Savings|\n",
    "|SPNDSRC4|Borrow from friends/family|\n",
    "|SPNDSRC5|Unemployment Insurance(UI) benefit payments|\n",
    "|SPNDSRC6|Stimulus Payment|\n",
    "|SPNDSRC7|Money saved from deferred/forgiven payments|\n",
    "|SPNDSRC8|Supplemental Nutrition Assistance Program(SNAP)|"
   ]
  },
  {
   "cell_type": "markdown",
   "metadata": {},
   "source": [
    "#### Imputing missing values\n",
    "All null values would be imputed as 0"
   ]
  },
  {
   "cell_type": "code",
   "execution_count": 111,
   "metadata": {},
   "outputs": [],
   "source": [
    "# Imputing all missing values in SPNDSRC features as 0\n",
    "for i in spndsrc_dict.keys():\n",
    "    df[i] = df[i].fillna(0)"
   ]
  },
  {
   "cell_type": "markdown",
   "metadata": {},
   "source": [
    "**`UI_RECV`**,**`UI_APPLY`**"
   ]
  },
  {
   "cell_type": "code",
   "execution_count": 112,
   "metadata": {
    "scrolled": true
   },
   "outputs": [
    {
     "data": {
      "text/plain": [
       "NaN    83.360422\n",
       "1.0    12.992296\n",
       "2.0     3.647282\n",
       "Name: UI_RECV, dtype: float64"
      ]
     },
     "execution_count": 112,
     "metadata": {},
     "output_type": "execute_result"
    }
   ],
   "source": [
    "df['UI_RECV'].value_counts(dropna = False,normalize = True)*100"
   ]
  },
  {
   "cell_type": "code",
   "execution_count": 113,
   "metadata": {
    "scrolled": true
   },
   "outputs": [
    {
     "data": {
      "text/plain": [
       "2.0    82.849876\n",
       "1.0    16.820473\n",
       "NaN     0.329651\n",
       "Name: UI_APPLY, dtype: float64"
      ]
     },
     "execution_count": 113,
     "metadata": {},
     "output_type": "execute_result"
    }
   ],
   "source": [
    "df['UI_APPLY'].value_counts(dropna = False,normalize = True) * 100"
   ]
  },
  {
   "cell_type": "markdown",
   "metadata": {},
   "source": [
    "A survey conducted has shown that only half of the potential UI applicants are receiving benefits due to the difficulties such as slow approval and UI's slow payment rate. "
   ]
  },
  {
   "cell_type": "markdown",
   "metadata": {},
   "source": [
    "Since both features are indicators of the usage of Unemployment Insurance(UI), `UI_RECV` can be removed as it has more null values. Missing values in `UI_APPLY` would be dropped as it only accounts for <1%"
   ]
  },
  {
   "cell_type": "code",
   "execution_count": 114,
   "metadata": {
    "scrolled": true
   },
   "outputs": [],
   "source": [
    "# Dropping UI_RECV column\n",
    "df.drop(columns = ['UI_RECV'],inplace = True)\n",
    "\n",
    "# Dropping all null values in UI_APPLY\n",
    "df.dropna(subset = ['UI_APPLY'],inplace = True)"
   ]
  },
  {
   "cell_type": "markdown",
   "metadata": {},
   "source": [
    "**`TSTDY_HRS`**"
   ]
  },
  {
   "cell_type": "code",
   "execution_count": 115,
   "metadata": {
    "scrolled": false
   },
   "outputs": [
    {
     "data": {
      "image/png": "[encoded data removed]",
      "text/plain": [
       "<Figure size 432x288 with 1 Axes>"
      ]
     },
     "metadata": {
      "needs_background": "light"
     },
     "output_type": "display_data"
    }
   ],
   "source": [
    "# Distribution of the number of studying hours\n",
    "sns.violinplot(x = df['TSTDY_HRS'])\n",
    "plt.title('Distribution of studying hours in the last week');"
   ]
  },
  {
   "cell_type": "markdown",
   "metadata": {},
   "source": [
    "The plot shows that the graph is right skewed and there area several small peaks that can be seen. The areas of higher probabilities show that majority of the children spend < 10 hours on studying in the past week. However, this feature would be dropped as it is secondary in influencing the mental health of people."
   ]
  },
  {
   "cell_type": "code",
   "execution_count": 116,
   "metadata": {},
   "outputs": [],
   "source": [
    "df.drop(columns = ['TSTDY_HRS'],inplace = True)"
   ]
  },
  {
   "cell_type": "markdown",
   "metadata": {},
   "source": [
    "**`SCHLHRS`**"
   ]
  },
  {
   "cell_type": "markdown",
   "metadata": {},
   "source": [
    "Since this feature is mainly targetting at children, it would be dropped."
   ]
  },
  {
   "cell_type": "code",
   "execution_count": 117,
   "metadata": {},
   "outputs": [],
   "source": [
    "df.drop(columns = ['SCHLHRS'],inplace = True)"
   ]
  },
  {
   "cell_type": "markdown",
   "metadata": {},
   "source": [
    "#### `HLTHINS`\n",
    "Queries regarding health insurance coverage plans"
   ]
  },
  {
   "cell_type": "code",
   "execution_count": 118,
   "metadata": {
    "scrolled": true
   },
   "outputs": [
    {
     "data": {
      "text/plain": [
       "{'HLTHINS8': 30.282042192712165,\n",
       " 'HLTHINS7': 27.886092402221436,\n",
       " 'HLTHINS6': 27.164398876557687,\n",
       " 'HLTHINS5': 26.881720430107524,\n",
       " 'HLTHINS4': 26.2091093356602,\n",
       " 'HLTHINS2': 24.317617866004962,\n",
       " 'HLTHINS3': 22.886046955525863,\n",
       " 'HLTHINS1': 17.837828011525282}"
      ]
     },
     "execution_count": 118,
     "metadata": {},
     "output_type": "execute_result"
    }
   ],
   "source": [
    "hlthins_dict = {k:v for k,v in sorted_percent_null.items() if k.startswith('HLTHINS')}\n",
    "hlthins_dict"
   ]
  },
  {
   "cell_type": "code",
   "execution_count": 119,
   "metadata": {
    "scrolled": true
   },
   "outputs": [],
   "source": [
    "# Replacing all No responses as 0\n",
    "hlthins_df = df[[k for k in hlthins_dict.keys()]]\n",
    "for i in hlthins_df:\n",
    "    hlthins_df[i] = hlthins_df[i].replace(2.0,0.0)"
   ]
  },
  {
   "cell_type": "code",
   "execution_count": 120,
   "metadata": {},
   "outputs": [
    {
     "data": {
      "text/plain": [
       "HLTHINS8     4342.0\n",
       "HLTHINS7      801.0\n",
       "HLTHINS6     4413.0\n",
       "HLTHINS5     4448.0\n",
       "HLTHINS4     9828.0\n",
       "HLTHINS2    21607.0\n",
       "HLTHINS3    23025.0\n",
       "HLTHINS1    62001.0\n",
       "dtype: float64"
      ]
     },
     "execution_count": 120,
     "metadata": {},
     "output_type": "execute_result"
    }
   ],
   "source": [
    "hlthins_df.sum()"
   ]
  },
  {
   "cell_type": "code",
   "execution_count": 121,
   "metadata": {
    "scrolled": false
   },
   "outputs": [
    {
     "data": {
      "image/png": "[encoded data removed]",
      "text/plain": [
       "<Figure size 864x576 with 1 Axes>"
      ]
     },
     "metadata": {
      "needs_background": "light"
     },
     "output_type": "display_data"
    }
   ],
   "source": [
    "# Plot frequency against health insurance coverage\n",
    "plt.figure(figsize = (12,8))\n",
    "sns.barplot(x = [i for i in hlthins_df.sum().index],y = [i for i in hlthins_df.sum().values])\n",
    "plt.title('Frequency against health insurance coverage')\n",
    "plt.ylabel('Frequency',fontsize = 12)\n",
    "plt.xlabel('Health Insurance Coverage',fontsize = 12);"
   ]
  },
  {
   "cell_type": "markdown",
   "metadata": {},
   "source": [
    "|Features|Labels|\n",
    "|--------|------|\n",
    "|HLTHINS1|Insured by a current/former employer/union|\n",
    "|HLTHINS2|Insured by an insurance company|\n",
    "|HLTHINS3|Medicare, people > 65 and people with disabilities|\n",
    "|HLTHINS4|Government-assistance plan(Medicaid,Medical Assistance)|\n",
    "|HLTHINS5|TRICARE/other military healthcare|\n",
    "|HLTHINS6|VA healthcare|\n",
    "|HLTHINS7|Indian Health Service|\n",
    "|HLTHINS8|Others|"
   ]
  },
  {
   "cell_type": "code",
   "execution_count": 122,
   "metadata": {},
   "outputs": [
    {
     "data": {
      "text/plain": [
       "HLTHINS8    32127\n",
       "HLTHINS7    29509\n",
       "HLTHINS6    28729\n",
       "HLTHINS5    28414\n",
       "HLTHINS4    27680\n",
       "HLTHINS2    25623\n",
       "HLTHINS3    24090\n",
       "HLTHINS1    18550\n",
       "dtype: int64"
      ]
     },
     "execution_count": 122,
     "metadata": {},
     "output_type": "execute_result"
    }
   ],
   "source": [
    "hlthins_df.isnull().sum()"
   ]
  },
  {
   "cell_type": "markdown",
   "metadata": {},
   "source": [
    "Out of those who are insured, majority of them are insured by their current employer. Given that there is a strong correlation of health insurance with employment, the loss of income/career would have a ripple effect on the health insurance coverage of people. Medicare is the next most popular health insurance coverage as it has been the largest payer in the US. Since medical expenses are huge finanical woes for people despite being insured, these features could be important in influencing the mental well-being of people."
   ]
  },
  {
   "cell_type": "markdown",
   "metadata": {},
   "source": [
    "https://www.bmj.com/content/370/bmj.m2606"
   ]
  },
  {
   "cell_type": "markdown",
   "metadata": {},
   "source": [
    "**`PUBHLTH`** and **`PRIVHLTH`**"
   ]
  },
  {
   "cell_type": "code",
   "execution_count": 123,
   "metadata": {
    "scrolled": true
   },
   "outputs": [
    {
     "data": {
      "text/plain": [
       "2    52330\n",
       "1    31907\n",
       "3    24307\n",
       "Name: PUBHLTH, dtype: int64"
      ]
     },
     "execution_count": 123,
     "metadata": {},
     "output_type": "execute_result"
    }
   ],
   "source": [
    "df['PUBHLTH'].value_counts(dropna = False)"
   ]
  },
  {
   "cell_type": "code",
   "execution_count": 124,
   "metadata": {
    "scrolled": true
   },
   "outputs": [
    {
     "data": {
      "text/plain": [
       "1    73229\n",
       "3    19051\n",
       "2    16264\n",
       "Name: PRIVHLTH, dtype: int64"
      ]
     },
     "execution_count": 124,
     "metadata": {},
     "output_type": "execute_result"
    }
   ],
   "source": [
    "df['PRIVHLTH'].value_counts(dropna = False)"
   ]
  },
  {
   "cell_type": "markdown",
   "metadata": {},
   "source": [
    "Since there is a large number of missing values in `HLTHINS` features and `PUBHLTH` and `PRIVHLTH` are sufficient to account for the health insurance coverage status of people, these would be dropped. A new feature `INSURED` would be engineered from `PUBHLTH` and `PRIVHLTH` to distinguish insured from un-insured respondents and a a missing class for the nonresponses"
   ]
  },
  {
   "cell_type": "code",
   "execution_count": 125,
   "metadata": {
    "scrolled": true
   },
   "outputs": [
    {
     "data": {
      "text/plain": [
       "Insured        79.561284\n",
       "Missing        15.072229\n",
       "Not insured     5.366487\n",
       "Name: INSURED, dtype: float64"
      ]
     },
     "execution_count": 125,
     "metadata": {},
     "output_type": "execute_result"
    }
   ],
   "source": [
    "# Engineering a new feature INSURED where 1 = ins\n",
    "df['INSURED'] = df.apply(lambda row: 'Insured' if (row['PUBHLTH'] == 1) | (row['PRIVHLTH'] == 1) else \n",
    "                         ('Missing' if (row['PUBHLTH'] == 3) & (row['PRIVHLTH'] == 3) else 'Not insured')  ,axis = 1)\n",
    "df['INSURED'].value_counts(dropna = False,normalize = True) * 100"
   ]
  },
  {
   "cell_type": "code",
   "execution_count": 126,
   "metadata": {},
   "outputs": [],
   "source": [
    "# Dropping redundant HLTHINS features\n",
    "df.drop(columns = [i for i in hlthins_dict.keys()],inplace = True)"
   ]
  },
  {
   "cell_type": "markdown",
   "metadata": {},
   "source": [
    "#### `UNEMPPAY`\n",
    "Question asking if respondents are paid for time not working"
   ]
  },
  {
   "cell_type": "code",
   "execution_count": 127,
   "metadata": {
    "scrolled": true
   },
   "outputs": [
    {
     "data": {
      "text/plain": [
       "NaN    69741\n",
       "4.0    36021\n",
       "3.0     1149\n",
       "2.0     1116\n",
       "1.0      517\n",
       "Name: UNEMPPAY, dtype: int64"
      ]
     },
     "execution_count": 127,
     "metadata": {},
     "output_type": "execute_result"
    }
   ],
   "source": [
    "df['UNEMPPAY'].value_counts(dropna = False)"
   ]
  },
  {
   "cell_type": "code",
   "execution_count": 128,
   "metadata": {
    "scrolled": true
   },
   "outputs": [
    {
     "data": {
      "text/html": [
       "<div>\n",
       "<style scoped>\n",
       "    .dataframe tbody tr th:only-of-type {\n",
       "        vertical-align: middle;\n",
       "    }\n",
       "\n",
       "    .dataframe tbody tr th {\n",
       "        vertical-align: top;\n",
       "    }\n",
       "\n",
       "    .dataframe thead th {\n",
       "        text-align: right;\n",
       "    }\n",
       "</style>\n",
       "<table border=\"1\" class=\"dataframe\">\n",
       "  <thead>\n",
       "    <tr style=\"text-align: right;\">\n",
       "      <th></th>\n",
       "      <th>Responses(values)</th>\n",
       "      <th>Responses(actual)</th>\n",
       "      <th>Number</th>\n",
       "      <th>Percentage</th>\n",
       "    </tr>\n",
       "  </thead>\n",
       "  <tbody>\n",
       "    <tr>\n",
       "      <th>0</th>\n",
       "      <td>1.0</td>\n",
       "      <td>Fully pay with paid leave</td>\n",
       "      <td>517</td>\n",
       "      <td>0.48</td>\n",
       "    </tr>\n",
       "    <tr>\n",
       "      <th>1</th>\n",
       "      <td>2.0</td>\n",
       "      <td>Full-pay without taking paid leave</td>\n",
       "      <td>1116</td>\n",
       "      <td>1.03</td>\n",
       "    </tr>\n",
       "    <tr>\n",
       "      <th>2</th>\n",
       "      <td>3.0</td>\n",
       "      <td>Partial pay</td>\n",
       "      <td>1149</td>\n",
       "      <td>1.06</td>\n",
       "    </tr>\n",
       "    <tr>\n",
       "      <th>3</th>\n",
       "      <td>4.0</td>\n",
       "      <td>No pay</td>\n",
       "      <td>36021</td>\n",
       "      <td>33.19</td>\n",
       "    </tr>\n",
       "    <tr>\n",
       "      <th>4</th>\n",
       "      <td>NaN</td>\n",
       "      <td>Missing</td>\n",
       "      <td>69741</td>\n",
       "      <td>64.25</td>\n",
       "    </tr>\n",
       "  </tbody>\n",
       "</table>\n",
       "</div>"
      ],
      "text/plain": [
       "   Responses(values)                   Responses(actual)  Number  Percentage\n",
       "0                1.0           Fully pay with paid leave     517        0.48\n",
       "1                2.0  Full-pay without taking paid leave    1116        1.03\n",
       "2                3.0                         Partial pay    1149        1.06\n",
       "3                4.0                              No pay   36021       33.19\n",
       "4                NaN                             Missing   69741       64.25"
      ]
     },
     "execution_count": 128,
     "metadata": {},
     "output_type": "execute_result"
    }
   ],
   "source": [
    "unemppay_df = pd.DataFrame({\n",
    "    'Responses(values)':[i for i in df['UNEMPPAY'].value_counts(dropna = False).sort_index().index],\n",
    "    'Responses(actual)':['Fully pay with paid leave','Full-pay without taking paid leave','Partial pay','No pay','Missing'],\n",
    "    'Number':[i for i in df['UNEMPPAY'].value_counts(dropna = False).sort_index().values],\n",
    "    'Percentage':[round(i*100,2) for i in df['UNEMPPAY'].value_counts(dropna = False,normalize = True).sort_index().values]\n",
    "})\n",
    "unemppay_df"
   ]
  },
  {
   "cell_type": "code",
   "execution_count": 129,
   "metadata": {
    "scrolled": false
   },
   "outputs": [
    {
     "data": {
      "image/png": "[encoded data removed]",
      "text/plain": [
       "<Figure size 864x576 with 1 Axes>"
      ]
     },
     "metadata": {
      "needs_background": "light"
     },
     "output_type": "display_data"
    }
   ],
   "source": [
    "# Plot frequency against unemployment pay status\n",
    "plt.figure(figsize = (12,8))\n",
    "sns.barplot(x = unemppay_df['Responses(actual)'],y = unemppay_df['Number'],palette = 'Set2')\n",
    "plt.title('Unemployment pay status')\n",
    "plt.ylabel('Frequency',fontsize = 12)\n",
    "plt.xlabel('Response',fontsize = 12)\n",
    "plt.xticks(rotation = 45);"
   ]
  },
  {
   "cell_type": "markdown",
   "metadata": {},
   "source": [
    "Since there is a large number of missing data and most of them are unpaid, this feature can be dropped and the change in employment status as a result of COVID can be accounted for by `ANYWORK`"
   ]
  },
  {
   "cell_type": "code",
   "execution_count": 130,
   "metadata": {},
   "outputs": [],
   "source": [
    "# Dropping UNEMPPAY feature\n",
    "df.drop(columns = ['UNEMPPAY'],inplace = True)"
   ]
  },
  {
   "cell_type": "markdown",
   "metadata": {},
   "source": [
    "#### `ANYWORK`\n",
    "Question which asks for the employment status of people in the last 7 days."
   ]
  },
  {
   "cell_type": "code",
   "execution_count": 131,
   "metadata": {
    "scrolled": false
   },
   "outputs": [
    {
     "data": {
      "text/plain": [
       "1.0    67707\n",
       "2.0    40720\n",
       "NaN      117\n",
       "Name: ANYWORK, dtype: int64"
      ]
     },
     "execution_count": 131,
     "metadata": {},
     "output_type": "execute_result"
    }
   ],
   "source": [
    "df['ANYWORK'].value_counts(dropna = False)"
   ]
  },
  {
   "cell_type": "code",
   "execution_count": 132,
   "metadata": {
    "scrolled": false
   },
   "outputs": [
    {
     "data": {
      "text/html": [
       "<div>\n",
       "<style scoped>\n",
       "    .dataframe tbody tr th:only-of-type {\n",
       "        vertical-align: middle;\n",
       "    }\n",
       "\n",
       "    .dataframe tbody tr th {\n",
       "        vertical-align: top;\n",
       "    }\n",
       "\n",
       "    .dataframe thead th {\n",
       "        text-align: right;\n",
       "    }\n",
       "</style>\n",
       "<table border=\"1\" class=\"dataframe\">\n",
       "  <thead>\n",
       "    <tr style=\"text-align: right;\">\n",
       "      <th></th>\n",
       "      <th>Responses(values)</th>\n",
       "      <th>Responses(actual)</th>\n",
       "      <th>Number</th>\n",
       "      <th>Percentage</th>\n",
       "    </tr>\n",
       "  </thead>\n",
       "  <tbody>\n",
       "    <tr>\n",
       "      <th>0</th>\n",
       "      <td>1.0</td>\n",
       "      <td>Working</td>\n",
       "      <td>67707</td>\n",
       "      <td>62.38</td>\n",
       "    </tr>\n",
       "    <tr>\n",
       "      <th>1</th>\n",
       "      <td>2.0</td>\n",
       "      <td>Not working</td>\n",
       "      <td>40720</td>\n",
       "      <td>37.51</td>\n",
       "    </tr>\n",
       "    <tr>\n",
       "      <th>2</th>\n",
       "      <td>NaN</td>\n",
       "      <td>Missing</td>\n",
       "      <td>117</td>\n",
       "      <td>0.11</td>\n",
       "    </tr>\n",
       "  </tbody>\n",
       "</table>\n",
       "</div>"
      ],
      "text/plain": [
       "   Responses(values) Responses(actual)  Number  Percentage\n",
       "0                1.0           Working   67707       62.38\n",
       "1                2.0       Not working   40720       37.51\n",
       "2                NaN           Missing     117        0.11"
      ]
     },
     "execution_count": 132,
     "metadata": {},
     "output_type": "execute_result"
    }
   ],
   "source": [
    "anywork_df = pd.DataFrame({\n",
    "    'Responses(values)':[i for i in df['ANYWORK'].value_counts(dropna = False).sort_index().index],\n",
    "    'Responses(actual)':['Working','Not working','Missing'],\n",
    "    'Number':[i for i in df['ANYWORK'].value_counts(dropna = False).sort_index().values],\n",
    "    'Percentage':[round(i*100,2) for i in df['ANYWORK'].value_counts(dropna = False,normalize = True).sort_index().values]\n",
    "})\n",
    "anywork_df"
   ]
  },
  {
   "cell_type": "code",
   "execution_count": 133,
   "metadata": {},
   "outputs": [
    {
     "data": {
      "image/png": "[encoded data removed]",
      "text/plain": [
       "<Figure size 864x576 with 1 Axes>"
      ]
     },
     "metadata": {
      "needs_background": "light"
     },
     "output_type": "display_data"
    }
   ],
   "source": [
    "# plot Frequency against employment status\n",
    "plt.figure(figsize = (12,8))\n",
    "sns.barplot(x = anywork_df['Responses(actual)'], y = anywork_df['Number'], palette = 'coolwarm_r')\n",
    "plt.title('Employment status')\n",
    "plt.xlabel('Status', fontsize = 12)\n",
    "plt.ylabel('Frequency', fontsize = 12 );"
   ]
  },
  {
   "cell_type": "markdown",
   "metadata": {},
   "source": [
    "Close to 40% of the respondents are no longer employed. Missing values in `ANYWORK` would also be dropped since they only account for a small percentage of responses."
   ]
  },
  {
   "cell_type": "code",
   "execution_count": 134,
   "metadata": {},
   "outputs": [],
   "source": [
    "# Dropping null values in ANYWORK\n",
    "df.dropna(subset = ['ANYWORK'],inplace = True)"
   ]
  },
  {
   "cell_type": "markdown",
   "metadata": {},
   "source": [
    "#### `RSNNOWRK`"
   ]
  },
  {
   "cell_type": "code",
   "execution_count": 135,
   "metadata": {
    "scrolled": false
   },
   "outputs": [
    {
     "data": {
      "text/plain": [
       "NaN     62.835825\n",
       "7.0     17.306575\n",
       "12.0     5.194278\n",
       "9.0      2.519668\n",
       "8.0      2.337979\n",
       "4.0      2.247595\n",
       "6.0      1.910963\n",
       "1.0      1.451668\n",
       "10.0     1.368663\n",
       "13.0     1.310559\n",
       "5.0      0.537689\n",
       "2.0      0.431627\n",
       "11.0     0.423326\n",
       "3.0      0.123585\n",
       "Name: RSNNOWRK, dtype: float64"
      ]
     },
     "execution_count": 135,
     "metadata": {},
     "output_type": "execute_result"
    }
   ],
   "source": [
    "df['RSNNOWRK'].value_counts(dropna = False,normalize = True) * 100"
   ]
  },
  {
   "cell_type": "code",
   "execution_count": 136,
   "metadata": {
    "scrolled": false
   },
   "outputs": [
    {
     "data": {
      "image/png": "[encoded data removed]",
      "text/plain": [
       "<Figure size 864x576 with 1 Axes>"
      ]
     },
     "metadata": {
      "needs_background": "light"
     },
     "output_type": "display_data"
    }
   ],
   "source": [
    "# Plot frequency against reasons for unemployment\n",
    "plt.figure(figsize = (12,8))\n",
    "sns.barplot(x = df['RSNNOWRK'].value_counts().sort_index().index, y = df['RSNNOWRK'].value_counts().sort_index().values)\n",
    "plt.title('Reasons for unemployment')\n",
    "plt.xlabel('Reasons',fontsize = 12)\n",
    "plt.ylabel('Frequency',fontsize = 12);"
   ]
  },
  {
   "cell_type": "markdown",
   "metadata": {},
   "source": [
    "|Options|Labels|\n",
    "|--------|------|\n",
    "|1|I did not want to be employed at this time|\n",
    "|2|I am/was sick with coronavirus symptoms|\n",
    "|3|I am/was caring for someone with coronavirus symptoms|\n",
    "|4|I am/was caring for children not in school/daycare|\n",
    "|5|I am/was caring for an elderly person|\n",
    "|6|I am/was sick(not coronavirus related) or disabled|\n",
    "|7|I am retired|\n",
    "|8|My employer experienced a reduction in business|\n",
    "|9|I am/was laid off due to coronavirus pandemic|\n",
    "|10|My employer closed temporarily due to coronavirus pandemic|\n",
    "|11|My employer went out of business due to coronavirus pandemic|\n",
    "|12|Others|\n",
    "|13|I was concerned about getting/spreading the coronavirus|"
   ]
  },
  {
   "cell_type": "markdown",
   "metadata": {},
   "source": [
    "Majority of the respondents have who stopped working have retired and therefore are not working. However, given the large number of missing data as this is associated with `ANYWORK`, this can be dropped. "
   ]
  },
  {
   "cell_type": "code",
   "execution_count": 137,
   "metadata": {},
   "outputs": [],
   "source": [
    "# Dropping RSNNOWRK feature\n",
    "df.drop(columns = ['RSNNOWRK'],inplace = True)"
   ]
  },
  {
   "cell_type": "markdown",
   "metadata": {},
   "source": [
    "#### `KINDWORK`"
   ]
  },
  {
   "cell_type": "code",
   "execution_count": 138,
   "metadata": {
    "scrolled": true
   },
   "outputs": [
    {
     "data": {
      "text/plain": [
       "66642"
      ]
     },
     "execution_count": 138,
     "metadata": {},
     "output_type": "execute_result"
    }
   ],
   "source": [
    "df['KINDWORK'].value_counts().sum()"
   ]
  },
  {
   "cell_type": "code",
   "execution_count": 139,
   "metadata": {
    "scrolled": true
   },
   "outputs": [
    {
     "data": {
      "text/html": [
       "<div>\n",
       "<style scoped>\n",
       "    .dataframe tbody tr th:only-of-type {\n",
       "        vertical-align: middle;\n",
       "    }\n",
       "\n",
       "    .dataframe tbody tr th {\n",
       "        vertical-align: top;\n",
       "    }\n",
       "\n",
       "    .dataframe thead th {\n",
       "        text-align: right;\n",
       "    }\n",
       "</style>\n",
       "<table border=\"1\" class=\"dataframe\">\n",
       "  <thead>\n",
       "    <tr style=\"text-align: right;\">\n",
       "      <th></th>\n",
       "      <th>Responses(values)</th>\n",
       "      <th>Responses(actual)</th>\n",
       "      <th>Number</th>\n",
       "      <th>Percentage</th>\n",
       "    </tr>\n",
       "  </thead>\n",
       "  <tbody>\n",
       "    <tr>\n",
       "      <th>0</th>\n",
       "      <td>12174</td>\n",
       "      <td>Government</td>\n",
       "      <td>12174</td>\n",
       "      <td>11.23</td>\n",
       "    </tr>\n",
       "    <tr>\n",
       "      <th>1</th>\n",
       "      <td>36811</td>\n",
       "      <td>Private Company</td>\n",
       "      <td>36811</td>\n",
       "      <td>33.95</td>\n",
       "    </tr>\n",
       "    <tr>\n",
       "      <th>2</th>\n",
       "      <td>8267</td>\n",
       "      <td>NPO</td>\n",
       "      <td>8267</td>\n",
       "      <td>7.62</td>\n",
       "    </tr>\n",
       "    <tr>\n",
       "      <th>3</th>\n",
       "      <td>7949</td>\n",
       "      <td>Self-employed</td>\n",
       "      <td>7949</td>\n",
       "      <td>7.33</td>\n",
       "    </tr>\n",
       "    <tr>\n",
       "      <th>4</th>\n",
       "      <td>1441</td>\n",
       "      <td>Family Business</td>\n",
       "      <td>1441</td>\n",
       "      <td>1.33</td>\n",
       "    </tr>\n",
       "    <tr>\n",
       "      <th>5</th>\n",
       "      <td>41785</td>\n",
       "      <td>Missing</td>\n",
       "      <td>41785</td>\n",
       "      <td>38.54</td>\n",
       "    </tr>\n",
       "  </tbody>\n",
       "</table>\n",
       "</div>"
      ],
      "text/plain": [
       "   Responses(values) Responses(actual)  Number  Percentage\n",
       "0              12174        Government   12174       11.23\n",
       "1              36811   Private Company   36811       33.95\n",
       "2               8267               NPO    8267        7.62\n",
       "3               7949     Self-employed    7949        7.33\n",
       "4               1441   Family Business    1441        1.33\n",
       "5              41785           Missing   41785       38.54"
      ]
     },
     "execution_count": 139,
     "metadata": {},
     "output_type": "execute_result"
    }
   ],
   "source": [
    "kindwork_df = pd.DataFrame({\n",
    "    'Responses(values)':[i for i in df['KINDWORK'].value_counts(dropna = False).sort_index().values],\n",
    "    'Responses(actual)':['Government','Private Company','NPO','Self-employed','Family Business','Missing'],\n",
    "    'Number':[i for i in df['KINDWORK'].value_counts(dropna= False).sort_index().values],\n",
    "    'Percentage':[round(i*100,2) for i in df['KINDWORK'].value_counts(dropna = False,normalize = True).sort_index().values]\n",
    "})\n",
    "kindwork_df"
   ]
  },
  {
   "cell_type": "markdown",
   "metadata": {},
   "source": [
    "Since there is a large number of missing values which overlap in the **Not working** class in `ANYWORK`, this feature would be dropped to reduce correlation between columns when modeling our data"
   ]
  },
  {
   "cell_type": "code",
   "execution_count": 140,
   "metadata": {},
   "outputs": [],
   "source": [
    "# Dropping KINDWORK feature\n",
    "df.drop(columns = ['KINDWORK'],inplace = True)"
   ]
  },
  {
   "cell_type": "markdown",
   "metadata": {},
   "source": [
    "#### `TUI_NUMPER`"
   ]
  },
  {
   "cell_type": "code",
   "execution_count": 141,
   "metadata": {
    "scrolled": true
   },
   "outputs": [
    {
     "data": {
      "text/plain": [
       "0.0    61388\n",
       "NaN    27455\n",
       "1.0    15322\n",
       "2.0     4262\n",
       "Name: TUI_NUMPER, dtype: int64"
      ]
     },
     "execution_count": 141,
     "metadata": {},
     "output_type": "execute_result"
    }
   ],
   "source": [
    "df['TUI_NUMPER'].value_counts(dropna = False)"
   ]
  },
  {
   "cell_type": "markdown",
   "metadata": {},
   "source": [
    "Since this overlaps with `UI_APPLY` as they both measure the number of UI applications, this would be dropped."
   ]
  },
  {
   "cell_type": "code",
   "execution_count": 142,
   "metadata": {},
   "outputs": [],
   "source": [
    "df.drop(columns = ['TUI_NUMPER'],inplace = True)"
   ]
  },
  {
   "cell_type": "markdown",
   "metadata": {},
   "source": [
    "#### `INCOME`"
   ]
  },
  {
   "cell_type": "code",
   "execution_count": 143,
   "metadata": {},
   "outputs": [
    {
     "data": {
      "text/html": [
       "<div>\n",
       "<style scoped>\n",
       "    .dataframe tbody tr th:only-of-type {\n",
       "        vertical-align: middle;\n",
       "    }\n",
       "\n",
       "    .dataframe tbody tr th {\n",
       "        vertical-align: top;\n",
       "    }\n",
       "\n",
       "    .dataframe thead th {\n",
       "        text-align: right;\n",
       "    }\n",
       "</style>\n",
       "<table border=\"1\" class=\"dataframe\">\n",
       "  <thead>\n",
       "    <tr style=\"text-align: right;\">\n",
       "      <th></th>\n",
       "      <th>Responses(values)</th>\n",
       "      <th>Responses(actual)</th>\n",
       "      <th>Number</th>\n",
       "      <th>Percentage</th>\n",
       "    </tr>\n",
       "  </thead>\n",
       "  <tbody>\n",
       "    <tr>\n",
       "      <th>0</th>\n",
       "      <td>1.0</td>\n",
       "      <td>&lt; $25,000</td>\n",
       "      <td>8597</td>\n",
       "      <td>859700</td>\n",
       "    </tr>\n",
       "    <tr>\n",
       "      <th>1</th>\n",
       "      <td>2.0</td>\n",
       "      <td>$25,000 - $34,999</td>\n",
       "      <td>7191</td>\n",
       "      <td>719100</td>\n",
       "    </tr>\n",
       "    <tr>\n",
       "      <th>2</th>\n",
       "      <td>3.0</td>\n",
       "      <td>$35,000 - $49,999</td>\n",
       "      <td>9282</td>\n",
       "      <td>928200</td>\n",
       "    </tr>\n",
       "    <tr>\n",
       "      <th>3</th>\n",
       "      <td>4.0</td>\n",
       "      <td>$50,000 - $74,999</td>\n",
       "      <td>14933</td>\n",
       "      <td>1493300</td>\n",
       "    </tr>\n",
       "    <tr>\n",
       "      <th>4</th>\n",
       "      <td>5.0</td>\n",
       "      <td>$75,000 - $99,999</td>\n",
       "      <td>12800</td>\n",
       "      <td>1280000</td>\n",
       "    </tr>\n",
       "    <tr>\n",
       "      <th>5</th>\n",
       "      <td>6.0</td>\n",
       "      <td>$100,000 - $149,999</td>\n",
       "      <td>15882</td>\n",
       "      <td>1588200</td>\n",
       "    </tr>\n",
       "    <tr>\n",
       "      <th>6</th>\n",
       "      <td>7.0</td>\n",
       "      <td>$150,000 - $199,999</td>\n",
       "      <td>7845</td>\n",
       "      <td>784500</td>\n",
       "    </tr>\n",
       "    <tr>\n",
       "      <th>7</th>\n",
       "      <td>8.0</td>\n",
       "      <td>&gt; $200,000</td>\n",
       "      <td>9193</td>\n",
       "      <td>919300</td>\n",
       "    </tr>\n",
       "    <tr>\n",
       "      <th>8</th>\n",
       "      <td>NaN</td>\n",
       "      <td>Missing</td>\n",
       "      <td>22704</td>\n",
       "      <td>2270400</td>\n",
       "    </tr>\n",
       "  </tbody>\n",
       "</table>\n",
       "</div>"
      ],
      "text/plain": [
       "   Responses(values)    Responses(actual)  Number  Percentage\n",
       "0                1.0            < $25,000    8597      859700\n",
       "1                2.0    $25,000 - $34,999    7191      719100\n",
       "2                3.0    $35,000 - $49,999    9282      928200\n",
       "3                4.0    $50,000 - $74,999   14933     1493300\n",
       "4                5.0    $75,000 - $99,999   12800     1280000\n",
       "5                6.0  $100,000 - $149,999   15882     1588200\n",
       "6                7.0  $150,000 - $199,999    7845      784500\n",
       "7                8.0           > $200,000    9193      919300\n",
       "8                NaN              Missing   22704     2270400"
      ]
     },
     "execution_count": 143,
     "metadata": {},
     "output_type": "execute_result"
    }
   ],
   "source": [
    "income_df = pd.DataFrame({\n",
    "    'Responses(values)':[i for i in df['INCOME'].value_counts(dropna = False).sort_index().index],\n",
    "    'Responses(actual)':['< $25,000','$25,000 - $34,999','$35,000 - $49,999','$50,000 - $74,999','$75,000 - $99,999','$100,000 - $149,999','$150,000 - $199,999','> $200,000','Missing'],\n",
    "    'Number':[i for i in df['INCOME'].value_counts(dropna = False).sort_index().values],\n",
    "    'Percentage':[round(i*100,2) for i in df['INCOME'].value_counts(dropna = False).sort_index().values]\n",
    "                \n",
    "})\n",
    "income_df"
   ]
  },
  {
   "cell_type": "code",
   "execution_count": 144,
   "metadata": {
    "scrolled": false
   },
   "outputs": [
    {
     "data": {
      "image/png": "[encoded data removed]",
      "text/plain": [
       "<Figure size 864x576 with 1 Axes>"
      ]
     },
     "metadata": {
      "needs_background": "light"
     },
     "output_type": "display_data"
    }
   ],
   "source": [
    "# plot frequency against total household incomes \n",
    "plt.figure(figsize = (12,8))\n",
    "sns.barplot(x = income_df['Responses(actual)'], y = income_df['Number'])\n",
    "plt.title('Distribution of total household incomes')\n",
    "plt.ylabel('Frequency',fontsize = 13)\n",
    "plt.xlabel('Total Household Income($)',fontsize = 13)\n",
    "plt.xticks(rotation = 45);"
   ]
  },
  {
   "cell_type": "markdown",
   "metadata": {},
   "source": [
    "Since the median household income was $68,703 in 2019, the missing values would be grouped under the 50,000 - 74,999 category instead."
   ]
  },
  {
   "cell_type": "code",
   "execution_count": 145,
   "metadata": {
    "scrolled": true
   },
   "outputs": [],
   "source": [
    "# Replacing missing values with 4.0\n",
    "df['INCOME'].fillna(4.0,inplace = True)"
   ]
  },
  {
   "cell_type": "markdown",
   "metadata": {},
   "source": [
    "#### `TBEDROOMS`"
   ]
  },
  {
   "cell_type": "code",
   "execution_count": 146,
   "metadata": {},
   "outputs": [
    {
     "data": {
      "text/plain": [
       "3.0    32.462394\n",
       "4.0    19.161279\n",
       "NaN    18.531362\n",
       "2.0    16.592731\n",
       "1.0     6.393242\n",
       "5.0     5.145397\n",
       "6.0     1.243233\n",
       "0.0     0.470363\n",
       "Name: TBEDROOMS, dtype: float64"
      ]
     },
     "execution_count": 146,
     "metadata": {},
     "output_type": "execute_result"
    }
   ],
   "source": [
    "df['TBEDROOMS'].value_counts(dropna = False,normalize = True) * 100"
   ]
  },
  {
   "cell_type": "markdown",
   "metadata": {},
   "source": [
    "Since the number of bedrooms are secondary and unlikely in influencing the health of people, this feature can be dropped."
   ]
  },
  {
   "cell_type": "markdown",
   "metadata": {},
   "source": [
    "#### `LIVQTR`"
   ]
  },
  {
   "cell_type": "code",
   "execution_count": 147,
   "metadata": {
    "scrolled": true
   },
   "outputs": [
    {
     "data": {
      "text/plain": [
       "2.0     57.844448\n",
       "NaN     16.731073\n",
       "3.0      6.611822\n",
       "9.0      3.967646\n",
       "5.0      2.774217\n",
       "1.0      2.681989\n",
       "6.0      2.594372\n",
       "7.0      2.361958\n",
       "8.0      2.094497\n",
       "4.0      1.971834\n",
       "10.0     0.366145\n",
       "Name: LIVQTR, dtype: float64"
      ]
     },
     "execution_count": 147,
     "metadata": {},
     "output_type": "execute_result"
    }
   ],
   "source": [
    "df['LIVQTR'].value_counts(dropna = False,normalize = True) * 100"
   ]
  },
  {
   "cell_type": "markdown",
   "metadata": {},
   "source": [
    "Since this feature is not immediately helpful to predicting the mental health states of people and other features are able to provide more information on the housing status of people, this can be dropped."
   ]
  },
  {
   "cell_type": "code",
   "execution_count": 148,
   "metadata": {},
   "outputs": [],
   "source": [
    "df.drop(columns = ['LIVQTR','TBEDROOMS'],inplace = True)"
   ]
  },
  {
   "cell_type": "markdown",
   "metadata": {},
   "source": [
    "#### `TSPNDPRPD`"
   ]
  },
  {
   "cell_type": "code",
   "execution_count": 149,
   "metadata": {
    "scrolled": true
   },
   "outputs": [
    {
     "data": {
      "text/plain": [
       "<matplotlib.axes._subplots.AxesSubplot at 0x292085c7700>"
      ]
     },
     "execution_count": 149,
     "metadata": {},
     "output_type": "execute_result"
    },
    {
     "data": {
      "image/png": "[encoded data removed]",
      "text/plain": [
       "<Figure size 432x288 with 1 Axes>"
      ]
     },
     "metadata": {
      "needs_background": "light"
     },
     "output_type": "display_data"
    }
   ],
   "source": [
    "# Distribution of food expenditure over the last week\n",
    "sns.violinplot(df['TSPNDPRPD'])"
   ]
  },
  {
   "cell_type": "code",
   "execution_count": 150,
   "metadata": {},
   "outputs": [
    {
     "data": {
      "text/plain": [
       "77.52343249630071"
      ]
     },
     "execution_count": 150,
     "metadata": {},
     "output_type": "execute_result"
    }
   ],
   "source": [
    "df['TSPNDPRPD'].mean()"
   ]
  },
  {
   "cell_type": "markdown",
   "metadata": {},
   "source": [
    "#### `TSPNDFOOD`"
   ]
  },
  {
   "cell_type": "code",
   "execution_count": 151,
   "metadata": {
    "scrolled": false
   },
   "outputs": [
    {
     "data": {
      "text/plain": [
       "<matplotlib.axes._subplots.AxesSubplot at 0x29208fa9bb0>"
      ]
     },
     "execution_count": 151,
     "metadata": {},
     "output_type": "execute_result"
    },
    {
     "data": {
      "image/png": "[encoded data removed]",
      "text/plain": [
       "<Figure size 432x288 with 1 Axes>"
      ]
     },
     "metadata": {
      "needs_background": "light"
     },
     "output_type": "display_data"
    }
   ],
   "source": [
    "sns.violinplot(df['TSPNDFOOD'])"
   ]
  },
  {
   "cell_type": "code",
   "execution_count": 152,
   "metadata": {},
   "outputs": [
    {
     "name": "stdout",
     "output_type": "stream",
     "text": [
      "Median weekly household food expenditure: 160.0\n",
      "Mean weekly household food expenditure: 198.6871680056192\n"
     ]
    }
   ],
   "source": [
    "print(f'Median weekly household food expenditure: {df.TSPNDFOOD.median()}')\n",
    "print(f'Mean weekly household food expenditure: {df.TSPNDFOOD.mean()}')"
   ]
  },
  {
   "cell_type": "markdown",
   "metadata": {},
   "source": [
    "Both graphs are multimodal graphs where there are clusters of people with different weekly household food expenditure. This could be indicative of different communities or states that are more/less affluent. Since `TSPNDPRPD` is a subset of `TSPNDFOOD` and has more missing values, this feature would be dropped. The missing values in `TSPNDFOOD` would be imputed with the median values since the data is positively skewed."
   ]
  },
  {
   "cell_type": "code",
   "execution_count": 153,
   "metadata": {
    "scrolled": true
   },
   "outputs": [],
   "source": [
    "# Dropping TSPNDPRPF feature\n",
    "df.drop(columns = ['TSPNDPRPD'],inplace = True)"
   ]
  },
  {
   "cell_type": "code",
   "execution_count": 154,
   "metadata": {},
   "outputs": [],
   "source": [
    "# Imputing missing values with median food expenditure\n",
    "df['TSPNDFOOD'].fillna(df.TSPNDFOOD.median(),inplace = True)"
   ]
  },
  {
   "cell_type": "markdown",
   "metadata": {},
   "source": [
    "#### `MH_SVCS`"
   ]
  },
  {
   "cell_type": "code",
   "execution_count": 155,
   "metadata": {
    "scrolled": false
   },
   "outputs": [
    {
     "data": {
      "text/plain": [
       "2.0    75.861178\n",
       "NaN    15.463860\n",
       "1.0     8.674961\n",
       "Name: MH_SVCS, dtype: float64"
      ]
     },
     "execution_count": 155,
     "metadata": {},
     "output_type": "execute_result"
    }
   ],
   "source": [
    "df['MH_SVCS'].value_counts(dropna = False,normalize = True) * 100"
   ]
  },
  {
   "cell_type": "markdown",
   "metadata": {},
   "source": [
    "The large percentage of null values would be replaced as a new class under the **Missing** class to prevent loss of information. The other 2 classes would be renamed for ease of reference."
   ]
  },
  {
   "cell_type": "code",
   "execution_count": 156,
   "metadata": {},
   "outputs": [],
   "source": [
    "# Imputing null values as Missing\n",
    "df['MH_SVCS'] = df['MH_SVCS'].fillna('Missing')\n",
    "# Renaming the other 2 classes\n",
    "df['MH_SVCS'] = df['MH_SVCS'].replace(1,'Yes')\n",
    "df['MH_SVCS'] = df['MH_SVCS'].replace(2,'No')"
   ]
  },
  {
   "cell_type": "markdown",
   "metadata": {},
   "source": [
    "**`PRESCRIPT`**"
   ]
  },
  {
   "cell_type": "code",
   "execution_count": 157,
   "metadata": {
    "scrolled": false
   },
   "outputs": [
    {
     "data": {
      "text/plain": [
       "2.0    72163\n",
       "1.0    19491\n",
       "NaN    16773\n",
       "Name: PRESCRIPT, dtype: int64"
      ]
     },
     "execution_count": 157,
     "metadata": {},
     "output_type": "execute_result"
    }
   ],
   "source": [
    "df['PRESCRIPT'].value_counts(dropna = False)"
   ]
  },
  {
   "cell_type": "markdown",
   "metadata": {},
   "source": [
    "Since there is alot of rows with missing values, they would be imputed as a new **Missing** class. The other 2 classes would be renamed for an easier reference."
   ]
  },
  {
   "cell_type": "code",
   "execution_count": 158,
   "metadata": {},
   "outputs": [],
   "source": [
    "# Imputing null values as Missing\n",
    "df['PRESCRIPT'] = df['PRESCRIPT'].fillna('Missing')\n",
    "# Renaming the other 2 classes\n",
    "df['PRESCRIPT'] = df['PRESCRIPT'].replace(1,'Yes')\n",
    "df['PRESCRIPT'] = df['PRESCRIPT'].replace(2,'No')"
   ]
  },
  {
   "cell_type": "markdown",
   "metadata": {},
   "source": [
    "**`NOTGET`** and **`DELAY`**"
   ]
  },
  {
   "cell_type": "code",
   "execution_count": 159,
   "metadata": {
    "scrolled": true
   },
   "outputs": [
    {
     "data": {
      "text/plain": [
       "2.0    69144\n",
       "1.0    22591\n",
       "NaN    16692\n",
       "Name: NOTGET, dtype: int64"
      ]
     },
     "execution_count": 159,
     "metadata": {},
     "output_type": "execute_result"
    }
   ],
   "source": [
    "df['NOTGET'].value_counts(dropna = False)"
   ]
  },
  {
   "cell_type": "code",
   "execution_count": 160,
   "metadata": {},
   "outputs": [
    {
     "data": {
      "text/plain": [
       "2.0    59535\n",
       "1.0    32202\n",
       "NaN    16690\n",
       "Name: DELAY, dtype: int64"
      ]
     },
     "execution_count": 160,
     "metadata": {},
     "output_type": "execute_result"
    }
   ],
   "source": [
    "df['DELAY'].value_counts(dropna = False)"
   ]
  },
  {
   "cell_type": "markdown",
   "metadata": {},
   "source": [
    "Both features are indicators of the hindrance to getting medical aid because of the pandemic and since there are already dire consequences with getting delayed healthcare, `DELAY` is a sufficient measurement and so `NOTGET` would be dropped. Given that there is a large number of missing values, they would be imputed under a **Missing** class instead. "
   ]
  },
  {
   "cell_type": "code",
   "execution_count": 161,
   "metadata": {
    "scrolled": true
   },
   "outputs": [],
   "source": [
    "# Dropping NOTGET feature\n",
    "df.drop(columns = ['NOTGET'],inplace = True)\n",
    "# Imputing null values as missing in DELAY and renaming the other classes\n",
    "df['DELAY'] = df['DELAY'].fillna('Missing')\n",
    "df['DELAY'] = df['DELAY'].replace(1,'Yes')\n",
    "df['DELAY'] = df['DELAY'].replace(2,'No')"
   ]
  },
  {
   "cell_type": "markdown",
   "metadata": {},
   "source": [
    "#### `INTEREST` and `DOWN`"
   ]
  },
  {
   "cell_type": "code",
   "execution_count": 162,
   "metadata": {
    "scrolled": true
   },
   "outputs": [
    {
     "data": {
      "text/plain": [
       "1.0    47451\n",
       "2.0    28400\n",
       "NaN    15026\n",
       "3.0     9799\n",
       "4.0     7751\n",
       "Name: INTEREST, dtype: int64"
      ]
     },
     "execution_count": 162,
     "metadata": {},
     "output_type": "execute_result"
    }
   ],
   "source": [
    "df['INTEREST'].value_counts(dropna = False)"
   ]
  },
  {
   "cell_type": "code",
   "execution_count": 163,
   "metadata": {
    "scrolled": true
   },
   "outputs": [
    {
     "data": {
      "text/plain": [
       "1.0    48093\n",
       "2.0    29030\n",
       "NaN    14982\n",
       "3.0     8325\n",
       "4.0     7997\n",
       "Name: DOWN, dtype: int64"
      ]
     },
     "execution_count": 163,
     "metadata": {},
     "output_type": "execute_result"
    }
   ],
   "source": [
    "df['DOWN'].value_counts(dropna = False)"
   ]
  },
  {
   "cell_type": "markdown",
   "metadata": {},
   "source": [
    "Since `INTEREST` and `DOWN` seem to have the same number of respondents for each class, `DOWN` would be kept since it has fewer missing values. Moreover, both of the measurements are signs of depression and therefore should be in parallel of one another. The other classes in `DOWN` would be renamed for easier reference(one-hot encoding) during data modeling."
   ]
  },
  {
   "cell_type": "code",
   "execution_count": 164,
   "metadata": {},
   "outputs": [],
   "source": [
    "# Dropping INTEREST feature\n",
    "df.drop(columns = ['INTEREST'],inplace = True)"
   ]
  },
  {
   "cell_type": "code",
   "execution_count": 165,
   "metadata": {
    "scrolled": true
   },
   "outputs": [
    {
     "data": {
      "text/html": [
       "<div>\n",
       "<style scoped>\n",
       "    .dataframe tbody tr th:only-of-type {\n",
       "        vertical-align: middle;\n",
       "    }\n",
       "\n",
       "    .dataframe tbody tr th {\n",
       "        vertical-align: top;\n",
       "    }\n",
       "\n",
       "    .dataframe thead th {\n",
       "        text-align: right;\n",
       "    }\n",
       "</style>\n",
       "<table border=\"1\" class=\"dataframe\">\n",
       "  <thead>\n",
       "    <tr style=\"text-align: right;\">\n",
       "      <th></th>\n",
       "      <th>Responses(values)</th>\n",
       "      <th>Responses(actual)</th>\n",
       "      <th>Number</th>\n",
       "      <th>Percentage</th>\n",
       "    </tr>\n",
       "  </thead>\n",
       "  <tbody>\n",
       "    <tr>\n",
       "      <th>0</th>\n",
       "      <td>1.0</td>\n",
       "      <td>Not at all</td>\n",
       "      <td>48093</td>\n",
       "      <td>44.36</td>\n",
       "    </tr>\n",
       "    <tr>\n",
       "      <th>1</th>\n",
       "      <td>2.0</td>\n",
       "      <td>Several days</td>\n",
       "      <td>29030</td>\n",
       "      <td>26.77</td>\n",
       "    </tr>\n",
       "    <tr>\n",
       "      <th>2</th>\n",
       "      <td>3.0</td>\n",
       "      <td>More than half the days</td>\n",
       "      <td>8325</td>\n",
       "      <td>7.68</td>\n",
       "    </tr>\n",
       "    <tr>\n",
       "      <th>3</th>\n",
       "      <td>4.0</td>\n",
       "      <td>Nearly everyday</td>\n",
       "      <td>7997</td>\n",
       "      <td>7.38</td>\n",
       "    </tr>\n",
       "    <tr>\n",
       "      <th>4</th>\n",
       "      <td>NaN</td>\n",
       "      <td>Missing</td>\n",
       "      <td>14982</td>\n",
       "      <td>13.82</td>\n",
       "    </tr>\n",
       "  </tbody>\n",
       "</table>\n",
       "</div>"
      ],
      "text/plain": [
       "   Responses(values)        Responses(actual)  Number  Percentage\n",
       "0                1.0               Not at all   48093       44.36\n",
       "1                2.0             Several days   29030       26.77\n",
       "2                3.0  More than half the days    8325        7.68\n",
       "3                4.0          Nearly everyday    7997        7.38\n",
       "4                NaN                  Missing   14982       13.82"
      ]
     },
     "execution_count": 165,
     "metadata": {},
     "output_type": "execute_result"
    }
   ],
   "source": [
    "down_df = pd.DataFrame({\n",
    "    'Responses(values)':[i for i in df['DOWN'].value_counts(dropna = False).sort_index().index],\n",
    "    'Responses(actual)':['Not at all','Several days','More than half the days','Nearly everyday','Missing'],\n",
    "    'Number':[i for i in df['DOWN'].value_counts(dropna = False).sort_index().values],\n",
    "    'Percentage':[round(i*100,2) for i in df['DOWN'].value_counts(dropna = False,normalize = True).sort_index().values]\n",
    "})\n",
    "down_df\n"
   ]
  },
  {
   "cell_type": "code",
   "execution_count": 166,
   "metadata": {},
   "outputs": [
    {
     "data": {
      "image/png": "[encoded data removed]",
      "text/plain": [
       "<Figure size 864x576 with 1 Axes>"
      ]
     },
     "metadata": {
      "needs_background": "light"
     },
     "output_type": "display_data"
    }
   ],
   "source": [
    "# Plot frequency against feelign depressed\n",
    "plt.figure(figsize = (12,8))\n",
    "sns.barplot(x = down_df['Responses(actual)'],y = down_df['Number'])\n",
    "plt.title('Frequency of feeling depressed over the last week')\n",
    "plt.xlabel('How Often',fontsize = 13)\n",
    "plt.ylabel('Frequency',fontsize = 13);"
   ]
  },
  {
   "cell_type": "code",
   "execution_count": 167,
   "metadata": {},
   "outputs": [],
   "source": [
    "# Rename all the DOWN classes and imputing null as missing\n",
    "df['DOWN'] = df['DOWN'].replace(1,'Not at all')\n",
    "df['DOWN'] = df['DOWN'].replace(2,'Several days')\n",
    "df['DOWN'] = df['DOWN'].replace(3,'More than half the days')\n",
    "df['DOWN'] = df['DOWN'].replace(4,'Everyday')\n",
    "df['DOWN'] = df['DOWN'].fillna('Missing')"
   ]
  },
  {
   "cell_type": "markdown",
   "metadata": {},
   "source": [
    "#### `WORRY` and `ANXIOUS`"
   ]
  },
  {
   "cell_type": "code",
   "execution_count": 168,
   "metadata": {
    "scrolled": true
   },
   "outputs": [
    {
     "data": {
      "text/plain": [
       "1.0    41.189003\n",
       "2.0    26.396562\n",
       "NaN    13.815747\n",
       "4.0     9.559427\n",
       "3.0     9.039261\n",
       "Name: WORRY, dtype: float64"
      ]
     },
     "execution_count": 168,
     "metadata": {},
     "output_type": "execute_result"
    }
   ],
   "source": [
    "df['WORRY'].value_counts(dropna = False,normalize = True) * 100"
   ]
  },
  {
   "cell_type": "code",
   "execution_count": 169,
   "metadata": {},
   "outputs": [
    {
     "data": {
      "text/plain": [
       "1.0    31.946840\n",
       "2.0    29.028747\n",
       "4.0    14.334068\n",
       "NaN    13.736431\n",
       "3.0    10.953914\n",
       "Name: ANXIOUS, dtype: float64"
      ]
     },
     "execution_count": 169,
     "metadata": {},
     "output_type": "execute_result"
    }
   ],
   "source": [
    "df['ANXIOUS'].value_counts(dropna = False,normalize = True) * 100"
   ]
  },
  {
   "cell_type": "markdown",
   "metadata": {},
   "source": [
    "Since worry and anxious have many overlaps, one has to dropped to reduce correlation in dataset. Since `ANXIOUS` has fewer null values and have classes that are more evenly distributed, it would be kept. The missing values would be imputed as a **Missing** class and other classes would be renamed."
   ]
  },
  {
   "cell_type": "code",
   "execution_count": 170,
   "metadata": {},
   "outputs": [],
   "source": [
    "# Dropping WORRY feature\n",
    "df.drop(columns = ['WORRY'],inplace = True)\n",
    "# Rename all the ANXIOUS classes and imputing null as missing\n",
    "df['ANXIOUS'] = df['ANXIOUS'].replace(1,'Not at all')\n",
    "df['ANXIOUS'] = df['ANXIOUS'].replace(2,'Several days')\n",
    "df['ANXIOUS'] = df['ANXIOUS'].replace(3,'More than half the days')\n",
    "df['ANXIOUS'] = df['ANXIOUS'].replace(4,'Everyday')\n",
    "df['ANXIOUS'] = df['ANXIOUS'].fillna('Missing')"
   ]
  },
  {
   "cell_type": "markdown",
   "metadata": {},
   "source": [
    "#### `HLTHSTATUS`"
   ]
  },
  {
   "cell_type": "code",
   "execution_count": 171,
   "metadata": {
    "scrolled": true
   },
   "outputs": [
    {
     "data": {
      "text/plain": [
       "2.0    31.147223\n",
       "3.0    24.001402\n",
       "1.0    18.081290\n",
       "NaN    13.605467\n",
       "4.0    10.628349\n",
       "5.0     2.536269\n",
       "Name: HLTHSTATUS, dtype: float64"
      ]
     },
     "execution_count": 171,
     "metadata": {},
     "output_type": "execute_result"
    }
   ],
   "source": [
    "df['HLTHSTATUS'].value_counts(dropna = False,normalize = True)*100"
   ]
  },
  {
   "cell_type": "markdown",
   "metadata": {},
   "source": [
    "The missing values would be imputed in the **Missing** class given the large number of null values and the other classes would be renamed"
   ]
  },
  {
   "cell_type": "code",
   "execution_count": 172,
   "metadata": {},
   "outputs": [],
   "source": [
    "# Rename all the HLTHSTATUS classes and imputing null as missing\n",
    "df['HLTHSTATUS'] = df['HLTHSTATUS'].replace(1,'Excellent')\n",
    "df['HLTHSTATUS'] = df['HLTHSTATUS'].replace(2,'Very Good')\n",
    "df['HLTHSTATUS'] = df['HLTHSTATUS'].replace(3,'Good')\n",
    "df['HLTHSTATUS'] = df['HLTHSTATUS'].replace(4,'Fair')\n",
    "df['HLTHSTATUS'] = df['HLTHSTATUS'].replace(5,'Poor')\n",
    "df['HLTHSTATUS'] = df['HLTHSTATUS'].fillna('Missing')"
   ]
  },
  {
   "cell_type": "code",
   "execution_count": 173,
   "metadata": {
    "scrolled": true
   },
   "outputs": [
    {
     "data": {
      "text/plain": [
       "{'MH_NOTGET': 15.38362216053197,\n",
       " 'FOODCONF': 12.520866573823863,\n",
       " 'EXPNS_DIF': 1.8288802604517325,\n",
       " 'MS': 0.5044868897968218,\n",
       " 'EXPCTLOSS': 0.19829009379582577,\n",
       " 'WRKLOSS': 0.1042175841810619}"
      ]
     },
     "execution_count": 173,
     "metadata": {},
     "output_type": "execute_result"
    }
   ],
   "source": [
    "null_columns = df.columns[df.isnull().any()]\n",
    "null_columns\n",
    "percent_null = {}\n",
    "for col in null_columns:\n",
    "    percent_null[col] = (df[col].isnull().sum()/len(df)) * 100\n",
    "sorted_percent_null = dict(sorted(percent_null.items(),key = lambda x: x[1],reverse = True))\n",
    "sorted_percent_null"
   ]
  },
  {
   "cell_type": "markdown",
   "metadata": {},
   "source": [
    "#### `EXPNS_DIF`"
   ]
  },
  {
   "cell_type": "code",
   "execution_count": 174,
   "metadata": {
    "scrolled": true
   },
   "outputs": [
    {
     "data": {
      "text/plain": [
       "1.0    52.645559\n",
       "2.0    21.080543\n",
       "3.0    14.624586\n",
       "4.0     9.820432\n",
       "NaN     1.828880\n",
       "Name: EXPNS_DIF, dtype: float64"
      ]
     },
     "execution_count": 174,
     "metadata": {},
     "output_type": "execute_result"
    }
   ],
   "source": [
    "df['EXPNS_DIF'].value_counts(dropna = False,normalize = True) * 100"
   ]
  },
  {
   "cell_type": "markdown",
   "metadata": {},
   "source": [
    "Given the low percentage of null values and a large dataset, the null values can be dropped. The classes are renamed for easier reference after one hot-encoding"
   ]
  },
  {
   "cell_type": "code",
   "execution_count": 175,
   "metadata": {},
   "outputs": [],
   "source": [
    "# Dropping null values\n",
    "df.dropna(subset = ['EXPNS_DIF'],inplace = True)\n",
    "\n",
    "# Renaming classes\n",
    "df['EXPNS_DIF'] = df['EXPNS_DIF'].replace(1,'Not at all difficult')\n",
    "df['EXPNS_DIF'] = df['EXPNS_DIF'].replace(2,'A little difficult')\n",
    "df['EXPNS_DIF'] = df['EXPNS_DIF'].replace(3,'Somewhat difficult')\n",
    "df['EXPNS_DIF'] = df['EXPNS_DIF'].replace(4,'Very difficult')\n"
   ]
  },
  {
   "cell_type": "markdown",
   "metadata": {},
   "source": [
    "#### `FOODCONF`"
   ]
  },
  {
   "cell_type": "code",
   "execution_count": 176,
   "metadata": {
    "scrolled": false
   },
   "outputs": [
    {
     "data": {
      "text/plain": [
       "4.0    52.504603\n",
       "3.0    17.200594\n",
       "2.0    14.472399\n",
       "NaN    10.981361\n",
       "1.0     4.841043\n",
       "Name: FOODCONF, dtype: float64"
      ]
     },
     "execution_count": 176,
     "metadata": {},
     "output_type": "execute_result"
    }
   ],
   "source": [
    "# Level of confidence in ensuring food sufficiency\n",
    "df['FOODCONF'].value_counts(dropna = False,normalize = True) * 100"
   ]
  },
  {
   "cell_type": "markdown",
   "metadata": {},
   "source": [
    "The missing values would be imputed in the **Missing** class given the large number of null values and the other classes would be renamed"
   ]
  },
  {
   "cell_type": "code",
   "execution_count": 177,
   "metadata": {},
   "outputs": [],
   "source": [
    "# Rename all the HLTHSTATUS classes and imputing null as missing\n",
    "df['FOODCONF'] = df['FOODCONF'].replace(1,'Not at all confident')\n",
    "df['FOODCONF'] = df['FOODCONF'].replace(2,'Somewhat confident')\n",
    "df['FOODCONF'] = df['FOODCONF'].replace(3,'Moderately Confident')\n",
    "df['FOODCONF'] = df['FOODCONF'].replace(4,'Very Confident')\n",
    "df['FOODCONF'] = df['FOODCONF'].fillna('Missing')"
   ]
  },
  {
   "cell_type": "markdown",
   "metadata": {},
   "source": [
    "#### `EXPCTLOSS` and `WRKLOSS`"
   ]
  },
  {
   "cell_type": "code",
   "execution_count": 178,
   "metadata": {
    "scrolled": true
   },
   "outputs": [
    {
     "data": {
      "text/plain": [
       "2.0    61.464244\n",
       "1.0    38.435234\n",
       "NaN     0.100522\n",
       "Name: WRKLOSS, dtype: float64"
      ]
     },
     "execution_count": 178,
     "metadata": {},
     "output_type": "execute_result"
    }
   ],
   "source": [
    "df['WRKLOSS'].value_counts(dropna = False,normalize = True) * 100"
   ]
  },
  {
   "cell_type": "markdown",
   "metadata": {},
   "source": [
    "40% of the respondents replied that someone in their households have lost a job since the declaration of the state of emergency on 13 March"
   ]
  },
  {
   "cell_type": "code",
   "execution_count": 179,
   "metadata": {},
   "outputs": [],
   "source": [
    "# Removing null values since it makes up a small percentage\n",
    "df.dropna(subset = ['WRKLOSS'],inplace = True)\n",
    "\n",
    "# Renaming the classes \n",
    "df['WRKLOSS'] = df['WRKLOSS'].replace(2,0)"
   ]
  },
  {
   "cell_type": "code",
   "execution_count": 180,
   "metadata": {
    "scrolled": true
   },
   "outputs": [
    {
     "data": {
      "text/plain": [
       "2.0    79.700387\n",
       "1.0    20.124698\n",
       "NaN     0.174916\n",
       "Name: EXPCTLOSS, dtype: float64"
      ]
     },
     "execution_count": 180,
     "metadata": {},
     "output_type": "execute_result"
    }
   ],
   "source": [
    "df['EXPCTLOSS'].value_counts(dropna = False,normalize=  True) * 100"
   ]
  },
  {
   "cell_type": "markdown",
   "metadata": {},
   "source": [
    "About 20% of the respondents anticipate unemployment in the next month"
   ]
  },
  {
   "cell_type": "code",
   "execution_count": 181,
   "metadata": {},
   "outputs": [],
   "source": [
    "# Removing null values since it makes up a small percentage\n",
    "df.dropna(subset = ['EXPCTLOSS'],inplace = True)\n",
    "\n",
    "# Renaming the classes(1 = yes, 2 = no)\n",
    "df['EXPCTLOSS'] = df['EXPCTLOSS'].replace(2,0)"
   ]
  },
  {
   "cell_type": "markdown",
   "metadata": {},
   "source": [
    "#### `MS`\n",
    "Feature indicating the marital status of respondents"
   ]
  },
  {
   "cell_type": "code",
   "execution_count": 182,
   "metadata": {
    "scrolled": true
   },
   "outputs": [
    {
     "data": {
      "text/plain": [
       "1.0    57.391829\n",
       "5.0    20.182570\n",
       "3.0    15.335701\n",
       "2.0     4.679183\n",
       "4.0     1.923675\n",
       "NaN     0.487042\n",
       "Name: MS, dtype: float64"
      ]
     },
     "execution_count": 182,
     "metadata": {},
     "output_type": "execute_result"
    }
   ],
   "source": [
    "df['MS'].value_counts(dropna = False,normalize = True)*100"
   ]
  },
  {
   "cell_type": "markdown",
   "metadata": {},
   "source": [
    "Given the small percentage of null values, these would be dropped"
   ]
  },
  {
   "cell_type": "code",
   "execution_count": 183,
   "metadata": {},
   "outputs": [],
   "source": [
    "df.dropna(subset = ['MS'],inplace = True)"
   ]
  },
  {
   "cell_type": "code",
   "execution_count": 184,
   "metadata": {
    "scrolled": true
   },
   "outputs": [
    {
     "data": {
      "text/html": [
       "<div>\n",
       "<style scoped>\n",
       "    .dataframe tbody tr th:only-of-type {\n",
       "        vertical-align: middle;\n",
       "    }\n",
       "\n",
       "    .dataframe tbody tr th {\n",
       "        vertical-align: top;\n",
       "    }\n",
       "\n",
       "    .dataframe thead th {\n",
       "        text-align: right;\n",
       "    }\n",
       "</style>\n",
       "<table border=\"1\" class=\"dataframe\">\n",
       "  <thead>\n",
       "    <tr style=\"text-align: right;\">\n",
       "      <th></th>\n",
       "      <th>Responses(values)</th>\n",
       "      <th>Responses(actual)</th>\n",
       "      <th>Number</th>\n",
       "      <th>Percentage</th>\n",
       "    </tr>\n",
       "  </thead>\n",
       "  <tbody>\n",
       "    <tr>\n",
       "      <th>0</th>\n",
       "      <td>1.0</td>\n",
       "      <td>Married</td>\n",
       "      <td>60922</td>\n",
       "      <td>57.67</td>\n",
       "    </tr>\n",
       "    <tr>\n",
       "      <th>1</th>\n",
       "      <td>2.0</td>\n",
       "      <td>Widowed</td>\n",
       "      <td>4967</td>\n",
       "      <td>4.70</td>\n",
       "    </tr>\n",
       "    <tr>\n",
       "      <th>2</th>\n",
       "      <td>3.0</td>\n",
       "      <td>Divorced</td>\n",
       "      <td>16279</td>\n",
       "      <td>15.41</td>\n",
       "    </tr>\n",
       "    <tr>\n",
       "      <th>3</th>\n",
       "      <td>4.0</td>\n",
       "      <td>Separated</td>\n",
       "      <td>2042</td>\n",
       "      <td>1.93</td>\n",
       "    </tr>\n",
       "    <tr>\n",
       "      <th>4</th>\n",
       "      <td>5.0</td>\n",
       "      <td>Never Married</td>\n",
       "      <td>21424</td>\n",
       "      <td>20.28</td>\n",
       "    </tr>\n",
       "  </tbody>\n",
       "</table>\n",
       "</div>"
      ],
      "text/plain": [
       "   Responses(values) Responses(actual)  Number  Percentage\n",
       "0                1.0           Married   60922       57.67\n",
       "1                2.0           Widowed    4967        4.70\n",
       "2                3.0          Divorced   16279       15.41\n",
       "3                4.0         Separated    2042        1.93\n",
       "4                5.0     Never Married   21424       20.28"
      ]
     },
     "execution_count": 184,
     "metadata": {},
     "output_type": "execute_result"
    }
   ],
   "source": [
    "ms_df = pd.DataFrame({\n",
    "    'Responses(values)':[i for i in df['MS'].value_counts(dropna = False).sort_index().index],\n",
    "    'Responses(actual)':['Married','Widowed','Divorced','Separated','Never Married'],\n",
    "    'Number':[i for i in df['MS'].value_counts(dropna = False).sort_index().values],\n",
    "    'Percentage':[round(i*100,2) for i in df['MS'].value_counts(dropna = False,normalize = True).sort_index().values]\n",
    "})\n",
    "ms_df"
   ]
  },
  {
   "cell_type": "code",
   "execution_count": 185,
   "metadata": {},
   "outputs": [],
   "source": [
    "# Rename all the MS classes \n",
    "df['MS'] = df['MS'].replace(1,'Married')\n",
    "df['MS'] = df['MS'].replace(2,'Widowed')\n",
    "df['MS'] = df['MS'].replace(3,'Divorced')\n",
    "df['MS'] = df['MS'].replace(4,'Separated')\n",
    "df['MS'] = df['MS'].replace(5,'Never Married')"
   ]
  },
  {
   "cell_type": "markdown",
   "metadata": {},
   "source": [
    "#### **`EGENDER`**"
   ]
  },
  {
   "cell_type": "code",
   "execution_count": 186,
   "metadata": {},
   "outputs": [
    {
     "data": {
      "text/plain": [
       "2    61720\n",
       "1    43914\n",
       "Name: EGENDER, dtype: int64"
      ]
     },
     "execution_count": 186,
     "metadata": {},
     "output_type": "execute_result"
    }
   ],
   "source": [
    "df['EGENDER'].value_counts(dropna = False)"
   ]
  },
  {
   "cell_type": "code",
   "execution_count": 187,
   "metadata": {},
   "outputs": [],
   "source": [
    "# Renaming the classes, Male = 1, Female = 0\n",
    "df['EGENDER'] = df['EGENDER'].replace(2,0)"
   ]
  },
  {
   "cell_type": "code",
   "execution_count": 188,
   "metadata": {
    "scrolled": true
   },
   "outputs": [
    {
     "data": {
      "text/plain": [
       "0    61720\n",
       "1    43914\n",
       "Name: EGENDER, dtype: int64"
      ]
     },
     "execution_count": 188,
     "metadata": {},
     "output_type": "execute_result"
    }
   ],
   "source": [
    "df['EGENDER'].value_counts()"
   ]
  },
  {
   "cell_type": "markdown",
   "metadata": {},
   "source": [
    "#### `EEDUC`"
   ]
  },
  {
   "cell_type": "code",
   "execution_count": 189,
   "metadata": {},
   "outputs": [],
   "source": [
    "df['EEDUC'].value_counts(dropna = False)\n",
    "# Renaming all the classes\n",
    "df['EEDUC'] = df['EEDUC'].replace(1,'Less than high school')\n",
    "df['EEDUC'] = df['EEDUC'].replace(2,'Some high school')\n",
    "df['EEDUC'] = df['EEDUC'].replace(3,'High school graduate/equivalent')\n",
    "df['EEDUC'] = df['EEDUC'].replace(4,'College undergraduate/dropout')\n",
    "df['EEDUC'] = df['EEDUC'].replace(5,\"Associate's degree\")\n",
    "df['EEDUC'] = df['EEDUC'].replace(6,\"Bachelor's degree\")\n",
    "df['EEDUC'] = df['EEDUC'].replace(7,'Graduate degree')"
   ]
  },
  {
   "cell_type": "code",
   "execution_count": 190,
   "metadata": {
    "scrolled": false
   },
   "outputs": [
    {
     "data": {
      "text/plain": [
       "Bachelor's degree                  30996\n",
       "Graduate degree                    26496\n",
       "College undergraduate/dropout      22730\n",
       "High school graduate/equivalent    12308\n",
       "Associate's degree                 11013\n",
       "Some high school                    1501\n",
       "Less than high school                590\n",
       "Name: EEDUC, dtype: int64"
      ]
     },
     "execution_count": 190,
     "metadata": {},
     "output_type": "execute_result"
    }
   ],
   "source": [
    "df['EEDUC'].value_counts(dropna = False)"
   ]
  },
  {
   "cell_type": "markdown",
   "metadata": {},
   "source": [
    "#### `RRACE`"
   ]
  },
  {
   "cell_type": "code",
   "execution_count": 191,
   "metadata": {},
   "outputs": [
    {
     "data": {
      "text/plain": [
       "1    85969\n",
       "2     8656\n",
       "3     5596\n",
       "4     5413\n",
       "Name: RRACE, dtype: int64"
      ]
     },
     "execution_count": 191,
     "metadata": {},
     "output_type": "execute_result"
    }
   ],
   "source": [
    "df['RRACE'].value_counts(dropna = False)"
   ]
  },
  {
   "cell_type": "code",
   "execution_count": 192,
   "metadata": {},
   "outputs": [],
   "source": [
    "# Renaming classes before one hot encoding\n",
    "df['RRACE'] = df['RRACE'].replace(1,'White')\n",
    "df['RRACE'] = df['RRACE'].replace(2,'Black')\n",
    "df['RRACE'] = df['RRACE'].replace(3,'Asian')\n",
    "df['RRACE'] = df['RRACE'].replace(4,'Others')"
   ]
  },
  {
   "cell_type": "markdown",
   "metadata": {},
   "source": [
    "### Target variable\n",
    "**`MH_NOTGET`**"
   ]
  },
  {
   "cell_type": "markdown",
   "metadata": {},
   "source": [
    "It is a feature which measures the likelihood of receiving counseling/therapy from a mental health professional where 2 = got help given that they they needed professional aid and 1 = did not get help given that they needed professional aid. As this feature is normalized by the condition that everyone needs helps, it would be simplified into two classes, did get help and did not get help. This would group people that do not need professional aid under the same category as those who received the necessary help to cope with their mental health. Since the motivation is to identify people who have refrained from seeking mental health therapy, this grouping would be inconsequential. The implications of refraining from seeking necessary aid is still critical and thus making predictions of susceptible respondents would allow for an early intervention."
   ]
  },
  {
   "cell_type": "code",
   "execution_count": 193,
   "metadata": {},
   "outputs": [
    {
     "data": {
      "text/plain": [
       "2.0    77.758108\n",
       "NaN    13.845921\n",
       "1.0     8.395971\n",
       "Name: MH_NOTGET, dtype: float64"
      ]
     },
     "execution_count": 193,
     "metadata": {},
     "output_type": "execute_result"
    }
   ],
   "source": [
    "df['MH_NOTGET'].value_counts(dropna = False,normalize = True) * 100"
   ]
  },
  {
   "cell_type": "markdown",
   "metadata": {},
   "source": [
    "Since `MH_NOTGET` is our target variable, null values would be removed"
   ]
  },
  {
   "cell_type": "code",
   "execution_count": 194,
   "metadata": {},
   "outputs": [],
   "source": [
    "# Dropping all null rows\n",
    "df.dropna(subset = ['MH_NOTGET'],inplace = True)"
   ]
  },
  {
   "cell_type": "code",
   "execution_count": 195,
   "metadata": {},
   "outputs": [],
   "source": [
    "# Relabelling values to fit a binary classification model\n",
    "# 1 = Did not get help, 0 = Did get help\n",
    "df['MH_NOTGET'] = df['MH_NOTGET'].replace(2,0)"
   ]
  },
  {
   "cell_type": "code",
   "execution_count": 196,
   "metadata": {
    "scrolled": false
   },
   "outputs": [
    {
     "data": {
      "text/plain": [
       "0.0    90.254703\n",
       "1.0     9.745297\n",
       "Name: MH_NOTGET, dtype: float64"
      ]
     },
     "execution_count": 196,
     "metadata": {},
     "output_type": "execute_result"
    }
   ],
   "source": [
    "df['MH_NOTGET'].value_counts(normalize = True) * 100"
   ]
  },
  {
   "cell_type": "code",
   "execution_count": 197,
   "metadata": {
    "scrolled": true
   },
   "outputs": [
    {
     "data": {
      "text/plain": [
       "{'MS': 0.0,\n",
       " 'WRKLOSS': 0.0,\n",
       " 'EXPCTLOSS': 0.0,\n",
       " 'EXPNS_DIF': 0.0,\n",
       " 'FOODCONF': 0.0,\n",
       " 'MH_NOTGET': 0.0}"
      ]
     },
     "execution_count": 197,
     "metadata": {},
     "output_type": "execute_result"
    }
   ],
   "source": [
    "# Displaying percentage of null values in all columns with null values\n",
    "percent_null = {}\n",
    "for col in null_columns:\n",
    "    percent_null[col] = (df[col].isnull().sum()/len(df)) * 100\n",
    "sorted_percent_null = dict(sorted(percent_null.items(),key = lambda x: x[1],reverse = True))\n",
    "sorted_percent_null"
   ]
  },
  {
   "cell_type": "markdown",
   "metadata": {},
   "source": [
    "### Saving cleaned data\n",
    "Since the target variable has imbalanced classes, only those with `MH_NOTGET` = 1 would be included in the new csv and merged subequently with the data from previous week"
   ]
  },
  {
   "cell_type": "code",
   "execution_count": 198,
   "metadata": {},
   "outputs": [],
   "source": [
    "# dataframe of those that did not get help\n",
    "notget = df[df['MH_NOTGET'] == 1]\n",
    "notget.to_csv('../datasets/cleaned_data_week_14.csv',index = False)"
   ]
  },
  {
   "cell_type": "markdown",
   "metadata": {},
   "source": [
    "### References\n",
    "--- \n",
    "1) Schumaker, E. (2020, September 22). Timeline: How coronavirus got started. AbcNEWS. https://abcnews.go.com/Health/timeline-coronavirus-started/story?id=69435165 <br>\n",
    "2) Cathey, L. (2020, March 14). Government coronavirus response: Trump declares national emergency, says he “likely” will get tested. AbcNEWS. https://abcnews.go.com/Politics/government-coronavirus-response-live-updates-trump-declares-national/story?id=69580277 <br>\n",
    "3) Aziz, S. (2020, October 22). New coronavirus surge in the US: What you need to know. ALJAZEERA. https://www.aljazeera.com/news/2020/10/22/us-coronavirus-surge-four-things-to-know <br>\n",
    "4) Elshaug, A. (2020, August 14). Pandemic letter from America: how the US handling of COVID-19 provides the starkest warning for us all. The Conversation. https://theconversation.com/pandemic-letter-from-america-how-the-us-handling-of-covid-19-provides-the-starkest-warning-for-us-all-144357 <br>\n",
    "5) Cox, J. (2020, August 6). U.S. weekly jobless claims total 1.186 million, lowest level of the coronavirus pandemic. CNBC. https://www.cnbc.com/2020/08/06/weekly-jobless-claims.html <br>\n",
    "6) Kochhar, R. (2020, June 11). Unemployment rose higher in three months of COVID-19 than it did in two years of the Great Recession. Pew Research Center. https://www.pewresearch.org/fact-tank/2020/06/11/unemployment-rose-higher-in-three-months-of-covid-19-than-it-did-in-two-years-of-the-great-recession/"
   ]
  }
 ],
 "metadata": {
  "kernelspec": {
   "display_name": "Python 3",
   "language": "python",
   "name": "python3"
  },
  "language_info": {
   "codemirror_mode": {
    "name": "ipython",
    "version": 3
   },
   "file_extension": ".py",
   "mimetype": "text/x-python",
   "name": "python",
   "nbconvert_exporter": "python",
   "pygments_lexer": "ipython3",
   "version": "3.8.3"
  }
 },
 "nbformat": 4,
 "nbformat_minor": 4
}

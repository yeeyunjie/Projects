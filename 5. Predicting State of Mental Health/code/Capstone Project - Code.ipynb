{
 "cells": [
  {
   "cell_type": "markdown",
   "metadata": {},
   "source": [
    "<img src=\"http://imgur.com/1ZcRyrc.png\" style=\"float: left; margin: 20px; height: 55px\"> \n",
    "\n",
    "# Capstone Project: Post-Covid Mental Health Status"
   ]
  },
  {
   "cell_type": "markdown",
   "metadata": {},
   "source": [
    "## Problem Statement\n",
    "The recent COVID pandemic has caused much distraught in every aspect of human society. The fear of an uncurable foreign illness, loss of jobs and mandatory isolation of the infected and predisposed populations have been overwhelming. In addition to the detrimental effects of COVID on the physical health of people, it has also brought to light the implications of such an unprecedented pandemic on the mental health of people.  Therefore, we aim to develop a model to predict susceptible populations to developing mental health problems and to curb the root of such issues before they manifest into a greater problem. We aim to provide well-informed suggestions to stateboards and mental health institutes on where to focus and channel resources. In addition, we strive to understand the underlying root causes of such mental distress through analyzing survey responses on different aspects of lifelihood, such as food security, employment status and many more."
   ]
  },
  {
   "cell_type": "markdown",
   "metadata": {},
   "source": [
    "## Executive Summary"
   ]
  },
  {
   "cell_type": "markdown",
   "metadata": {},
   "source": [
    "## Contents"
   ]
  },
  {
   "cell_type": "code",
   "execution_count": 1,
   "metadata": {},
   "outputs": [],
   "source": [
    "# import libraries\n",
    "import pandas as pd\n",
    "import numpy as np\n",
    "import scipy.stats as stats\n",
    "import matplotlib.pyplot as plt\n",
    "import seaborn as sns\n",
    "import datetime as dt\n",
    "\n",
    "import warnings\n",
    "warnings.filterwarnings('ignore')\n",
    "%matplotlib inline"
   ]
  },
  {
   "cell_type": "code",
   "execution_count": 99,
   "metadata": {},
   "outputs": [],
   "source": [
    "from sklearn.svm import SVC\n",
    "from sklearn.metrics import roc_auc_score\n",
    "from sklearn.tree import DecisionTreeClassifier\n",
    "from sklearn.naive_bayes import MultinomialNB\n",
    "from sklearn.neighbors import KNeighborsClassifier\n",
    "from sklearn.pipeline import Pipeline\n",
    "from sklearn.model_selection import train_test_split, GridSearchCV\n",
    "from sklearn.linear_model import LogisticRegression\n",
    "from sklearn.metrics import classification_report, confusion_matrix\n",
    "from sklearn.ensemble import RandomForestClassifier, ExtraTreesClassifier, AdaBoostClassifier, BaggingClassifier, GradientBoostingClassifier\n",
    "from sklearn.preprocessing import PolynomialFeatures, StandardScaler\n",
    "import re"
   ]
  },
  {
   "cell_type": "markdown",
   "metadata": {},
   "source": [
    "## Data Visualization"
   ]
  },
  {
   "cell_type": "code",
   "execution_count": 214,
   "metadata": {},
   "outputs": [],
   "source": [
    "# Reading the csv file\n",
    "df = pd.read_csv('../datasets/pulse2020_puf_13.csv')"
   ]
  },
  {
   "cell_type": "code",
   "execution_count": 63,
   "metadata": {},
   "outputs": [
    {
     "name": "stdout",
     "output_type": "stream",
     "text": [
      "Rows: 109051\n",
      "Columns: 188\n"
     ]
    }
   ],
   "source": [
    "# Number of columns and rows in data\n",
    "print(f'Rows: {df.shape[0]}')\n",
    "print(f'Columns: {df.shape[1]}')"
   ]
  },
  {
   "cell_type": "code",
   "execution_count": 7,
   "metadata": {
    "scrolled": true
   },
   "outputs": [
    {
     "data": {
      "text/html": [
       "<div>\n",
       "<style scoped>\n",
       "    .dataframe tbody tr th:only-of-type {\n",
       "        vertical-align: middle;\n",
       "    }\n",
       "\n",
       "    .dataframe tbody tr th {\n",
       "        vertical-align: top;\n",
       "    }\n",
       "\n",
       "    .dataframe thead th {\n",
       "        text-align: right;\n",
       "    }\n",
       "</style>\n",
       "<table border=\"1\" class=\"dataframe\">\n",
       "  <thead>\n",
       "    <tr style=\"text-align: right;\">\n",
       "      <th></th>\n",
       "      <th>SCRAM</th>\n",
       "      <th>WEEK</th>\n",
       "      <th>EST_ST</th>\n",
       "      <th>EST_MSA</th>\n",
       "      <th>REGION</th>\n",
       "      <th>HWEIGHT</th>\n",
       "      <th>PWEIGHT</th>\n",
       "      <th>TBIRTH_YEAR</th>\n",
       "      <th>ABIRTH_YEAR</th>\n",
       "      <th>EGENDER</th>\n",
       "      <th>...</th>\n",
       "      <th>PSWHYCHG1</th>\n",
       "      <th>PSWHYCHG2</th>\n",
       "      <th>PSWHYCHG3</th>\n",
       "      <th>PSWHYCHG4</th>\n",
       "      <th>PSWHYCHG5</th>\n",
       "      <th>PSWHYCHG6</th>\n",
       "      <th>PSWHYCHG7</th>\n",
       "      <th>PSWHYCHG8</th>\n",
       "      <th>PSWHYCHG9</th>\n",
       "      <th>INCOME</th>\n",
       "    </tr>\n",
       "  </thead>\n",
       "  <tbody>\n",
       "    <tr>\n",
       "      <th>0</th>\n",
       "      <td>V130000001S12010403200123</td>\n",
       "      <td>13</td>\n",
       "      <td>48</td>\n",
       "      <td>19100.0</td>\n",
       "      <td>2</td>\n",
       "      <td>1276.886650</td>\n",
       "      <td>1278.107099</td>\n",
       "      <td>1989</td>\n",
       "      <td>2</td>\n",
       "      <td>1</td>\n",
       "      <td>...</td>\n",
       "      <td>-88</td>\n",
       "      <td>-88</td>\n",
       "      <td>-88</td>\n",
       "      <td>-88</td>\n",
       "      <td>-88</td>\n",
       "      <td>-88</td>\n",
       "      <td>-88</td>\n",
       "      <td>-88</td>\n",
       "      <td>-88</td>\n",
       "      <td>2</td>\n",
       "    </tr>\n",
       "    <tr>\n",
       "      <th>1</th>\n",
       "      <td>V130000001S34010154300113</td>\n",
       "      <td>13</td>\n",
       "      <td>1</td>\n",
       "      <td>NaN</td>\n",
       "      <td>2</td>\n",
       "      <td>1195.578846</td>\n",
       "      <td>2323.078960</td>\n",
       "      <td>1988</td>\n",
       "      <td>2</td>\n",
       "      <td>2</td>\n",
       "      <td>...</td>\n",
       "      <td>-99</td>\n",
       "      <td>-99</td>\n",
       "      <td>-99</td>\n",
       "      <td>1</td>\n",
       "      <td>1</td>\n",
       "      <td>-99</td>\n",
       "      <td>1</td>\n",
       "      <td>-99</td>\n",
       "      <td>1</td>\n",
       "      <td>6</td>\n",
       "    </tr>\n",
       "    <tr>\n",
       "      <th>2</th>\n",
       "      <td>V130000001S37010241600123</td>\n",
       "      <td>13</td>\n",
       "      <td>1</td>\n",
       "      <td>NaN</td>\n",
       "      <td>2</td>\n",
       "      <td>1124.648326</td>\n",
       "      <td>1092.628425</td>\n",
       "      <td>1969</td>\n",
       "      <td>2</td>\n",
       "      <td>1</td>\n",
       "      <td>...</td>\n",
       "      <td>-88</td>\n",
       "      <td>-88</td>\n",
       "      <td>-88</td>\n",
       "      <td>-88</td>\n",
       "      <td>-88</td>\n",
       "      <td>-88</td>\n",
       "      <td>-88</td>\n",
       "      <td>-88</td>\n",
       "      <td>-88</td>\n",
       "      <td>7</td>\n",
       "    </tr>\n",
       "    <tr>\n",
       "      <th>3</th>\n",
       "      <td>V130000001S37010645600123</td>\n",
       "      <td>13</td>\n",
       "      <td>1</td>\n",
       "      <td>NaN</td>\n",
       "      <td>2</td>\n",
       "      <td>517.598058</td>\n",
       "      <td>1005.723011</td>\n",
       "      <td>1947</td>\n",
       "      <td>2</td>\n",
       "      <td>1</td>\n",
       "      <td>...</td>\n",
       "      <td>-88</td>\n",
       "      <td>-88</td>\n",
       "      <td>-88</td>\n",
       "      <td>-88</td>\n",
       "      <td>-88</td>\n",
       "      <td>-88</td>\n",
       "      <td>-88</td>\n",
       "      <td>-88</td>\n",
       "      <td>-88</td>\n",
       "      <td>6</td>\n",
       "    </tr>\n",
       "    <tr>\n",
       "      <th>4</th>\n",
       "      <td>V130000001S70011963510113</td>\n",
       "      <td>13</td>\n",
       "      <td>1</td>\n",
       "      <td>NaN</td>\n",
       "      <td>2</td>\n",
       "      <td>432.646602</td>\n",
       "      <td>840.657411</td>\n",
       "      <td>1968</td>\n",
       "      <td>2</td>\n",
       "      <td>2</td>\n",
       "      <td>...</td>\n",
       "      <td>-88</td>\n",
       "      <td>-88</td>\n",
       "      <td>-88</td>\n",
       "      <td>-88</td>\n",
       "      <td>-88</td>\n",
       "      <td>-88</td>\n",
       "      <td>-88</td>\n",
       "      <td>-88</td>\n",
       "      <td>-88</td>\n",
       "      <td>-88</td>\n",
       "    </tr>\n",
       "  </tbody>\n",
       "</table>\n",
       "<p>5 rows × 188 columns</p>\n",
       "</div>"
      ],
      "text/plain": [
       "                       SCRAM  WEEK  EST_ST  EST_MSA  REGION      HWEIGHT  \\\n",
       "0  V130000001S12010403200123    13      48  19100.0       2  1276.886650   \n",
       "1  V130000001S34010154300113    13       1      NaN       2  1195.578846   \n",
       "2  V130000001S37010241600123    13       1      NaN       2  1124.648326   \n",
       "3  V130000001S37010645600123    13       1      NaN       2   517.598058   \n",
       "4  V130000001S70011963510113    13       1      NaN       2   432.646602   \n",
       "\n",
       "       PWEIGHT  TBIRTH_YEAR  ABIRTH_YEAR  EGENDER  ...  PSWHYCHG1  PSWHYCHG2  \\\n",
       "0  1278.107099         1989            2        1  ...        -88        -88   \n",
       "1  2323.078960         1988            2        2  ...        -99        -99   \n",
       "2  1092.628425         1969            2        1  ...        -88        -88   \n",
       "3  1005.723011         1947            2        1  ...        -88        -88   \n",
       "4   840.657411         1968            2        2  ...        -88        -88   \n",
       "\n",
       "   PSWHYCHG3  PSWHYCHG4  PSWHYCHG5  PSWHYCHG6  PSWHYCHG7  PSWHYCHG8  \\\n",
       "0        -88        -88        -88        -88        -88        -88   \n",
       "1        -99          1          1        -99          1        -99   \n",
       "2        -88        -88        -88        -88        -88        -88   \n",
       "3        -88        -88        -88        -88        -88        -88   \n",
       "4        -88        -88        -88        -88        -88        -88   \n",
       "\n",
       "   PSWHYCHG9  INCOME  \n",
       "0        -88       2  \n",
       "1          1       6  \n",
       "2        -88       7  \n",
       "3        -88       6  \n",
       "4        -88     -88  \n",
       "\n",
       "[5 rows x 188 columns]"
      ]
     },
     "execution_count": 7,
     "metadata": {},
     "output_type": "execute_result"
    }
   ],
   "source": [
    "# Looking at the first 5 rows of data\n",
    "df.head()"
   ]
  },
  {
   "cell_type": "code",
   "execution_count": 24,
   "metadata": {
    "scrolled": true
   },
   "outputs": [
    {
     "data": {
      "text/html": [
       "<div>\n",
       "<style scoped>\n",
       "    .dataframe tbody tr th:only-of-type {\n",
       "        vertical-align: middle;\n",
       "    }\n",
       "\n",
       "    .dataframe tbody tr th {\n",
       "        vertical-align: top;\n",
       "    }\n",
       "\n",
       "    .dataframe thead th {\n",
       "        text-align: right;\n",
       "    }\n",
       "</style>\n",
       "<table border=\"1\" class=\"dataframe\">\n",
       "  <thead>\n",
       "    <tr style=\"text-align: right;\">\n",
       "      <th></th>\n",
       "      <th>WEEK</th>\n",
       "      <th>EST_ST</th>\n",
       "      <th>EST_MSA</th>\n",
       "      <th>REGION</th>\n",
       "      <th>HWEIGHT</th>\n",
       "      <th>PWEIGHT</th>\n",
       "      <th>TBIRTH_YEAR</th>\n",
       "      <th>ABIRTH_YEAR</th>\n",
       "      <th>EGENDER</th>\n",
       "      <th>AGENDER</th>\n",
       "      <th>...</th>\n",
       "      <th>PSWHYCHG1</th>\n",
       "      <th>PSWHYCHG2</th>\n",
       "      <th>PSWHYCHG3</th>\n",
       "      <th>PSWHYCHG4</th>\n",
       "      <th>PSWHYCHG5</th>\n",
       "      <th>PSWHYCHG6</th>\n",
       "      <th>PSWHYCHG7</th>\n",
       "      <th>PSWHYCHG8</th>\n",
       "      <th>PSWHYCHG9</th>\n",
       "      <th>INCOME</th>\n",
       "    </tr>\n",
       "  </thead>\n",
       "  <tbody>\n",
       "    <tr>\n",
       "      <th>count</th>\n",
       "      <td>109051.0</td>\n",
       "      <td>109051.000000</td>\n",
       "      <td>35244.000000</td>\n",
       "      <td>109051.000000</td>\n",
       "      <td>109051.000000</td>\n",
       "      <td>109051.000000</td>\n",
       "      <td>109051.000000</td>\n",
       "      <td>109051.000000</td>\n",
       "      <td>109051.000000</td>\n",
       "      <td>109051.000000</td>\n",
       "      <td>...</td>\n",
       "      <td>109051.000000</td>\n",
       "      <td>109051.000000</td>\n",
       "      <td>109051.000000</td>\n",
       "      <td>109051.000000</td>\n",
       "      <td>109051.000000</td>\n",
       "      <td>109051.000000</td>\n",
       "      <td>109051.00000</td>\n",
       "      <td>109051.000000</td>\n",
       "      <td>109051.000000</td>\n",
       "      <td>109051.000000</td>\n",
       "    </tr>\n",
       "    <tr>\n",
       "      <th>mean</th>\n",
       "      <td>13.0</td>\n",
       "      <td>27.699242</td>\n",
       "      <td>31792.698899</td>\n",
       "      <td>2.685239</td>\n",
       "      <td>1114.342647</td>\n",
       "      <td>2284.902624</td>\n",
       "      <td>1969.251974</td>\n",
       "      <td>1.991793</td>\n",
       "      <td>1.587753</td>\n",
       "      <td>1.993095</td>\n",
       "      <td>...</td>\n",
       "      <td>-84.786559</td>\n",
       "      <td>-89.458684</td>\n",
       "      <td>-88.606789</td>\n",
       "      <td>-81.777875</td>\n",
       "      <td>-88.182217</td>\n",
       "      <td>-87.666862</td>\n",
       "      <td>-86.22075</td>\n",
       "      <td>-86.225335</td>\n",
       "      <td>-88.262914</td>\n",
       "      <td>-16.580215</td>\n",
       "    </tr>\n",
       "    <tr>\n",
       "      <th>std</th>\n",
       "      <td>0.0</td>\n",
       "      <td>16.409699</td>\n",
       "      <td>11514.840187</td>\n",
       "      <td>1.079868</td>\n",
       "      <td>1755.280822</td>\n",
       "      <td>4156.272497</td>\n",
       "      <td>15.953085</td>\n",
       "      <td>0.090221</td>\n",
       "      <td>0.492242</td>\n",
       "      <td>0.082809</td>\n",
       "      <td>...</td>\n",
       "      <td>19.677547</td>\n",
       "      <td>5.565538</td>\n",
       "      <td>9.959077</td>\n",
       "      <td>24.361783</td>\n",
       "      <td>11.516732</td>\n",
       "      <td>13.143646</td>\n",
       "      <td>16.80769</td>\n",
       "      <td>16.797533</td>\n",
       "      <td>11.238543</td>\n",
       "      <td>39.391120</td>\n",
       "    </tr>\n",
       "    <tr>\n",
       "      <th>min</th>\n",
       "      <td>13.0</td>\n",
       "      <td>1.000000</td>\n",
       "      <td>12060.000000</td>\n",
       "      <td>1.000000</td>\n",
       "      <td>19.994057</td>\n",
       "      <td>19.635651</td>\n",
       "      <td>1932.000000</td>\n",
       "      <td>1.000000</td>\n",
       "      <td>1.000000</td>\n",
       "      <td>1.000000</td>\n",
       "      <td>...</td>\n",
       "      <td>-99.000000</td>\n",
       "      <td>-99.000000</td>\n",
       "      <td>-99.000000</td>\n",
       "      <td>-99.000000</td>\n",
       "      <td>-99.000000</td>\n",
       "      <td>-99.000000</td>\n",
       "      <td>-99.00000</td>\n",
       "      <td>-99.000000</td>\n",
       "      <td>-99.000000</td>\n",
       "      <td>-99.000000</td>\n",
       "    </tr>\n",
       "    <tr>\n",
       "      <th>25%</th>\n",
       "      <td>13.0</td>\n",
       "      <td>12.000000</td>\n",
       "      <td>19100.000000</td>\n",
       "      <td>2.000000</td>\n",
       "      <td>332.761427</td>\n",
       "      <td>555.814095</td>\n",
       "      <td>1956.000000</td>\n",
       "      <td>2.000000</td>\n",
       "      <td>1.000000</td>\n",
       "      <td>2.000000</td>\n",
       "      <td>...</td>\n",
       "      <td>-88.000000</td>\n",
       "      <td>-88.000000</td>\n",
       "      <td>-88.000000</td>\n",
       "      <td>-88.000000</td>\n",
       "      <td>-88.000000</td>\n",
       "      <td>-88.000000</td>\n",
       "      <td>-88.00000</td>\n",
       "      <td>-88.000000</td>\n",
       "      <td>-88.000000</td>\n",
       "      <td>1.000000</td>\n",
       "    </tr>\n",
       "    <tr>\n",
       "      <th>50%</th>\n",
       "      <td>13.0</td>\n",
       "      <td>27.000000</td>\n",
       "      <td>35620.000000</td>\n",
       "      <td>3.000000</td>\n",
       "      <td>604.820254</td>\n",
       "      <td>1125.616392</td>\n",
       "      <td>1969.000000</td>\n",
       "      <td>2.000000</td>\n",
       "      <td>2.000000</td>\n",
       "      <td>2.000000</td>\n",
       "      <td>...</td>\n",
       "      <td>-88.000000</td>\n",
       "      <td>-88.000000</td>\n",
       "      <td>-88.000000</td>\n",
       "      <td>-88.000000</td>\n",
       "      <td>-88.000000</td>\n",
       "      <td>-88.000000</td>\n",
       "      <td>-88.00000</td>\n",
       "      <td>-88.000000</td>\n",
       "      <td>-88.000000</td>\n",
       "      <td>4.000000</td>\n",
       "    </tr>\n",
       "    <tr>\n",
       "      <th>75%</th>\n",
       "      <td>13.0</td>\n",
       "      <td>42.000000</td>\n",
       "      <td>41860.000000</td>\n",
       "      <td>4.000000</td>\n",
       "      <td>1179.949186</td>\n",
       "      <td>2348.620985</td>\n",
       "      <td>1982.000000</td>\n",
       "      <td>2.000000</td>\n",
       "      <td>2.000000</td>\n",
       "      <td>2.000000</td>\n",
       "      <td>...</td>\n",
       "      <td>-88.000000</td>\n",
       "      <td>-88.000000</td>\n",
       "      <td>-88.000000</td>\n",
       "      <td>-88.000000</td>\n",
       "      <td>-88.000000</td>\n",
       "      <td>-88.000000</td>\n",
       "      <td>-88.00000</td>\n",
       "      <td>-88.000000</td>\n",
       "      <td>-88.000000</td>\n",
       "      <td>6.000000</td>\n",
       "    </tr>\n",
       "    <tr>\n",
       "      <th>max</th>\n",
       "      <td>13.0</td>\n",
       "      <td>56.000000</td>\n",
       "      <td>47900.000000</td>\n",
       "      <td>4.000000</td>\n",
       "      <td>110618.302480</td>\n",
       "      <td>228944.991150</td>\n",
       "      <td>2002.000000</td>\n",
       "      <td>2.000000</td>\n",
       "      <td>2.000000</td>\n",
       "      <td>2.000000</td>\n",
       "      <td>...</td>\n",
       "      <td>1.000000</td>\n",
       "      <td>1.000000</td>\n",
       "      <td>1.000000</td>\n",
       "      <td>1.000000</td>\n",
       "      <td>1.000000</td>\n",
       "      <td>1.000000</td>\n",
       "      <td>1.00000</td>\n",
       "      <td>1.000000</td>\n",
       "      <td>1.000000</td>\n",
       "      <td>8.000000</td>\n",
       "    </tr>\n",
       "  </tbody>\n",
       "</table>\n",
       "<p>8 rows × 187 columns</p>\n",
       "</div>"
      ],
      "text/plain": [
       "           WEEK         EST_ST       EST_MSA         REGION        HWEIGHT  \\\n",
       "count  109051.0  109051.000000  35244.000000  109051.000000  109051.000000   \n",
       "mean       13.0      27.699242  31792.698899       2.685239    1114.342647   \n",
       "std         0.0      16.409699  11514.840187       1.079868    1755.280822   \n",
       "min        13.0       1.000000  12060.000000       1.000000      19.994057   \n",
       "25%        13.0      12.000000  19100.000000       2.000000     332.761427   \n",
       "50%        13.0      27.000000  35620.000000       3.000000     604.820254   \n",
       "75%        13.0      42.000000  41860.000000       4.000000    1179.949186   \n",
       "max        13.0      56.000000  47900.000000       4.000000  110618.302480   \n",
       "\n",
       "             PWEIGHT    TBIRTH_YEAR    ABIRTH_YEAR        EGENDER  \\\n",
       "count  109051.000000  109051.000000  109051.000000  109051.000000   \n",
       "mean     2284.902624    1969.251974       1.991793       1.587753   \n",
       "std      4156.272497      15.953085       0.090221       0.492242   \n",
       "min        19.635651    1932.000000       1.000000       1.000000   \n",
       "25%       555.814095    1956.000000       2.000000       1.000000   \n",
       "50%      1125.616392    1969.000000       2.000000       2.000000   \n",
       "75%      2348.620985    1982.000000       2.000000       2.000000   \n",
       "max    228944.991150    2002.000000       2.000000       2.000000   \n",
       "\n",
       "             AGENDER  ...      PSWHYCHG1      PSWHYCHG2      PSWHYCHG3  \\\n",
       "count  109051.000000  ...  109051.000000  109051.000000  109051.000000   \n",
       "mean        1.993095  ...     -84.786559     -89.458684     -88.606789   \n",
       "std         0.082809  ...      19.677547       5.565538       9.959077   \n",
       "min         1.000000  ...     -99.000000     -99.000000     -99.000000   \n",
       "25%         2.000000  ...     -88.000000     -88.000000     -88.000000   \n",
       "50%         2.000000  ...     -88.000000     -88.000000     -88.000000   \n",
       "75%         2.000000  ...     -88.000000     -88.000000     -88.000000   \n",
       "max         2.000000  ...       1.000000       1.000000       1.000000   \n",
       "\n",
       "           PSWHYCHG4      PSWHYCHG5      PSWHYCHG6     PSWHYCHG7  \\\n",
       "count  109051.000000  109051.000000  109051.000000  109051.00000   \n",
       "mean      -81.777875     -88.182217     -87.666862     -86.22075   \n",
       "std        24.361783      11.516732      13.143646      16.80769   \n",
       "min       -99.000000     -99.000000     -99.000000     -99.00000   \n",
       "25%       -88.000000     -88.000000     -88.000000     -88.00000   \n",
       "50%       -88.000000     -88.000000     -88.000000     -88.00000   \n",
       "75%       -88.000000     -88.000000     -88.000000     -88.00000   \n",
       "max         1.000000       1.000000       1.000000       1.00000   \n",
       "\n",
       "           PSWHYCHG8      PSWHYCHG9         INCOME  \n",
       "count  109051.000000  109051.000000  109051.000000  \n",
       "mean      -86.225335     -88.262914     -16.580215  \n",
       "std        16.797533      11.238543      39.391120  \n",
       "min       -99.000000     -99.000000     -99.000000  \n",
       "25%       -88.000000     -88.000000       1.000000  \n",
       "50%       -88.000000     -88.000000       4.000000  \n",
       "75%       -88.000000     -88.000000       6.000000  \n",
       "max         1.000000       1.000000       8.000000  \n",
       "\n",
       "[8 rows x 187 columns]"
      ]
     },
     "execution_count": 24,
     "metadata": {},
     "output_type": "execute_result"
    }
   ],
   "source": [
    "# Statistical summary of features\n",
    "df.describe()"
   ]
  },
  {
   "cell_type": "code",
   "execution_count": 64,
   "metadata": {
    "scrolled": false
   },
   "outputs": [
    {
     "data": {
      "text/plain": [
       "Index(['EST_MSA'], dtype='object')"
      ]
     },
     "execution_count": 64,
     "metadata": {},
     "output_type": "execute_result"
    }
   ],
   "source": [
    "# Checking for columns with null values\n",
    "null_columns = df.columns[df.isnull().any()]\n",
    "null_columns"
   ]
  },
  {
   "cell_type": "code",
   "execution_count": 65,
   "metadata": {
    "scrolled": false
   },
   "outputs": [
    {
     "data": {
      "text/plain": [
       "EST_MSA    67.681177\n",
       "dtype: float64"
      ]
     },
     "execution_count": 65,
     "metadata": {},
     "output_type": "execute_result"
    }
   ],
   "source": [
    "# Displaying percentage of null values in EST_MSA columns\n",
    "df[null_columns].isnull().sum()/len(df) * 100"
   ]
  },
  {
   "cell_type": "code",
   "execution_count": 215,
   "metadata": {
    "scrolled": true
   },
   "outputs": [],
   "source": [
    "# Converting all missing values to np.nan\n",
    "for col in df.columns:\n",
    "    try:\n",
    "        df[col] = df[col].map(lambda x: np.nan if x == -88 else x)\n",
    "    except ValueError:\n",
    "        print(f'{col} cannot be converted to null values')"
   ]
  },
  {
   "cell_type": "code",
   "execution_count": 86,
   "metadata": {},
   "outputs": [
    {
     "data": {
      "text/plain": [
       "Index(['EST_MSA', 'KINDWORK', 'RSNNOWRK', 'UNEMPPAY', 'UI_RECV', 'TUI_NUMPER',\n",
       "       'SSA_RECV', 'SSA_APPLY', 'SSAPGM1', 'SSAPGM2',\n",
       "       ...\n",
       "       'PSWHYCHG1', 'PSWHYCHG2', 'PSWHYCHG3', 'PSWHYCHG4', 'PSWHYCHG5',\n",
       "       'PSWHYCHG6', 'PSWHYCHG7', 'PSWHYCHG8', 'PSWHYCHG9', 'INCOME'],\n",
       "      dtype='object', length=159)"
      ]
     },
     "execution_count": 86,
     "metadata": {},
     "output_type": "execute_result"
    }
   ],
   "source": [
    "# Checking for columns with null values\n",
    "null_columns = df.columns[df.isnull().any()]\n",
    "null_columns"
   ]
  },
  {
   "cell_type": "code",
   "execution_count": 91,
   "metadata": {
    "scrolled": true
   },
   "outputs": [
    {
     "data": {
      "text/plain": [
       "[('SNAPMNTH9', 100.0),\n",
       " ('SNAPMNTH10', 100.0),\n",
       " ('SNAPMNTH11', 100.0),\n",
       " ('SNAPMNTH12', 100.0),\n",
       " ('EVICT', 97.72400069692162),\n",
       " ('SSAPGM1', 97.71207966914562),\n",
       " ('SSAPGM2', 97.71207966914562),\n",
       " ('SSAPGM3', 97.71207966914562),\n",
       " ('SSAPGM4', 97.71207966914562),\n",
       " ('SSAPGM5', 97.71207966914562),\n",
       " ('FORCLOSE', 97.09585423334036),\n",
       " ('SSAEXPCT1', 94.96565826998376),\n",
       " ('SSAEXPCT2', 94.96565826998376),\n",
       " ('SSAEXPCT3', 94.96565826998376),\n",
       " ('SSAEXPCT4', 94.96565826998376),\n",
       " ('SSAEXPCT5', 94.96565826998376),\n",
       " ('WHEREFREE1', 94.74557775719617),\n",
       " ('WHEREFREE2', 94.74557775719617),\n",
       " ('WHEREFREE3', 94.74557775719617),\n",
       " ('WHEREFREE4', 94.74557775719617),\n",
       " ('WHEREFREE5', 94.74557775719617),\n",
       " ('WHEREFREE6', 94.74557775719617),\n",
       " ('WHEREFREE7', 94.74557775719617),\n",
       " ('SNAPMNTH1', 93.74421142401262),\n",
       " ('SNAPMNTH2', 93.74421142401262),\n",
       " ('SNAPMNTH3', 93.74421142401262),\n",
       " ('SNAPMNTH4', 93.74421142401262),\n",
       " ('SNAPMNTH5', 93.74421142401262),\n",
       " ('SNAPMNTH6', 93.74421142401262),\n",
       " ('SNAPMNTH7', 93.74421142401262),\n",
       " ('SNAPMNTH8', 93.74421142401262),\n",
       " ('CHILDFOOD', 87.80662258943065),\n",
       " ('PSWHYCHG1', 84.99692804284234),\n",
       " ('PSWHYCHG2', 84.99692804284234),\n",
       " ('PSWHYCHG3', 84.99692804284234),\n",
       " ('PSWHYCHG4', 84.99692804284234),\n",
       " ('PSWHYCHG5', 84.99692804284234),\n",
       " ('PSWHYCHG6', 84.99692804284234),\n",
       " ('PSWHYCHG7', 84.99692804284234),\n",
       " ('PSWHYCHG8', 84.99692804284234),\n",
       " ('PSWHYCHG9', 84.99692804284234),\n",
       " ('UI_RECV', 83.48387451742762),\n",
       " ('PSPLANS1', 80.4641864815545),\n",
       " ('PSPLANS2', 80.4641864815545),\n",
       " ('PSPLANS3', 80.4641864815545),\n",
       " ('PSPLANS4', 80.4641864815545),\n",
       " ('PSPLANS5', 80.4641864815545),\n",
       " ('PSPLANS6', 80.4641864815545),\n",
       " ('PSCHNG1', 80.4641864815545),\n",
       " ('PSCHNG2', 80.4641864815545),\n",
       " ('PSCHNG3', 80.4641864815545),\n",
       " ('PSCHNG4', 80.4641864815545),\n",
       " ('PSCHNG5', 80.4641864815545),\n",
       " ('PSCHNG6', 80.4641864815545),\n",
       " ('PSCHNG7', 80.4641864815545),\n",
       " ('RENTCUR', 80.02035744743286),\n",
       " ('INTRNT1', 79.30326177659994),\n",
       " ('INTRNT2', 79.30326177659994),\n",
       " ('INTRNT3', 79.30326177659994),\n",
       " ('SCHLHRS', 79.09051728090526),\n",
       " ('TSTDY_HRS', 79.09051728090526),\n",
       " ('TCH_HRS', 79.09051728090526),\n",
       " ('COMP1', 78.7869895736857),\n",
       " ('COMP2', 78.7869895736857),\n",
       " ('COMP3', 78.7869895736857),\n",
       " ('INTRNTAVAIL', 78.4935488899689),\n",
       " ('TEACH1', 78.31198246691915),\n",
       " ('TEACH2', 78.31198246691915),\n",
       " ('TEACH3', 78.31198246691915),\n",
       " ('TEACH4', 78.31198246691915),\n",
       " ('TEACH5', 78.31198246691915),\n",
       " ('COMPAVAIL', 78.31198246691915),\n",
       " ('FOODSUFRSN1', 70.21760460701873),\n",
       " ('FOODSUFRSN2', 70.21760460701873),\n",
       " ('FOODSUFRSN3', 70.21760460701873),\n",
       " ('FOODSUFRSN4', 70.21760460701873),\n",
       " ('FOODSUFRSN5', 70.21760460701873),\n",
       " ('ENROLL1', 68.58992581452715),\n",
       " ('ENROLL2', 68.58992581452715),\n",
       " ('ENROLL3', 68.58992581452715),\n",
       " ('EST_MSA', 67.68117669714171),\n",
       " ('RSNNOWRK', 61.90864824715041),\n",
       " ('UNEMPPAY', 61.90864824715041),\n",
       " ('MORTCUR', 59.061356612960914),\n",
       " ('MORTCONF', 39.23485341720846),\n",
       " ('KINDWORK', 38.68740314164932),\n",
       " ('SSALIKELY', 29.44585560884357),\n",
       " ('SSADECISN', 27.863109921046114),\n",
       " ('CNCLDTRPS', 27.352339730951574),\n",
       " ('WHYCHNGD1', 25.79527010297934),\n",
       " ('WHYCHNGD2', 25.79527010297934),\n",
       " ('WHYCHNGD3', 25.79527010297934),\n",
       " ('WHYCHNGD4', 25.79527010297934),\n",
       " ('WHYCHNGD5', 25.79527010297934),\n",
       " ('WHYCHNGD6', 25.79527010297934),\n",
       " ('WHYCHNGD7', 25.79527010297934),\n",
       " ('WHYCHNGD8', 25.79527010297934),\n",
       " ('WHYCHNGD9', 25.79527010297934),\n",
       " ('WHYCHNGD10', 25.79527010297934),\n",
       " ('WHYCHNGD11', 25.79527010297934),\n",
       " ('WHYCHNGD12', 25.79527010297934),\n",
       " ('WHYCHNGD13', 25.79527010297934),\n",
       " ('TUI_NUMPER', 24.707705568953976),\n",
       " ('INCOME', 19.759562039779553),\n",
       " ('TNUM_PS', 18.8563149352138),\n",
       " ('TENURE', 17.14335494401702),\n",
       " ('LIVQTR', 17.14335494401702),\n",
       " ('TBEDROOMS', 17.14335494401702),\n",
       " ('DELAY', 16.25202886722726),\n",
       " ('NOTGET', 16.25202886722726),\n",
       " ('PRESCRIPT', 16.25202886722726),\n",
       " ('MH_SVCS', 16.25202886722726),\n",
       " ('MH_NOTGET', 16.25202886722726),\n",
       " ('HLTHINS1', 15.367121805393808),\n",
       " ('HLTHINS2', 15.367121805393808),\n",
       " ('HLTHINS3', 15.367121805393808),\n",
       " ('HLTHINS4', 15.367121805393808),\n",
       " ('HLTHINS5', 15.367121805393808),\n",
       " ('HLTHINS6', 15.367121805393808),\n",
       " ('HLTHINS7', 15.367121805393808),\n",
       " ('HLTHINS8', 15.367121805393808),\n",
       " ('HLTHSTATUS', 14.594089004227378),\n",
       " ('ANXIOUS', 14.594089004227378),\n",
       " ('WORRY', 14.594089004227378),\n",
       " ('INTEREST', 14.594089004227378),\n",
       " ('DOWN', 14.594089004227378),\n",
       " ('FOODCONF', 13.396484213808218),\n",
       " ('TSPNDPRPD', 13.190158733069849),\n",
       " ('TSPNDFOOD', 12.360271799433292),\n",
       " ('SNAP_YN', 8.918762780717278),\n",
       " ('FREEFOOD', 8.726192332028134),\n",
       " ('PRIFOODSUF', 8.323628394054158),\n",
       " ('CURFOODSUF', 8.323628394054158),\n",
       " ('SPNDSRC1', 7.3800331954773455),\n",
       " ('SPNDSRC2', 7.3800331954773455),\n",
       " ('SPNDSRC3', 7.3800331954773455),\n",
       " ('SPNDSRC4', 7.3800331954773455),\n",
       " ('SPNDSRC5', 7.3800331954773455),\n",
       " ('SPNDSRC6', 7.3800331954773455),\n",
       " ('SPNDSRC7', 7.3800331954773455),\n",
       " ('SPNDSRC8', 7.3800331954773455),\n",
       " ('FEWRTRIPS', 7.3800331954773455),\n",
       " ('FEWRTRANS', 7.3800331954773455),\n",
       " ('PLNDTRIPS', 7.3800331954773455),\n",
       " ('SSA_APPLY', 6.703285618655491),\n",
       " ('CHNGHOW1', 3.5653043071590353),\n",
       " ('CHNGHOW2', 3.5653043071590353),\n",
       " ('CHNGHOW3', 3.5653043071590353),\n",
       " ('CHNGHOW4', 3.5653043071590353),\n",
       " ('CHNGHOW5', 3.5653043071590353),\n",
       " ('CHNGHOW6', 3.5653043071590353),\n",
       " ('CHNGHOW7', 3.5653043071590353),\n",
       " ('CHNGHOW8', 3.5653043071590353),\n",
       " ('CHNGHOW9', 3.5653043071590353),\n",
       " ('CHNGHOW10', 3.5653043071590353),\n",
       " ('CHNGHOW11', 3.5653043071590353),\n",
       " ('CHNGHOW12', 3.5653043071590353),\n",
       " ('EXPNS_DIF', 2.0935158778919956),\n",
       " ('SSA_RECV', 0.3172827392687825)]"
      ]
     },
     "execution_count": 91,
     "metadata": {},
     "output_type": "execute_result"
    }
   ],
   "source": [
    "# Displaying percentage of null values in all columns with null values\n",
    "percent_null = {}\n",
    "for col in null_columns:\n",
    "    percent_null[col] = (df[col].isnull().sum()/len(df)) * 100\n",
    "sorted_percent_null = sorted(percent_null.items(),key = lambda x: x[1],reverse = True)\n",
    "sorted_percent_null"
   ]
  },
  {
   "cell_type": "markdown",
   "metadata": {},
   "source": [
    "**`SNAPMNTH`**"
   ]
  },
  {
   "cell_type": "markdown",
   "metadata": {},
   "source": [
    "The high percentage of null values of > 90% in all `SNAPMNTH` columns(`SNAPMNTH1`-`SNAPMNTH12`) suggest a lack of awareness or exposure to the Supplemental Nutrition Assistance Program(SNAP) or Food Stamp Program"
   ]
  },
  {
   "cell_type": "code",
   "execution_count": 217,
   "metadata": {
    "scrolled": false
   },
   "outputs": [
    {
     "data": {
      "text/plain": [
       " 2.0     83.787402\n",
       " NaN      8.918763\n",
       " 1.0      6.308975\n",
       "-99.0     0.984860\n",
       "Name: SNAP_YN, dtype: float64"
      ]
     },
     "execution_count": 217,
     "metadata": {},
     "output_type": "execute_result"
    }
   ],
   "source": [
    "# Looking at the percentage of people who received the SNAP receipt\n",
    "df['SNAP_YN'].value_counts(normalize = True, dropna = False) * 100"
   ]
  },
  {
   "cell_type": "markdown",
   "metadata": {},
   "source": [
    "Based on the `SNAP_YN` column which indicates if households have benefitted from the SNAP program, 91% of the population responded that they **do not** have access to such an aid which answers for the high null values in the `SNAPMNTH` columns. Therefore the `SNAPMNTH` columns can be dropped since a large amount of data is mising and the `SNAP_YN` feature is sufficient as an input in our model."
   ]
  },
  {
   "cell_type": "markdown",
   "metadata": {},
   "source": [
    "**Dropping the SNAPMNTH columns**"
   ]
  },
  {
   "cell_type": "code",
   "execution_count": 239,
   "metadata": {},
   "outputs": [],
   "source": [
    "# Saving al SNAPMNTH columns in snap_cols\n",
    "snap_cols = ['SNAPMNTH1','SNAPMNTH2','SNAPMNTH3',\n",
    "             'SNAPMNTH4','SNAPMNTH5','SNAPMNTH6',\n",
    "            'SNAPMNTH7','SNAPMNTH8','SNAPMNTH9',\n",
    "             'SNAPMNTH10','SNAPMNTH11','SNAPMNTH12']"
   ]
  },
  {
   "cell_type": "code",
   "execution_count": 240,
   "metadata": {},
   "outputs": [],
   "source": [
    "# Dropping all SNAPMNTH columns\n",
    "df.drop(columns = snap_cols,inplace = True)"
   ]
  },
  {
   "cell_type": "code",
   "execution_count": 203,
   "metadata": {},
   "outputs": [
    {
     "data": {
      "text/plain": [
       "[('EVICT', 97.72400069692162),\n",
       " ('SSAPGM1', 97.71207966914562),\n",
       " ('SSAPGM2', 97.71207966914562),\n",
       " ('SSAPGM3', 97.71207966914562),\n",
       " ('SSAPGM4', 97.71207966914562),\n",
       " ('SSAPGM5', 97.71207966914562),\n",
       " ('FORCLOSE', 97.09585423334036),\n",
       " ('SSAEXPCT1', 94.96565826998376),\n",
       " ('SSAEXPCT2', 94.96565826998376),\n",
       " ('SSAEXPCT3', 94.96565826998376),\n",
       " ('SSAEXPCT4', 94.96565826998376),\n",
       " ('SSAEXPCT5', 94.96565826998376),\n",
       " ('WHEREFREE1', 94.74557775719617),\n",
       " ('WHEREFREE2', 94.74557775719617),\n",
       " ('WHEREFREE3', 94.74557775719617),\n",
       " ('WHEREFREE4', 94.74557775719617),\n",
       " ('WHEREFREE5', 94.74557775719617),\n",
       " ('WHEREFREE6', 94.74557775719617),\n",
       " ('WHEREFREE7', 94.74557775719617),\n",
       " ('CHILDFOOD', 87.80662258943065),\n",
       " ('PSWHYCHG1', 84.99692804284234),\n",
       " ('PSWHYCHG2', 84.99692804284234),\n",
       " ('PSWHYCHG3', 84.99692804284234),\n",
       " ('PSWHYCHG4', 84.99692804284234),\n",
       " ('PSWHYCHG5', 84.99692804284234),\n",
       " ('PSWHYCHG6', 84.99692804284234),\n",
       " ('PSWHYCHG7', 84.99692804284234),\n",
       " ('PSWHYCHG8', 84.99692804284234),\n",
       " ('PSWHYCHG9', 84.99692804284234),\n",
       " ('UI_RECV', 83.48387451742762),\n",
       " ('PSPLANS1', 80.4641864815545),\n",
       " ('PSPLANS2', 80.4641864815545),\n",
       " ('PSPLANS3', 80.4641864815545),\n",
       " ('PSPLANS4', 80.4641864815545),\n",
       " ('PSPLANS5', 80.4641864815545),\n",
       " ('PSPLANS6', 80.4641864815545),\n",
       " ('PSCHNG1', 80.4641864815545),\n",
       " ('PSCHNG2', 80.4641864815545),\n",
       " ('PSCHNG3', 80.4641864815545),\n",
       " ('PSCHNG4', 80.4641864815545),\n",
       " ('PSCHNG5', 80.4641864815545),\n",
       " ('PSCHNG6', 80.4641864815545),\n",
       " ('PSCHNG7', 80.4641864815545),\n",
       " ('RENTCUR', 80.02035744743286),\n",
       " ('INTRNT1', 79.30326177659994),\n",
       " ('INTRNT2', 79.30326177659994),\n",
       " ('INTRNT3', 79.30326177659994),\n",
       " ('SCHLHRS', 79.09051728090526),\n",
       " ('TSTDY_HRS', 79.09051728090526),\n",
       " ('TCH_HRS', 79.09051728090526),\n",
       " ('COMP1', 78.7869895736857),\n",
       " ('COMP2', 78.7869895736857),\n",
       " ('COMP3', 78.7869895736857),\n",
       " ('INTRNTAVAIL', 78.4935488899689),\n",
       " ('TEACH1', 78.31198246691915),\n",
       " ('TEACH2', 78.31198246691915),\n",
       " ('TEACH3', 78.31198246691915),\n",
       " ('TEACH4', 78.31198246691915),\n",
       " ('TEACH5', 78.31198246691915),\n",
       " ('COMPAVAIL', 78.31198246691915),\n",
       " ('FOODSUFRSN1', 70.21760460701873),\n",
       " ('FOODSUFRSN2', 70.21760460701873),\n",
       " ('FOODSUFRSN3', 70.21760460701873),\n",
       " ('FOODSUFRSN4', 70.21760460701873),\n",
       " ('FOODSUFRSN5', 70.21760460701873),\n",
       " ('ENROLL1', 68.58992581452715),\n",
       " ('ENROLL2', 68.58992581452715),\n",
       " ('ENROLL3', 68.58992581452715),\n",
       " ('EST_MSA', 67.68117669714171),\n",
       " ('RSNNOWRK', 61.90864824715041),\n",
       " ('UNEMPPAY', 61.90864824715041),\n",
       " ('MORTCUR', 59.061356612960914),\n",
       " ('MORTCONF', 39.23485341720846),\n",
       " ('KINDWORK', 38.68740314164932),\n",
       " ('SSALIKELY', 29.44585560884357),\n",
       " ('SSADECISN', 27.863109921046114),\n",
       " ('CNCLDTRPS', 27.352339730951574),\n",
       " ('WHYCHNGD1', 25.79527010297934),\n",
       " ('WHYCHNGD2', 25.79527010297934),\n",
       " ('WHYCHNGD3', 25.79527010297934),\n",
       " ('WHYCHNGD4', 25.79527010297934),\n",
       " ('WHYCHNGD5', 25.79527010297934),\n",
       " ('WHYCHNGD6', 25.79527010297934),\n",
       " ('WHYCHNGD7', 25.79527010297934),\n",
       " ('WHYCHNGD8', 25.79527010297934),\n",
       " ('WHYCHNGD9', 25.79527010297934),\n",
       " ('WHYCHNGD10', 25.79527010297934),\n",
       " ('WHYCHNGD11', 25.79527010297934),\n",
       " ('WHYCHNGD12', 25.79527010297934),\n",
       " ('WHYCHNGD13', 25.79527010297934),\n",
       " ('TUI_NUMPER', 24.707705568953976),\n",
       " ('INCOME', 19.759562039779553),\n",
       " ('TNUM_PS', 18.8563149352138),\n",
       " ('TENURE', 17.14335494401702),\n",
       " ('LIVQTR', 17.14335494401702),\n",
       " ('TBEDROOMS', 17.14335494401702),\n",
       " ('DELAY', 16.25202886722726),\n",
       " ('NOTGET', 16.25202886722726),\n",
       " ('PRESCRIPT', 16.25202886722726),\n",
       " ('MH_SVCS', 16.25202886722726),\n",
       " ('MH_NOTGET', 16.25202886722726),\n",
       " ('HLTHINS1', 15.367121805393808),\n",
       " ('HLTHINS2', 15.367121805393808),\n",
       " ('HLTHINS3', 15.367121805393808),\n",
       " ('HLTHINS4', 15.367121805393808),\n",
       " ('HLTHINS5', 15.367121805393808),\n",
       " ('HLTHINS6', 15.367121805393808),\n",
       " ('HLTHINS7', 15.367121805393808),\n",
       " ('HLTHINS8', 15.367121805393808),\n",
       " ('HLTHSTATUS', 14.594089004227378),\n",
       " ('ANXIOUS', 14.594089004227378),\n",
       " ('WORRY', 14.594089004227378),\n",
       " ('INTEREST', 14.594089004227378),\n",
       " ('DOWN', 14.594089004227378),\n",
       " ('FOODCONF', 13.396484213808218),\n",
       " ('TSPNDPRPD', 13.190158733069849),\n",
       " ('TSPNDFOOD', 12.360271799433292),\n",
       " ('SNAP_YN', 8.918762780717278),\n",
       " ('FREEFOOD', 8.726192332028134),\n",
       " ('PRIFOODSUF', 8.323628394054158),\n",
       " ('CURFOODSUF', 8.323628394054158),\n",
       " ('SPNDSRC1', 7.3800331954773455),\n",
       " ('SPNDSRC2', 7.3800331954773455),\n",
       " ('SPNDSRC3', 7.3800331954773455),\n",
       " ('SPNDSRC4', 7.3800331954773455),\n",
       " ('SPNDSRC5', 7.3800331954773455),\n",
       " ('SPNDSRC6', 7.3800331954773455),\n",
       " ('SPNDSRC7', 7.3800331954773455),\n",
       " ('SPNDSRC8', 7.3800331954773455),\n",
       " ('FEWRTRIPS', 7.3800331954773455),\n",
       " ('FEWRTRANS', 7.3800331954773455),\n",
       " ('PLNDTRIPS', 7.3800331954773455),\n",
       " ('SSA_APPLY', 6.703285618655491),\n",
       " ('CHNGHOW1', 3.5653043071590353),\n",
       " ('CHNGHOW2', 3.5653043071590353),\n",
       " ('CHNGHOW3', 3.5653043071590353),\n",
       " ('CHNGHOW4', 3.5653043071590353),\n",
       " ('CHNGHOW5', 3.5653043071590353),\n",
       " ('CHNGHOW6', 3.5653043071590353),\n",
       " ('CHNGHOW7', 3.5653043071590353),\n",
       " ('CHNGHOW8', 3.5653043071590353),\n",
       " ('CHNGHOW9', 3.5653043071590353),\n",
       " ('CHNGHOW10', 3.5653043071590353),\n",
       " ('CHNGHOW11', 3.5653043071590353),\n",
       " ('CHNGHOW12', 3.5653043071590353),\n",
       " ('EXPNS_DIF', 2.0935158778919956),\n",
       " ('SSA_RECV', 0.3172827392687825)]"
      ]
     },
     "execution_count": 203,
     "metadata": {},
     "output_type": "execute_result"
    }
   ],
   "source": [
    "# Checking for columns with null values\n",
    "null_columns = df.columns[df.isnull().any()]\n",
    "\n",
    "percent_null = {}\n",
    "for col in null_columns:\n",
    "    percent_null[col] = (df[col].isnull().sum()/len(df)) * 100\n",
    "sorted_percent_null = sorted(percent_null.items(),key = lambda x: x[1],reverse = True)\n",
    "sorted_percent_null"
   ]
  },
  {
   "cell_type": "markdown",
   "metadata": {},
   "source": [
    "**`EVICT`**"
   ]
  },
  {
   "cell_type": "markdown",
   "metadata": {},
   "source": [
    "The next feature with many null values would be `EVICT` which asks how likely the household will have to be evicted in the next 2 months."
   ]
  },
  {
   "cell_type": "code",
   "execution_count": 223,
   "metadata": {},
   "outputs": [
    {
     "data": {
      "text/plain": [
       " 3.0     30.741338\n",
       " 2.0     29.814666\n",
       " 4.0     24.254633\n",
       " 1.0     14.504432\n",
       "-99.0     0.684932\n",
       "Name: EVICT, dtype: float64"
      ]
     },
     "execution_count": 223,
     "metadata": {},
     "output_type": "execute_result"
    }
   ],
   "source": [
    "# Removal of missing values from EVICT\n",
    "df['EVICT'].value_counts(normalize = True) * 100"
   ]
  },
  {
   "cell_type": "markdown",
   "metadata": {},
   "source": [
    "Graph shows the sentiments of the remaining respondents, where > 60% feel that they are susceptible to eviction"
   ]
  },
  {
   "cell_type": "code",
   "execution_count": 228,
   "metadata": {
    "scrolled": false
   },
   "outputs": [
    {
     "data": {
      "image/png": "[encoded data removed]",
      "text/plain": [
       "<Figure size 864x360 with 1 Axes>"
      ]
     },
     "metadata": {
      "needs_background": "light"
     },
     "output_type": "display_data"
    }
   ],
   "source": [
    "# 1 - Extremely likely to be evicted and 4 - Not at all likely\n",
    "plt.figure(figsize = (12,5))\n",
    "sns.countplot(df['EVICT'])\n",
    "plt.title('Frequency against likelihood of eviction');"
   ]
  },
  {
   "cell_type": "markdown",
   "metadata": {},
   "source": [
    "**`FORCLOSE`** <br>\n",
    "Similar to `EVICT` which asks respondents about the likelihood of losing the ability to pay mortgage and thus obligated to give up their homes"
   ]
  },
  {
   "cell_type": "code",
   "execution_count": 248,
   "metadata": {
    "scrolled": false
   },
   "outputs": [
    {
     "data": {
      "text/plain": [
       " 4.0     45.689927\n",
       " 3.0     36.248816\n",
       " 2.0     13.545943\n",
       " 1.0      3.915377\n",
       "-99.0     0.599937\n",
       "Name: FORCLOSE, dtype: float64"
      ]
     },
     "execution_count": 248,
     "metadata": {},
     "output_type": "execute_result"
    }
   ],
   "source": [
    "df['FORCLOSE'].value_counts(normalize = True) * 100"
   ]
  },
  {
   "cell_type": "markdown",
   "metadata": {},
   "source": [
    "For the remaining respondents, >50% are worried about foreclosure "
   ]
  },
  {
   "cell_type": "code",
   "execution_count": 245,
   "metadata": {},
   "outputs": [
    {
     "data": {
      "text/plain": [
       "<matplotlib.axes._subplots.AxesSubplot at 0x26690f60340>"
      ]
     },
     "execution_count": 245,
     "metadata": {},
     "output_type": "execute_result"
    },
    {
     "data": {
      "image/png": "[encoded data removed]",
      "text/plain": [
       "<Figure size 432x288 with 1 Axes>"
      ]
     },
     "metadata": {
      "needs_background": "light"
     },
     "output_type": "display_data"
    }
   ],
   "source": [
    "sns.countplot(df['FORCLOSE'])"
   ]
  },
  {
   "cell_type": "markdown",
   "metadata": {},
   "source": [
    "**`SSAPGM`**"
   ]
  },
  {
   "cell_type": "markdown",
   "metadata": {},
   "source": [
    "These questions are only asked if response to the application of Social Security Programs after March 13,2020/`SSA_APPLY` is 1(yes) "
   ]
  },
  {
   "cell_type": "code",
   "execution_count": 230,
   "metadata": {
    "scrolled": true
   },
   "outputs": [
    {
     "data": {
      "text/plain": [
       " 2.0     0.896746\n",
       " NaN     0.067033\n",
       " 1.0     0.023127\n",
       "-99.0    0.013095\n",
       "Name: SSA_APPLY, dtype: float64"
      ]
     },
     "execution_count": 230,
     "metadata": {},
     "output_type": "execute_result"
    }
   ],
   "source": [
    "df['SSA_APPLY'].value_counts(normalize = True,dropna = False)"
   ]
  },
  {
   "cell_type": "markdown",
   "metadata": {},
   "source": [
    "Therefore, since majority of the population has yet to apply for any Social Security Programs, the responses to the subsequent questions(`SSAPGM1` - `SSAPGM5`) are low and thus could be dropped"
   ]
  },
  {
   "cell_type": "code",
   "execution_count": 235,
   "metadata": {
    "scrolled": false
   },
   "outputs": [
    {
     "data": {
      "image/png": "[encoded data removed]",
      "text/plain": [
       "<Figure size 432x288 with 1 Axes>"
      ]
     },
     "metadata": {
      "needs_background": "light"
     },
     "output_type": "display_data"
    }
   ],
   "source": [
    "# 1 - Yes, 2 - No\n",
    "sns.countplot(df['SSA_APPLY'])\n",
    "plt.title('Frequency against application status for Social Security Programs');"
   ]
  },
  {
   "cell_type": "code",
   "execution_count": 249,
   "metadata": {
    "scrolled": true
   },
   "outputs": [
    {
     "ename": "KeyError",
     "evalue": "\"['SSAPGM1' 'SSAPGM2' 'SSAPGM3' 'SSAPGM4' 'SSAPGM5'] not found in axis\"",
     "output_type": "error",
     "traceback": [
      "\u001b[1;31m---------------------------------------------------------------------------\u001b[0m",
      "\u001b[1;31mKeyError\u001b[0m                                  Traceback (most recent call last)",
      "\u001b[1;32m<ipython-input-249-327e4515fc02>\u001b[0m in \u001b[0;36m<module>\u001b[1;34m\u001b[0m\n\u001b[0;32m      1\u001b[0m \u001b[0mssapgm_cols\u001b[0m \u001b[1;33m=\u001b[0m \u001b[1;33m[\u001b[0m\u001b[1;34m'SSAPGM1'\u001b[0m\u001b[1;33m,\u001b[0m\u001b[1;34m'SSAPGM2'\u001b[0m\u001b[1;33m,\u001b[0m\u001b[1;34m'SSAPGM3'\u001b[0m\u001b[1;33m,\u001b[0m\u001b[1;34m'SSAPGM4'\u001b[0m\u001b[1;33m,\u001b[0m\u001b[1;34m'SSAPGM5'\u001b[0m\u001b[1;33m]\u001b[0m\u001b[1;33m\u001b[0m\u001b[1;33m\u001b[0m\u001b[0m\n\u001b[1;32m----> 2\u001b[1;33m \u001b[0mdf\u001b[0m\u001b[1;33m.\u001b[0m\u001b[0mdrop\u001b[0m\u001b[1;33m(\u001b[0m\u001b[0mcolumns\u001b[0m \u001b[1;33m=\u001b[0m \u001b[0mssapgm_cols\u001b[0m\u001b[1;33m,\u001b[0m\u001b[0minplace\u001b[0m \u001b[1;33m=\u001b[0m \u001b[1;32mTrue\u001b[0m\u001b[1;33m)\u001b[0m\u001b[1;33m\u001b[0m\u001b[1;33m\u001b[0m\u001b[0m\n\u001b[0m",
      "\u001b[1;32mD:\\downloads\\lib\\site-packages\\pandas\\core\\frame.py\u001b[0m in \u001b[0;36mdrop\u001b[1;34m(self, labels, axis, index, columns, level, inplace, errors)\u001b[0m\n\u001b[0;32m   3988\u001b[0m                 \u001b[0mweight\u001b[0m  \u001b[1;36m1.0\u001b[0m     \u001b[1;36m0.8\u001b[0m\u001b[1;33m\u001b[0m\u001b[1;33m\u001b[0m\u001b[0m\n\u001b[0;32m   3989\u001b[0m         \"\"\"\n\u001b[1;32m-> 3990\u001b[1;33m         return super().drop(\n\u001b[0m\u001b[0;32m   3991\u001b[0m             \u001b[0mlabels\u001b[0m\u001b[1;33m=\u001b[0m\u001b[0mlabels\u001b[0m\u001b[1;33m,\u001b[0m\u001b[1;33m\u001b[0m\u001b[1;33m\u001b[0m\u001b[0m\n\u001b[0;32m   3992\u001b[0m             \u001b[0maxis\u001b[0m\u001b[1;33m=\u001b[0m\u001b[0maxis\u001b[0m\u001b[1;33m,\u001b[0m\u001b[1;33m\u001b[0m\u001b[1;33m\u001b[0m\u001b[0m\n",
      "\u001b[1;32mD:\\downloads\\lib\\site-packages\\pandas\\core\\generic.py\u001b[0m in \u001b[0;36mdrop\u001b[1;34m(self, labels, axis, index, columns, level, inplace, errors)\u001b[0m\n\u001b[0;32m   3934\u001b[0m         \u001b[1;32mfor\u001b[0m \u001b[0maxis\u001b[0m\u001b[1;33m,\u001b[0m \u001b[0mlabels\u001b[0m \u001b[1;32min\u001b[0m \u001b[0maxes\u001b[0m\u001b[1;33m.\u001b[0m\u001b[0mitems\u001b[0m\u001b[1;33m(\u001b[0m\u001b[1;33m)\u001b[0m\u001b[1;33m:\u001b[0m\u001b[1;33m\u001b[0m\u001b[1;33m\u001b[0m\u001b[0m\n\u001b[0;32m   3935\u001b[0m             \u001b[1;32mif\u001b[0m \u001b[0mlabels\u001b[0m \u001b[1;32mis\u001b[0m \u001b[1;32mnot\u001b[0m \u001b[1;32mNone\u001b[0m\u001b[1;33m:\u001b[0m\u001b[1;33m\u001b[0m\u001b[1;33m\u001b[0m\u001b[0m\n\u001b[1;32m-> 3936\u001b[1;33m                 \u001b[0mobj\u001b[0m \u001b[1;33m=\u001b[0m \u001b[0mobj\u001b[0m\u001b[1;33m.\u001b[0m\u001b[0m_drop_axis\u001b[0m\u001b[1;33m(\u001b[0m\u001b[0mlabels\u001b[0m\u001b[1;33m,\u001b[0m \u001b[0maxis\u001b[0m\u001b[1;33m,\u001b[0m \u001b[0mlevel\u001b[0m\u001b[1;33m=\u001b[0m\u001b[0mlevel\u001b[0m\u001b[1;33m,\u001b[0m \u001b[0merrors\u001b[0m\u001b[1;33m=\u001b[0m\u001b[0merrors\u001b[0m\u001b[1;33m)\u001b[0m\u001b[1;33m\u001b[0m\u001b[1;33m\u001b[0m\u001b[0m\n\u001b[0m\u001b[0;32m   3937\u001b[0m \u001b[1;33m\u001b[0m\u001b[0m\n\u001b[0;32m   3938\u001b[0m         \u001b[1;32mif\u001b[0m \u001b[0minplace\u001b[0m\u001b[1;33m:\u001b[0m\u001b[1;33m\u001b[0m\u001b[1;33m\u001b[0m\u001b[0m\n",
      "\u001b[1;32mD:\\downloads\\lib\\site-packages\\pandas\\core\\generic.py\u001b[0m in \u001b[0;36m_drop_axis\u001b[1;34m(self, labels, axis, level, errors)\u001b[0m\n\u001b[0;32m   3968\u001b[0m                 \u001b[0mnew_axis\u001b[0m \u001b[1;33m=\u001b[0m \u001b[0maxis\u001b[0m\u001b[1;33m.\u001b[0m\u001b[0mdrop\u001b[0m\u001b[1;33m(\u001b[0m\u001b[0mlabels\u001b[0m\u001b[1;33m,\u001b[0m \u001b[0mlevel\u001b[0m\u001b[1;33m=\u001b[0m\u001b[0mlevel\u001b[0m\u001b[1;33m,\u001b[0m \u001b[0merrors\u001b[0m\u001b[1;33m=\u001b[0m\u001b[0merrors\u001b[0m\u001b[1;33m)\u001b[0m\u001b[1;33m\u001b[0m\u001b[1;33m\u001b[0m\u001b[0m\n\u001b[0;32m   3969\u001b[0m             \u001b[1;32melse\u001b[0m\u001b[1;33m:\u001b[0m\u001b[1;33m\u001b[0m\u001b[1;33m\u001b[0m\u001b[0m\n\u001b[1;32m-> 3970\u001b[1;33m                 \u001b[0mnew_axis\u001b[0m \u001b[1;33m=\u001b[0m \u001b[0maxis\u001b[0m\u001b[1;33m.\u001b[0m\u001b[0mdrop\u001b[0m\u001b[1;33m(\u001b[0m\u001b[0mlabels\u001b[0m\u001b[1;33m,\u001b[0m \u001b[0merrors\u001b[0m\u001b[1;33m=\u001b[0m\u001b[0merrors\u001b[0m\u001b[1;33m)\u001b[0m\u001b[1;33m\u001b[0m\u001b[1;33m\u001b[0m\u001b[0m\n\u001b[0m\u001b[0;32m   3971\u001b[0m             \u001b[0mresult\u001b[0m \u001b[1;33m=\u001b[0m \u001b[0mself\u001b[0m\u001b[1;33m.\u001b[0m\u001b[0mreindex\u001b[0m\u001b[1;33m(\u001b[0m\u001b[1;33m**\u001b[0m\u001b[1;33m{\u001b[0m\u001b[0maxis_name\u001b[0m\u001b[1;33m:\u001b[0m \u001b[0mnew_axis\u001b[0m\u001b[1;33m}\u001b[0m\u001b[1;33m)\u001b[0m\u001b[1;33m\u001b[0m\u001b[1;33m\u001b[0m\u001b[0m\n\u001b[0;32m   3972\u001b[0m \u001b[1;33m\u001b[0m\u001b[0m\n",
      "\u001b[1;32mD:\\downloads\\lib\\site-packages\\pandas\\core\\indexes\\base.py\u001b[0m in \u001b[0;36mdrop\u001b[1;34m(self, labels, errors)\u001b[0m\n\u001b[0;32m   5016\u001b[0m         \u001b[1;32mif\u001b[0m \u001b[0mmask\u001b[0m\u001b[1;33m.\u001b[0m\u001b[0many\u001b[0m\u001b[1;33m(\u001b[0m\u001b[1;33m)\u001b[0m\u001b[1;33m:\u001b[0m\u001b[1;33m\u001b[0m\u001b[1;33m\u001b[0m\u001b[0m\n\u001b[0;32m   5017\u001b[0m             \u001b[1;32mif\u001b[0m \u001b[0merrors\u001b[0m \u001b[1;33m!=\u001b[0m \u001b[1;34m\"ignore\"\u001b[0m\u001b[1;33m:\u001b[0m\u001b[1;33m\u001b[0m\u001b[1;33m\u001b[0m\u001b[0m\n\u001b[1;32m-> 5018\u001b[1;33m                 \u001b[1;32mraise\u001b[0m \u001b[0mKeyError\u001b[0m\u001b[1;33m(\u001b[0m\u001b[1;34mf\"{labels[mask]} not found in axis\"\u001b[0m\u001b[1;33m)\u001b[0m\u001b[1;33m\u001b[0m\u001b[1;33m\u001b[0m\u001b[0m\n\u001b[0m\u001b[0;32m   5019\u001b[0m             \u001b[0mindexer\u001b[0m \u001b[1;33m=\u001b[0m \u001b[0mindexer\u001b[0m\u001b[1;33m[\u001b[0m\u001b[1;33m~\u001b[0m\u001b[0mmask\u001b[0m\u001b[1;33m]\u001b[0m\u001b[1;33m\u001b[0m\u001b[1;33m\u001b[0m\u001b[0m\n\u001b[0;32m   5020\u001b[0m         \u001b[1;32mreturn\u001b[0m \u001b[0mself\u001b[0m\u001b[1;33m.\u001b[0m\u001b[0mdelete\u001b[0m\u001b[1;33m(\u001b[0m\u001b[0mindexer\u001b[0m\u001b[1;33m)\u001b[0m\u001b[1;33m\u001b[0m\u001b[1;33m\u001b[0m\u001b[0m\n",
      "\u001b[1;31mKeyError\u001b[0m: \"['SSAPGM1' 'SSAPGM2' 'SSAPGM3' 'SSAPGM4' 'SSAPGM5'] not found in axis\""
     ]
    }
   ],
   "source": [
    "ssapgm_cols = ['SSAPGM1','SSAPGM2','SSAPGM3','SSAPGM4','SSAPGM5']\n",
    "df.drop(columns = ssapgm_cols,inplace = True)"
   ]
  },
  {
   "cell_type": "code",
   "execution_count": 250,
   "metadata": {},
   "outputs": [
    {
     "data": {
      "text/plain": [
       "[('EVICT', 97.72400069692162),\n",
       " ('FORCLOSE', 97.09585423334036),\n",
       " ('SSAEXPCT1', 94.96565826998376),\n",
       " ('SSAEXPCT2', 94.96565826998376),\n",
       " ('SSAEXPCT3', 94.96565826998376),\n",
       " ('SSAEXPCT4', 94.96565826998376),\n",
       " ('SSAEXPCT5', 94.96565826998376),\n",
       " ('WHEREFREE1', 94.74557775719617),\n",
       " ('WHEREFREE2', 94.74557775719617),\n",
       " ('WHEREFREE3', 94.74557775719617),\n",
       " ('WHEREFREE4', 94.74557775719617),\n",
       " ('WHEREFREE5', 94.74557775719617),\n",
       " ('WHEREFREE6', 94.74557775719617),\n",
       " ('WHEREFREE7', 94.74557775719617),\n",
       " ('CHILDFOOD', 87.80662258943065),\n",
       " ('PSWHYCHG1', 84.99692804284234),\n",
       " ('PSWHYCHG2', 84.99692804284234),\n",
       " ('PSWHYCHG3', 84.99692804284234),\n",
       " ('PSWHYCHG4', 84.99692804284234),\n",
       " ('PSWHYCHG5', 84.99692804284234),\n",
       " ('PSWHYCHG6', 84.99692804284234),\n",
       " ('PSWHYCHG7', 84.99692804284234),\n",
       " ('PSWHYCHG8', 84.99692804284234),\n",
       " ('PSWHYCHG9', 84.99692804284234),\n",
       " ('UI_RECV', 83.48387451742762),\n",
       " ('PSPLANS1', 80.4641864815545),\n",
       " ('PSPLANS2', 80.4641864815545),\n",
       " ('PSPLANS3', 80.4641864815545),\n",
       " ('PSPLANS4', 80.4641864815545),\n",
       " ('PSPLANS5', 80.4641864815545),\n",
       " ('PSPLANS6', 80.4641864815545),\n",
       " ('PSCHNG1', 80.4641864815545),\n",
       " ('PSCHNG2', 80.4641864815545),\n",
       " ('PSCHNG3', 80.4641864815545),\n",
       " ('PSCHNG4', 80.4641864815545),\n",
       " ('PSCHNG5', 80.4641864815545),\n",
       " ('PSCHNG6', 80.4641864815545),\n",
       " ('PSCHNG7', 80.4641864815545),\n",
       " ('RENTCUR', 80.02035744743286),\n",
       " ('INTRNT1', 79.30326177659994),\n",
       " ('INTRNT2', 79.30326177659994),\n",
       " ('INTRNT3', 79.30326177659994),\n",
       " ('SCHLHRS', 79.09051728090526),\n",
       " ('TSTDY_HRS', 79.09051728090526),\n",
       " ('TCH_HRS', 79.09051728090526),\n",
       " ('COMP1', 78.7869895736857),\n",
       " ('COMP2', 78.7869895736857),\n",
       " ('COMP3', 78.7869895736857),\n",
       " ('INTRNTAVAIL', 78.4935488899689),\n",
       " ('TEACH1', 78.31198246691915),\n",
       " ('TEACH2', 78.31198246691915),\n",
       " ('TEACH3', 78.31198246691915),\n",
       " ('TEACH4', 78.31198246691915),\n",
       " ('TEACH5', 78.31198246691915),\n",
       " ('COMPAVAIL', 78.31198246691915),\n",
       " ('FOODSUFRSN1', 70.21760460701873),\n",
       " ('FOODSUFRSN2', 70.21760460701873),\n",
       " ('FOODSUFRSN3', 70.21760460701873),\n",
       " ('FOODSUFRSN4', 70.21760460701873),\n",
       " ('FOODSUFRSN5', 70.21760460701873),\n",
       " ('ENROLL1', 68.58992581452715),\n",
       " ('ENROLL2', 68.58992581452715),\n",
       " ('ENROLL3', 68.58992581452715),\n",
       " ('EST_MSA', 67.68117669714171),\n",
       " ('RSNNOWRK', 61.90864824715041),\n",
       " ('UNEMPPAY', 61.90864824715041),\n",
       " ('MORTCUR', 59.061356612960914),\n",
       " ('MORTCONF', 39.23485341720846),\n",
       " ('KINDWORK', 38.68740314164932),\n",
       " ('SSALIKELY', 29.44585560884357),\n",
       " ('SSADECISN', 27.863109921046114),\n",
       " ('CNCLDTRPS', 27.352339730951574),\n",
       " ('WHYCHNGD1', 25.79527010297934),\n",
       " ('WHYCHNGD2', 25.79527010297934),\n",
       " ('WHYCHNGD3', 25.79527010297934),\n",
       " ('WHYCHNGD4', 25.79527010297934),\n",
       " ('WHYCHNGD5', 25.79527010297934),\n",
       " ('WHYCHNGD6', 25.79527010297934),\n",
       " ('WHYCHNGD7', 25.79527010297934),\n",
       " ('WHYCHNGD8', 25.79527010297934),\n",
       " ('WHYCHNGD9', 25.79527010297934),\n",
       " ('WHYCHNGD10', 25.79527010297934),\n",
       " ('WHYCHNGD11', 25.79527010297934),\n",
       " ('WHYCHNGD12', 25.79527010297934),\n",
       " ('WHYCHNGD13', 25.79527010297934),\n",
       " ('TUI_NUMPER', 24.707705568953976),\n",
       " ('INCOME', 19.759562039779553),\n",
       " ('TNUM_PS', 18.8563149352138),\n",
       " ('TENURE', 17.14335494401702),\n",
       " ('LIVQTR', 17.14335494401702),\n",
       " ('TBEDROOMS', 17.14335494401702),\n",
       " ('DELAY', 16.25202886722726),\n",
       " ('NOTGET', 16.25202886722726),\n",
       " ('PRESCRIPT', 16.25202886722726),\n",
       " ('MH_SVCS', 16.25202886722726),\n",
       " ('MH_NOTGET', 16.25202886722726),\n",
       " ('HLTHINS1', 15.367121805393808),\n",
       " ('HLTHINS2', 15.367121805393808),\n",
       " ('HLTHINS3', 15.367121805393808),\n",
       " ('HLTHINS4', 15.367121805393808),\n",
       " ('HLTHINS5', 15.367121805393808),\n",
       " ('HLTHINS6', 15.367121805393808),\n",
       " ('HLTHINS7', 15.367121805393808),\n",
       " ('HLTHINS8', 15.367121805393808),\n",
       " ('HLTHSTATUS', 14.594089004227378),\n",
       " ('ANXIOUS', 14.594089004227378),\n",
       " ('WORRY', 14.594089004227378),\n",
       " ('INTEREST', 14.594089004227378),\n",
       " ('DOWN', 14.594089004227378),\n",
       " ('FOODCONF', 13.396484213808218),\n",
       " ('TSPNDPRPD', 13.190158733069849),\n",
       " ('TSPNDFOOD', 12.360271799433292),\n",
       " ('SNAP_YN', 8.918762780717278),\n",
       " ('FREEFOOD', 8.726192332028134),\n",
       " ('PRIFOODSUF', 8.323628394054158),\n",
       " ('CURFOODSUF', 8.323628394054158),\n",
       " ('SPNDSRC1', 7.3800331954773455),\n",
       " ('SPNDSRC2', 7.3800331954773455),\n",
       " ('SPNDSRC3', 7.3800331954773455),\n",
       " ('SPNDSRC4', 7.3800331954773455),\n",
       " ('SPNDSRC5', 7.3800331954773455),\n",
       " ('SPNDSRC6', 7.3800331954773455),\n",
       " ('SPNDSRC7', 7.3800331954773455),\n",
       " ('SPNDSRC8', 7.3800331954773455),\n",
       " ('FEWRTRIPS', 7.3800331954773455),\n",
       " ('FEWRTRANS', 7.3800331954773455),\n",
       " ('PLNDTRIPS', 7.3800331954773455),\n",
       " ('SSA_APPLY', 6.703285618655491),\n",
       " ('CHNGHOW1', 3.5653043071590353),\n",
       " ('CHNGHOW2', 3.5653043071590353),\n",
       " ('CHNGHOW3', 3.5653043071590353),\n",
       " ('CHNGHOW4', 3.5653043071590353),\n",
       " ('CHNGHOW5', 3.5653043071590353),\n",
       " ('CHNGHOW6', 3.5653043071590353),\n",
       " ('CHNGHOW7', 3.5653043071590353),\n",
       " ('CHNGHOW8', 3.5653043071590353),\n",
       " ('CHNGHOW9', 3.5653043071590353),\n",
       " ('CHNGHOW10', 3.5653043071590353),\n",
       " ('CHNGHOW11', 3.5653043071590353),\n",
       " ('CHNGHOW12', 3.5653043071590353),\n",
       " ('EXPNS_DIF', 2.0935158778919956),\n",
       " ('SSA_RECV', 0.3172827392687825)]"
      ]
     },
     "execution_count": 250,
     "metadata": {},
     "output_type": "execute_result"
    }
   ],
   "source": [
    "# Checking for columns with null values\n",
    "null_columns = df.columns[df.isnull().any()]\n",
    "\n",
    "percent_null = {}\n",
    "for col in null_columns:\n",
    "    percent_null[col] = (df[col].isnull().sum()/len(df)) * 100\n",
    "sorted_percent_null = sorted(percent_null.items(),key = lambda x: x[1],reverse = True)\n",
    "sorted_percent_null"
   ]
  },
  {
   "cell_type": "markdown",
   "metadata": {},
   "source": [
    "**`SSAEXPCT`**"
   ]
  },
  {
   "cell_type": "markdown",
   "metadata": {},
   "source": [
    "These questions are asked only if response to the application of Social Security Programs in the next 12 months/`SSALIKELY` is likely(1-3). "
   ]
  },
  {
   "cell_type": "code",
   "execution_count": 255,
   "metadata": {},
   "outputs": [
    {
     "data": {
      "text/plain": [
       " 4.0     65.274046\n",
       " NaN     29.445856\n",
       " 3.0      2.923403\n",
       " 1.0      1.255376\n",
       " 2.0      1.000449\n",
       "-99.0     0.100870\n",
       "Name: SSALIKELY, dtype: float64"
      ]
     },
     "execution_count": 255,
     "metadata": {},
     "output_type": "execute_result"
    }
   ],
   "source": [
    "df['SSALIKELY'].value_counts(normalize = True,dropna = False)*100"
   ]
  },
  {
   "cell_type": "markdown",
   "metadata": {},
   "source": [
    "A large percentage of people are unlikely to apply for the SSP even within the next 12 months. However, there is a large proportion of null values."
   ]
  },
  {
   "cell_type": "code",
   "execution_count": 258,
   "metadata": {
    "scrolled": true
   },
   "outputs": [
    {
     "data": {
      "image/png": "[encoded data removed]",
      "text/plain": [
       "<Figure size 432x288 with 1 Axes>"
      ]
     },
     "metadata": {
      "needs_background": "light"
     },
     "output_type": "display_data"
    }
   ],
   "source": [
    "sns.countplot(df['SSALIKELY'])\n",
    "plt.title('Frequency against likelihood of SSP application within next 12 months');"
   ]
  },
  {
   "cell_type": "markdown",
   "metadata": {},
   "source": [
    "Since a large proportion of data is missing from the `SSAEXPCT` features and that these features are correlated, they would be dropped."
   ]
  },
  {
   "cell_type": "code",
   "execution_count": 260,
   "metadata": {},
   "outputs": [],
   "source": [
    "ssa_cols = ['SSAEXPCT1','SSAEXPCT2','SSAEXPCT3','SSAEXPCT4','SSAEXPCT5']\n",
    "df.drop(columns = ssa_cols,inplace = True)"
   ]
  },
  {
   "cell_type": "markdown",
   "metadata": {},
   "source": [
    "**`WHEREFREE`**"
   ]
  },
  {
   "cell_type": "markdown",
   "metadata": {},
   "source": [
    "These questions are asked only if respondent's response to free groceries or a free meal in the last 7 days/`FREEFOOD` is yes(1)"
   ]
  },
  {
   "cell_type": "code",
   "execution_count": 264,
   "metadata": {
    "scrolled": false
   },
   "outputs": [
    {
     "data": {
      "text/plain": [
       " 2.0     85.350891\n",
       " NaN      8.726192\n",
       " 1.0      5.295687\n",
       "-99.0     0.627229\n",
       "Name: FREEFOOD, dtype: float64"
      ]
     },
     "execution_count": 264,
     "metadata": {},
     "output_type": "execute_result"
    }
   ],
   "source": [
    "df['FREEFOOD'].value_counts(normalize = True,dropna = False) * 100"
   ]
  },
  {
   "cell_type": "code",
   "execution_count": 267,
   "metadata": {},
   "outputs": [
    {
     "data": {
      "image/png": "[encoded data removed]",
      "text/plain": [
       "<Figure size 432x288 with 1 Axes>"
      ]
     },
     "metadata": {
      "needs_background": "light"
     },
     "output_type": "display_data"
    }
   ],
   "source": [
    "sns.countplot(df['FREEFOOD'])\n",
    "plt.title('Frequency against retrival of free meals/groceries');"
   ]
  },
  {
   "cell_type": "markdown",
   "metadata": {},
   "source": [
    "Since a large proportion of the population did not get free meals/groceries, the subsequent `WHEREFREE` questions would be expected to be left empty. Since these questions are also correlated, they should be dropped."
   ]
  },
  {
   "cell_type": "code",
   "execution_count": 268,
   "metadata": {},
   "outputs": [],
   "source": [
    "where_cols = ['WHEREFREE1','WHEREFREE2','WHEREFREE3',\n",
    "             'WHEREFREE4','WHEREFREE5','WHEREFREE6','WHEREFREE7']\n",
    "df.drop(columns = where_cols,inplace = True)"
   ]
  },
  {
   "cell_type": "markdown",
   "metadata": {
    "scrolled": true
   },
   "source": [
    "Dropping all `PSWHYCHG` because they are highly correlated to other features namely the `PSCHNG` features thus would all be dropped"
   ]
  },
  {
   "cell_type": "code",
   "execution_count": 270,
   "metadata": {},
   "outputs": [],
   "source": [
    "# 7% of respondents did not seek help \n",
    "pswhy_psp_cols = ['PSWHYCHG1','PSWHYCHG2','PSWHYCHG3',\n",
    "                 'PSWHYCHG4','PSWHYCHG5','PSWHYCHG6',\n",
    "                  'PSWHYCHG7','PSWHYCHG8','PSWHYCHG9',\n",
    "                  'PSPLANS1','PSPLANS2','PSPLANS3','PSPLANS4',\n",
    "                  'PSPLANS5','PSPLANS6'\n",
    "                 ]"
   ]
  },
  {
   "cell_type": "code",
   "execution_count": null,
   "metadata": {},
   "outputs": [],
   "source": [
    "df.drop(columns = pswhy_psp_cols,inplace = True)"
   ]
  },
  {
   "cell_type": "code",
   "execution_count": 273,
   "metadata": {
    "scrolled": false
   },
   "outputs": [
    {
     "data": {
      "text/plain": [
       "[('EVICT', 97.72400069692162),\n",
       " ('FORCLOSE', 97.09585423334036),\n",
       " ('CHILDFOOD', 87.80662258943065),\n",
       " ('UI_RECV', 83.48387451742762),\n",
       " ('PSPLANS4', 80.4641864815545),\n",
       " ('PSCHNG1', 80.4641864815545),\n",
       " ('PSCHNG2', 80.4641864815545),\n",
       " ('PSCHNG3', 80.4641864815545),\n",
       " ('PSCHNG4', 80.4641864815545),\n",
       " ('PSCHNG5', 80.4641864815545),\n",
       " ('PSCHNG6', 80.4641864815545),\n",
       " ('PSCHNG7', 80.4641864815545),\n",
       " ('RENTCUR', 80.02035744743286),\n",
       " ('INTRNT1', 79.30326177659994),\n",
       " ('INTRNT2', 79.30326177659994),\n",
       " ('INTRNT3', 79.30326177659994),\n",
       " ('SCHLHRS', 79.09051728090526),\n",
       " ('TSTDY_HRS', 79.09051728090526),\n",
       " ('TCH_HRS', 79.09051728090526),\n",
       " ('COMP1', 78.7869895736857),\n",
       " ('COMP2', 78.7869895736857),\n",
       " ('COMP3', 78.7869895736857),\n",
       " ('INTRNTAVAIL', 78.4935488899689),\n",
       " ('TEACH1', 78.31198246691915),\n",
       " ('TEACH2', 78.31198246691915),\n",
       " ('TEACH3', 78.31198246691915),\n",
       " ('TEACH4', 78.31198246691915),\n",
       " ('TEACH5', 78.31198246691915),\n",
       " ('COMPAVAIL', 78.31198246691915),\n",
       " ('FOODSUFRSN1', 70.21760460701873),\n",
       " ('FOODSUFRSN2', 70.21760460701873),\n",
       " ('FOODSUFRSN3', 70.21760460701873),\n",
       " ('FOODSUFRSN4', 70.21760460701873),\n",
       " ('FOODSUFRSN5', 70.21760460701873),\n",
       " ('ENROLL1', 68.58992581452715),\n",
       " ('ENROLL2', 68.58992581452715),\n",
       " ('ENROLL3', 68.58992581452715),\n",
       " ('RSNNOWRK', 61.90864824715041),\n",
       " ('UNEMPPAY', 61.90864824715041),\n",
       " ('MORTCUR', 59.061356612960914),\n",
       " ('MORTCONF', 39.23485341720846),\n",
       " ('KINDWORK', 38.68740314164932),\n",
       " ('SSALIKELY', 29.44585560884357),\n",
       " ('SSADECISN', 27.863109921046114),\n",
       " ('CNCLDTRPS', 27.352339730951574),\n",
       " ('WHYCHNGD1', 25.79527010297934),\n",
       " ('WHYCHNGD2', 25.79527010297934),\n",
       " ('WHYCHNGD3', 25.79527010297934),\n",
       " ('WHYCHNGD4', 25.79527010297934),\n",
       " ('WHYCHNGD5', 25.79527010297934),\n",
       " ('WHYCHNGD6', 25.79527010297934),\n",
       " ('WHYCHNGD7', 25.79527010297934),\n",
       " ('WHYCHNGD8', 25.79527010297934),\n",
       " ('WHYCHNGD9', 25.79527010297934),\n",
       " ('WHYCHNGD10', 25.79527010297934),\n",
       " ('WHYCHNGD11', 25.79527010297934),\n",
       " ('WHYCHNGD12', 25.79527010297934),\n",
       " ('WHYCHNGD13', 25.79527010297934),\n",
       " ('TUI_NUMPER', 24.707705568953976),\n",
       " ('INCOME', 19.759562039779553),\n",
       " ('TNUM_PS', 18.8563149352138),\n",
       " ('TENURE', 17.14335494401702),\n",
       " ('LIVQTR', 17.14335494401702),\n",
       " ('TBEDROOMS', 17.14335494401702),\n",
       " ('DELAY', 16.25202886722726),\n",
       " ('NOTGET', 16.25202886722726),\n",
       " ('PRESCRIPT', 16.25202886722726),\n",
       " ('MH_SVCS', 16.25202886722726),\n",
       " ('MH_NOTGET', 16.25202886722726),\n",
       " ('HLTHINS1', 15.367121805393808),\n",
       " ('HLTHINS2', 15.367121805393808),\n",
       " ('HLTHINS3', 15.367121805393808),\n",
       " ('HLTHINS4', 15.367121805393808),\n",
       " ('HLTHINS5', 15.367121805393808),\n",
       " ('HLTHINS6', 15.367121805393808),\n",
       " ('HLTHINS7', 15.367121805393808),\n",
       " ('HLTHINS8', 15.367121805393808),\n",
       " ('HLTHSTATUS', 14.594089004227378),\n",
       " ('ANXIOUS', 14.594089004227378),\n",
       " ('WORRY', 14.594089004227378),\n",
       " ('INTEREST', 14.594089004227378),\n",
       " ('DOWN', 14.594089004227378),\n",
       " ('FOODCONF', 13.396484213808218),\n",
       " ('TSPNDPRPD', 13.190158733069849),\n",
       " ('TSPNDFOOD', 12.360271799433292),\n",
       " ('SNAP_YN', 8.918762780717278),\n",
       " ('FREEFOOD', 8.726192332028134),\n",
       " ('PRIFOODSUF', 8.323628394054158),\n",
       " ('CURFOODSUF', 8.323628394054158),\n",
       " ('SPNDSRC1', 7.3800331954773455),\n",
       " ('SPNDSRC2', 7.3800331954773455),\n",
       " ('SPNDSRC3', 7.3800331954773455),\n",
       " ('SPNDSRC4', 7.3800331954773455),\n",
       " ('SPNDSRC5', 7.3800331954773455),\n",
       " ('SPNDSRC6', 7.3800331954773455),\n",
       " ('SPNDSRC7', 7.3800331954773455),\n",
       " ('SPNDSRC8', 7.3800331954773455),\n",
       " ('FEWRTRIPS', 7.3800331954773455),\n",
       " ('FEWRTRANS', 7.3800331954773455),\n",
       " ('PLNDTRIPS', 7.3800331954773455),\n",
       " ('SSA_APPLY', 6.703285618655491),\n",
       " ('CHNGHOW1', 3.5653043071590353),\n",
       " ('CHNGHOW2', 3.5653043071590353),\n",
       " ('CHNGHOW3', 3.5653043071590353),\n",
       " ('CHNGHOW4', 3.5653043071590353),\n",
       " ('CHNGHOW5', 3.5653043071590353),\n",
       " ('CHNGHOW6', 3.5653043071590353),\n",
       " ('CHNGHOW7', 3.5653043071590353),\n",
       " ('CHNGHOW8', 3.5653043071590353),\n",
       " ('CHNGHOW9', 3.5653043071590353),\n",
       " ('CHNGHOW10', 3.5653043071590353),\n",
       " ('CHNGHOW11', 3.5653043071590353),\n",
       " ('CHNGHOW12', 3.5653043071590353),\n",
       " ('EXPNS_DIF', 2.0935158778919956),\n",
       " ('SSA_RECV', 0.3172827392687825)]"
      ]
     },
     "execution_count": 273,
     "metadata": {},
     "output_type": "execute_result"
    }
   ],
   "source": [
    "# Checking for columns with null values\n",
    "null_columns = df.columns[df.isnull().any()]\n",
    "\n",
    "percent_null = {}\n",
    "for col in null_columns:\n",
    "    percent_null[col] = (df[col].isnull().sum()/len(df)) * 100\n",
    "sorted_percent_null = sorted(percent_null.items(),key = lambda x: x[1],reverse = True)\n",
    "sorted_percent_null"
   ]
  },
  {
   "cell_type": "code",
   "execution_count": 274,
   "metadata": {},
   "outputs": [
    {
     "data": {
      "text/plain": [
       "(109051, 143)"
      ]
     },
     "execution_count": 274,
     "metadata": {},
     "output_type": "execute_result"
    }
   ],
   "source": [
    "df.shape"
   ]
  }
 ],
 "metadata": {
  "kernelspec": {
   "display_name": "Python 3",
   "language": "python",
   "name": "python3"
  },
  "language_info": {
   "codemirror_mode": {
    "name": "ipython",
    "version": 3
   },
   "file_extension": ".py",
   "mimetype": "text/x-python",
   "name": "python",
   "nbconvert_exporter": "python",
   "pygments_lexer": "ipython3",
   "version": "3.8.3"
  }
 },
 "nbformat": 4,
 "nbformat_minor": 4
}

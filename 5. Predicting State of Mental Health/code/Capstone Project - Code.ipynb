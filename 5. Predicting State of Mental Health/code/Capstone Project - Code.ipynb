{
 "cells": [
  {
   "cell_type": "markdown",
   "metadata": {},
   "source": [
    "# Capstone Project: Post-Covid Mental Health Status"
   ]
  },
  {
   "cell_type": "markdown",
   "metadata": {},
   "source": [
    "## Problem Statement\n",
    "The unprecendented COVID pandemic is predicted to have a long-tail effect on the mental health of people. Moreover, the lack of mental heath literacy/awareness has discouraged people from seeking the help they need. In order identify this susceptible group of people as well as to understand and quantify importance of factors that drive such a vulnerability/resistance to seeking mental aid, I aim to build a binary classification model whose performance is measured by ROC-AUC and recall scores to predict the likelihood of the development of mental health distress. Factors such as employment status,food security and health status would be included in my model and I will make well-informed recommendations to better tackle the root causes of such an illness."
   ]
  },
  {
   "cell_type": "markdown",
   "metadata": {},
   "source": [
    "## Executive Summary\n",
    "The recent COVID pandemic has caused much distraught in every aspect of human society. The fear of an uncurable foreign illness, loss of jobs and mandatory isolation of the infected and predisposed populations have been overwhelming. In addition to the detrimental effects of COVID on the physical health of people, it has also brought to light the implications of such an unprecedented pandemic on the mental health of people. There is now an increasing need to destigmatize mental health and to provide early interventions before associated problems manifest. Therefore, we aim to develop a model to predict susceptible populations to developing mental health problems and to curb the root of such issues before they manifest into a greater problem. We aim to provide well-informed suggestions to stateboards and mental health institutes on where to focus and channel resources. In addition, we strive to understand the underlying root causes of such mental distress through analyzing survey responses on different aspects of lifelihood, such as food security, employment status and many more."
   ]
  },
  {
   "cell_type": "markdown",
   "metadata": {},
   "source": [
    "## Risk and assumptions"
   ]
  },
  {
   "cell_type": "markdown",
   "metadata": {},
   "source": [
    "The dataset consists of a set of questionaries which are heavily subjected to the bias of respondents. Moreover, many of the questions are correlated and thus dependent. This would affect the performance of our model as the assumption that features are independent is ivolated"
   ]
  },
  {
   "cell_type": "markdown",
   "metadata": {},
   "source": [
    "## Contents"
   ]
  },
  {
   "cell_type": "code",
   "execution_count": 1,
   "metadata": {},
   "outputs": [],
   "source": [
    "# import libraries\n",
    "import pandas as pd\n",
    "import numpy as np\n",
    "import scipy.stats as stats\n",
    "import matplotlib.pyplot as plt\n",
    "import seaborn as sns\n",
    "import datetime as dt\n",
    "\n",
    "import warnings\n",
    "warnings.filterwarnings('ignore')\n",
    "%matplotlib inline"
   ]
  },
  {
   "cell_type": "code",
   "execution_count": 2,
   "metadata": {},
   "outputs": [],
   "source": [
    "from sklearn.svm import SVC\n",
    "from sklearn.metrics import roc_auc_score\n",
    "from sklearn.tree import DecisionTreeClassifier\n",
    "from sklearn.naive_bayes import MultinomialNB\n",
    "from sklearn.neighbors import KNeighborsClassifier\n",
    "from sklearn.pipeline import Pipeline\n",
    "from sklearn.model_selection import train_test_split, GridSearchCV\n",
    "from sklearn.linear_model import LogisticRegression\n",
    "from sklearn.metrics import classification_report, confusion_matrix\n",
    "from sklearn.ensemble import RandomForestClassifier, ExtraTreesClassifier, AdaBoostClassifier, BaggingClassifier, GradientBoostingClassifier\n",
    "from sklearn.preprocessing import PolynomialFeatures, StandardScaler\n",
    "import re"
   ]
  },
  {
   "cell_type": "markdown",
   "metadata": {},
   "source": [
    "## Data Visualization"
   ]
  },
  {
   "cell_type": "code",
   "execution_count": 62,
   "metadata": {},
   "outputs": [],
   "source": [
    "# Reading the csv file\n",
    "df = pd.read_csv('../datasets/pulse2020_puf_13.csv')"
   ]
  },
  {
   "cell_type": "code",
   "execution_count": 4,
   "metadata": {},
   "outputs": [
    {
     "name": "stdout",
     "output_type": "stream",
     "text": [
      "Rows: 109051\n",
      "Columns: 188\n"
     ]
    }
   ],
   "source": [
    "# Number of columns and rows in data\n",
    "print(f'Rows: {df.shape[0]}')\n",
    "print(f'Columns: {df.shape[1]}')"
   ]
  },
  {
   "cell_type": "code",
   "execution_count": 5,
   "metadata": {
    "scrolled": true
   },
   "outputs": [
    {
     "data": {
      "text/html": [
       "<div>\n",
       "<style scoped>\n",
       "    .dataframe tbody tr th:only-of-type {\n",
       "        vertical-align: middle;\n",
       "    }\n",
       "\n",
       "    .dataframe tbody tr th {\n",
       "        vertical-align: top;\n",
       "    }\n",
       "\n",
       "    .dataframe thead th {\n",
       "        text-align: right;\n",
       "    }\n",
       "</style>\n",
       "<table border=\"1\" class=\"dataframe\">\n",
       "  <thead>\n",
       "    <tr style=\"text-align: right;\">\n",
       "      <th></th>\n",
       "      <th>SCRAM</th>\n",
       "      <th>WEEK</th>\n",
       "      <th>EST_ST</th>\n",
       "      <th>EST_MSA</th>\n",
       "      <th>REGION</th>\n",
       "      <th>HWEIGHT</th>\n",
       "      <th>PWEIGHT</th>\n",
       "      <th>TBIRTH_YEAR</th>\n",
       "      <th>ABIRTH_YEAR</th>\n",
       "      <th>EGENDER</th>\n",
       "      <th>...</th>\n",
       "      <th>PSWHYCHG1</th>\n",
       "      <th>PSWHYCHG2</th>\n",
       "      <th>PSWHYCHG3</th>\n",
       "      <th>PSWHYCHG4</th>\n",
       "      <th>PSWHYCHG5</th>\n",
       "      <th>PSWHYCHG6</th>\n",
       "      <th>PSWHYCHG7</th>\n",
       "      <th>PSWHYCHG8</th>\n",
       "      <th>PSWHYCHG9</th>\n",
       "      <th>INCOME</th>\n",
       "    </tr>\n",
       "  </thead>\n",
       "  <tbody>\n",
       "    <tr>\n",
       "      <th>0</th>\n",
       "      <td>V130000001S12010403200123</td>\n",
       "      <td>13</td>\n",
       "      <td>48</td>\n",
       "      <td>19100.0</td>\n",
       "      <td>2</td>\n",
       "      <td>1276.886650</td>\n",
       "      <td>1278.107099</td>\n",
       "      <td>1989</td>\n",
       "      <td>2</td>\n",
       "      <td>1</td>\n",
       "      <td>...</td>\n",
       "      <td>-88</td>\n",
       "      <td>-88</td>\n",
       "      <td>-88</td>\n",
       "      <td>-88</td>\n",
       "      <td>-88</td>\n",
       "      <td>-88</td>\n",
       "      <td>-88</td>\n",
       "      <td>-88</td>\n",
       "      <td>-88</td>\n",
       "      <td>2</td>\n",
       "    </tr>\n",
       "    <tr>\n",
       "      <th>1</th>\n",
       "      <td>V130000001S34010154300113</td>\n",
       "      <td>13</td>\n",
       "      <td>1</td>\n",
       "      <td>NaN</td>\n",
       "      <td>2</td>\n",
       "      <td>1195.578846</td>\n",
       "      <td>2323.078960</td>\n",
       "      <td>1988</td>\n",
       "      <td>2</td>\n",
       "      <td>2</td>\n",
       "      <td>...</td>\n",
       "      <td>-99</td>\n",
       "      <td>-99</td>\n",
       "      <td>-99</td>\n",
       "      <td>1</td>\n",
       "      <td>1</td>\n",
       "      <td>-99</td>\n",
       "      <td>1</td>\n",
       "      <td>-99</td>\n",
       "      <td>1</td>\n",
       "      <td>6</td>\n",
       "    </tr>\n",
       "    <tr>\n",
       "      <th>2</th>\n",
       "      <td>V130000001S37010241600123</td>\n",
       "      <td>13</td>\n",
       "      <td>1</td>\n",
       "      <td>NaN</td>\n",
       "      <td>2</td>\n",
       "      <td>1124.648326</td>\n",
       "      <td>1092.628425</td>\n",
       "      <td>1969</td>\n",
       "      <td>2</td>\n",
       "      <td>1</td>\n",
       "      <td>...</td>\n",
       "      <td>-88</td>\n",
       "      <td>-88</td>\n",
       "      <td>-88</td>\n",
       "      <td>-88</td>\n",
       "      <td>-88</td>\n",
       "      <td>-88</td>\n",
       "      <td>-88</td>\n",
       "      <td>-88</td>\n",
       "      <td>-88</td>\n",
       "      <td>7</td>\n",
       "    </tr>\n",
       "    <tr>\n",
       "      <th>3</th>\n",
       "      <td>V130000001S37010645600123</td>\n",
       "      <td>13</td>\n",
       "      <td>1</td>\n",
       "      <td>NaN</td>\n",
       "      <td>2</td>\n",
       "      <td>517.598058</td>\n",
       "      <td>1005.723011</td>\n",
       "      <td>1947</td>\n",
       "      <td>2</td>\n",
       "      <td>1</td>\n",
       "      <td>...</td>\n",
       "      <td>-88</td>\n",
       "      <td>-88</td>\n",
       "      <td>-88</td>\n",
       "      <td>-88</td>\n",
       "      <td>-88</td>\n",
       "      <td>-88</td>\n",
       "      <td>-88</td>\n",
       "      <td>-88</td>\n",
       "      <td>-88</td>\n",
       "      <td>6</td>\n",
       "    </tr>\n",
       "    <tr>\n",
       "      <th>4</th>\n",
       "      <td>V130000001S70011963510113</td>\n",
       "      <td>13</td>\n",
       "      <td>1</td>\n",
       "      <td>NaN</td>\n",
       "      <td>2</td>\n",
       "      <td>432.646602</td>\n",
       "      <td>840.657411</td>\n",
       "      <td>1968</td>\n",
       "      <td>2</td>\n",
       "      <td>2</td>\n",
       "      <td>...</td>\n",
       "      <td>-88</td>\n",
       "      <td>-88</td>\n",
       "      <td>-88</td>\n",
       "      <td>-88</td>\n",
       "      <td>-88</td>\n",
       "      <td>-88</td>\n",
       "      <td>-88</td>\n",
       "      <td>-88</td>\n",
       "      <td>-88</td>\n",
       "      <td>-88</td>\n",
       "    </tr>\n",
       "  </tbody>\n",
       "</table>\n",
       "<p>5 rows × 188 columns</p>\n",
       "</div>"
      ],
      "text/plain": [
       "                       SCRAM  WEEK  EST_ST  EST_MSA  REGION      HWEIGHT  \\\n",
       "0  V130000001S12010403200123    13      48  19100.0       2  1276.886650   \n",
       "1  V130000001S34010154300113    13       1      NaN       2  1195.578846   \n",
       "2  V130000001S37010241600123    13       1      NaN       2  1124.648326   \n",
       "3  V130000001S37010645600123    13       1      NaN       2   517.598058   \n",
       "4  V130000001S70011963510113    13       1      NaN       2   432.646602   \n",
       "\n",
       "       PWEIGHT  TBIRTH_YEAR  ABIRTH_YEAR  EGENDER  ...  PSWHYCHG1  PSWHYCHG2  \\\n",
       "0  1278.107099         1989            2        1  ...        -88        -88   \n",
       "1  2323.078960         1988            2        2  ...        -99        -99   \n",
       "2  1092.628425         1969            2        1  ...        -88        -88   \n",
       "3  1005.723011         1947            2        1  ...        -88        -88   \n",
       "4   840.657411         1968            2        2  ...        -88        -88   \n",
       "\n",
       "   PSWHYCHG3  PSWHYCHG4  PSWHYCHG5  PSWHYCHG6  PSWHYCHG7  PSWHYCHG8  \\\n",
       "0        -88        -88        -88        -88        -88        -88   \n",
       "1        -99          1          1        -99          1        -99   \n",
       "2        -88        -88        -88        -88        -88        -88   \n",
       "3        -88        -88        -88        -88        -88        -88   \n",
       "4        -88        -88        -88        -88        -88        -88   \n",
       "\n",
       "   PSWHYCHG9  INCOME  \n",
       "0        -88       2  \n",
       "1          1       6  \n",
       "2        -88       7  \n",
       "3        -88       6  \n",
       "4        -88     -88  \n",
       "\n",
       "[5 rows x 188 columns]"
      ]
     },
     "execution_count": 5,
     "metadata": {},
     "output_type": "execute_result"
    }
   ],
   "source": [
    "# Looking at the first 5 rows of data\n",
    "df.head()"
   ]
  },
  {
   "cell_type": "code",
   "execution_count": 24,
   "metadata": {
    "scrolled": true
   },
   "outputs": [
    {
     "data": {
      "text/html": [
       "<div>\n",
       "<style scoped>\n",
       "    .dataframe tbody tr th:only-of-type {\n",
       "        vertical-align: middle;\n",
       "    }\n",
       "\n",
       "    .dataframe tbody tr th {\n",
       "        vertical-align: top;\n",
       "    }\n",
       "\n",
       "    .dataframe thead th {\n",
       "        text-align: right;\n",
       "    }\n",
       "</style>\n",
       "<table border=\"1\" class=\"dataframe\">\n",
       "  <thead>\n",
       "    <tr style=\"text-align: right;\">\n",
       "      <th></th>\n",
       "      <th>WEEK</th>\n",
       "      <th>EST_ST</th>\n",
       "      <th>EST_MSA</th>\n",
       "      <th>REGION</th>\n",
       "      <th>HWEIGHT</th>\n",
       "      <th>PWEIGHT</th>\n",
       "      <th>TBIRTH_YEAR</th>\n",
       "      <th>ABIRTH_YEAR</th>\n",
       "      <th>EGENDER</th>\n",
       "      <th>AGENDER</th>\n",
       "      <th>...</th>\n",
       "      <th>PSWHYCHG1</th>\n",
       "      <th>PSWHYCHG2</th>\n",
       "      <th>PSWHYCHG3</th>\n",
       "      <th>PSWHYCHG4</th>\n",
       "      <th>PSWHYCHG5</th>\n",
       "      <th>PSWHYCHG6</th>\n",
       "      <th>PSWHYCHG7</th>\n",
       "      <th>PSWHYCHG8</th>\n",
       "      <th>PSWHYCHG9</th>\n",
       "      <th>INCOME</th>\n",
       "    </tr>\n",
       "  </thead>\n",
       "  <tbody>\n",
       "    <tr>\n",
       "      <th>count</th>\n",
       "      <td>109051.0</td>\n",
       "      <td>109051.000000</td>\n",
       "      <td>35244.000000</td>\n",
       "      <td>109051.000000</td>\n",
       "      <td>109051.000000</td>\n",
       "      <td>109051.000000</td>\n",
       "      <td>109051.000000</td>\n",
       "      <td>109051.000000</td>\n",
       "      <td>109051.000000</td>\n",
       "      <td>109051.000000</td>\n",
       "      <td>...</td>\n",
       "      <td>109051.000000</td>\n",
       "      <td>109051.000000</td>\n",
       "      <td>109051.000000</td>\n",
       "      <td>109051.000000</td>\n",
       "      <td>109051.000000</td>\n",
       "      <td>109051.000000</td>\n",
       "      <td>109051.00000</td>\n",
       "      <td>109051.000000</td>\n",
       "      <td>109051.000000</td>\n",
       "      <td>109051.000000</td>\n",
       "    </tr>\n",
       "    <tr>\n",
       "      <th>mean</th>\n",
       "      <td>13.0</td>\n",
       "      <td>27.699242</td>\n",
       "      <td>31792.698899</td>\n",
       "      <td>2.685239</td>\n",
       "      <td>1114.342647</td>\n",
       "      <td>2284.902624</td>\n",
       "      <td>1969.251974</td>\n",
       "      <td>1.991793</td>\n",
       "      <td>1.587753</td>\n",
       "      <td>1.993095</td>\n",
       "      <td>...</td>\n",
       "      <td>-84.786559</td>\n",
       "      <td>-89.458684</td>\n",
       "      <td>-88.606789</td>\n",
       "      <td>-81.777875</td>\n",
       "      <td>-88.182217</td>\n",
       "      <td>-87.666862</td>\n",
       "      <td>-86.22075</td>\n",
       "      <td>-86.225335</td>\n",
       "      <td>-88.262914</td>\n",
       "      <td>-16.580215</td>\n",
       "    </tr>\n",
       "    <tr>\n",
       "      <th>std</th>\n",
       "      <td>0.0</td>\n",
       "      <td>16.409699</td>\n",
       "      <td>11514.840187</td>\n",
       "      <td>1.079868</td>\n",
       "      <td>1755.280822</td>\n",
       "      <td>4156.272497</td>\n",
       "      <td>15.953085</td>\n",
       "      <td>0.090221</td>\n",
       "      <td>0.492242</td>\n",
       "      <td>0.082809</td>\n",
       "      <td>...</td>\n",
       "      <td>19.677547</td>\n",
       "      <td>5.565538</td>\n",
       "      <td>9.959077</td>\n",
       "      <td>24.361783</td>\n",
       "      <td>11.516732</td>\n",
       "      <td>13.143646</td>\n",
       "      <td>16.80769</td>\n",
       "      <td>16.797533</td>\n",
       "      <td>11.238543</td>\n",
       "      <td>39.391120</td>\n",
       "    </tr>\n",
       "    <tr>\n",
       "      <th>min</th>\n",
       "      <td>13.0</td>\n",
       "      <td>1.000000</td>\n",
       "      <td>12060.000000</td>\n",
       "      <td>1.000000</td>\n",
       "      <td>19.994057</td>\n",
       "      <td>19.635651</td>\n",
       "      <td>1932.000000</td>\n",
       "      <td>1.000000</td>\n",
       "      <td>1.000000</td>\n",
       "      <td>1.000000</td>\n",
       "      <td>...</td>\n",
       "      <td>-99.000000</td>\n",
       "      <td>-99.000000</td>\n",
       "      <td>-99.000000</td>\n",
       "      <td>-99.000000</td>\n",
       "      <td>-99.000000</td>\n",
       "      <td>-99.000000</td>\n",
       "      <td>-99.00000</td>\n",
       "      <td>-99.000000</td>\n",
       "      <td>-99.000000</td>\n",
       "      <td>-99.000000</td>\n",
       "    </tr>\n",
       "    <tr>\n",
       "      <th>25%</th>\n",
       "      <td>13.0</td>\n",
       "      <td>12.000000</td>\n",
       "      <td>19100.000000</td>\n",
       "      <td>2.000000</td>\n",
       "      <td>332.761427</td>\n",
       "      <td>555.814095</td>\n",
       "      <td>1956.000000</td>\n",
       "      <td>2.000000</td>\n",
       "      <td>1.000000</td>\n",
       "      <td>2.000000</td>\n",
       "      <td>...</td>\n",
       "      <td>-88.000000</td>\n",
       "      <td>-88.000000</td>\n",
       "      <td>-88.000000</td>\n",
       "      <td>-88.000000</td>\n",
       "      <td>-88.000000</td>\n",
       "      <td>-88.000000</td>\n",
       "      <td>-88.00000</td>\n",
       "      <td>-88.000000</td>\n",
       "      <td>-88.000000</td>\n",
       "      <td>1.000000</td>\n",
       "    </tr>\n",
       "    <tr>\n",
       "      <th>50%</th>\n",
       "      <td>13.0</td>\n",
       "      <td>27.000000</td>\n",
       "      <td>35620.000000</td>\n",
       "      <td>3.000000</td>\n",
       "      <td>604.820254</td>\n",
       "      <td>1125.616392</td>\n",
       "      <td>1969.000000</td>\n",
       "      <td>2.000000</td>\n",
       "      <td>2.000000</td>\n",
       "      <td>2.000000</td>\n",
       "      <td>...</td>\n",
       "      <td>-88.000000</td>\n",
       "      <td>-88.000000</td>\n",
       "      <td>-88.000000</td>\n",
       "      <td>-88.000000</td>\n",
       "      <td>-88.000000</td>\n",
       "      <td>-88.000000</td>\n",
       "      <td>-88.00000</td>\n",
       "      <td>-88.000000</td>\n",
       "      <td>-88.000000</td>\n",
       "      <td>4.000000</td>\n",
       "    </tr>\n",
       "    <tr>\n",
       "      <th>75%</th>\n",
       "      <td>13.0</td>\n",
       "      <td>42.000000</td>\n",
       "      <td>41860.000000</td>\n",
       "      <td>4.000000</td>\n",
       "      <td>1179.949186</td>\n",
       "      <td>2348.620985</td>\n",
       "      <td>1982.000000</td>\n",
       "      <td>2.000000</td>\n",
       "      <td>2.000000</td>\n",
       "      <td>2.000000</td>\n",
       "      <td>...</td>\n",
       "      <td>-88.000000</td>\n",
       "      <td>-88.000000</td>\n",
       "      <td>-88.000000</td>\n",
       "      <td>-88.000000</td>\n",
       "      <td>-88.000000</td>\n",
       "      <td>-88.000000</td>\n",
       "      <td>-88.00000</td>\n",
       "      <td>-88.000000</td>\n",
       "      <td>-88.000000</td>\n",
       "      <td>6.000000</td>\n",
       "    </tr>\n",
       "    <tr>\n",
       "      <th>max</th>\n",
       "      <td>13.0</td>\n",
       "      <td>56.000000</td>\n",
       "      <td>47900.000000</td>\n",
       "      <td>4.000000</td>\n",
       "      <td>110618.302480</td>\n",
       "      <td>228944.991150</td>\n",
       "      <td>2002.000000</td>\n",
       "      <td>2.000000</td>\n",
       "      <td>2.000000</td>\n",
       "      <td>2.000000</td>\n",
       "      <td>...</td>\n",
       "      <td>1.000000</td>\n",
       "      <td>1.000000</td>\n",
       "      <td>1.000000</td>\n",
       "      <td>1.000000</td>\n",
       "      <td>1.000000</td>\n",
       "      <td>1.000000</td>\n",
       "      <td>1.00000</td>\n",
       "      <td>1.000000</td>\n",
       "      <td>1.000000</td>\n",
       "      <td>8.000000</td>\n",
       "    </tr>\n",
       "  </tbody>\n",
       "</table>\n",
       "<p>8 rows × 187 columns</p>\n",
       "</div>"
      ],
      "text/plain": [
       "           WEEK         EST_ST       EST_MSA         REGION        HWEIGHT  \\\n",
       "count  109051.0  109051.000000  35244.000000  109051.000000  109051.000000   \n",
       "mean       13.0      27.699242  31792.698899       2.685239    1114.342647   \n",
       "std         0.0      16.409699  11514.840187       1.079868    1755.280822   \n",
       "min        13.0       1.000000  12060.000000       1.000000      19.994057   \n",
       "25%        13.0      12.000000  19100.000000       2.000000     332.761427   \n",
       "50%        13.0      27.000000  35620.000000       3.000000     604.820254   \n",
       "75%        13.0      42.000000  41860.000000       4.000000    1179.949186   \n",
       "max        13.0      56.000000  47900.000000       4.000000  110618.302480   \n",
       "\n",
       "             PWEIGHT    TBIRTH_YEAR    ABIRTH_YEAR        EGENDER  \\\n",
       "count  109051.000000  109051.000000  109051.000000  109051.000000   \n",
       "mean     2284.902624    1969.251974       1.991793       1.587753   \n",
       "std      4156.272497      15.953085       0.090221       0.492242   \n",
       "min        19.635651    1932.000000       1.000000       1.000000   \n",
       "25%       555.814095    1956.000000       2.000000       1.000000   \n",
       "50%      1125.616392    1969.000000       2.000000       2.000000   \n",
       "75%      2348.620985    1982.000000       2.000000       2.000000   \n",
       "max    228944.991150    2002.000000       2.000000       2.000000   \n",
       "\n",
       "             AGENDER  ...      PSWHYCHG1      PSWHYCHG2      PSWHYCHG3  \\\n",
       "count  109051.000000  ...  109051.000000  109051.000000  109051.000000   \n",
       "mean        1.993095  ...     -84.786559     -89.458684     -88.606789   \n",
       "std         0.082809  ...      19.677547       5.565538       9.959077   \n",
       "min         1.000000  ...     -99.000000     -99.000000     -99.000000   \n",
       "25%         2.000000  ...     -88.000000     -88.000000     -88.000000   \n",
       "50%         2.000000  ...     -88.000000     -88.000000     -88.000000   \n",
       "75%         2.000000  ...     -88.000000     -88.000000     -88.000000   \n",
       "max         2.000000  ...       1.000000       1.000000       1.000000   \n",
       "\n",
       "           PSWHYCHG4      PSWHYCHG5      PSWHYCHG6     PSWHYCHG7  \\\n",
       "count  109051.000000  109051.000000  109051.000000  109051.00000   \n",
       "mean      -81.777875     -88.182217     -87.666862     -86.22075   \n",
       "std        24.361783      11.516732      13.143646      16.80769   \n",
       "min       -99.000000     -99.000000     -99.000000     -99.00000   \n",
       "25%       -88.000000     -88.000000     -88.000000     -88.00000   \n",
       "50%       -88.000000     -88.000000     -88.000000     -88.00000   \n",
       "75%       -88.000000     -88.000000     -88.000000     -88.00000   \n",
       "max         1.000000       1.000000       1.000000       1.00000   \n",
       "\n",
       "           PSWHYCHG8      PSWHYCHG9         INCOME  \n",
       "count  109051.000000  109051.000000  109051.000000  \n",
       "mean      -86.225335     -88.262914     -16.580215  \n",
       "std        16.797533      11.238543      39.391120  \n",
       "min       -99.000000     -99.000000     -99.000000  \n",
       "25%       -88.000000     -88.000000       1.000000  \n",
       "50%       -88.000000     -88.000000       4.000000  \n",
       "75%       -88.000000     -88.000000       6.000000  \n",
       "max         1.000000       1.000000       8.000000  \n",
       "\n",
       "[8 rows x 187 columns]"
      ]
     },
     "execution_count": 24,
     "metadata": {},
     "output_type": "execute_result"
    }
   ],
   "source": [
    "# Statistical summary of features\n",
    "df.describe()"
   ]
  },
  {
   "cell_type": "code",
   "execution_count": 63,
   "metadata": {
    "scrolled": false
   },
   "outputs": [
    {
     "data": {
      "text/plain": [
       "Index(['EST_MSA'], dtype='object')"
      ]
     },
     "execution_count": 63,
     "metadata": {},
     "output_type": "execute_result"
    }
   ],
   "source": [
    "# Checking for columns with null values\n",
    "null_columns = df.columns[df.isnull().any()]\n",
    "null_columns"
   ]
  },
  {
   "cell_type": "code",
   "execution_count": 64,
   "metadata": {
    "scrolled": false
   },
   "outputs": [
    {
     "data": {
      "text/plain": [
       "EST_MSA    67.681177\n",
       "dtype: float64"
      ]
     },
     "execution_count": 64,
     "metadata": {},
     "output_type": "execute_result"
    }
   ],
   "source": [
    "# Displaying percentage of null values in EST_MSA columns\n",
    "df[null_columns].isnull().sum()/len(df) * 100"
   ]
  },
  {
   "cell_type": "markdown",
   "metadata": {},
   "source": [
    "Since responses -88 and -99 represent missing values, they would be grouped together and replaced with null instead."
   ]
  },
  {
   "cell_type": "code",
   "execution_count": 65,
   "metadata": {
    "scrolled": true
   },
   "outputs": [],
   "source": [
    "# Converting all missing values to np.nan\n",
    "for col in df.columns:\n",
    "    try:\n",
    "        df[col] = df[col].map(lambda x: np.nan if (x == -88) | (x == -99) else x)\n",
    "    except ValueError:\n",
    "        print(f'{col} cannot be converted to null values')"
   ]
  },
  {
   "cell_type": "code",
   "execution_count": 66,
   "metadata": {},
   "outputs": [
    {
     "data": {
      "text/plain": [
       "Index(['EST_MSA', 'MS', 'WRKLOSS', 'EXPCTLOSS', 'ANYWORK', 'KINDWORK',\n",
       "       'RSNNOWRK', 'TW_START', 'UNEMPPAY', 'UI_APPLY',\n",
       "       ...\n",
       "       'PSWHYCHG1', 'PSWHYCHG2', 'PSWHYCHG3', 'PSWHYCHG4', 'PSWHYCHG5',\n",
       "       'PSWHYCHG6', 'PSWHYCHG7', 'PSWHYCHG8', 'PSWHYCHG9', 'INCOME'],\n",
       "      dtype='object', length=165)"
      ]
     },
     "execution_count": 66,
     "metadata": {},
     "output_type": "execute_result"
    }
   ],
   "source": [
    "# Checking for columns with null values\n",
    "null_columns = df.columns[df.isnull().any()]\n",
    "null_columns"
   ]
  },
  {
   "cell_type": "code",
   "execution_count": 67,
   "metadata": {
    "scrolled": true
   },
   "outputs": [
    {
     "data": {
      "text/plain": [
       "{'SNAPMNTH9': 100.0,\n",
       " 'SNAPMNTH10': 100.0,\n",
       " 'SNAPMNTH11': 100.0,\n",
       " 'SNAPMNTH12': 100.0,\n",
       " 'WHEREFREE5': 99.9138017991582,\n",
       " 'SSAPGM3': 99.8771217136936,\n",
       " 'PSWHYCHG2': 99.80834655344746,\n",
       " 'SSAEXPCT3': 99.79367451926163,\n",
       " 'WHEREFREE3': 99.77808548293918,\n",
       " 'PSCHNG5': 99.77258347011949,\n",
       " 'INTRNT3': 99.74415640388442,\n",
       " 'SSAPGM4': 99.71939734619582,\n",
       " 'COMP3': 99.68913627568752,\n",
       " 'PSCHNG6': 99.55800497015159,\n",
       " 'INTRNT1': 99.51949088041376,\n",
       " 'PSCHNG7': 99.51123786118423,\n",
       " 'WHYCHNGD6': 99.37735554923843,\n",
       " 'SSAPGM2': 99.36360051718921,\n",
       " 'SSAPGM1': 99.22696719883358,\n",
       " 'SSAPGM5': 99.22421619242373,\n",
       " 'SSAEXPCT4': 99.08024685697518,\n",
       " 'PSWHYCHG3': 98.95645156853216,\n",
       " 'WHEREFREE4': 98.86841936341712,\n",
       " 'SSAEXPCT2': 98.83449028436236,\n",
       " 'WHEREFREE6': 98.81615024163007,\n",
       " 'PSWHYCHG9': 98.61257576730154,\n",
       " 'PSWHYCHG5': 98.53187957927942,\n",
       " 'WHYCHNGD12': 98.48236146390221,\n",
       " 'WHEREFREE7': 98.31179906649183,\n",
       " 'FOODSUFRSN4': 98.2980440344426,\n",
       " 'WHEREFREE2': 98.2742019788906,\n",
       " 'WHEREFREE1': 98.2622809511146,\n",
       " 'PSPLANS5': 98.22193285710355,\n",
       " 'SSAEXPCT5': 98.16782973104327,\n",
       " 'SSAEXPCT1': 98.13756866053498,\n",
       " 'PSWHYCHG6': 98.0165243785018,\n",
       " 'PSCHNG4': 97.9734252780809,\n",
       " 'WHYCHNGD8': 97.80836489349021,\n",
       " 'TEACH5': 97.79094185289452,\n",
       " 'EVICT': 97.73958973324409,\n",
       " 'PSPLANS6': 97.6799845943641,\n",
       " 'ENROLL2': 97.17379941495264,\n",
       " 'TEACH3': 97.16646339785972,\n",
       " 'PSPLANS1': 97.11511127820927,\n",
       " 'FORCLOSE': 97.11327727393605,\n",
       " 'CHNGHOW11': 97.05550613932931,\n",
       " 'FOODSUFRSN2': 96.61351110948088,\n",
       " 'PSWHYCHG8': 96.57499701974305,\n",
       " 'SNAPMNTH1': 96.57224601333321,\n",
       " 'TEACH4': 96.57224601333321,\n",
       " 'PSWHYCHG7': 96.57041200905998,\n",
       " 'SNAPMNTH2': 96.51539188086308,\n",
       " 'CHNGHOW5': 96.35766751336531,\n",
       " 'PSPLANS2': 96.11649595143557,\n",
       " 'PSPLANS4': 96.09540490229342,\n",
       " 'SNAPMNTH3': 96.03671676555007,\n",
       " 'WHYCHNGD13': 95.7817901715711,\n",
       " 'SNAPMNTH4': 95.60297475493118,\n",
       " 'SPNDSRC8': 95.55070563314413,\n",
       " 'WHYCHNGD10': 95.54703762459766,\n",
       " 'SPNDSRC7': 95.52594657545552,\n",
       " 'SNAPMNTH5': 95.29486203702855,\n",
       " 'WHYCHNGD4': 95.15180970371661,\n",
       " 'PSWHYCHG1': 95.13622066739416,\n",
       " 'SNAPMNTH6': 95.07294751996773,\n",
       " 'SNAPMNTH8': 94.97024328066685,\n",
       " 'SNAPMNTH7': 94.93539719947547,\n",
       " 'TEACH1': 94.75199677215248,\n",
       " 'PSCHNG1': 94.67863660122327,\n",
       " 'PSCHNG2': 94.01564405645065,\n",
       " 'WHYCHNGD2': 93.36457253945402,\n",
       " 'ENROLL3': 92.86939138568194,\n",
       " 'CHNGHOW3': 92.7089160117743,\n",
       " 'SPNDSRC4': 92.43381537078982,\n",
       " 'PSWHYCHG4': 92.12753665716042,\n",
       " 'PSPLANS3': 91.74239575978213,\n",
       " 'PSCHNG3': 91.59750942219695,\n",
       " 'CHNGHOW10': 90.963860945796,\n",
       " 'FOODSUFRSN3': 90.78137752060962,\n",
       " 'CHNGHOW7': 90.3889006061384,\n",
       " 'SPNDSRC5': 89.69197898231103,\n",
       " 'COMP1': 89.37928125372532,\n",
       " 'FOODSUFRSN1': 88.01478207444224,\n",
       " 'CHILDFOOD': 87.98635500820717,\n",
       " 'FOODSUFRSN5': 87.0262537711713,\n",
       " 'WHYCHNGD7': 86.5136495768035,\n",
       " 'TEACH2': 85.5700543782267,\n",
       " 'COMP2': 85.3921559637234,\n",
       " 'UI_RECV': 83.67461096184354,\n",
       " 'WHYCHNGD9': 83.58015974177219,\n",
       " 'CHNGHOW12': 82.2761827035057,\n",
       " 'WHYCHNGD5': 80.9474466075506,\n",
       " 'TCH_HRS': 80.3422251973847,\n",
       " 'RENTCUR': 80.0662075542636,\n",
       " 'TSTDY_HRS': 79.98092635555841,\n",
       " 'INTRNT2': 79.84154203079294,\n",
       " 'SCHLHRS': 79.22348259071444,\n",
       " 'INTRNTAVAIL': 78.56232405021504,\n",
       " 'SPNDSRC6': 78.46053681305078,\n",
       " 'COMPAVAIL': 78.38167462930188,\n",
       " 'ENROLL1': 78.04696884943742,\n",
       " 'SPNDSRC3': 77.1886548495658,\n",
       " 'CHNGHOW9': 76.3312578518308,\n",
       " 'SPNDSRC2': 76.1166793518629,\n",
       " 'WHYCHNGD1': 75.7691355420858,\n",
       " 'CHNGHOW2': 72.62381821349643,\n",
       " 'CHNGHOW8': 70.78797993599325,\n",
       " 'WHYCHNGD11': 69.01541480591649,\n",
       " 'EST_MSA': 67.68117669714171,\n",
       " 'CHNGHOW4': 64.35245894122933,\n",
       " 'UNEMPPAY': 63.99391110581287,\n",
       " 'RSNNOWRK': 62.3726513282776,\n",
       " 'MORTCUR': 59.14572080952949,\n",
       " 'WHYCHNGD3': 48.63595932178522,\n",
       " 'CHNGHOW1': 48.130691144510365,\n",
       " 'CHNGHOW6': 44.66900807878883,\n",
       " 'KINDWORK': 39.68510146628642,\n",
       " 'MORTCONF': 39.33297264582627,\n",
       " 'HLTHINS8': 30.384865796737305,\n",
       " 'SPNDSRC1': 29.98413586303656,\n",
       " 'SSALIKELY': 29.54672584387122,\n",
       " 'SSADECISN': 28.64347873930546,\n",
       " 'HLTHINS7': 27.98782221162575,\n",
       " 'CNCLDTRPS': 27.569669237329325,\n",
       " 'HLTHINS6': 27.275311551475916,\n",
       " 'HLTHINS5': 26.90759369469331,\n",
       " 'HLTHINS4': 26.256522177696674,\n",
       " 'TUI_NUMPER': 25.72649494273322,\n",
       " 'HLTHINS2': 24.439940945062403,\n",
       " 'HLTHINS3': 23.170809987987273,\n",
       " 'INCOME': 22.578426607733995,\n",
       " 'TNUM_PS': 21.192836379308762,\n",
       " 'TBEDROOMS': 20.014488633758518,\n",
       " 'LIVQTR': 18.252927529321145,\n",
       " 'HLTHINS1': 18.243757507954996,\n",
       " 'TSPNDPRPD': 18.095203161823367,\n",
       " 'TENURE': 17.884292670401923,\n",
       " 'TSPNDFOOD': 17.544084877717765,\n",
       " 'MH_SVCS': 16.94986749319126,\n",
       " 'PRESCRIPT': 16.9461994846448,\n",
       " 'MH_NOTGET': 16.904934388497125,\n",
       " 'NOTGET': 16.88567734362821,\n",
       " 'DELAY': 16.872839313715602,\n",
       " 'INTEREST': 15.355200777617812,\n",
       " 'DOWN': 15.297429643011068,\n",
       " 'WORRY': 15.278172598142154,\n",
       " 'ANXIOUS': 15.18555538234404,\n",
       " 'HLTHSTATUS': 15.062677096037632,\n",
       " 'FOODCONF': 13.923760442361829,\n",
       " 'SNAP_YN': 9.903623075441766,\n",
       " 'FREEFOOD': 9.353421793472778,\n",
       " 'CURFOODSUF': 9.058147105482755,\n",
       " 'PRIFOODSUF': 9.021467020018155,\n",
       " 'FEWRTRIPS': 8.322711391917544,\n",
       " 'FEWRTRANS': 8.138393962457933,\n",
       " 'PLNDTRIPS': 8.049444755206279,\n",
       " 'SSA_APPLY': 8.01276466974168,\n",
       " 'TW_START': 4.131094625450477,\n",
       " 'EXPNS_DIF': 2.696903283784651,\n",
       " 'SSA_RECV': 1.0068683460032462,\n",
       " 'MS': 0.9371761836205078,\n",
       " 'UI_APPLY': 0.7794518161227315,\n",
       " 'EXPCTLOSS': 0.6969216238273835,\n",
       " 'ANYWORK': 0.596051388799736,\n",
       " 'WRKLOSS': 0.5428652648760672}"
      ]
     },
     "execution_count": 67,
     "metadata": {},
     "output_type": "execute_result"
    }
   ],
   "source": [
    "# Displaying percentage of null values in all columns with null values\n",
    "percent_null = {}\n",
    "for col in null_columns:\n",
    "    percent_null[col] = (df[col].isnull().sum()/len(df)) * 100\n",
    "sorted_percent_null = dict(sorted(percent_null.items(),key = lambda x: x[1],reverse = True))\n",
    "sorted_percent_null"
   ]
  },
  {
   "cell_type": "markdown",
   "metadata": {},
   "source": [
    "#### Dropping unnecessary columns MAYBe?\n"
   ]
  },
  {
   "cell_type": "code",
   "execution_count": null,
   "metadata": {},
   "outputs": [],
   "source": [
    "df.drop(columns = ['COMPAVAIL','COMP1','COMP2','COMP3','INTRNTAVAIL'])"
   ]
  },
  {
   "cell_type": "markdown",
   "metadata": {},
   "source": [
    "**Analysis of all missing columns**<br>\n",
    "Analyzing missing columns and understanding reasons behind them to better understand how to deal with them."
   ]
  },
  {
   "cell_type": "markdown",
   "metadata": {},
   "source": [
    "**`WHEREFREE`**<br>\n",
    "Questions that ask where people are seeking food aid from"
   ]
  },
  {
   "cell_type": "code",
   "execution_count": 68,
   "metadata": {
    "scrolled": false
   },
   "outputs": [
    {
     "data": {
      "text/plain": [
       "{'WHEREFREE5': 99.9138017991582,\n",
       " 'WHEREFREE3': 99.77808548293918,\n",
       " 'WHEREFREE4': 98.86841936341712,\n",
       " 'WHEREFREE6': 98.81615024163007,\n",
       " 'WHEREFREE7': 98.31179906649183,\n",
       " 'WHEREFREE2': 98.2742019788906,\n",
       " 'WHEREFREE1': 98.2622809511146}"
      ]
     },
     "execution_count": 68,
     "metadata": {},
     "output_type": "execute_result"
    }
   ],
   "source": [
    "food_dict = {k:v for k,v in sorted_percent_null.items() if k.startswith('WHERE')}\n",
    "food_dict"
   ]
  },
  {
   "cell_type": "markdown",
   "metadata": {},
   "source": [
    "All `WHEREFREE` columns have > 98% of their data missing and this is because responses to these questions are determined by the responses to `FREEFOOD`. Zooming into the people who are getting food aid, we can look at where they acquire them."
   ]
  },
  {
   "cell_type": "code",
   "execution_count": 69,
   "metadata": {
    "scrolled": false
   },
   "outputs": [
    {
     "data": {
      "text/plain": [
       "WHEREFREE5      94\n",
       "WHEREFREE3     242\n",
       "WHEREFREE4    1234\n",
       "WHEREFREE6    1291\n",
       "WHEREFREE7    1841\n",
       "WHEREFREE2    1882\n",
       "WHEREFREE1    1895\n",
       "dtype: int64"
      ]
     },
     "execution_count": 69,
     "metadata": {},
     "output_type": "execute_result"
    }
   ],
   "source": [
    "where_free = df[list(food_dict.keys())][df['FREEFOOD'] == 1].count()\n",
    "where_free"
   ]
  },
  {
   "cell_type": "code",
   "execution_count": 70,
   "metadata": {
    "scrolled": false
   },
   "outputs": [
    {
     "data": {
      "image/png": "[encoded data removed]",
      "text/plain": [
       "<Figure size 864x576 with 1 Axes>"
      ]
     },
     "metadata": {
      "needs_background": "light"
     },
     "output_type": "display_data"
    }
   ],
   "source": [
    "# Graph that shows where people are seeking food aid from\n",
    "plt.figure(figsize = (12,8))\n",
    "sns.barplot(x = where_free.index,y = where_free.values).set_xticklabels(['Shelter/Soup Kitchen','Home-delivered Meal Service',\n",
    "                                                                         'Religious Organizations','Other Community Programs',\n",
    "                                                                         'Family/Friends/Neighbours','Food Bank/Pantry','Children School Programs'])\n",
    "plt.title('Place of food acquisition')\n",
    "plt.xticks(\n",
    "    rotation=45, \n",
    "#     horizontalalignment='left',\n",
    "    fontweight='light'\n",
    "#     fontsize='x-large'  \n",
    ");"
   ]
  },
  {
   "cell_type": "markdown",
   "metadata": {},
   "source": [
    "Graph shows that schools are the most popular avenue of food aid which are targetted mainly at children, followed by food banks/pantries."
   ]
  },
  {
   "cell_type": "code",
   "execution_count": 71,
   "metadata": {},
   "outputs": [
    {
     "data": {
      "text/plain": [
       "1.0     5775\n",
       "2.0    93076\n",
       "NaN    10200\n",
       "Name: FREEFOOD, dtype: int64"
      ]
     },
     "execution_count": 71,
     "metadata": {},
     "output_type": "execute_result"
    }
   ],
   "source": [
    "df.FREEFOOD.value_counts(dropna = False).sort_index()"
   ]
  },
  {
   "cell_type": "code",
   "execution_count": 72,
   "metadata": {
    "scrolled": true
   },
   "outputs": [
    {
     "data": {
      "text/html": [
       "<div>\n",
       "<style scoped>\n",
       "    .dataframe tbody tr th:only-of-type {\n",
       "        vertical-align: middle;\n",
       "    }\n",
       "\n",
       "    .dataframe tbody tr th {\n",
       "        vertical-align: top;\n",
       "    }\n",
       "\n",
       "    .dataframe thead th {\n",
       "        text-align: right;\n",
       "    }\n",
       "</style>\n",
       "<table border=\"1\" class=\"dataframe\">\n",
       "  <thead>\n",
       "    <tr style=\"text-align: right;\">\n",
       "      <th></th>\n",
       "      <th>Response(value)</th>\n",
       "      <th>Response(actual)</th>\n",
       "      <th>Number</th>\n",
       "      <th>Percentage</th>\n",
       "    </tr>\n",
       "  </thead>\n",
       "  <tbody>\n",
       "    <tr>\n",
       "      <th>0</th>\n",
       "      <td>1.0</td>\n",
       "      <td>Got Free Food</td>\n",
       "      <td>5775</td>\n",
       "      <td>5.296</td>\n",
       "    </tr>\n",
       "    <tr>\n",
       "      <th>1</th>\n",
       "      <td>2.0</td>\n",
       "      <td>Didnt Get Free Food</td>\n",
       "      <td>93076</td>\n",
       "      <td>85.351</td>\n",
       "    </tr>\n",
       "    <tr>\n",
       "      <th>2</th>\n",
       "      <td>NaN</td>\n",
       "      <td>Missing</td>\n",
       "      <td>10200</td>\n",
       "      <td>9.353</td>\n",
       "    </tr>\n",
       "  </tbody>\n",
       "</table>\n",
       "</div>"
      ],
      "text/plain": [
       "   Response(value)     Response(actual)  Number  Percentage\n",
       "0              1.0        Got Free Food    5775       5.296\n",
       "1              2.0  Didnt Get Free Food   93076      85.351\n",
       "2              NaN              Missing   10200       9.353"
      ]
     },
     "execution_count": 72,
     "metadata": {},
     "output_type": "execute_result"
    }
   ],
   "source": [
    "freefood_df = pd.DataFrame({\n",
    "    'Response(value)':[i for i in df.FREEFOOD.value_counts(dropna = False).sort_index().index],\n",
    "    'Response(actual)':['Got Free Food','Didnt Get Free Food','Missing'],\n",
    "    'Number':[i for i in df.FREEFOOD.value_counts(dropna = False).sort_index().values],\n",
    "    'Percentage':[round(i,3) for i in df.FREEFOOD.value_counts(dropna = False,normalize = True).sort_index().values*100]\n",
    "})\n",
    "# freefood_df.set_index('Response(value)')\n",
    "freefood_df"
   ]
  },
  {
   "cell_type": "code",
   "execution_count": 73,
   "metadata": {
    "scrolled": false
   },
   "outputs": [
    {
     "data": {
      "text/html": [
       "<div>\n",
       "<style scoped>\n",
       "    .dataframe tbody tr th:only-of-type {\n",
       "        vertical-align: middle;\n",
       "    }\n",
       "\n",
       "    .dataframe tbody tr th {\n",
       "        vertical-align: top;\n",
       "    }\n",
       "\n",
       "    .dataframe thead th {\n",
       "        text-align: right;\n",
       "    }\n",
       "</style>\n",
       "<table border=\"1\" class=\"dataframe\">\n",
       "  <thead>\n",
       "    <tr style=\"text-align: right;\">\n",
       "      <th></th>\n",
       "      <th>FREEFOOD</th>\n",
       "    </tr>\n",
       "  </thead>\n",
       "  <tbody>\n",
       "    <tr>\n",
       "      <th>Missing</th>\n",
       "      <td>9.353422</td>\n",
       "    </tr>\n",
       "    <tr>\n",
       "      <th>1</th>\n",
       "      <td>5.295687</td>\n",
       "    </tr>\n",
       "    <tr>\n",
       "      <th>2</th>\n",
       "      <td>85.350891</td>\n",
       "    </tr>\n",
       "  </tbody>\n",
       "</table>\n",
       "</div>"
      ],
      "text/plain": [
       "          FREEFOOD\n",
       "Missing   9.353422\n",
       "1         5.295687\n",
       "2        85.350891"
      ]
     },
     "execution_count": 73,
     "metadata": {},
     "output_type": "execute_result"
    }
   ],
   "source": [
    "# Percentage of people who obtained free meals/groceries in the last 7 days\n",
    "pd.DataFrame(data = (df['FREEFOOD'].fillna('Missing').value_counts(normalize = True)*100),index = ['Missing',1,2])"
   ]
  },
  {
   "cell_type": "markdown",
   "metadata": {},
   "source": [
    "5% of the population across the states are receiving food aids from various avenues as shown above."
   ]
  },
  {
   "cell_type": "code",
   "execution_count": 15,
   "metadata": {
    "scrolled": false
   },
   "outputs": [
    {
     "data": {
      "image/png": "[encoded data removed]",
      "text/plain": [
       "<Figure size 432x288 with 1 Axes>"
      ]
     },
     "metadata": {
      "needs_background": "light"
     },
     "output_type": "display_data"
    }
   ],
   "source": [
    "# Bar graph of count against retrival of free food\n",
    "g = sns.countplot(df['FREEFOOD'].fillna('Missing'), order = ['Missing',2,1])\n",
    "g.set_xticklabels(['Missing','No','Yes'])\n",
    "plt.title('Frequency against retrival of free meals/groceries in last 7 days');"
   ]
  },
  {
   "cell_type": "code",
   "execution_count": 74,
   "metadata": {
    "scrolled": false
   },
   "outputs": [
    {
     "data": {
      "text/plain": [
       "8479"
      ]
     },
     "execution_count": 74,
     "metadata": {},
     "output_type": "execute_result"
    }
   ],
   "source": [
    "# There might be overlaps!! Some people receive aid from more than 1 place.\n",
    "where_free.sum()"
   ]
  },
  {
   "cell_type": "code",
   "execution_count": 75,
   "metadata": {
    "scrolled": true
   },
   "outputs": [],
   "source": [
    "# Replace all null values in WHEREFREE columns as 0 if if they are not 1\n",
    "for i in where_free.keys():\n",
    "    df[i] = df[i].replace(np.nan,0)"
   ]
  },
  {
   "cell_type": "markdown",
   "metadata": {},
   "source": [
    "**`SSAPGM`**"
   ]
  },
  {
   "cell_type": "code",
   "execution_count": 76,
   "metadata": {
    "scrolled": false
   },
   "outputs": [
    {
     "data": {
      "text/plain": [
       "{'SSAPGM3': 99.8771217136936,\n",
       " 'SSAPGM4': 99.71939734619582,\n",
       " 'SSAPGM2': 99.36360051718921,\n",
       " 'SSAPGM1': 99.22696719883358,\n",
       " 'SSAPGM5': 99.22421619242373}"
      ]
     },
     "execution_count": 76,
     "metadata": {},
     "output_type": "execute_result"
    }
   ],
   "source": [
    "ssapgm_dict = {k:v for k,v in sorted_percent_null.items() if k.startswith('SSAPGM')}\n",
    "ssapgm_dict"
   ]
  },
  {
   "cell_type": "markdown",
   "metadata": {},
   "source": [
    "There are many missing `SSAPGM` values as responses are determined by the answers to `SSA_APPLY`. "
   ]
  },
  {
   "cell_type": "code",
   "execution_count": 77,
   "metadata": {},
   "outputs": [
    {
     "data": {
      "text/plain": [
       "1.0     2522\n",
       "2.0    97791\n",
       "NaN     8738\n",
       "Name: SSA_APPLY, dtype: int64"
      ]
     },
     "execution_count": 77,
     "metadata": {},
     "output_type": "execute_result"
    }
   ],
   "source": [
    "# Frequency of answers to SSA_APPLY\n",
    "df.SSA_APPLY.value_counts(dropna = False).sort_index()"
   ]
  },
  {
   "cell_type": "code",
   "execution_count": 78,
   "metadata": {
    "scrolled": true
   },
   "outputs": [
    {
     "data": {
      "text/html": [
       "<div>\n",
       "<style scoped>\n",
       "    .dataframe tbody tr th:only-of-type {\n",
       "        vertical-align: middle;\n",
       "    }\n",
       "\n",
       "    .dataframe tbody tr th {\n",
       "        vertical-align: top;\n",
       "    }\n",
       "\n",
       "    .dataframe thead th {\n",
       "        text-align: right;\n",
       "    }\n",
       "</style>\n",
       "<table border=\"1\" class=\"dataframe\">\n",
       "  <thead>\n",
       "    <tr style=\"text-align: right;\">\n",
       "      <th></th>\n",
       "      <th>Response(value)</th>\n",
       "      <th>Response(actual)</th>\n",
       "      <th>Number</th>\n",
       "      <th>Percentage</th>\n",
       "    </tr>\n",
       "  </thead>\n",
       "  <tbody>\n",
       "    <tr>\n",
       "      <th>0</th>\n",
       "      <td>1.0</td>\n",
       "      <td>Did Apply</td>\n",
       "      <td>2522</td>\n",
       "      <td>2.313</td>\n",
       "    </tr>\n",
       "    <tr>\n",
       "      <th>1</th>\n",
       "      <td>2.0</td>\n",
       "      <td>Didnt Apply</td>\n",
       "      <td>97791</td>\n",
       "      <td>89.675</td>\n",
       "    </tr>\n",
       "    <tr>\n",
       "      <th>2</th>\n",
       "      <td>NaN</td>\n",
       "      <td>Missing</td>\n",
       "      <td>8738</td>\n",
       "      <td>8.013</td>\n",
       "    </tr>\n",
       "  </tbody>\n",
       "</table>\n",
       "</div>"
      ],
      "text/plain": [
       "   Response(value) Response(actual)  Number  Percentage\n",
       "0              1.0        Did Apply    2522       2.313\n",
       "1              2.0      Didnt Apply   97791      89.675\n",
       "2              NaN          Missing    8738       8.013"
      ]
     },
     "execution_count": 78,
     "metadata": {},
     "output_type": "execute_result"
    }
   ],
   "source": [
    "ssa_df = pd.DataFrame({\n",
    "            'Response(value)':[i for i in df.SSA_APPLY.value_counts(dropna = False).sort_index().index],\n",
    "            'Response(actual)':['Did Apply','Didnt Apply','Missing'],\n",
    "            'Number':[i for i in df.SSA_APPLY.value_counts(dropna = False).sort_index().values],\n",
    "            'Percentage' : [round(i*100,3) for i in df.SSA_APPLY.value_counts(dropna = False,normalize = True).sort_index().values]})\n",
    "ssa_df\n"
   ]
  },
  {
   "cell_type": "code",
   "execution_count": 21,
   "metadata": {
    "scrolled": false
   },
   "outputs": [
    {
     "data": {
      "image/png": "[encoded data removed]",
      "text/plain": [
       "<Figure size 432x288 with 1 Axes>"
      ]
     },
     "metadata": {
      "needs_background": "light"
     },
     "output_type": "display_data"
    }
   ],
   "source": [
    "# Plotting frequency against status of application of SSP\n",
    "plt.figure(figsize = (6,4))\n",
    "sns.barplot(x = ssa_df['Response(actual)'], y = ssa_df['Percentage'])\n",
    "plt.title('Frequency against status of application of any Social Security Programs')\n",
    "plt.xlabel('Responses',fontsize = 12)\n",
    "plt.ylabel('Percentage',fontsize = 12);"
   ]
  },
  {
   "cell_type": "markdown",
   "metadata": {},
   "source": [
    "Since 89% of the respondents did not apply for any Social Security Programs and 8% left the question empty, the number responses to `SSAPGM` is very low. "
   ]
  },
  {
   "cell_type": "markdown",
   "metadata": {},
   "source": [
    "The `SSAPGM` questions are only answered if `SSA_APPLY` is responded with a yes and therefore as expected, the number of responses are very low. However, it would still be worthwhile to keep them. "
   ]
  },
  {
   "cell_type": "code",
   "execution_count": 15,
   "metadata": {
    "scrolled": false
   },
   "outputs": [
    {
     "data": {
      "text/plain": [
       "SSAPGM3    134\n",
       "SSAPGM4    306\n",
       "SSAPGM2    694\n",
       "SSAPGM1    843\n",
       "SSAPGM5    846\n",
       "dtype: int64"
      ]
     },
     "execution_count": 15,
     "metadata": {},
     "output_type": "execute_result"
    }
   ],
   "source": [
    "ssapgm = df[list(ssapgm_dict.keys())].count()\n",
    "ssapgm"
   ]
  },
  {
   "cell_type": "code",
   "execution_count": 176,
   "metadata": {},
   "outputs": [
    {
     "data": {
      "image/png": "[encoded data removed]",
      "text/plain": [
       "<Figure size 864x576 with 1 Axes>"
      ]
     },
     "metadata": {
      "needs_background": "light"
     },
     "output_type": "display_data"
    }
   ],
   "source": [
    "plt.figure(figsize = (12,8))\n",
    "sns.barplot(x = ssapgm.index,y = ssapgm.values).set_xticklabels(['Social Security Survivors','Suuplemental Security Income',\n",
    "                                                                'Social Security Survivors','Social Security Retirement','Medicare'])\n",
    "plt.title('Frequency of Social Security Programs')\n",
    "plt.xticks(\n",
    "    rotation=45, \n",
    "#     horizontalalignment='left',\n",
    "    fontweight='light'\n",
    "#     fontsize='x-large'  \n",
    ");"
   ]
  },
  {
   "cell_type": "code",
   "execution_count": 79,
   "metadata": {},
   "outputs": [],
   "source": [
    "# Replacing all null values as 0\n",
    "for i in ssapgm_dict.keys():\n",
    "    df[i] = df[i].replace(np.nan,0)"
   ]
  },
  {
   "cell_type": "markdown",
   "metadata": {},
   "source": [
    "**`PSCHNG`**"
   ]
  },
  {
   "cell_type": "code",
   "execution_count": 80,
   "metadata": {
    "scrolled": true
   },
   "outputs": [
    {
     "data": {
      "text/plain": [
       "{'PSCHNG5': 99.77258347011949,\n",
       " 'PSCHNG6': 99.55800497015159,\n",
       " 'PSCHNG7': 99.51123786118423,\n",
       " 'PSCHNG4': 97.9734252780809,\n",
       " 'PSCHNG1': 94.67863660122327,\n",
       " 'PSCHNG2': 94.01564405645065,\n",
       " 'PSCHNG3': 91.59750942219695}"
      ]
     },
     "execution_count": 80,
     "metadata": {},
     "output_type": "execute_result"
    }
   ],
   "source": [
    "# Looking at the frequency of missing values in PSCHNG columns\n",
    "pschng_dict = {k:v for k,v in sorted_percent_null.items() if k.startswith('PSCHNG')}\n",
    "pschng_dict"
   ]
  },
  {
   "cell_type": "code",
   "execution_count": 81,
   "metadata": {},
   "outputs": [
    {
     "data": {
      "text/plain": [
       "24965"
      ]
     },
     "execution_count": 81,
     "metadata": {},
     "output_type": "execute_result"
    }
   ],
   "source": [
    "pschng.sum()"
   ]
  },
  {
   "cell_type": "code",
   "execution_count": 82,
   "metadata": {
    "scrolled": true
   },
   "outputs": [
    {
     "data": {
      "image/png": "[encoded data removed]",
      "text/plain": [
       "<Figure size 432x288 with 1 Axes>"
      ]
     },
     "metadata": {
      "needs_background": "light"
     },
     "output_type": "display_data"
    }
   ],
   "source": [
    "# Looking at the distribution of changes to post-secondary education\n",
    "pschng = df[list(pschng_dict.keys())].count()\n",
    "sns.barplot(x = pschng.index,y = pschng.values).set_xticklabels(['More Classes','Different Institution','Different cert/degree','Fewer Classes',\n",
    "                                                                'No Changes','Cancelled Classses','Online Classes']);\n",
    "plt.xticks(rotation = 45)\n",
    "plt.title('Post-Covid changes to post-secondary education plans');"
   ]
  },
  {
   "cell_type": "markdown",
   "metadata": {},
   "source": [
    "The `PSCHNG` questions are only answered if `TNUM_PS` is responded with a yes and therefore as expected, the number of responses are very low. However, it would still be worthwhile to keep them. "
   ]
  },
  {
   "cell_type": "code",
   "execution_count": 93,
   "metadata": {},
   "outputs": [],
   "source": [
    "# replacing all null values in PSCHNG with 0\n",
    "for i in pschng_dict.keys():\n",
    "    df[i] = df[i].replace(np.nan,0)"
   ]
  },
  {
   "cell_type": "markdown",
   "metadata": {},
   "source": [
    "These questions asked for changes to post-secondary education plans if there are members in the household who planned to enroll in post-secondary classes(`TNUM_PS` > 0)"
   ]
  },
  {
   "cell_type": "code",
   "execution_count": 83,
   "metadata": {
    "scrolled": true
   },
   "outputs": [
    {
     "data": {
      "text/html": [
       "<div>\n",
       "<style scoped>\n",
       "    .dataframe tbody tr th:only-of-type {\n",
       "        vertical-align: middle;\n",
       "    }\n",
       "\n",
       "    .dataframe tbody tr th {\n",
       "        vertical-align: top;\n",
       "    }\n",
       "\n",
       "    .dataframe thead th {\n",
       "        text-align: right;\n",
       "    }\n",
       "</style>\n",
       "<table border=\"1\" class=\"dataframe\">\n",
       "  <thead>\n",
       "    <tr style=\"text-align: right;\">\n",
       "      <th></th>\n",
       "      <th>Response(value)</th>\n",
       "      <th>Response(actual)</th>\n",
       "      <th>Number</th>\n",
       "      <th>Percentage</th>\n",
       "    </tr>\n",
       "  </thead>\n",
       "  <tbody>\n",
       "    <tr>\n",
       "      <th>0</th>\n",
       "      <td>0.0</td>\n",
       "      <td>0 Member</td>\n",
       "      <td>64277</td>\n",
       "      <td>58.942</td>\n",
       "    </tr>\n",
       "    <tr>\n",
       "      <th>1</th>\n",
       "      <td>1.0</td>\n",
       "      <td>1 Member</td>\n",
       "      <td>15852</td>\n",
       "      <td>14.536</td>\n",
       "    </tr>\n",
       "    <tr>\n",
       "      <th>2</th>\n",
       "      <td>2.0</td>\n",
       "      <td>2 Members</td>\n",
       "      <td>4534</td>\n",
       "      <td>4.158</td>\n",
       "    </tr>\n",
       "    <tr>\n",
       "      <th>3</th>\n",
       "      <td>3.0</td>\n",
       "      <td>3 Members</td>\n",
       "      <td>1277</td>\n",
       "      <td>1.171</td>\n",
       "    </tr>\n",
       "    <tr>\n",
       "      <th>4</th>\n",
       "      <td>NaN</td>\n",
       "      <td>Missing</td>\n",
       "      <td>23111</td>\n",
       "      <td>21.193</td>\n",
       "    </tr>\n",
       "  </tbody>\n",
       "</table>\n",
       "</div>"
      ],
      "text/plain": [
       "   Response(value) Response(actual)  Number  Percentage\n",
       "0              0.0         0 Member   64277      58.942\n",
       "1              1.0         1 Member   15852      14.536\n",
       "2              2.0        2 Members    4534       4.158\n",
       "3              3.0        3 Members    1277       1.171\n",
       "4              NaN          Missing   23111      21.193"
      ]
     },
     "execution_count": 83,
     "metadata": {},
     "output_type": "execute_result"
    }
   ],
   "source": [
    "tnum_df = pd.DataFrame({\n",
    "    'Response(value)':[i for i in df.TNUM_PS.value_counts(dropna = False).sort_index().index],\n",
    "    'Response(actual)':['0 Member','1 Member','2 Members','3 Members','Missing'],\n",
    "    'Number':[i for i in df.TNUM_PS.value_counts(dropna = False).sort_index().values],\n",
    "    'Percentage': [round(i*100,3) for i in df.TNUM_PS.value_counts(dropna = False,normalize = True).sort_index().values]\n",
    "})\n",
    "tnum_df"
   ]
  },
  {
   "cell_type": "code",
   "execution_count": 84,
   "metadata": {
    "scrolled": true
   },
   "outputs": [
    {
     "data": {
      "image/png": "[encoded data removed]",
      "text/plain": [
       "<Figure size 432x288 with 1 Axes>"
      ]
     },
     "metadata": {
      "needs_background": "light"
     },
     "output_type": "display_data"
    }
   ],
   "source": [
    "# Frequency of members who are pursuing post-secondary education\n",
    "sns.barplot(x = tnum_df['Response(actual)'], y = tnum_df['Percentage'])\n",
    "plt.title('Number of members in household pursuing post-secondary education')\n",
    "plt.xlabel('Members',fontsize = 12)\n",
    "plt.ylabel('Percentage',fontsize = 12);"
   ]
  },
  {
   "cell_type": "markdown",
   "metadata": {},
   "source": [
    "There is a large percentage of missing data `TNUM_PS` and thus dropping it would result in a huge loss of data. It would be imputed as a separate class on its own first."
   ]
  },
  {
   "cell_type": "code",
   "execution_count": 85,
   "metadata": {},
   "outputs": [],
   "source": [
    "# Replace all the null values with 'missing'\n",
    "df['TNUM_PS'] = df['TNUM_PS'].replace(np.nan,'Missing')"
   ]
  },
  {
   "cell_type": "markdown",
   "metadata": {},
   "source": [
    "Among those pursuing post-secondary programs, many of the classes are now online or are cancelled. "
   ]
  },
  {
   "cell_type": "markdown",
   "metadata": {},
   "source": [
    "**`PSWHYCHG`** <br>\n",
    "These questions asked for reasons behind changes to post-secondary education plans as stated above."
   ]
  },
  {
   "cell_type": "code",
   "execution_count": 86,
   "metadata": {
    "scrolled": false
   },
   "outputs": [
    {
     "data": {
      "text/plain": [
       "{'PSWHYCHG2': 99.80834655344746,\n",
       " 'PSWHYCHG3': 98.95645156853216,\n",
       " 'PSWHYCHG9': 98.61257576730154,\n",
       " 'PSWHYCHG5': 98.53187957927942,\n",
       " 'PSWHYCHG6': 98.0165243785018,\n",
       " 'PSWHYCHG8': 96.57499701974305,\n",
       " 'PSWHYCHG7': 96.57041200905998,\n",
       " 'PSWHYCHG1': 95.13622066739416,\n",
       " 'PSWHYCHG4': 92.12753665716042}"
      ]
     },
     "execution_count": 86,
     "metadata": {},
     "output_type": "execute_result"
    }
   ],
   "source": [
    "pswhychg_dict = {k:v for k,v in sorted_percent_null.items() if k.startswith('PSWHYCHG')}\n",
    "pswhychg_dict"
   ]
  },
  {
   "cell_type": "code",
   "execution_count": 53,
   "metadata": {
    "scrolled": false
   },
   "outputs": [
    {
     "data": {
      "image/png": "[encoded data removed]",
      "text/plain": [
       "<Figure size 864x576 with 1 Axes>"
      ]
     },
     "metadata": {
      "needs_background": "light"
     },
     "output_type": "display_data"
    }
   ],
   "source": [
    "# Plotting graph of reasons for changes to post-sec education plans\n",
    "pswhychg_df = df[[k for k in pswhychg_dict.keys()]].count()\n",
    "plt.figure(figsize = (12,8))\n",
    "sns.barplot(x = pswhychg_df.index,y = pswhychg_df.values).set_xticklabels(['Caring for COVID patient','Substitute for disrupted care arrangement','COVID related',\n",
    "                                                                          'Changes to financial aid','Campus life changes','Post COVID disruption to income','Uncertained about how classes might change',\n",
    "                                                                          'Concerns about possible COVID infection','Online classes'])\n",
    "plt.title('Reasons for changes to post-secondary education plans')\n",
    "plt.xticks(rotation = 45,horizontalalignment='right')\n",
    "plt.xlabel('Reason',fontsize = 12)\n",
    "plt.ylabel('Frequency',fontsize = 12);"
   ]
  },
  {
   "cell_type": "markdown",
   "metadata": {},
   "source": [
    "Since these questions are highly related and dependent on the `PSCHNG` features as well as `TNUM_PS`, these columns would be dropped to prevent overfitting of the model. "
   ]
  },
  {
   "cell_type": "code",
   "execution_count": 87,
   "metadata": {},
   "outputs": [],
   "source": [
    "# Dropping `PSWHYCHG` features\n",
    "df.drop(columns = [k for k in pswhychg_df.keys()],inplace = True)"
   ]
  },
  {
   "cell_type": "markdown",
   "metadata": {},
   "source": [
    "**`SNAPMNTH`**"
   ]
  },
  {
   "cell_type": "code",
   "execution_count": 89,
   "metadata": {
    "scrolled": true
   },
   "outputs": [
    {
     "data": {
      "text/plain": [
       "{'SNAPMNTH9': 100.0,\n",
       " 'SNAPMNTH10': 100.0,\n",
       " 'SNAPMNTH11': 100.0,\n",
       " 'SNAPMNTH12': 100.0,\n",
       " 'SNAPMNTH1': 96.57224601333321,\n",
       " 'SNAPMNTH2': 96.51539188086308,\n",
       " 'SNAPMNTH3': 96.03671676555007,\n",
       " 'SNAPMNTH4': 95.60297475493118,\n",
       " 'SNAPMNTH5': 95.29486203702855,\n",
       " 'SNAPMNTH6': 95.07294751996773,\n",
       " 'SNAPMNTH8': 94.97024328066685,\n",
       " 'SNAPMNTH7': 94.93539719947547}"
      ]
     },
     "execution_count": 89,
     "metadata": {},
     "output_type": "execute_result"
    }
   ],
   "source": [
    "snap_dict = {k:v for k,v in sorted_percent_null.items() if k.startswith('SNAPMNTH')}\n",
    "snap_dict"
   ]
  },
  {
   "cell_type": "markdown",
   "metadata": {},
   "source": [
    "The high percentage of null values of > 90% in all `SNAPMNTH` columns(`SNAPMNTH1`-`SNAPMNTH12`) suggest a lack of awareness or exposure to the Supplemental Nutrition Assistance Program(SNAP) or Food Stamp Program which is recorded in `SNAP_YN`"
   ]
  },
  {
   "cell_type": "code",
   "execution_count": 90,
   "metadata": {
    "scrolled": false
   },
   "outputs": [
    {
     "data": {
      "text/plain": [
       "2.0    83.787402\n",
       "NaN     9.903623\n",
       "1.0     6.308975\n",
       "Name: SNAP_YN, dtype: float64"
      ]
     },
     "execution_count": 90,
     "metadata": {},
     "output_type": "execute_result"
    }
   ],
   "source": [
    "# Looking at the percentage of people who received the SNAP receipt\n",
    "df['SNAP_YN'].value_counts(normalize = True, dropna = False) * 100"
   ]
  },
  {
   "cell_type": "markdown",
   "metadata": {},
   "source": [
    "Based on the `SNAP_YN` column which indicates if households have benefitted from the SNAP program, 91% of the population responded that they **do not** have access to such an aid which answers for the high null values in the `SNAPMNTH` columns. Since majority of the data is missing and `SNAP_YN` is sufficient to account for the low participation rate to SNAP programs, they would be dropped. The month of SNAP application is not meaningful for our model and thus can be dropped"
   ]
  },
  {
   "cell_type": "markdown",
   "metadata": {},
   "source": [
    "**Dropping the SNAPMNTH columns**"
   ]
  },
  {
   "cell_type": "code",
   "execution_count": 91,
   "metadata": {},
   "outputs": [],
   "source": [
    "# Dropping SNAPMNTH columns\n",
    "df.drop(columns = [k for k in snap_dict.keys()],inplace = True)"
   ]
  },
  {
   "cell_type": "markdown",
   "metadata": {},
   "source": [
    "**`EVICT`**"
   ]
  },
  {
   "cell_type": "markdown",
   "metadata": {},
   "source": [
    "The next feature with many null values would be `EVICT` which asks how likely the household will have to be evicted in the next 2 months. This question is only asked if `TENURE` is answered as 3/Rented and `RENTCUR` is 2/no"
   ]
  },
  {
   "cell_type": "code",
   "execution_count": 96,
   "metadata": {
    "scrolled": true
   },
   "outputs": [
    {
     "data": {
      "text/plain": [
       "NaN    97.739590\n",
       "3.0     0.699673\n",
       "2.0     0.678582\n",
       "4.0     0.552035\n",
       "1.0     0.330121\n",
       "Name: EVICT, dtype: float64"
      ]
     },
     "execution_count": 96,
     "metadata": {},
     "output_type": "execute_result"
    }
   ],
   "source": [
    "# Removal of missing values from EVICT\n",
    "df['EVICT'].value_counts(dropna = False,normalize = True) * 100"
   ]
  },
  {
   "cell_type": "markdown",
   "metadata": {},
   "source": [
    "Since most of the data are missing and `EVICT` is dependent on responses to `TENURE` and `RENTCUR`, this column can be dropped. The other columns would be sufficient to account for the status of eviction in our model."
   ]
  },
  {
   "cell_type": "code",
   "execution_count": 97,
   "metadata": {},
   "outputs": [],
   "source": [
    "# Dropping EVICT column\n",
    "df.drop(columns = ['EVICT'],inplace = True)"
   ]
  },
  {
   "cell_type": "markdown",
   "metadata": {},
   "source": [
    "**`SSAEXPCT`** <br>\n",
    "These questions are asked only if response to the application of Social Security Programs(SSP) in the next 12 months/`SSALIKELY` is likely(1-3). "
   ]
  },
  {
   "cell_type": "code",
   "execution_count": 108,
   "metadata": {},
   "outputs": [
    {
     "data": {
      "text/plain": [
       "{'SSAEXPCT3': 99.79367451926163,\n",
       " 'SSAEXPCT4': 99.08024685697518,\n",
       " 'SSAEXPCT2': 98.83449028436236,\n",
       " 'SSAEXPCT5': 98.16782973104327,\n",
       " 'SSAEXPCT1': 98.13756866053498}"
      ]
     },
     "execution_count": 108,
     "metadata": {},
     "output_type": "execute_result"
    }
   ],
   "source": [
    "ssaexpct_dict = {k:v for k,v in sorted_percent_null.items() if k.startswith('SSAEXPCT')}\n",
    "ssaexpct_dict"
   ]
  },
  {
   "cell_type": "code",
   "execution_count": 125,
   "metadata": {
    "scrolled": false
   },
   "outputs": [
    {
     "data": {
      "image/png": "[encoded data removed]",
      "text/plain": [
       "<Figure size 864x576 with 1 Axes>"
      ]
     },
     "metadata": {
      "needs_background": "light"
     },
     "output_type": "display_data"
    }
   ],
   "source": [
    "# Plotting graph against type of SSP program applied\n",
    "plt.figure(figsize = (12,8))\n",
    "ssaexpct_df = df[[k for k in ssaexpct_dict.keys()]].count()\n",
    "sns.barplot(x = ssaexpct_df.index, y = ssaexpct_df.values).set_xticklabels(['Social Security Survivors','Supplemental Security Income','Social Security Disability',\n",
    "                                                                            'Medicare','Social Security Retirement'])\n",
    "\n",
    "plt.title('Types of Social Security Programs')\n",
    "plt.ylabel('Frequency',fontsize = 15)\n",
    "plt.xlabel('Social Security Programs',fontsize = 15)\n",
    "plt.xticks(rotation = 45,horizontalalignment='right');"
   ]
  },
  {
   "cell_type": "markdown",
   "metadata": {},
   "source": [
    "**`SSALIKELY`**"
   ]
  },
  {
   "cell_type": "code",
   "execution_count": 130,
   "metadata": {
    "scrolled": false
   },
   "outputs": [
    {
     "data": {
      "text/plain": [
       "4.0    65.274046\n",
       "NaN    29.546726\n",
       "3.0     2.923403\n",
       "1.0     1.255376\n",
       "2.0     1.000449\n",
       "Name: SSALIKELY, dtype: float64"
      ]
     },
     "execution_count": 130,
     "metadata": {},
     "output_type": "execute_result"
    }
   ],
   "source": [
    "df['SSALIKELY'].value_counts(dropna = False,normalize = True)*100"
   ]
  },
  {
   "cell_type": "markdown",
   "metadata": {},
   "source": [
    "# DROP ALL SSAEXPCT COLMS??"
   ]
  },
  {
   "cell_type": "markdown",
   "metadata": {},
   "source": [
    "Only 5% of people plan to apply for the SSP programme, could just drop all the SSAEXPCT columns???\n"
   ]
  },
  {
   "cell_type": "code",
   "execution_count": 131,
   "metadata": {},
   "outputs": [
    {
     "data": {
      "text/plain": [
       "{'SSAEXPCT3': 99.79367451926163,\n",
       " 'INTRNT3': 99.74415640388442,\n",
       " 'COMP3': 99.68913627568752,\n",
       " 'INTRNT1': 99.51949088041376,\n",
       " 'WHYCHNGD6': 99.37735554923843,\n",
       " 'SSAEXPCT4': 99.08024685697518,\n",
       " 'SSAEXPCT2': 98.83449028436236,\n",
       " 'WHYCHNGD12': 98.48236146390221,\n",
       " 'FOODSUFRSN4': 98.2980440344426,\n",
       " 'PSPLANS5': 98.22193285710355,\n",
       " 'SSAEXPCT5': 98.16782973104327,\n",
       " 'SSAEXPCT1': 98.13756866053498,\n",
       " 'WHYCHNGD8': 97.80836489349021,\n",
       " 'TEACH5': 97.79094185289452,\n",
       " 'PSPLANS6': 97.6799845943641,\n",
       " 'ENROLL2': 97.17379941495264,\n",
       " 'TEACH3': 97.16646339785972,\n",
       " 'PSPLANS1': 97.11511127820927,\n",
       " 'FORCLOSE': 97.11327727393605,\n",
       " 'CHNGHOW11': 97.05550613932931,\n",
       " 'FOODSUFRSN2': 96.61351110948088,\n",
       " 'TEACH4': 96.57224601333321,\n",
       " 'CHNGHOW5': 96.35766751336531,\n",
       " 'PSPLANS2': 96.11649595143557,\n",
       " 'PSPLANS4': 96.09540490229342,\n",
       " 'WHYCHNGD13': 95.7817901715711,\n",
       " 'SPNDSRC8': 95.55070563314413,\n",
       " 'WHYCHNGD10': 95.54703762459766,\n",
       " 'SPNDSRC7': 95.52594657545552,\n",
       " 'WHYCHNGD4': 95.15180970371661,\n",
       " 'TEACH1': 94.75199677215248,\n",
       " 'WHYCHNGD2': 93.36457253945402,\n",
       " 'ENROLL3': 92.86939138568194,\n",
       " 'CHNGHOW3': 92.7089160117743,\n",
       " 'SPNDSRC4': 92.43381537078982,\n",
       " 'PSPLANS3': 91.74239575978213,\n",
       " 'CHNGHOW10': 90.963860945796,\n",
       " 'FOODSUFRSN3': 90.78137752060962,\n",
       " 'CHNGHOW7': 90.3889006061384,\n",
       " 'SPNDSRC5': 89.69197898231103,\n",
       " 'COMP1': 89.37928125372532,\n",
       " 'FOODSUFRSN1': 88.01478207444224,\n",
       " 'CHILDFOOD': 87.98635500820717,\n",
       " 'FOODSUFRSN5': 87.0262537711713,\n",
       " 'WHYCHNGD7': 86.5136495768035,\n",
       " 'TEACH2': 85.5700543782267,\n",
       " 'COMP2': 85.3921559637234,\n",
       " 'UI_RECV': 83.67461096184354,\n",
       " 'WHYCHNGD9': 83.58015974177219,\n",
       " 'CHNGHOW12': 82.2761827035057,\n",
       " 'WHYCHNGD5': 80.9474466075506,\n",
       " 'TCH_HRS': 80.3422251973847,\n",
       " 'RENTCUR': 80.0662075542636,\n",
       " 'TSTDY_HRS': 79.98092635555841,\n",
       " 'INTRNT2': 79.84154203079294,\n",
       " 'SCHLHRS': 79.22348259071444,\n",
       " 'INTRNTAVAIL': 78.56232405021504,\n",
       " 'SPNDSRC6': 78.46053681305078,\n",
       " 'COMPAVAIL': 78.38167462930188,\n",
       " 'ENROLL1': 78.04696884943742,\n",
       " 'SPNDSRC3': 77.1886548495658,\n",
       " 'CHNGHOW9': 76.3312578518308,\n",
       " 'SPNDSRC2': 76.1166793518629,\n",
       " 'WHYCHNGD1': 75.7691355420858,\n",
       " 'CHNGHOW2': 72.62381821349643,\n",
       " 'CHNGHOW8': 70.78797993599325,\n",
       " 'WHYCHNGD11': 69.01541480591649,\n",
       " 'EST_MSA': 67.68117669714171,\n",
       " 'CHNGHOW4': 64.35245894122933,\n",
       " 'UNEMPPAY': 63.99391110581287,\n",
       " 'RSNNOWRK': 62.3726513282776,\n",
       " 'MORTCUR': 59.14572080952949,\n",
       " 'WHYCHNGD3': 48.63595932178522,\n",
       " 'CHNGHOW1': 48.130691144510365,\n",
       " 'CHNGHOW6': 44.66900807878883,\n",
       " 'KINDWORK': 39.68510146628642,\n",
       " 'MORTCONF': 39.33297264582627,\n",
       " 'HLTHINS8': 30.384865796737305,\n",
       " 'SPNDSRC1': 29.98413586303656,\n",
       " 'SSALIKELY': 29.54672584387122,\n",
       " 'SSADECISN': 28.64347873930546,\n",
       " 'HLTHINS7': 27.98782221162575,\n",
       " 'CNCLDTRPS': 27.569669237329325,\n",
       " 'HLTHINS6': 27.275311551475916,\n",
       " 'HLTHINS5': 26.90759369469331,\n",
       " 'HLTHINS4': 26.256522177696674,\n",
       " 'TUI_NUMPER': 25.72649494273322,\n",
       " 'HLTHINS2': 24.439940945062403,\n",
       " 'HLTHINS3': 23.170809987987273,\n",
       " 'INCOME': 22.578426607733995,\n",
       " 'TBEDROOMS': 20.014488633758518,\n",
       " 'LIVQTR': 18.252927529321145,\n",
       " 'HLTHINS1': 18.243757507954996,\n",
       " 'TSPNDPRPD': 18.095203161823367,\n",
       " 'TENURE': 17.884292670401923,\n",
       " 'TSPNDFOOD': 17.544084877717765,\n",
       " 'MH_SVCS': 16.94986749319126,\n",
       " 'PRESCRIPT': 16.9461994846448,\n",
       " 'MH_NOTGET': 16.904934388497125,\n",
       " 'NOTGET': 16.88567734362821,\n",
       " 'DELAY': 16.872839313715602,\n",
       " 'INTEREST': 15.355200777617812,\n",
       " 'DOWN': 15.297429643011068,\n",
       " 'WORRY': 15.278172598142154,\n",
       " 'ANXIOUS': 15.18555538234404,\n",
       " 'HLTHSTATUS': 15.062677096037632,\n",
       " 'FOODCONF': 13.923760442361829,\n",
       " 'SNAP_YN': 9.903623075441766,\n",
       " 'FREEFOOD': 9.353421793472778,\n",
       " 'CURFOODSUF': 9.058147105482755,\n",
       " 'PRIFOODSUF': 9.021467020018155,\n",
       " 'FEWRTRIPS': 8.322711391917544,\n",
       " 'FEWRTRANS': 8.138393962457933,\n",
       " 'PLNDTRIPS': 8.049444755206279,\n",
       " 'SSA_APPLY': 8.01276466974168,\n",
       " 'TW_START': 4.131094625450477,\n",
       " 'EXPNS_DIF': 2.696903283784651,\n",
       " 'SSA_RECV': 1.0068683460032462,\n",
       " 'MS': 0.9371761836205078,\n",
       " 'UI_APPLY': 0.7794518161227315,\n",
       " 'EXPCTLOSS': 0.6969216238273835,\n",
       " 'ANYWORK': 0.596051388799736,\n",
       " 'WRKLOSS': 0.5428652648760672}"
      ]
     },
     "execution_count": 131,
     "metadata": {},
     "output_type": "execute_result"
    }
   ],
   "source": [
    "null_columns = df.columns[df.isnull().any()]\n",
    "null_columns\n",
    "percent_null = {}\n",
    "for col in null_columns:\n",
    "    percent_null[col] = (df[col].isnull().sum()/len(df)) * 100\n",
    "sorted_percent_null = dict(sorted(percent_null.items(),key = lambda x: x[1],reverse = True))\n",
    "sorted_percent_null"
   ]
  },
  {
   "cell_type": "code",
   "execution_count": 25,
   "metadata": {},
   "outputs": [
    {
     "data": {
      "text/plain": [
       "80.02035744743286"
      ]
     },
     "execution_count": 25,
     "metadata": {},
     "output_type": "execute_result"
    }
   ],
   "source": [
    "df['RENTCUR'].isnull().sum()/len(df['RENTCUR'])*100"
   ]
  },
  {
   "cell_type": "markdown",
   "metadata": {},
   "source": [
    "Graph shows the sentiments of the remaining respondents, where > 60% feel that they are susceptible to eviction"
   ]
  },
  {
   "cell_type": "code",
   "execution_count": 228,
   "metadata": {
    "scrolled": false
   },
   "outputs": [
    {
     "data": {
      "image/png": "[encoded data removed]",
      "text/plain": [
       "<Figure size 864x360 with 1 Axes>"
      ]
     },
     "metadata": {
      "needs_background": "light"
     },
     "output_type": "display_data"
    }
   ],
   "source": [
    "# 1 - Extremely likely to be evicted and 4 - Not at all likely\n",
    "plt.figure(figsize = (12,5))\n",
    "sns.countplot(df['EVICT'])\n",
    "plt.title('Frequency against likelihood of eviction');"
   ]
  },
  {
   "cell_type": "markdown",
   "metadata": {},
   "source": [
    "**`FORCLOSE`** <br>\n",
    "Similar to `EVICT` which asks respondents about the likelihood of losing the ability to pay mortgage and thus obligated to give up their homes"
   ]
  },
  {
   "cell_type": "code",
   "execution_count": 248,
   "metadata": {
    "scrolled": false
   },
   "outputs": [
    {
     "data": {
      "text/plain": [
       " 4.0     45.689927\n",
       " 3.0     36.248816\n",
       " 2.0     13.545943\n",
       " 1.0      3.915377\n",
       "-99.0     0.599937\n",
       "Name: FORCLOSE, dtype: float64"
      ]
     },
     "execution_count": 248,
     "metadata": {},
     "output_type": "execute_result"
    }
   ],
   "source": [
    "df['FORCLOSE'].value_counts(normalize = True) * 100"
   ]
  },
  {
   "cell_type": "markdown",
   "metadata": {},
   "source": [
    "For the remaining respondents, >50% are worried about foreclosure "
   ]
  },
  {
   "cell_type": "code",
   "execution_count": 245,
   "metadata": {},
   "outputs": [
    {
     "data": {
      "text/plain": [
       "<matplotlib.axes._subplots.AxesSubplot at 0x26690f60340>"
      ]
     },
     "execution_count": 245,
     "metadata": {},
     "output_type": "execute_result"
    },
    {
     "data": {
      "image/png": "[encoded data removed]",
      "text/plain": [
       "<Figure size 432x288 with 1 Axes>"
      ]
     },
     "metadata": {
      "needs_background": "light"
     },
     "output_type": "display_data"
    }
   ],
   "source": [
    "sns.countplot(df['FORCLOSE'])"
   ]
  },
  {
   "cell_type": "markdown",
   "metadata": {},
   "source": [
    "**`SSAPGM`**\n",
    "These questions are only asked if response to the application of Social Security Programs after March 13,2020/`SSA_APPLY` is 1(yes) "
   ]
  },
  {
   "cell_type": "code",
   "execution_count": 230,
   "metadata": {
    "scrolled": true
   },
   "outputs": [
    {
     "data": {
      "text/plain": [
       " 2.0     0.896746\n",
       " NaN     0.067033\n",
       " 1.0     0.023127\n",
       "-99.0    0.013095\n",
       "Name: SSA_APPLY, dtype: float64"
      ]
     },
     "execution_count": 230,
     "metadata": {},
     "output_type": "execute_result"
    }
   ],
   "source": [
    "df['SSA_APPLY'].value_counts(normalize = True,dropna = False)"
   ]
  },
  {
   "cell_type": "markdown",
   "metadata": {},
   "source": [
    "Therefore, since majority of the population has yet to apply for any Social Security Programs, the responses to the subsequent questions(`SSAPGM1` - `SSAPGM5`) are low and thus could be dropped"
   ]
  },
  {
   "cell_type": "code",
   "execution_count": 235,
   "metadata": {
    "scrolled": false
   },
   "outputs": [
    {
     "data": {
      "image/png": "[encoded data removed]",
      "text/plain": [
       "<Figure size 432x288 with 1 Axes>"
      ]
     },
     "metadata": {
      "needs_background": "light"
     },
     "output_type": "display_data"
    }
   ],
   "source": [
    "# 1 - Yes, 2 - No\n",
    "sns.countplot(df['SSA_APPLY'])\n",
    "plt.title('Frequency against application status for Social Security Programs');"
   ]
  },
  {
   "cell_type": "code",
   "execution_count": 249,
   "metadata": {
    "scrolled": true
   },
   "outputs": [
    {
     "ename": "KeyError",
     "evalue": "\"['SSAPGM1' 'SSAPGM2' 'SSAPGM3' 'SSAPGM4' 'SSAPGM5'] not found in axis\"",
     "output_type": "error",
     "traceback": [
      "\u001b[1;31m---------------------------------------------------------------------------\u001b[0m",
      "\u001b[1;31mKeyError\u001b[0m                                  Traceback (most recent call last)",
      "\u001b[1;32m<ipython-input-249-327e4515fc02>\u001b[0m in \u001b[0;36m<module>\u001b[1;34m\u001b[0m\n\u001b[0;32m      1\u001b[0m \u001b[0mssapgm_cols\u001b[0m \u001b[1;33m=\u001b[0m \u001b[1;33m[\u001b[0m\u001b[1;34m'SSAPGM1'\u001b[0m\u001b[1;33m,\u001b[0m\u001b[1;34m'SSAPGM2'\u001b[0m\u001b[1;33m,\u001b[0m\u001b[1;34m'SSAPGM3'\u001b[0m\u001b[1;33m,\u001b[0m\u001b[1;34m'SSAPGM4'\u001b[0m\u001b[1;33m,\u001b[0m\u001b[1;34m'SSAPGM5'\u001b[0m\u001b[1;33m]\u001b[0m\u001b[1;33m\u001b[0m\u001b[1;33m\u001b[0m\u001b[0m\n\u001b[1;32m----> 2\u001b[1;33m \u001b[0mdf\u001b[0m\u001b[1;33m.\u001b[0m\u001b[0mdrop\u001b[0m\u001b[1;33m(\u001b[0m\u001b[0mcolumns\u001b[0m \u001b[1;33m=\u001b[0m \u001b[0mssapgm_cols\u001b[0m\u001b[1;33m,\u001b[0m\u001b[0minplace\u001b[0m \u001b[1;33m=\u001b[0m \u001b[1;32mTrue\u001b[0m\u001b[1;33m)\u001b[0m\u001b[1;33m\u001b[0m\u001b[1;33m\u001b[0m\u001b[0m\n\u001b[0m",
      "\u001b[1;32mD:\\downloads\\lib\\site-packages\\pandas\\core\\frame.py\u001b[0m in \u001b[0;36mdrop\u001b[1;34m(self, labels, axis, index, columns, level, inplace, errors)\u001b[0m\n\u001b[0;32m   3988\u001b[0m                 \u001b[0mweight\u001b[0m  \u001b[1;36m1.0\u001b[0m     \u001b[1;36m0.8\u001b[0m\u001b[1;33m\u001b[0m\u001b[1;33m\u001b[0m\u001b[0m\n\u001b[0;32m   3989\u001b[0m         \"\"\"\n\u001b[1;32m-> 3990\u001b[1;33m         return super().drop(\n\u001b[0m\u001b[0;32m   3991\u001b[0m             \u001b[0mlabels\u001b[0m\u001b[1;33m=\u001b[0m\u001b[0mlabels\u001b[0m\u001b[1;33m,\u001b[0m\u001b[1;33m\u001b[0m\u001b[1;33m\u001b[0m\u001b[0m\n\u001b[0;32m   3992\u001b[0m             \u001b[0maxis\u001b[0m\u001b[1;33m=\u001b[0m\u001b[0maxis\u001b[0m\u001b[1;33m,\u001b[0m\u001b[1;33m\u001b[0m\u001b[1;33m\u001b[0m\u001b[0m\n",
      "\u001b[1;32mD:\\downloads\\lib\\site-packages\\pandas\\core\\generic.py\u001b[0m in \u001b[0;36mdrop\u001b[1;34m(self, labels, axis, index, columns, level, inplace, errors)\u001b[0m\n\u001b[0;32m   3934\u001b[0m         \u001b[1;32mfor\u001b[0m \u001b[0maxis\u001b[0m\u001b[1;33m,\u001b[0m \u001b[0mlabels\u001b[0m \u001b[1;32min\u001b[0m \u001b[0maxes\u001b[0m\u001b[1;33m.\u001b[0m\u001b[0mitems\u001b[0m\u001b[1;33m(\u001b[0m\u001b[1;33m)\u001b[0m\u001b[1;33m:\u001b[0m\u001b[1;33m\u001b[0m\u001b[1;33m\u001b[0m\u001b[0m\n\u001b[0;32m   3935\u001b[0m             \u001b[1;32mif\u001b[0m \u001b[0mlabels\u001b[0m \u001b[1;32mis\u001b[0m \u001b[1;32mnot\u001b[0m \u001b[1;32mNone\u001b[0m\u001b[1;33m:\u001b[0m\u001b[1;33m\u001b[0m\u001b[1;33m\u001b[0m\u001b[0m\n\u001b[1;32m-> 3936\u001b[1;33m                 \u001b[0mobj\u001b[0m \u001b[1;33m=\u001b[0m \u001b[0mobj\u001b[0m\u001b[1;33m.\u001b[0m\u001b[0m_drop_axis\u001b[0m\u001b[1;33m(\u001b[0m\u001b[0mlabels\u001b[0m\u001b[1;33m,\u001b[0m \u001b[0maxis\u001b[0m\u001b[1;33m,\u001b[0m \u001b[0mlevel\u001b[0m\u001b[1;33m=\u001b[0m\u001b[0mlevel\u001b[0m\u001b[1;33m,\u001b[0m \u001b[0merrors\u001b[0m\u001b[1;33m=\u001b[0m\u001b[0merrors\u001b[0m\u001b[1;33m)\u001b[0m\u001b[1;33m\u001b[0m\u001b[1;33m\u001b[0m\u001b[0m\n\u001b[0m\u001b[0;32m   3937\u001b[0m \u001b[1;33m\u001b[0m\u001b[0m\n\u001b[0;32m   3938\u001b[0m         \u001b[1;32mif\u001b[0m \u001b[0minplace\u001b[0m\u001b[1;33m:\u001b[0m\u001b[1;33m\u001b[0m\u001b[1;33m\u001b[0m\u001b[0m\n",
      "\u001b[1;32mD:\\downloads\\lib\\site-packages\\pandas\\core\\generic.py\u001b[0m in \u001b[0;36m_drop_axis\u001b[1;34m(self, labels, axis, level, errors)\u001b[0m\n\u001b[0;32m   3968\u001b[0m                 \u001b[0mnew_axis\u001b[0m \u001b[1;33m=\u001b[0m \u001b[0maxis\u001b[0m\u001b[1;33m.\u001b[0m\u001b[0mdrop\u001b[0m\u001b[1;33m(\u001b[0m\u001b[0mlabels\u001b[0m\u001b[1;33m,\u001b[0m \u001b[0mlevel\u001b[0m\u001b[1;33m=\u001b[0m\u001b[0mlevel\u001b[0m\u001b[1;33m,\u001b[0m \u001b[0merrors\u001b[0m\u001b[1;33m=\u001b[0m\u001b[0merrors\u001b[0m\u001b[1;33m)\u001b[0m\u001b[1;33m\u001b[0m\u001b[1;33m\u001b[0m\u001b[0m\n\u001b[0;32m   3969\u001b[0m             \u001b[1;32melse\u001b[0m\u001b[1;33m:\u001b[0m\u001b[1;33m\u001b[0m\u001b[1;33m\u001b[0m\u001b[0m\n\u001b[1;32m-> 3970\u001b[1;33m                 \u001b[0mnew_axis\u001b[0m \u001b[1;33m=\u001b[0m \u001b[0maxis\u001b[0m\u001b[1;33m.\u001b[0m\u001b[0mdrop\u001b[0m\u001b[1;33m(\u001b[0m\u001b[0mlabels\u001b[0m\u001b[1;33m,\u001b[0m \u001b[0merrors\u001b[0m\u001b[1;33m=\u001b[0m\u001b[0merrors\u001b[0m\u001b[1;33m)\u001b[0m\u001b[1;33m\u001b[0m\u001b[1;33m\u001b[0m\u001b[0m\n\u001b[0m\u001b[0;32m   3971\u001b[0m             \u001b[0mresult\u001b[0m \u001b[1;33m=\u001b[0m \u001b[0mself\u001b[0m\u001b[1;33m.\u001b[0m\u001b[0mreindex\u001b[0m\u001b[1;33m(\u001b[0m\u001b[1;33m**\u001b[0m\u001b[1;33m{\u001b[0m\u001b[0maxis_name\u001b[0m\u001b[1;33m:\u001b[0m \u001b[0mnew_axis\u001b[0m\u001b[1;33m}\u001b[0m\u001b[1;33m)\u001b[0m\u001b[1;33m\u001b[0m\u001b[1;33m\u001b[0m\u001b[0m\n\u001b[0;32m   3972\u001b[0m \u001b[1;33m\u001b[0m\u001b[0m\n",
      "\u001b[1;32mD:\\downloads\\lib\\site-packages\\pandas\\core\\indexes\\base.py\u001b[0m in \u001b[0;36mdrop\u001b[1;34m(self, labels, errors)\u001b[0m\n\u001b[0;32m   5016\u001b[0m         \u001b[1;32mif\u001b[0m \u001b[0mmask\u001b[0m\u001b[1;33m.\u001b[0m\u001b[0many\u001b[0m\u001b[1;33m(\u001b[0m\u001b[1;33m)\u001b[0m\u001b[1;33m:\u001b[0m\u001b[1;33m\u001b[0m\u001b[1;33m\u001b[0m\u001b[0m\n\u001b[0;32m   5017\u001b[0m             \u001b[1;32mif\u001b[0m \u001b[0merrors\u001b[0m \u001b[1;33m!=\u001b[0m \u001b[1;34m\"ignore\"\u001b[0m\u001b[1;33m:\u001b[0m\u001b[1;33m\u001b[0m\u001b[1;33m\u001b[0m\u001b[0m\n\u001b[1;32m-> 5018\u001b[1;33m                 \u001b[1;32mraise\u001b[0m \u001b[0mKeyError\u001b[0m\u001b[1;33m(\u001b[0m\u001b[1;34mf\"{labels[mask]} not found in axis\"\u001b[0m\u001b[1;33m)\u001b[0m\u001b[1;33m\u001b[0m\u001b[1;33m\u001b[0m\u001b[0m\n\u001b[0m\u001b[0;32m   5019\u001b[0m             \u001b[0mindexer\u001b[0m \u001b[1;33m=\u001b[0m \u001b[0mindexer\u001b[0m\u001b[1;33m[\u001b[0m\u001b[1;33m~\u001b[0m\u001b[0mmask\u001b[0m\u001b[1;33m]\u001b[0m\u001b[1;33m\u001b[0m\u001b[1;33m\u001b[0m\u001b[0m\n\u001b[0;32m   5020\u001b[0m         \u001b[1;32mreturn\u001b[0m \u001b[0mself\u001b[0m\u001b[1;33m.\u001b[0m\u001b[0mdelete\u001b[0m\u001b[1;33m(\u001b[0m\u001b[0mindexer\u001b[0m\u001b[1;33m)\u001b[0m\u001b[1;33m\u001b[0m\u001b[1;33m\u001b[0m\u001b[0m\n",
      "\u001b[1;31mKeyError\u001b[0m: \"['SSAPGM1' 'SSAPGM2' 'SSAPGM3' 'SSAPGM4' 'SSAPGM5'] not found in axis\""
     ]
    }
   ],
   "source": [
    "ssapgm_cols = ['SSAPGM1','SSAPGM2','SSAPGM3','SSAPGM4','SSAPGM5']\n",
    "df.drop(columns = ssapgm_cols,inplace = True)"
   ]
  },
  {
   "cell_type": "code",
   "execution_count": 250,
   "metadata": {},
   "outputs": [
    {
     "data": {
      "text/plain": [
       "[('EVICT', 97.72400069692162),\n",
       " ('FORCLOSE', 97.09585423334036),\n",
       " ('SSAEXPCT1', 94.96565826998376),\n",
       " ('SSAEXPCT2', 94.96565826998376),\n",
       " ('SSAEXPCT3', 94.96565826998376),\n",
       " ('SSAEXPCT4', 94.96565826998376),\n",
       " ('SSAEXPCT5', 94.96565826998376),\n",
       " ('WHEREFREE1', 94.74557775719617),\n",
       " ('WHEREFREE2', 94.74557775719617),\n",
       " ('WHEREFREE3', 94.74557775719617),\n",
       " ('WHEREFREE4', 94.74557775719617),\n",
       " ('WHEREFREE5', 94.74557775719617),\n",
       " ('WHEREFREE6', 94.74557775719617),\n",
       " ('WHEREFREE7', 94.74557775719617),\n",
       " ('CHILDFOOD', 87.80662258943065),\n",
       " ('PSWHYCHG1', 84.99692804284234),\n",
       " ('PSWHYCHG2', 84.99692804284234),\n",
       " ('PSWHYCHG3', 84.99692804284234),\n",
       " ('PSWHYCHG4', 84.99692804284234),\n",
       " ('PSWHYCHG5', 84.99692804284234),\n",
       " ('PSWHYCHG6', 84.99692804284234),\n",
       " ('PSWHYCHG7', 84.99692804284234),\n",
       " ('PSWHYCHG8', 84.99692804284234),\n",
       " ('PSWHYCHG9', 84.99692804284234),\n",
       " ('UI_RECV', 83.48387451742762),\n",
       " ('PSPLANS1', 80.4641864815545),\n",
       " ('PSPLANS2', 80.4641864815545),\n",
       " ('PSPLANS3', 80.4641864815545),\n",
       " ('PSPLANS4', 80.4641864815545),\n",
       " ('PSPLANS5', 80.4641864815545),\n",
       " ('PSPLANS6', 80.4641864815545),\n",
       " ('PSCHNG1', 80.4641864815545),\n",
       " ('PSCHNG2', 80.4641864815545),\n",
       " ('PSCHNG3', 80.4641864815545),\n",
       " ('PSCHNG4', 80.4641864815545),\n",
       " ('PSCHNG5', 80.4641864815545),\n",
       " ('PSCHNG6', 80.4641864815545),\n",
       " ('PSCHNG7', 80.4641864815545),\n",
       " ('RENTCUR', 80.02035744743286),\n",
       " ('INTRNT1', 79.30326177659994),\n",
       " ('INTRNT2', 79.30326177659994),\n",
       " ('INTRNT3', 79.30326177659994),\n",
       " ('SCHLHRS', 79.09051728090526),\n",
       " ('TSTDY_HRS', 79.09051728090526),\n",
       " ('TCH_HRS', 79.09051728090526),\n",
       " ('COMP1', 78.7869895736857),\n",
       " ('COMP2', 78.7869895736857),\n",
       " ('COMP3', 78.7869895736857),\n",
       " ('INTRNTAVAIL', 78.4935488899689),\n",
       " ('TEACH1', 78.31198246691915),\n",
       " ('TEACH2', 78.31198246691915),\n",
       " ('TEACH3', 78.31198246691915),\n",
       " ('TEACH4', 78.31198246691915),\n",
       " ('TEACH5', 78.31198246691915),\n",
       " ('COMPAVAIL', 78.31198246691915),\n",
       " ('FOODSUFRSN1', 70.21760460701873),\n",
       " ('FOODSUFRSN2', 70.21760460701873),\n",
       " ('FOODSUFRSN3', 70.21760460701873),\n",
       " ('FOODSUFRSN4', 70.21760460701873),\n",
       " ('FOODSUFRSN5', 70.21760460701873),\n",
       " ('ENROLL1', 68.58992581452715),\n",
       " ('ENROLL2', 68.58992581452715),\n",
       " ('ENROLL3', 68.58992581452715),\n",
       " ('EST_MSA', 67.68117669714171),\n",
       " ('RSNNOWRK', 61.90864824715041),\n",
       " ('UNEMPPAY', 61.90864824715041),\n",
       " ('MORTCUR', 59.061356612960914),\n",
       " ('MORTCONF', 39.23485341720846),\n",
       " ('KINDWORK', 38.68740314164932),\n",
       " ('SSALIKELY', 29.44585560884357),\n",
       " ('SSADECISN', 27.863109921046114),\n",
       " ('CNCLDTRPS', 27.352339730951574),\n",
       " ('WHYCHNGD1', 25.79527010297934),\n",
       " ('WHYCHNGD2', 25.79527010297934),\n",
       " ('WHYCHNGD3', 25.79527010297934),\n",
       " ('WHYCHNGD4', 25.79527010297934),\n",
       " ('WHYCHNGD5', 25.79527010297934),\n",
       " ('WHYCHNGD6', 25.79527010297934),\n",
       " ('WHYCHNGD7', 25.79527010297934),\n",
       " ('WHYCHNGD8', 25.79527010297934),\n",
       " ('WHYCHNGD9', 25.79527010297934),\n",
       " ('WHYCHNGD10', 25.79527010297934),\n",
       " ('WHYCHNGD11', 25.79527010297934),\n",
       " ('WHYCHNGD12', 25.79527010297934),\n",
       " ('WHYCHNGD13', 25.79527010297934),\n",
       " ('TUI_NUMPER', 24.707705568953976),\n",
       " ('INCOME', 19.759562039779553),\n",
       " ('TNUM_PS', 18.8563149352138),\n",
       " ('TENURE', 17.14335494401702),\n",
       " ('LIVQTR', 17.14335494401702),\n",
       " ('TBEDROOMS', 17.14335494401702),\n",
       " ('DELAY', 16.25202886722726),\n",
       " ('NOTGET', 16.25202886722726),\n",
       " ('PRESCRIPT', 16.25202886722726),\n",
       " ('MH_SVCS', 16.25202886722726),\n",
       " ('MH_NOTGET', 16.25202886722726),\n",
       " ('HLTHINS1', 15.367121805393808),\n",
       " ('HLTHINS2', 15.367121805393808),\n",
       " ('HLTHINS3', 15.367121805393808),\n",
       " ('HLTHINS4', 15.367121805393808),\n",
       " ('HLTHINS5', 15.367121805393808),\n",
       " ('HLTHINS6', 15.367121805393808),\n",
       " ('HLTHINS7', 15.367121805393808),\n",
       " ('HLTHINS8', 15.367121805393808),\n",
       " ('HLTHSTATUS', 14.594089004227378),\n",
       " ('ANXIOUS', 14.594089004227378),\n",
       " ('WORRY', 14.594089004227378),\n",
       " ('INTEREST', 14.594089004227378),\n",
       " ('DOWN', 14.594089004227378),\n",
       " ('FOODCONF', 13.396484213808218),\n",
       " ('TSPNDPRPD', 13.190158733069849),\n",
       " ('TSPNDFOOD', 12.360271799433292),\n",
       " ('SNAP_YN', 8.918762780717278),\n",
       " ('FREEFOOD', 8.726192332028134),\n",
       " ('PRIFOODSUF', 8.323628394054158),\n",
       " ('CURFOODSUF', 8.323628394054158),\n",
       " ('SPNDSRC1', 7.3800331954773455),\n",
       " ('SPNDSRC2', 7.3800331954773455),\n",
       " ('SPNDSRC3', 7.3800331954773455),\n",
       " ('SPNDSRC4', 7.3800331954773455),\n",
       " ('SPNDSRC5', 7.3800331954773455),\n",
       " ('SPNDSRC6', 7.3800331954773455),\n",
       " ('SPNDSRC7', 7.3800331954773455),\n",
       " ('SPNDSRC8', 7.3800331954773455),\n",
       " ('FEWRTRIPS', 7.3800331954773455),\n",
       " ('FEWRTRANS', 7.3800331954773455),\n",
       " ('PLNDTRIPS', 7.3800331954773455),\n",
       " ('SSA_APPLY', 6.703285618655491),\n",
       " ('CHNGHOW1', 3.5653043071590353),\n",
       " ('CHNGHOW2', 3.5653043071590353),\n",
       " ('CHNGHOW3', 3.5653043071590353),\n",
       " ('CHNGHOW4', 3.5653043071590353),\n",
       " ('CHNGHOW5', 3.5653043071590353),\n",
       " ('CHNGHOW6', 3.5653043071590353),\n",
       " ('CHNGHOW7', 3.5653043071590353),\n",
       " ('CHNGHOW8', 3.5653043071590353),\n",
       " ('CHNGHOW9', 3.5653043071590353),\n",
       " ('CHNGHOW10', 3.5653043071590353),\n",
       " ('CHNGHOW11', 3.5653043071590353),\n",
       " ('CHNGHOW12', 3.5653043071590353),\n",
       " ('EXPNS_DIF', 2.0935158778919956),\n",
       " ('SSA_RECV', 0.3172827392687825)]"
      ]
     },
     "execution_count": 250,
     "metadata": {},
     "output_type": "execute_result"
    }
   ],
   "source": [
    "# Checking for columns with null values\n",
    "null_columns = df.columns[df.isnull().any()]\n",
    "\n",
    "percent_null = {}\n",
    "for col in null_columns:\n",
    "    percent_null[col] = (df[col].isnull().sum()/len(df)) * 100\n",
    "sorted_percent_null = sorted(percent_null.items(),key = lambda x: x[1],reverse = True)\n",
    "sorted_percent_null"
   ]
  },
  {
   "cell_type": "markdown",
   "metadata": {},
   "source": [
    "**`SSAEXPCT`**"
   ]
  },
  {
   "cell_type": "markdown",
   "metadata": {},
   "source": [
    "These questions are asked only if response to the application of Social Security Programs in the next 12 months/`SSALIKELY` is likely(1-3). "
   ]
  },
  {
   "cell_type": "code",
   "execution_count": 255,
   "metadata": {},
   "outputs": [
    {
     "data": {
      "text/plain": [
       " 4.0     65.274046\n",
       " NaN     29.445856\n",
       " 3.0      2.923403\n",
       " 1.0      1.255376\n",
       " 2.0      1.000449\n",
       "-99.0     0.100870\n",
       "Name: SSALIKELY, dtype: float64"
      ]
     },
     "execution_count": 255,
     "metadata": {},
     "output_type": "execute_result"
    }
   ],
   "source": [
    "df['SSALIKELY'].value_counts(normalize = True,dropna = False)*100"
   ]
  },
  {
   "cell_type": "markdown",
   "metadata": {},
   "source": [
    "A large percentage of people are unlikely to apply for the SSP even within the next 12 months. However, there is a large proportion of null values."
   ]
  },
  {
   "cell_type": "code",
   "execution_count": 258,
   "metadata": {
    "scrolled": true
   },
   "outputs": [
    {
     "data": {
      "image/png": "[encoded data removed]",
      "text/plain": [
       "<Figure size 432x288 with 1 Axes>"
      ]
     },
     "metadata": {
      "needs_background": "light"
     },
     "output_type": "display_data"
    }
   ],
   "source": [
    "sns.countplot(df['SSALIKELY'])\n",
    "plt.title('Frequency against likelihood of SSP application within next 12 months');"
   ]
  },
  {
   "cell_type": "markdown",
   "metadata": {},
   "source": [
    "Since a large proportion of data is missing from the `SSAEXPCT` features and that these features are correlated, they would be dropped."
   ]
  },
  {
   "cell_type": "code",
   "execution_count": 260,
   "metadata": {},
   "outputs": [],
   "source": [
    "ssa_cols = ['SSAEXPCT1','SSAEXPCT2','SSAEXPCT3','SSAEXPCT4','SSAEXPCT5']\n",
    "df.drop(columns = ssa_cols,inplace = True)"
   ]
  },
  {
   "cell_type": "code",
   "execution_count": 274,
   "metadata": {},
   "outputs": [
    {
     "data": {
      "text/plain": [
       "(109051, 143)"
      ]
     },
     "execution_count": 274,
     "metadata": {},
     "output_type": "execute_result"
    }
   ],
   "source": [
    "df.shape"
   ]
  }
 ],
 "metadata": {
  "kernelspec": {
   "display_name": "Python 3",
   "language": "python",
   "name": "python3"
  },
  "language_info": {
   "codemirror_mode": {
    "name": "ipython",
    "version": 3
   },
   "file_extension": ".py",
   "mimetype": "text/x-python",
   "name": "python",
   "nbconvert_exporter": "python",
   "pygments_lexer": "ipython3",
   "version": "3.8.3"
  }
 },
 "nbformat": 4,
 "nbformat_minor": 4
}
